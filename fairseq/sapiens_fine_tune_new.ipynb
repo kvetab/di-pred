{
 "cells": [
  {
   "cell_type": "code",
   "execution_count": 2,
   "id": "85ab5bad-0e62-438b-bef1-c260e769200a",
   "metadata": {},
   "outputs": [],
   "source": [
    "import pandas as pd\n",
    "import numpy as np \n",
    "from os import path"
   ]
  },
  {
   "cell_type": "code",
   "execution_count": 3,
   "id": "fab89fb6-6ac0-43a2-a627-a444e37bd229",
   "metadata": {},
   "outputs": [],
   "source": [
    "DATA_DIR = \"../data\""
   ]
  },
  {
   "cell_type": "code",
   "execution_count": 4,
   "id": "f34dfe58-2fed-493b-8f69-9cf6b82329aa",
   "metadata": {},
   "outputs": [
    {
     "data": {
      "text/html": [
       "<div>\n",
       "<style scoped>\n",
       "    .dataframe tbody tr th:only-of-type {\n",
       "        vertical-align: middle;\n",
       "    }\n",
       "\n",
       "    .dataframe tbody tr th {\n",
       "        vertical-align: top;\n",
       "    }\n",
       "\n",
       "    .dataframe thead th {\n",
       "        text-align: right;\n",
       "    }\n",
       "</style>\n",
       "<table border=\"1\" class=\"dataframe\">\n",
       "  <thead>\n",
       "    <tr style=\"text-align: right;\">\n",
       "      <th></th>\n",
       "      <th>Antibody_ID</th>\n",
       "      <th>heavy</th>\n",
       "      <th>light</th>\n",
       "      <th>Y</th>\n",
       "    </tr>\n",
       "  </thead>\n",
       "  <tbody>\n",
       "    <tr>\n",
       "      <th>2073</th>\n",
       "      <td>6aod</td>\n",
       "      <td>EVQLVQSGAEVKKPGASVKVSCKASGYTFTGYYMHWVRQAPGQGLE...</td>\n",
       "      <td>DIVMTKSPSSLSASVGDRVTITCRASQGIRNDLGWYQQKPGKAPKR...</td>\n",
       "      <td>0</td>\n",
       "    </tr>\n",
       "    <tr>\n",
       "      <th>1517</th>\n",
       "      <td>4yny</td>\n",
       "      <td>EVQLVESGGGLVQPGRSLKLSCAASGFTFSNYGMAWVRQTPTKGLE...</td>\n",
       "      <td>EFVLTQPNSVSTNLGSTVKLSCKRSTGNIGSNYVNWYQQHEGRSPT...</td>\n",
       "      <td>1</td>\n",
       "    </tr>\n",
       "    <tr>\n",
       "      <th>2025</th>\n",
       "      <td>5xcv</td>\n",
       "      <td>EVQLVESGGGLVQPGRSLKLSCAASGFTFSNYGMAWVRQTPTKGLE...</td>\n",
       "      <td>QFVLTQPNSVSTNLGSTVKLSCKRSTGNIGSNYVNWYQQHEGRSPT...</td>\n",
       "      <td>1</td>\n",
       "    </tr>\n",
       "    <tr>\n",
       "      <th>2070</th>\n",
       "      <td>6and</td>\n",
       "      <td>EVQLVESGGGLVQPGGSLRLSCAASGYEFSRSWMNWVRQAPGKGLE...</td>\n",
       "      <td>DIQMTQSPSSLSASVGDRVTITCRSSQSIVHSVGNTFLEWYQQKPG...</td>\n",
       "      <td>1</td>\n",
       "    </tr>\n",
       "    <tr>\n",
       "      <th>666</th>\n",
       "      <td>2xqy</td>\n",
       "      <td>QVQLQQPGAELVKPGASVKMSCKASGYSFTSYWMNWVKQRPGRGLE...</td>\n",
       "      <td>DIVLTQSPASLALSLGQRATISCRASKSVSTSGYSYMYWYQQKPGQ...</td>\n",
       "      <td>0</td>\n",
       "    </tr>\n",
       "  </tbody>\n",
       "</table>\n",
       "</div>"
      ],
      "text/plain": [
       "     Antibody_ID                                              heavy  \\\n",
       "2073        6aod  EVQLVQSGAEVKKPGASVKVSCKASGYTFTGYYMHWVRQAPGQGLE...   \n",
       "1517        4yny  EVQLVESGGGLVQPGRSLKLSCAASGFTFSNYGMAWVRQTPTKGLE...   \n",
       "2025        5xcv  EVQLVESGGGLVQPGRSLKLSCAASGFTFSNYGMAWVRQTPTKGLE...   \n",
       "2070        6and  EVQLVESGGGLVQPGGSLRLSCAASGYEFSRSWMNWVRQAPGKGLE...   \n",
       "666         2xqy  QVQLQQPGAELVKPGASVKMSCKASGYSFTSYWMNWVKQRPGRGLE...   \n",
       "\n",
       "                                                  light  Y  \n",
       "2073  DIVMTKSPSSLSASVGDRVTITCRASQGIRNDLGWYQQKPGKAPKR...  0  \n",
       "1517  EFVLTQPNSVSTNLGSTVKLSCKRSTGNIGSNYVNWYQQHEGRSPT...  1  \n",
       "2025  QFVLTQPNSVSTNLGSTVKLSCKRSTGNIGSNYVNWYQQHEGRSPT...  1  \n",
       "2070  DIQMTQSPSSLSASVGDRVTITCRSSQSIVHSVGNTFLEWYQQKPG...  1  \n",
       "666   DIVLTQSPASLALSLGQRATISCRASKSVSTSGYSYMYWYQQKPGQ...  0  "
      ]
     },
     "execution_count": 4,
     "metadata": {},
     "output_type": "execute_result"
    }
   ],
   "source": [
    "chen_train = pd.read_csv(path.join(DATA_DIR, \"chen/deduplicated/chen_train_data.csv\"), index_col=0)\n",
    "chen_valid = pd.read_csv(path.join(DATA_DIR, \"chen/deduplicated/chen_valid_data.csv\"), index_col=0)\n",
    "chen_test = pd.read_csv(path.join(DATA_DIR, \"chen/deduplicated/chen_test_data.csv\"), index_col=0)\n",
    "chen_train.head()"
   ]
  },
  {
   "cell_type": "code",
   "execution_count": 8,
   "id": "b4830195-589a-4004-9ff1-a31807bb9be5",
   "metadata": {},
   "outputs": [],
   "source": [
    "from sapiens.roberta import RoBERTa, seq2tokens\n",
    "from fairseq.models.roberta import RobertaModel"
   ]
  },
  {
   "cell_type": "code",
   "execution_count": 29,
   "id": "5ee6e969-6b52-4063-989c-27d50365788b",
   "metadata": {},
   "outputs": [],
   "source": [
    "roberta = RoBERTa.load(\n",
    "    \"data/models/heavy/02_pretrained_2000epochs/checkpoints\",\n",
    "    'checkpoint_best.pt'\n",
    ")"
   ]
  },
  {
   "cell_type": "code",
   "execution_count": 13,
   "id": "9004f2e7-1c3c-4c4e-ac01-e335c4461a58",
   "metadata": {},
   "outputs": [],
   "source": [
    "label_fn = lambda label: roberta.interface.task.label_dictionary.string(\n",
    "    [label + roberta.interface.task.label_dictionary.nspecial]\n",
    ")"
   ]
  },
  {
   "cell_type": "code",
   "execution_count": 34,
   "id": "0a82325c-229f-449c-985a-bd9d51320262",
   "metadata": {},
   "outputs": [],
   "source": [
    "def get_pred(seq):\n",
    "    tokens = seq2tokens(seq, roberta.interface.task.target_dictionary, True)\n",
    "    #return label_fn(roberta.interface.predict('sentence_classification_head', tokens).argmax().item())\n",
    "    return roberta.interface.predict('sentence_classification_head', tokens).argmax().item()"
   ]
  },
  {
   "cell_type": "code",
   "execution_count": 25,
   "id": "b6144c05-3f18-4266-a495-f3fcd7b2dad4",
   "metadata": {},
   "outputs": [],
   "source": [
    "chen_test[\"predictions\"] = chen_test[\"heavy\"].apply(get_pred)"
   ]
  },
  {
   "cell_type": "code",
   "execution_count": 23,
   "id": "d5ddaa5d-5c97-4496-b39f-8298b25222a6",
   "metadata": {},
   "outputs": [
    {
     "data": {
      "text/plain": [
       "ModuleDict(\n",
       "  (sentence_classification_head): RobertaClassificationHead(\n",
       "    (dense): Linear(in_features=128, out_features=128, bias=True)\n",
       "    (dropout): Dropout(p=0.0, inplace=False)\n",
       "    (out_proj): Linear(in_features=128, out_features=2, bias=True)\n",
       "  )\n",
       ")"
      ]
     },
     "execution_count": 23,
     "metadata": {},
     "output_type": "execute_result"
    }
   ],
   "source": [
    "roberta.interface.model.classification_heads"
   ]
  },
  {
   "cell_type": "code",
   "execution_count": 26,
   "id": "3566ed1a-9b22-4b96-b2b9-cf12cbde6985",
   "metadata": {},
   "outputs": [
    {
     "data": {
      "text/html": [
       "<div>\n",
       "<style scoped>\n",
       "    .dataframe tbody tr th:only-of-type {\n",
       "        vertical-align: middle;\n",
       "    }\n",
       "\n",
       "    .dataframe tbody tr th {\n",
       "        vertical-align: top;\n",
       "    }\n",
       "\n",
       "    .dataframe thead th {\n",
       "        text-align: right;\n",
       "    }\n",
       "</style>\n",
       "<table border=\"1\" class=\"dataframe\">\n",
       "  <thead>\n",
       "    <tr style=\"text-align: right;\">\n",
       "      <th></th>\n",
       "      <th>Antibody_ID</th>\n",
       "      <th>heavy</th>\n",
       "      <th>light</th>\n",
       "      <th>Y</th>\n",
       "      <th>predictions</th>\n",
       "    </tr>\n",
       "  </thead>\n",
       "  <tbody>\n",
       "    <tr>\n",
       "      <th>2372</th>\n",
       "      <td>6obd</td>\n",
       "      <td>EVQLVESGGGLVQPGGSLRLSCAASGFPFSNYWMNWVRQAPGKGLE...</td>\n",
       "      <td>DIVMTQTPLSLSVTPGQPASISCKSSQSLLYSNGKTYLNWVLQKPG...</td>\n",
       "      <td>0</td>\n",
       "      <td>0</td>\n",
       "    </tr>\n",
       "    <tr>\n",
       "      <th>359</th>\n",
       "      <td>1sm3</td>\n",
       "      <td>QVQLQESGGGLVQPGGSMKLSCVASGFTFSNYWMNWVRQSPEKGLE...</td>\n",
       "      <td>DIVVTQESALTTSPGETVTLTCRSSTGAVTTSNYANWVQEKPDHLF...</td>\n",
       "      <td>0</td>\n",
       "      <td>0</td>\n",
       "    </tr>\n",
       "    <tr>\n",
       "      <th>1539</th>\n",
       "      <td>5a2i</td>\n",
       "      <td>QVQLQESGGGLVQPGGSMKLSCVASGFTFSNYWMNWVRQSPEKGLE...</td>\n",
       "      <td>DIVVTQESALTTSPGETVTLTCRSSTGAVTTSNYANWVQEKPDHLF...</td>\n",
       "      <td>0</td>\n",
       "      <td>0</td>\n",
       "    </tr>\n",
       "    <tr>\n",
       "      <th>1112</th>\n",
       "      <td>4f33</td>\n",
       "      <td>EVQLQQSGPELEKPGASVKISCKASGYSFTGYTMNWVKQSHGKSLE...</td>\n",
       "      <td>DIELTQSPAIMSASPGEKVTMTCSASSSVSYMHWYQQKSGTSPKRW...</td>\n",
       "      <td>1</td>\n",
       "      <td>1</td>\n",
       "    </tr>\n",
       "    <tr>\n",
       "      <th>314</th>\n",
       "      <td>1q1j</td>\n",
       "      <td>EVQLVESGGGLVKPGGSLRLTCVASGFTFSDVWLNWVRQAPGKGLE...</td>\n",
       "      <td>QSVLTQPPSVSAAPGQKVTISCSGSSSNIGNNYVLWYQQFPGTAPK...</td>\n",
       "      <td>0</td>\n",
       "      <td>0</td>\n",
       "    </tr>\n",
       "  </tbody>\n",
       "</table>\n",
       "</div>"
      ],
      "text/plain": [
       "     Antibody_ID                                              heavy  \\\n",
       "2372        6obd  EVQLVESGGGLVQPGGSLRLSCAASGFPFSNYWMNWVRQAPGKGLE...   \n",
       "359         1sm3  QVQLQESGGGLVQPGGSMKLSCVASGFTFSNYWMNWVRQSPEKGLE...   \n",
       "1539        5a2i  QVQLQESGGGLVQPGGSMKLSCVASGFTFSNYWMNWVRQSPEKGLE...   \n",
       "1112        4f33  EVQLQQSGPELEKPGASVKISCKASGYSFTGYTMNWVKQSHGKSLE...   \n",
       "314         1q1j  EVQLVESGGGLVKPGGSLRLTCVASGFTFSDVWLNWVRQAPGKGLE...   \n",
       "\n",
       "                                                  light  Y predictions  \n",
       "2372  DIVMTQTPLSLSVTPGQPASISCKSSQSLLYSNGKTYLNWVLQKPG...  0           0  \n",
       "359   DIVVTQESALTTSPGETVTLTCRSSTGAVTTSNYANWVQEKPDHLF...  0           0  \n",
       "1539  DIVVTQESALTTSPGETVTLTCRSSTGAVTTSNYANWVQEKPDHLF...  0           0  \n",
       "1112  DIELTQSPAIMSASPGEKVTMTCSASSSVSYMHWYQQKSGTSPKRW...  1           1  \n",
       "314   QSVLTQPPSVSAAPGQKVTISCSGSSSNIGNNYVLWYQQFPGTAPK...  0           0  "
      ]
     },
     "execution_count": 26,
     "metadata": {},
     "output_type": "execute_result"
    }
   ],
   "source": [
    "chen_test.head()"
   ]
  },
  {
   "cell_type": "code",
   "execution_count": 27,
   "id": "d1713417-f73c-45fb-bbc3-fb57d1925ec3",
   "metadata": {},
   "outputs": [
    {
     "data": {
      "text/plain": [
       "0    108\n",
       "1     11\n",
       "Name: predictions, dtype: int64"
      ]
     },
     "execution_count": 27,
     "metadata": {},
     "output_type": "execute_result"
    }
   ],
   "source": [
    "chen_test[\"predictions\"].value_counts()"
   ]
  },
  {
   "cell_type": "code",
   "execution_count": 35,
   "id": "1f6a55e4-da96-4b6a-a337-6b702108464f",
   "metadata": {},
   "outputs": [],
   "source": [
    "def evaluation(df):\n",
    "    TN, TP, FN, FP = 0, 0, 0, 0\n",
    "    for i, row in df.iterrows():\n",
    "        if row[\"Y\"] == 1 and row[\"predictions\"] == 1:\n",
    "            TP += 1\n",
    "        elif row[\"Y\"] == 1 and row[\"predictions\"] == 0:\n",
    "            FN += 1\n",
    "        elif row[\"Y\"] == 0 and row[\"predictions\"] == 1:\n",
    "            FP += 1\n",
    "        elif row[\"Y\"] == 0 and row[\"predictions\"] == 0:\n",
    "            TN += 1\n",
    "    return pd.DataFrame({\"0\": [TN, FN], \"1\": [FP, TP]})"
   ]
  },
  {
   "cell_type": "code",
   "execution_count": 50,
   "id": "ffd96449-b9cf-4cf7-a22f-53564249ce30",
   "metadata": {},
   "outputs": [
    {
     "data": {
      "text/html": [
       "<div>\n",
       "<style scoped>\n",
       "    .dataframe tbody tr th:only-of-type {\n",
       "        vertical-align: middle;\n",
       "    }\n",
       "\n",
       "    .dataframe tbody tr th {\n",
       "        vertical-align: top;\n",
       "    }\n",
       "\n",
       "    .dataframe thead th {\n",
       "        text-align: right;\n",
       "    }\n",
       "</style>\n",
       "<table border=\"1\" class=\"dataframe\">\n",
       "  <thead>\n",
       "    <tr style=\"text-align: right;\">\n",
       "      <th></th>\n",
       "      <th>0</th>\n",
       "      <th>1</th>\n",
       "    </tr>\n",
       "  </thead>\n",
       "  <tbody>\n",
       "    <tr>\n",
       "      <th>0</th>\n",
       "      <td>89</td>\n",
       "      <td>7</td>\n",
       "    </tr>\n",
       "    <tr>\n",
       "      <th>1</th>\n",
       "      <td>19</td>\n",
       "      <td>4</td>\n",
       "    </tr>\n",
       "  </tbody>\n",
       "</table>\n",
       "</div>"
      ],
      "text/plain": [
       "    0  1\n",
       "0  89  7\n",
       "1  19  4"
      ]
     },
     "execution_count": 50,
     "metadata": {},
     "output_type": "execute_result"
    }
   ],
   "source": [
    "conf_mat = evaluation(chen_test)\n",
    "conf_mat"
   ]
  },
  {
   "cell_type": "code",
   "execution_count": 56,
   "id": "d9fbc742-5497-4f48-8856-df932c72a4f6",
   "metadata": {},
   "outputs": [
    {
     "data": {
      "text/plain": [
       "7"
      ]
     },
     "execution_count": 56,
     "metadata": {},
     "output_type": "execute_result"
    }
   ],
   "source": [
    "conf_mat.loc[0][1]"
   ]
  },
  {
   "cell_type": "code",
   "execution_count": 58,
   "id": "17f00e4f-f7f3-4bc7-8c16-9ef0bddbccc1",
   "metadata": {},
   "outputs": [
    {
     "data": {
      "text/plain": [
       "0.23529411764705882"
      ]
     },
     "execution_count": 58,
     "metadata": {},
     "output_type": "execute_result"
    }
   ],
   "source": [
    "# F1 score\n",
    "conf_mat.loc[1][1] / (conf_mat.loc[1][1] + 0.5 * (conf_mat.loc[0][1] + conf_mat.loc[1][0]))"
   ]
  },
  {
   "cell_type": "code",
   "execution_count": null,
   "id": "339ec7de-cd22-4a64-a24d-473cfc36e8b8",
   "metadata": {},
   "outputs": [],
   "source": []
  },
  {
   "cell_type": "code",
   "execution_count": 37,
   "id": "f4c5aeda-242d-4236-8fdb-a87f11c226ed",
   "metadata": {
    "scrolled": true,
    "tags": []
   },
   "outputs": [
    {
     "name": "stdout",
     "output_type": "stream",
     "text": [
      "Checkpoint: 100\n"
     ]
    },
    {
     "data": {
      "text/html": [
       "<div>\n",
       "<style scoped>\n",
       "    .dataframe tbody tr th:only-of-type {\n",
       "        vertical-align: middle;\n",
       "    }\n",
       "\n",
       "    .dataframe tbody tr th {\n",
       "        vertical-align: top;\n",
       "    }\n",
       "\n",
       "    .dataframe thead th {\n",
       "        text-align: right;\n",
       "    }\n",
       "</style>\n",
       "<table border=\"1\" class=\"dataframe\">\n",
       "  <thead>\n",
       "    <tr style=\"text-align: right;\">\n",
       "      <th></th>\n",
       "      <th>0</th>\n",
       "      <th>1</th>\n",
       "    </tr>\n",
       "  </thead>\n",
       "  <tbody>\n",
       "    <tr>\n",
       "      <th>0</th>\n",
       "      <td>14</td>\n",
       "      <td>82</td>\n",
       "    </tr>\n",
       "    <tr>\n",
       "      <th>1</th>\n",
       "      <td>2</td>\n",
       "      <td>21</td>\n",
       "    </tr>\n",
       "  </tbody>\n",
       "</table>\n",
       "</div>"
      ],
      "text/plain": [
       "    0   1\n",
       "0  14  82\n",
       "1   2  21"
      ]
     },
     "metadata": {},
     "output_type": "display_data"
    },
    {
     "name": "stdout",
     "output_type": "stream",
     "text": [
      "0.3333333333333333\n",
      "Checkpoint: 200\n"
     ]
    },
    {
     "data": {
      "text/html": [
       "<div>\n",
       "<style scoped>\n",
       "    .dataframe tbody tr th:only-of-type {\n",
       "        vertical-align: middle;\n",
       "    }\n",
       "\n",
       "    .dataframe tbody tr th {\n",
       "        vertical-align: top;\n",
       "    }\n",
       "\n",
       "    .dataframe thead th {\n",
       "        text-align: right;\n",
       "    }\n",
       "</style>\n",
       "<table border=\"1\" class=\"dataframe\">\n",
       "  <thead>\n",
       "    <tr style=\"text-align: right;\">\n",
       "      <th></th>\n",
       "      <th>0</th>\n",
       "      <th>1</th>\n",
       "    </tr>\n",
       "  </thead>\n",
       "  <tbody>\n",
       "    <tr>\n",
       "      <th>0</th>\n",
       "      <td>96</td>\n",
       "      <td>0</td>\n",
       "    </tr>\n",
       "    <tr>\n",
       "      <th>1</th>\n",
       "      <td>23</td>\n",
       "      <td>0</td>\n",
       "    </tr>\n",
       "  </tbody>\n",
       "</table>\n",
       "</div>"
      ],
      "text/plain": [
       "    0  1\n",
       "0  96  0\n",
       "1  23  0"
      ]
     },
     "metadata": {},
     "output_type": "display_data"
    },
    {
     "name": "stdout",
     "output_type": "stream",
     "text": [
      "0.0\n",
      "Checkpoint: 300\n"
     ]
    },
    {
     "data": {
      "text/html": [
       "<div>\n",
       "<style scoped>\n",
       "    .dataframe tbody tr th:only-of-type {\n",
       "        vertical-align: middle;\n",
       "    }\n",
       "\n",
       "    .dataframe tbody tr th {\n",
       "        vertical-align: top;\n",
       "    }\n",
       "\n",
       "    .dataframe thead th {\n",
       "        text-align: right;\n",
       "    }\n",
       "</style>\n",
       "<table border=\"1\" class=\"dataframe\">\n",
       "  <thead>\n",
       "    <tr style=\"text-align: right;\">\n",
       "      <th></th>\n",
       "      <th>0</th>\n",
       "      <th>1</th>\n",
       "    </tr>\n",
       "  </thead>\n",
       "  <tbody>\n",
       "    <tr>\n",
       "      <th>0</th>\n",
       "      <td>96</td>\n",
       "      <td>0</td>\n",
       "    </tr>\n",
       "    <tr>\n",
       "      <th>1</th>\n",
       "      <td>23</td>\n",
       "      <td>0</td>\n",
       "    </tr>\n",
       "  </tbody>\n",
       "</table>\n",
       "</div>"
      ],
      "text/plain": [
       "    0  1\n",
       "0  96  0\n",
       "1  23  0"
      ]
     },
     "metadata": {},
     "output_type": "display_data"
    },
    {
     "name": "stdout",
     "output_type": "stream",
     "text": [
      "0.0\n",
      "Checkpoint: 400\n"
     ]
    },
    {
     "data": {
      "text/html": [
       "<div>\n",
       "<style scoped>\n",
       "    .dataframe tbody tr th:only-of-type {\n",
       "        vertical-align: middle;\n",
       "    }\n",
       "\n",
       "    .dataframe tbody tr th {\n",
       "        vertical-align: top;\n",
       "    }\n",
       "\n",
       "    .dataframe thead th {\n",
       "        text-align: right;\n",
       "    }\n",
       "</style>\n",
       "<table border=\"1\" class=\"dataframe\">\n",
       "  <thead>\n",
       "    <tr style=\"text-align: right;\">\n",
       "      <th></th>\n",
       "      <th>0</th>\n",
       "      <th>1</th>\n",
       "    </tr>\n",
       "  </thead>\n",
       "  <tbody>\n",
       "    <tr>\n",
       "      <th>0</th>\n",
       "      <td>96</td>\n",
       "      <td>0</td>\n",
       "    </tr>\n",
       "    <tr>\n",
       "      <th>1</th>\n",
       "      <td>23</td>\n",
       "      <td>0</td>\n",
       "    </tr>\n",
       "  </tbody>\n",
       "</table>\n",
       "</div>"
      ],
      "text/plain": [
       "    0  1\n",
       "0  96  0\n",
       "1  23  0"
      ]
     },
     "metadata": {},
     "output_type": "display_data"
    },
    {
     "name": "stdout",
     "output_type": "stream",
     "text": [
      "0.0\n",
      "Checkpoint: 500\n"
     ]
    },
    {
     "data": {
      "text/html": [
       "<div>\n",
       "<style scoped>\n",
       "    .dataframe tbody tr th:only-of-type {\n",
       "        vertical-align: middle;\n",
       "    }\n",
       "\n",
       "    .dataframe tbody tr th {\n",
       "        vertical-align: top;\n",
       "    }\n",
       "\n",
       "    .dataframe thead th {\n",
       "        text-align: right;\n",
       "    }\n",
       "</style>\n",
       "<table border=\"1\" class=\"dataframe\">\n",
       "  <thead>\n",
       "    <tr style=\"text-align: right;\">\n",
       "      <th></th>\n",
       "      <th>0</th>\n",
       "      <th>1</th>\n",
       "    </tr>\n",
       "  </thead>\n",
       "  <tbody>\n",
       "    <tr>\n",
       "      <th>0</th>\n",
       "      <td>96</td>\n",
       "      <td>0</td>\n",
       "    </tr>\n",
       "    <tr>\n",
       "      <th>1</th>\n",
       "      <td>23</td>\n",
       "      <td>0</td>\n",
       "    </tr>\n",
       "  </tbody>\n",
       "</table>\n",
       "</div>"
      ],
      "text/plain": [
       "    0  1\n",
       "0  96  0\n",
       "1  23  0"
      ]
     },
     "metadata": {},
     "output_type": "display_data"
    },
    {
     "name": "stdout",
     "output_type": "stream",
     "text": [
      "0.0\n",
      "Checkpoint: 600\n"
     ]
    },
    {
     "data": {
      "text/html": [
       "<div>\n",
       "<style scoped>\n",
       "    .dataframe tbody tr th:only-of-type {\n",
       "        vertical-align: middle;\n",
       "    }\n",
       "\n",
       "    .dataframe tbody tr th {\n",
       "        vertical-align: top;\n",
       "    }\n",
       "\n",
       "    .dataframe thead th {\n",
       "        text-align: right;\n",
       "    }\n",
       "</style>\n",
       "<table border=\"1\" class=\"dataframe\">\n",
       "  <thead>\n",
       "    <tr style=\"text-align: right;\">\n",
       "      <th></th>\n",
       "      <th>0</th>\n",
       "      <th>1</th>\n",
       "    </tr>\n",
       "  </thead>\n",
       "  <tbody>\n",
       "    <tr>\n",
       "      <th>0</th>\n",
       "      <td>96</td>\n",
       "      <td>0</td>\n",
       "    </tr>\n",
       "    <tr>\n",
       "      <th>1</th>\n",
       "      <td>23</td>\n",
       "      <td>0</td>\n",
       "    </tr>\n",
       "  </tbody>\n",
       "</table>\n",
       "</div>"
      ],
      "text/plain": [
       "    0  1\n",
       "0  96  0\n",
       "1  23  0"
      ]
     },
     "metadata": {},
     "output_type": "display_data"
    },
    {
     "name": "stdout",
     "output_type": "stream",
     "text": [
      "0.0\n",
      "Checkpoint: 700\n"
     ]
    },
    {
     "data": {
      "text/html": [
       "<div>\n",
       "<style scoped>\n",
       "    .dataframe tbody tr th:only-of-type {\n",
       "        vertical-align: middle;\n",
       "    }\n",
       "\n",
       "    .dataframe tbody tr th {\n",
       "        vertical-align: top;\n",
       "    }\n",
       "\n",
       "    .dataframe thead th {\n",
       "        text-align: right;\n",
       "    }\n",
       "</style>\n",
       "<table border=\"1\" class=\"dataframe\">\n",
       "  <thead>\n",
       "    <tr style=\"text-align: right;\">\n",
       "      <th></th>\n",
       "      <th>0</th>\n",
       "      <th>1</th>\n",
       "    </tr>\n",
       "  </thead>\n",
       "  <tbody>\n",
       "    <tr>\n",
       "      <th>0</th>\n",
       "      <td>94</td>\n",
       "      <td>2</td>\n",
       "    </tr>\n",
       "    <tr>\n",
       "      <th>1</th>\n",
       "      <td>22</td>\n",
       "      <td>1</td>\n",
       "    </tr>\n",
       "  </tbody>\n",
       "</table>\n",
       "</div>"
      ],
      "text/plain": [
       "    0  1\n",
       "0  94  2\n",
       "1  22  1"
      ]
     },
     "metadata": {},
     "output_type": "display_data"
    },
    {
     "name": "stdout",
     "output_type": "stream",
     "text": [
      "0.07692307692307693\n",
      "Checkpoint: 800\n"
     ]
    },
    {
     "data": {
      "text/html": [
       "<div>\n",
       "<style scoped>\n",
       "    .dataframe tbody tr th:only-of-type {\n",
       "        vertical-align: middle;\n",
       "    }\n",
       "\n",
       "    .dataframe tbody tr th {\n",
       "        vertical-align: top;\n",
       "    }\n",
       "\n",
       "    .dataframe thead th {\n",
       "        text-align: right;\n",
       "    }\n",
       "</style>\n",
       "<table border=\"1\" class=\"dataframe\">\n",
       "  <thead>\n",
       "    <tr style=\"text-align: right;\">\n",
       "      <th></th>\n",
       "      <th>0</th>\n",
       "      <th>1</th>\n",
       "    </tr>\n",
       "  </thead>\n",
       "  <tbody>\n",
       "    <tr>\n",
       "      <th>0</th>\n",
       "      <td>90</td>\n",
       "      <td>6</td>\n",
       "    </tr>\n",
       "    <tr>\n",
       "      <th>1</th>\n",
       "      <td>19</td>\n",
       "      <td>4</td>\n",
       "    </tr>\n",
       "  </tbody>\n",
       "</table>\n",
       "</div>"
      ],
      "text/plain": [
       "    0  1\n",
       "0  90  6\n",
       "1  19  4"
      ]
     },
     "metadata": {},
     "output_type": "display_data"
    },
    {
     "name": "stdout",
     "output_type": "stream",
     "text": [
      "0.24242424242424243\n",
      "Checkpoint: 900\n"
     ]
    },
    {
     "data": {
      "text/html": [
       "<div>\n",
       "<style scoped>\n",
       "    .dataframe tbody tr th:only-of-type {\n",
       "        vertical-align: middle;\n",
       "    }\n",
       "\n",
       "    .dataframe tbody tr th {\n",
       "        vertical-align: top;\n",
       "    }\n",
       "\n",
       "    .dataframe thead th {\n",
       "        text-align: right;\n",
       "    }\n",
       "</style>\n",
       "<table border=\"1\" class=\"dataframe\">\n",
       "  <thead>\n",
       "    <tr style=\"text-align: right;\">\n",
       "      <th></th>\n",
       "      <th>0</th>\n",
       "      <th>1</th>\n",
       "    </tr>\n",
       "  </thead>\n",
       "  <tbody>\n",
       "    <tr>\n",
       "      <th>0</th>\n",
       "      <td>89</td>\n",
       "      <td>7</td>\n",
       "    </tr>\n",
       "    <tr>\n",
       "      <th>1</th>\n",
       "      <td>19</td>\n",
       "      <td>4</td>\n",
       "    </tr>\n",
       "  </tbody>\n",
       "</table>\n",
       "</div>"
      ],
      "text/plain": [
       "    0  1\n",
       "0  89  7\n",
       "1  19  4"
      ]
     },
     "metadata": {},
     "output_type": "display_data"
    },
    {
     "name": "stdout",
     "output_type": "stream",
     "text": [
      "0.23529411764705882\n",
      "Checkpoint: 1000\n"
     ]
    },
    {
     "data": {
      "text/html": [
       "<div>\n",
       "<style scoped>\n",
       "    .dataframe tbody tr th:only-of-type {\n",
       "        vertical-align: middle;\n",
       "    }\n",
       "\n",
       "    .dataframe tbody tr th {\n",
       "        vertical-align: top;\n",
       "    }\n",
       "\n",
       "    .dataframe thead th {\n",
       "        text-align: right;\n",
       "    }\n",
       "</style>\n",
       "<table border=\"1\" class=\"dataframe\">\n",
       "  <thead>\n",
       "    <tr style=\"text-align: right;\">\n",
       "      <th></th>\n",
       "      <th>0</th>\n",
       "      <th>1</th>\n",
       "    </tr>\n",
       "  </thead>\n",
       "  <tbody>\n",
       "    <tr>\n",
       "      <th>0</th>\n",
       "      <td>88</td>\n",
       "      <td>8</td>\n",
       "    </tr>\n",
       "    <tr>\n",
       "      <th>1</th>\n",
       "      <td>20</td>\n",
       "      <td>3</td>\n",
       "    </tr>\n",
       "  </tbody>\n",
       "</table>\n",
       "</div>"
      ],
      "text/plain": [
       "    0  1\n",
       "0  88  8\n",
       "1  20  3"
      ]
     },
     "metadata": {},
     "output_type": "display_data"
    },
    {
     "name": "stdout",
     "output_type": "stream",
     "text": [
      "0.17647058823529413\n",
      "Checkpoint: 1100\n"
     ]
    },
    {
     "data": {
      "text/html": [
       "<div>\n",
       "<style scoped>\n",
       "    .dataframe tbody tr th:only-of-type {\n",
       "        vertical-align: middle;\n",
       "    }\n",
       "\n",
       "    .dataframe tbody tr th {\n",
       "        vertical-align: top;\n",
       "    }\n",
       "\n",
       "    .dataframe thead th {\n",
       "        text-align: right;\n",
       "    }\n",
       "</style>\n",
       "<table border=\"1\" class=\"dataframe\">\n",
       "  <thead>\n",
       "    <tr style=\"text-align: right;\">\n",
       "      <th></th>\n",
       "      <th>0</th>\n",
       "      <th>1</th>\n",
       "    </tr>\n",
       "  </thead>\n",
       "  <tbody>\n",
       "    <tr>\n",
       "      <th>0</th>\n",
       "      <td>88</td>\n",
       "      <td>8</td>\n",
       "    </tr>\n",
       "    <tr>\n",
       "      <th>1</th>\n",
       "      <td>20</td>\n",
       "      <td>3</td>\n",
       "    </tr>\n",
       "  </tbody>\n",
       "</table>\n",
       "</div>"
      ],
      "text/plain": [
       "    0  1\n",
       "0  88  8\n",
       "1  20  3"
      ]
     },
     "metadata": {},
     "output_type": "display_data"
    },
    {
     "name": "stdout",
     "output_type": "stream",
     "text": [
      "0.17647058823529413\n",
      "Checkpoint: 1200\n"
     ]
    },
    {
     "data": {
      "text/html": [
       "<div>\n",
       "<style scoped>\n",
       "    .dataframe tbody tr th:only-of-type {\n",
       "        vertical-align: middle;\n",
       "    }\n",
       "\n",
       "    .dataframe tbody tr th {\n",
       "        vertical-align: top;\n",
       "    }\n",
       "\n",
       "    .dataframe thead th {\n",
       "        text-align: right;\n",
       "    }\n",
       "</style>\n",
       "<table border=\"1\" class=\"dataframe\">\n",
       "  <thead>\n",
       "    <tr style=\"text-align: right;\">\n",
       "      <th></th>\n",
       "      <th>0</th>\n",
       "      <th>1</th>\n",
       "    </tr>\n",
       "  </thead>\n",
       "  <tbody>\n",
       "    <tr>\n",
       "      <th>0</th>\n",
       "      <td>88</td>\n",
       "      <td>8</td>\n",
       "    </tr>\n",
       "    <tr>\n",
       "      <th>1</th>\n",
       "      <td>20</td>\n",
       "      <td>3</td>\n",
       "    </tr>\n",
       "  </tbody>\n",
       "</table>\n",
       "</div>"
      ],
      "text/plain": [
       "    0  1\n",
       "0  88  8\n",
       "1  20  3"
      ]
     },
     "metadata": {},
     "output_type": "display_data"
    },
    {
     "name": "stdout",
     "output_type": "stream",
     "text": [
      "0.17647058823529413\n",
      "Checkpoint: 1300\n"
     ]
    },
    {
     "data": {
      "text/html": [
       "<div>\n",
       "<style scoped>\n",
       "    .dataframe tbody tr th:only-of-type {\n",
       "        vertical-align: middle;\n",
       "    }\n",
       "\n",
       "    .dataframe tbody tr th {\n",
       "        vertical-align: top;\n",
       "    }\n",
       "\n",
       "    .dataframe thead th {\n",
       "        text-align: right;\n",
       "    }\n",
       "</style>\n",
       "<table border=\"1\" class=\"dataframe\">\n",
       "  <thead>\n",
       "    <tr style=\"text-align: right;\">\n",
       "      <th></th>\n",
       "      <th>0</th>\n",
       "      <th>1</th>\n",
       "    </tr>\n",
       "  </thead>\n",
       "  <tbody>\n",
       "    <tr>\n",
       "      <th>0</th>\n",
       "      <td>89</td>\n",
       "      <td>7</td>\n",
       "    </tr>\n",
       "    <tr>\n",
       "      <th>1</th>\n",
       "      <td>19</td>\n",
       "      <td>4</td>\n",
       "    </tr>\n",
       "  </tbody>\n",
       "</table>\n",
       "</div>"
      ],
      "text/plain": [
       "    0  1\n",
       "0  89  7\n",
       "1  19  4"
      ]
     },
     "metadata": {},
     "output_type": "display_data"
    },
    {
     "name": "stdout",
     "output_type": "stream",
     "text": [
      "0.23529411764705882\n",
      "Checkpoint: 1400\n"
     ]
    },
    {
     "data": {
      "text/html": [
       "<div>\n",
       "<style scoped>\n",
       "    .dataframe tbody tr th:only-of-type {\n",
       "        vertical-align: middle;\n",
       "    }\n",
       "\n",
       "    .dataframe tbody tr th {\n",
       "        vertical-align: top;\n",
       "    }\n",
       "\n",
       "    .dataframe thead th {\n",
       "        text-align: right;\n",
       "    }\n",
       "</style>\n",
       "<table border=\"1\" class=\"dataframe\">\n",
       "  <thead>\n",
       "    <tr style=\"text-align: right;\">\n",
       "      <th></th>\n",
       "      <th>0</th>\n",
       "      <th>1</th>\n",
       "    </tr>\n",
       "  </thead>\n",
       "  <tbody>\n",
       "    <tr>\n",
       "      <th>0</th>\n",
       "      <td>89</td>\n",
       "      <td>7</td>\n",
       "    </tr>\n",
       "    <tr>\n",
       "      <th>1</th>\n",
       "      <td>19</td>\n",
       "      <td>4</td>\n",
       "    </tr>\n",
       "  </tbody>\n",
       "</table>\n",
       "</div>"
      ],
      "text/plain": [
       "    0  1\n",
       "0  89  7\n",
       "1  19  4"
      ]
     },
     "metadata": {},
     "output_type": "display_data"
    },
    {
     "name": "stdout",
     "output_type": "stream",
     "text": [
      "0.23529411764705882\n",
      "Checkpoint: 1500\n"
     ]
    },
    {
     "data": {
      "text/html": [
       "<div>\n",
       "<style scoped>\n",
       "    .dataframe tbody tr th:only-of-type {\n",
       "        vertical-align: middle;\n",
       "    }\n",
       "\n",
       "    .dataframe tbody tr th {\n",
       "        vertical-align: top;\n",
       "    }\n",
       "\n",
       "    .dataframe thead th {\n",
       "        text-align: right;\n",
       "    }\n",
       "</style>\n",
       "<table border=\"1\" class=\"dataframe\">\n",
       "  <thead>\n",
       "    <tr style=\"text-align: right;\">\n",
       "      <th></th>\n",
       "      <th>0</th>\n",
       "      <th>1</th>\n",
       "    </tr>\n",
       "  </thead>\n",
       "  <tbody>\n",
       "    <tr>\n",
       "      <th>0</th>\n",
       "      <td>89</td>\n",
       "      <td>7</td>\n",
       "    </tr>\n",
       "    <tr>\n",
       "      <th>1</th>\n",
       "      <td>20</td>\n",
       "      <td>3</td>\n",
       "    </tr>\n",
       "  </tbody>\n",
       "</table>\n",
       "</div>"
      ],
      "text/plain": [
       "    0  1\n",
       "0  89  7\n",
       "1  20  3"
      ]
     },
     "metadata": {},
     "output_type": "display_data"
    },
    {
     "name": "stdout",
     "output_type": "stream",
     "text": [
      "0.18181818181818182\n",
      "Checkpoint: 1600\n"
     ]
    },
    {
     "data": {
      "text/html": [
       "<div>\n",
       "<style scoped>\n",
       "    .dataframe tbody tr th:only-of-type {\n",
       "        vertical-align: middle;\n",
       "    }\n",
       "\n",
       "    .dataframe tbody tr th {\n",
       "        vertical-align: top;\n",
       "    }\n",
       "\n",
       "    .dataframe thead th {\n",
       "        text-align: right;\n",
       "    }\n",
       "</style>\n",
       "<table border=\"1\" class=\"dataframe\">\n",
       "  <thead>\n",
       "    <tr style=\"text-align: right;\">\n",
       "      <th></th>\n",
       "      <th>0</th>\n",
       "      <th>1</th>\n",
       "    </tr>\n",
       "  </thead>\n",
       "  <tbody>\n",
       "    <tr>\n",
       "      <th>0</th>\n",
       "      <td>90</td>\n",
       "      <td>6</td>\n",
       "    </tr>\n",
       "    <tr>\n",
       "      <th>1</th>\n",
       "      <td>19</td>\n",
       "      <td>4</td>\n",
       "    </tr>\n",
       "  </tbody>\n",
       "</table>\n",
       "</div>"
      ],
      "text/plain": [
       "    0  1\n",
       "0  90  6\n",
       "1  19  4"
      ]
     },
     "metadata": {},
     "output_type": "display_data"
    },
    {
     "name": "stdout",
     "output_type": "stream",
     "text": [
      "0.24242424242424243\n",
      "Checkpoint: 1700\n"
     ]
    },
    {
     "data": {
      "text/html": [
       "<div>\n",
       "<style scoped>\n",
       "    .dataframe tbody tr th:only-of-type {\n",
       "        vertical-align: middle;\n",
       "    }\n",
       "\n",
       "    .dataframe tbody tr th {\n",
       "        vertical-align: top;\n",
       "    }\n",
       "\n",
       "    .dataframe thead th {\n",
       "        text-align: right;\n",
       "    }\n",
       "</style>\n",
       "<table border=\"1\" class=\"dataframe\">\n",
       "  <thead>\n",
       "    <tr style=\"text-align: right;\">\n",
       "      <th></th>\n",
       "      <th>0</th>\n",
       "      <th>1</th>\n",
       "    </tr>\n",
       "  </thead>\n",
       "  <tbody>\n",
       "    <tr>\n",
       "      <th>0</th>\n",
       "      <td>86</td>\n",
       "      <td>10</td>\n",
       "    </tr>\n",
       "    <tr>\n",
       "      <th>1</th>\n",
       "      <td>19</td>\n",
       "      <td>4</td>\n",
       "    </tr>\n",
       "  </tbody>\n",
       "</table>\n",
       "</div>"
      ],
      "text/plain": [
       "    0   1\n",
       "0  86  10\n",
       "1  19   4"
      ]
     },
     "metadata": {},
     "output_type": "display_data"
    },
    {
     "name": "stdout",
     "output_type": "stream",
     "text": [
      "0.21621621621621623\n",
      "Checkpoint: 1800\n"
     ]
    },
    {
     "data": {
      "text/html": [
       "<div>\n",
       "<style scoped>\n",
       "    .dataframe tbody tr th:only-of-type {\n",
       "        vertical-align: middle;\n",
       "    }\n",
       "\n",
       "    .dataframe tbody tr th {\n",
       "        vertical-align: top;\n",
       "    }\n",
       "\n",
       "    .dataframe thead th {\n",
       "        text-align: right;\n",
       "    }\n",
       "</style>\n",
       "<table border=\"1\" class=\"dataframe\">\n",
       "  <thead>\n",
       "    <tr style=\"text-align: right;\">\n",
       "      <th></th>\n",
       "      <th>0</th>\n",
       "      <th>1</th>\n",
       "    </tr>\n",
       "  </thead>\n",
       "  <tbody>\n",
       "    <tr>\n",
       "      <th>0</th>\n",
       "      <td>87</td>\n",
       "      <td>9</td>\n",
       "    </tr>\n",
       "    <tr>\n",
       "      <th>1</th>\n",
       "      <td>19</td>\n",
       "      <td>4</td>\n",
       "    </tr>\n",
       "  </tbody>\n",
       "</table>\n",
       "</div>"
      ],
      "text/plain": [
       "    0  1\n",
       "0  87  9\n",
       "1  19  4"
      ]
     },
     "metadata": {},
     "output_type": "display_data"
    },
    {
     "name": "stdout",
     "output_type": "stream",
     "text": [
      "0.2222222222222222\n",
      "Checkpoint: 1900\n"
     ]
    },
    {
     "data": {
      "text/html": [
       "<div>\n",
       "<style scoped>\n",
       "    .dataframe tbody tr th:only-of-type {\n",
       "        vertical-align: middle;\n",
       "    }\n",
       "\n",
       "    .dataframe tbody tr th {\n",
       "        vertical-align: top;\n",
       "    }\n",
       "\n",
       "    .dataframe thead th {\n",
       "        text-align: right;\n",
       "    }\n",
       "</style>\n",
       "<table border=\"1\" class=\"dataframe\">\n",
       "  <thead>\n",
       "    <tr style=\"text-align: right;\">\n",
       "      <th></th>\n",
       "      <th>0</th>\n",
       "      <th>1</th>\n",
       "    </tr>\n",
       "  </thead>\n",
       "  <tbody>\n",
       "    <tr>\n",
       "      <th>0</th>\n",
       "      <td>88</td>\n",
       "      <td>8</td>\n",
       "    </tr>\n",
       "    <tr>\n",
       "      <th>1</th>\n",
       "      <td>19</td>\n",
       "      <td>4</td>\n",
       "    </tr>\n",
       "  </tbody>\n",
       "</table>\n",
       "</div>"
      ],
      "text/plain": [
       "    0  1\n",
       "0  88  8\n",
       "1  19  4"
      ]
     },
     "metadata": {},
     "output_type": "display_data"
    },
    {
     "name": "stdout",
     "output_type": "stream",
     "text": [
      "0.22857142857142856\n",
      "Checkpoint: 2000\n"
     ]
    },
    {
     "data": {
      "text/html": [
       "<div>\n",
       "<style scoped>\n",
       "    .dataframe tbody tr th:only-of-type {\n",
       "        vertical-align: middle;\n",
       "    }\n",
       "\n",
       "    .dataframe tbody tr th {\n",
       "        vertical-align: top;\n",
       "    }\n",
       "\n",
       "    .dataframe thead th {\n",
       "        text-align: right;\n",
       "    }\n",
       "</style>\n",
       "<table border=\"1\" class=\"dataframe\">\n",
       "  <thead>\n",
       "    <tr style=\"text-align: right;\">\n",
       "      <th></th>\n",
       "      <th>0</th>\n",
       "      <th>1</th>\n",
       "    </tr>\n",
       "  </thead>\n",
       "  <tbody>\n",
       "    <tr>\n",
       "      <th>0</th>\n",
       "      <td>87</td>\n",
       "      <td>9</td>\n",
       "    </tr>\n",
       "    <tr>\n",
       "      <th>1</th>\n",
       "      <td>19</td>\n",
       "      <td>4</td>\n",
       "    </tr>\n",
       "  </tbody>\n",
       "</table>\n",
       "</div>"
      ],
      "text/plain": [
       "    0  1\n",
       "0  87  9\n",
       "1  19  4"
      ]
     },
     "metadata": {},
     "output_type": "display_data"
    },
    {
     "name": "stdout",
     "output_type": "stream",
     "text": [
      "0.2222222222222222\n"
     ]
    }
   ],
   "source": [
    "for chkpt in range(100, 2005, 100):\n",
    "    roberta = RoBERTa.load(\n",
    "        \"data/models/heavy/02_pretrained_2000epochs/checkpoints\",\n",
    "        f'checkpoint{chkpt}.pt'\n",
    "    )\n",
    "    def get_pred(seq):\n",
    "        tokens = seq2tokens(seq, roberta.interface.task.target_dictionary, True)\n",
    "        return roberta.interface.predict('sentence_classification_head', tokens).argmax().item()\n",
    "    chen_test[\"predictions\"] = chen_test[\"heavy\"].apply(get_pred)\n",
    "    print(f\"Checkpoint: {chkpt}\")\n",
    "    conf_mat = evaluation(chen_test)\n",
    "    display(conf_mat)\n",
    "    print(conf_mat.loc[1][1] / (conf_mat.loc[1][1] + 0.5 * (conf_mat.loc[0][1] + conf_mat.loc[1][0])))  "
   ]
  },
  {
   "cell_type": "code",
   "execution_count": 30,
   "id": "a3030205-b74c-4a90-9538-ba2da4a2a38d",
   "metadata": {},
   "outputs": [],
   "source": [
    "chen_test[\"predictions\"] = chen_test[\"heavy\"].apply(get_pred)"
   ]
  },
  {
   "cell_type": "code",
   "execution_count": 33,
   "id": "e503fb98-3659-437a-a472-bf0245f54f2d",
   "metadata": {},
   "outputs": [
    {
     "data": {
      "text/html": [
       "<div>\n",
       "<style scoped>\n",
       "    .dataframe tbody tr th:only-of-type {\n",
       "        vertical-align: middle;\n",
       "    }\n",
       "\n",
       "    .dataframe tbody tr th {\n",
       "        vertical-align: top;\n",
       "    }\n",
       "\n",
       "    .dataframe thead th {\n",
       "        text-align: right;\n",
       "    }\n",
       "</style>\n",
       "<table border=\"1\" class=\"dataframe\">\n",
       "  <thead>\n",
       "    <tr style=\"text-align: right;\">\n",
       "      <th></th>\n",
       "      <th>0</th>\n",
       "      <th>1</th>\n",
       "    </tr>\n",
       "  </thead>\n",
       "  <tbody>\n",
       "    <tr>\n",
       "      <th>0</th>\n",
       "      <td>0</td>\n",
       "      <td>0</td>\n",
       "    </tr>\n",
       "    <tr>\n",
       "      <th>1</th>\n",
       "      <td>0</td>\n",
       "      <td>4</td>\n",
       "    </tr>\n",
       "  </tbody>\n",
       "</table>\n",
       "</div>"
      ],
      "text/plain": [
       "   0  1\n",
       "0  0  0\n",
       "1  0  4"
      ]
     },
     "metadata": {},
     "output_type": "display_data"
    }
   ],
   "source": [
    "conf_mat = evaluation(chen_test)\n",
    "display(conf_mat)"
   ]
  },
  {
   "cell_type": "code",
   "execution_count": 13,
   "id": "9dc6dc92-e23b-421c-af35-719b51965de6",
   "metadata": {},
   "outputs": [],
   "source": [
    "tokens = seq2tokens(chen_test.iloc[0][\"heavy\"], roberta.interface.task.source_dictionary, True)"
   ]
  },
  {
   "cell_type": "code",
   "execution_count": 20,
   "id": "df80a349-935e-480d-b771-0a484c7e8b9b",
   "metadata": {
    "scrolled": true,
    "tags": []
   },
   "outputs": [
    {
     "data": {
      "text/plain": [
       "RobertaHubInterface(\n",
       "  (model): RobertaModel(\n",
       "    (encoder): RobertaEncoder(\n",
       "      (sentence_encoder): TransformerSentenceEncoder(\n",
       "        (dropout_module): FairseqDropout()\n",
       "        (embed_tokens): Embedding(25, 128, padding_idx=1)\n",
       "        (embed_positions): LearnedPositionalEmbedding(146, 128, padding_idx=1)\n",
       "        (layers): ModuleList(\n",
       "          (0): TransformerSentenceEncoderLayer(\n",
       "            (dropout_module): FairseqDropout()\n",
       "            (activation_dropout_module): FairseqDropout()\n",
       "            (self_attn): MultiheadAttention(\n",
       "              (dropout_module): FairseqDropout()\n",
       "              (k_proj): Linear(in_features=128, out_features=128, bias=True)\n",
       "              (v_proj): Linear(in_features=128, out_features=128, bias=True)\n",
       "              (q_proj): Linear(in_features=128, out_features=128, bias=True)\n",
       "              (out_proj): Linear(in_features=128, out_features=128, bias=True)\n",
       "            )\n",
       "            (self_attn_layer_norm): LayerNorm((128,), eps=1e-05, elementwise_affine=True)\n",
       "            (fc1): Linear(in_features=128, out_features=256, bias=True)\n",
       "            (fc2): Linear(in_features=256, out_features=128, bias=True)\n",
       "            (final_layer_norm): LayerNorm((128,), eps=1e-05, elementwise_affine=True)\n",
       "          )\n",
       "          (1): TransformerSentenceEncoderLayer(\n",
       "            (dropout_module): FairseqDropout()\n",
       "            (activation_dropout_module): FairseqDropout()\n",
       "            (self_attn): MultiheadAttention(\n",
       "              (dropout_module): FairseqDropout()\n",
       "              (k_proj): Linear(in_features=128, out_features=128, bias=True)\n",
       "              (v_proj): Linear(in_features=128, out_features=128, bias=True)\n",
       "              (q_proj): Linear(in_features=128, out_features=128, bias=True)\n",
       "              (out_proj): Linear(in_features=128, out_features=128, bias=True)\n",
       "            )\n",
       "            (self_attn_layer_norm): LayerNorm((128,), eps=1e-05, elementwise_affine=True)\n",
       "            (fc1): Linear(in_features=128, out_features=256, bias=True)\n",
       "            (fc2): Linear(in_features=256, out_features=128, bias=True)\n",
       "            (final_layer_norm): LayerNorm((128,), eps=1e-05, elementwise_affine=True)\n",
       "          )\n",
       "          (2): TransformerSentenceEncoderLayer(\n",
       "            (dropout_module): FairseqDropout()\n",
       "            (activation_dropout_module): FairseqDropout()\n",
       "            (self_attn): MultiheadAttention(\n",
       "              (dropout_module): FairseqDropout()\n",
       "              (k_proj): Linear(in_features=128, out_features=128, bias=True)\n",
       "              (v_proj): Linear(in_features=128, out_features=128, bias=True)\n",
       "              (q_proj): Linear(in_features=128, out_features=128, bias=True)\n",
       "              (out_proj): Linear(in_features=128, out_features=128, bias=True)\n",
       "            )\n",
       "            (self_attn_layer_norm): LayerNorm((128,), eps=1e-05, elementwise_affine=True)\n",
       "            (fc1): Linear(in_features=128, out_features=256, bias=True)\n",
       "            (fc2): Linear(in_features=256, out_features=128, bias=True)\n",
       "            (final_layer_norm): LayerNorm((128,), eps=1e-05, elementwise_affine=True)\n",
       "          )\n",
       "          (3): TransformerSentenceEncoderLayer(\n",
       "            (dropout_module): FairseqDropout()\n",
       "            (activation_dropout_module): FairseqDropout()\n",
       "            (self_attn): MultiheadAttention(\n",
       "              (dropout_module): FairseqDropout()\n",
       "              (k_proj): Linear(in_features=128, out_features=128, bias=True)\n",
       "              (v_proj): Linear(in_features=128, out_features=128, bias=True)\n",
       "              (q_proj): Linear(in_features=128, out_features=128, bias=True)\n",
       "              (out_proj): Linear(in_features=128, out_features=128, bias=True)\n",
       "            )\n",
       "            (self_attn_layer_norm): LayerNorm((128,), eps=1e-05, elementwise_affine=True)\n",
       "            (fc1): Linear(in_features=128, out_features=256, bias=True)\n",
       "            (fc2): Linear(in_features=256, out_features=128, bias=True)\n",
       "            (final_layer_norm): LayerNorm((128,), eps=1e-05, elementwise_affine=True)\n",
       "          )\n",
       "        )\n",
       "        (emb_layer_norm): LayerNorm((128,), eps=1e-05, elementwise_affine=True)\n",
       "      )\n",
       "      (lm_head): RobertaLMHead(\n",
       "        (dense): Linear(in_features=128, out_features=128, bias=True)\n",
       "        (layer_norm): LayerNorm((128,), eps=1e-05, elementwise_affine=True)\n",
       "      )\n",
       "    )\n",
       "    (classification_heads): ModuleDict(\n",
       "      (sentence_classification_head): RobertaClassificationHead(\n",
       "        (dense): Linear(in_features=128, out_features=128, bias=True)\n",
       "        (dropout): Dropout(p=0.0, inplace=False)\n",
       "        (out_proj): Linear(in_features=128, out_features=2, bias=True)\n",
       "      )\n",
       "    )\n",
       "  )\n",
       ")"
      ]
     },
     "execution_count": 20,
     "metadata": {},
     "output_type": "execute_result"
    }
   ],
   "source": [
    "#print('Loading RoBERTa model...')\n",
    "roberta = RobertaModel.from_pretrained(\n",
    "    \"data/models/heavy/02_pretrained_2000epochs/checkpoints\",\n",
    "    checkpoint_file='checkpoint_best.pt',\n",
    "    data_name_or_path=\"data/processed/heavy/train\",\n",
    "    user_dir='/home/brazdilv/diplomka/SW/Sapiens/sapiens/',\n",
    "    bpe=None\n",
    ")\n",
    "roberta.eval() # disable dropout"
   ]
  },
  {
   "cell_type": "code",
   "execution_count": 23,
   "id": "e772ffb7-6165-49f9-9d62-5854cc078b55",
   "metadata": {},
   "outputs": [],
   "source": [
    "pred = roberta.predict('sentence_classification_head', tokens)"
   ]
  },
  {
   "cell_type": "code",
   "execution_count": 26,
   "id": "fa49b2a0-6036-4fdf-a1b8-3bd241ecf243",
   "metadata": {},
   "outputs": [
    {
     "data": {
      "text/plain": [
       "0"
      ]
     },
     "execution_count": 26,
     "metadata": {},
     "output_type": "execute_result"
    }
   ],
   "source": [
    "pred.argmax().item()"
   ]
  },
  {
   "cell_type": "code",
   "execution_count": null,
   "id": "065c8d54-c143-4bb3-96c1-40f2949af98a",
   "metadata": {},
   "outputs": [],
   "source": []
  },
  {
   "cell_type": "code",
   "execution_count": null,
   "id": "84e8601b-658a-4b16-ac1c-6fe7769edd69",
   "metadata": {},
   "outputs": [],
   "source": []
  },
  {
   "cell_type": "code",
   "execution_count": 2,
   "id": "b5e92586-a8bc-4fee-8dfc-97a3fc4167a4",
   "metadata": {
    "scrolled": true,
    "tags": []
   },
   "outputs": [
    {
     "name": "stdout",
     "output_type": "stream",
     "text": [
      "2022-03-02 20:53:35 | INFO | fairseq_cli.train | Namespace(activation_dropout=0.0, activation_fn='gelu', adam_betas='(0.9, 0.999)', adam_eps=1e-08, add_prev_output_tokens=False, all_gather_list_size=16384, arch='roberta_small', attention_dropout=0.1, batch_size=256, batch_size_valid=256, best_checkpoint_metric='loss', bf16=False, bpe=None, broadcast_buffers=False, bucket_cap_mb=25, checkpoint_shard_count=1, checkpoint_suffix='', classification_head_name='sentence_classification_head', clip_norm=0.0, cpu=False, criterion='sentence_prediction', curriculum=0, data='data/processed/heavy/train/', data_buffer_size=10, dataset_impl=None, ddp_backend='c10d', device_id=0, disable_validation=False, distributed_backend='nccl', distributed_init_method=None, distributed_no_spawn=False, distributed_num_procs=0, distributed_port=-1, distributed_rank=0, distributed_world_size=1, distributed_wrapper='DDP', dropout=0.1, empty_cache_freq=0, encoder_attention_heads=8, encoder_embed_dim=128, encoder_ffn_embed_dim=256, encoder_layerdrop=0, encoder_layers=4, encoder_layers_to_keep=None, fast_stat_sync=False, find_unused_parameters=False, finetune_from_model=None, fix_batches_to_gpus=False, fixed_validation_seed=None, fp16=False, fp16_init_scale=128, fp16_no_flatten_grads=False, fp16_scale_tolerance=0.0, fp16_scale_window=None, gen_subset='test', init_token=0, keep_best_checkpoints=-1, keep_interval_updates=-1, keep_last_epochs=-1, localsgd_frequency=3, log_format='simple', log_interval=1000, lr=[1e-05], lr_scheduler='inverse_sqrt', max_epoch=2000, max_positions=144, max_tokens=None, max_tokens_valid=None, max_update=0, maximize_best_checkpoint_metric=False, memory_efficient_bf16=False, memory_efficient_fp16=False, min_loss_scale=0.0001, min_lr=-1.0, model_parallel_size=1, no_epoch_checkpoints=False, no_last_checkpoints=False, no_progress_bar=False, no_save=False, no_save_optimizer_state=False, no_seed_provided=False, no_shuffle=False, nprocs_per_node=1, num_classes=2, num_shards=1, num_workers=1, optimizer='adam', optimizer_overrides='{}', patience=-1, pipeline_balance=None, pipeline_checkpoint='never', pipeline_chunks=0, pipeline_decoder_balance=None, pipeline_decoder_devices=None, pipeline_devices=None, pipeline_encoder_balance=None, pipeline_encoder_devices=None, pipeline_model_parallel=False, pooler_activation_fn='tanh', pooler_dropout=0.0, profile=False, quant_noise_pq=0, quant_noise_pq_block_size=8, quant_noise_scalar=0, quantization_config_path=None, regression_target=False, required_batch_size_multiple=8, required_seq_len_multiple=1, reset_dataloader=True, reset_lr_scheduler=False, reset_meters=True, reset_optimizer=True, restore_file='/Users/brazdilk/Projects/BioPhi/biophi/humanization/methods/sapiens/models/v1/checkpoint_vh.pt', save_dir='models/heavy/01_pretrained_2000epochs/checkpoints', save_interval=100, save_interval_updates=0, scoring='bleu', seed=1, sentence_avg=False, separator_token=2, shard_id=0, shorten_data_split_list='', shorten_method='truncate', skip_invalid_size_inputs_valid_test=False, slowmo_algorithm='LocalSGD', slowmo_momentum=None, spectral_norm_classification_head=False, stop_time_hours=0, task='sentence_prediction', tensorboard_logdir='models/heavy/01_pretrained_2000epochs/tensorboard', threshold_loss_scale=None, tokenizer=None, tpu=False, train_subset='train', update_freq=[1], use_bmuf=False, use_old_adam=False, user_dir='/Users/brazdilk/Projects/BioPhi/biophi/humanization/methods/sapiens', valid_subset='valid', validate_after_updates=0, validate_interval=1, validate_interval_updates=0, warmup_init_lr=-1, warmup_updates=10000, weight_decay=0.0, zero_sharding='none')\n",
      "2022-03-02 20:53:35 | INFO | fairseq.tasks.sentence_prediction | [input] dictionary: 25 types\n",
      "2022-03-02 20:53:35 | INFO | fairseq.tasks.sentence_prediction | [label] dictionary: 9 types\n",
      "2022-03-02 20:53:35 | INFO | fairseq.data.data_utils | loaded 120 examples from: data/processed/heavy/train/input0/valid\n",
      "2022-03-02 20:53:35 | INFO | fairseq.data.data_utils | loaded 120 examples from: data/processed/heavy/train/label/valid\n",
      "2022-03-02 20:53:35 | INFO | fairseq.tasks.sentence_prediction | Loaded valid with #samples: 120\n",
      "2022-03-02 20:53:35 | INFO | fairseq_cli.train | RobertaModel(\n",
      "  (encoder): RobertaEncoder(\n",
      "    (sentence_encoder): TransformerSentenceEncoder(\n",
      "      (dropout_module): FairseqDropout()\n",
      "      (embed_tokens): Embedding(25, 128, padding_idx=1)\n",
      "      (embed_positions): LearnedPositionalEmbedding(146, 128, padding_idx=1)\n",
      "      (layers): ModuleList(\n",
      "        (0): TransformerSentenceEncoderLayer(\n",
      "          (dropout_module): FairseqDropout()\n",
      "          (activation_dropout_module): FairseqDropout()\n",
      "          (self_attn): MultiheadAttention(\n",
      "            (dropout_module): FairseqDropout()\n",
      "            (k_proj): Linear(in_features=128, out_features=128, bias=True)\n",
      "            (v_proj): Linear(in_features=128, out_features=128, bias=True)\n",
      "            (q_proj): Linear(in_features=128, out_features=128, bias=True)\n",
      "            (out_proj): Linear(in_features=128, out_features=128, bias=True)\n",
      "          )\n",
      "          (self_attn_layer_norm): LayerNorm((128,), eps=1e-05, elementwise_affine=True)\n",
      "          (fc1): Linear(in_features=128, out_features=256, bias=True)\n",
      "          (fc2): Linear(in_features=256, out_features=128, bias=True)\n",
      "          (final_layer_norm): LayerNorm((128,), eps=1e-05, elementwise_affine=True)\n",
      "        )\n",
      "        (1): TransformerSentenceEncoderLayer(\n",
      "          (dropout_module): FairseqDropout()\n",
      "          (activation_dropout_module): FairseqDropout()\n",
      "          (self_attn): MultiheadAttention(\n",
      "            (dropout_module): FairseqDropout()\n",
      "            (k_proj): Linear(in_features=128, out_features=128, bias=True)\n",
      "            (v_proj): Linear(in_features=128, out_features=128, bias=True)\n",
      "            (q_proj): Linear(in_features=128, out_features=128, bias=True)\n",
      "            (out_proj): Linear(in_features=128, out_features=128, bias=True)\n",
      "          )\n",
      "          (self_attn_layer_norm): LayerNorm((128,), eps=1e-05, elementwise_affine=True)\n",
      "          (fc1): Linear(in_features=128, out_features=256, bias=True)\n",
      "          (fc2): Linear(in_features=256, out_features=128, bias=True)\n",
      "          (final_layer_norm): LayerNorm((128,), eps=1e-05, elementwise_affine=True)\n",
      "        )\n",
      "        (2): TransformerSentenceEncoderLayer(\n",
      "          (dropout_module): FairseqDropout()\n",
      "          (activation_dropout_module): FairseqDropout()\n",
      "          (self_attn): MultiheadAttention(\n",
      "            (dropout_module): FairseqDropout()\n",
      "            (k_proj): Linear(in_features=128, out_features=128, bias=True)\n",
      "            (v_proj): Linear(in_features=128, out_features=128, bias=True)\n",
      "            (q_proj): Linear(in_features=128, out_features=128, bias=True)\n",
      "            (out_proj): Linear(in_features=128, out_features=128, bias=True)\n",
      "          )\n",
      "          (self_attn_layer_norm): LayerNorm((128,), eps=1e-05, elementwise_affine=True)\n",
      "          (fc1): Linear(in_features=128, out_features=256, bias=True)\n",
      "          (fc2): Linear(in_features=256, out_features=128, bias=True)\n",
      "          (final_layer_norm): LayerNorm((128,), eps=1e-05, elementwise_affine=True)\n",
      "        )\n",
      "        (3): TransformerSentenceEncoderLayer(\n",
      "          (dropout_module): FairseqDropout()\n",
      "          (activation_dropout_module): FairseqDropout()\n",
      "          (self_attn): MultiheadAttention(\n",
      "            (dropout_module): FairseqDropout()\n",
      "            (k_proj): Linear(in_features=128, out_features=128, bias=True)\n",
      "            (v_proj): Linear(in_features=128, out_features=128, bias=True)\n",
      "            (q_proj): Linear(in_features=128, out_features=128, bias=True)\n",
      "            (out_proj): Linear(in_features=128, out_features=128, bias=True)\n",
      "          )\n",
      "          (self_attn_layer_norm): LayerNorm((128,), eps=1e-05, elementwise_affine=True)\n",
      "          (fc1): Linear(in_features=128, out_features=256, bias=True)\n",
      "          (fc2): Linear(in_features=256, out_features=128, bias=True)\n",
      "          (final_layer_norm): LayerNorm((128,), eps=1e-05, elementwise_affine=True)\n",
      "        )\n",
      "      )\n",
      "      (emb_layer_norm): LayerNorm((128,), eps=1e-05, elementwise_affine=True)\n",
      "    )\n",
      "    (lm_head): RobertaLMHead(\n",
      "      (dense): Linear(in_features=128, out_features=128, bias=True)\n",
      "      (layer_norm): LayerNorm((128,), eps=1e-05, elementwise_affine=True)\n",
      "    )\n",
      "  )\n",
      "  (classification_heads): ModuleDict(\n",
      "    (sentence_classification_head): RobertaClassificationHead(\n",
      "      (dense): Linear(in_features=128, out_features=128, bias=True)\n",
      "      (dropout): Dropout(p=0.0, inplace=False)\n",
      "      (out_proj): Linear(in_features=128, out_features=2, bias=True)\n",
      "    )\n",
      "  )\n",
      ")\n",
      "2022-03-02 20:53:35 | INFO | fairseq_cli.train | task: sentence_prediction (SentencePredictionTask)\n",
      "2022-03-02 20:53:35 | INFO | fairseq_cli.train | model: roberta_small (RobertaModel)\n",
      "2022-03-02 20:53:35 | INFO | fairseq_cli.train | criterion: sentence_prediction (SentencePredictionCriterion)\n",
      "2022-03-02 20:53:35 | INFO | fairseq_cli.train | num. model params: 585627 (num. trained: 585627)\n",
      "2022-03-02 20:53:35 | INFO | fairseq.trainer | detected shared parameter: encoder.sentence_encoder.embed_tokens.weight <- encoder.lm_head.weight\n",
      "2022-03-02 20:53:35 | INFO | fairseq_cli.train | training on 1 devices (GPUs/TPUs)\n",
      "2022-03-02 20:53:35 | INFO | fairseq_cli.train | max tokens per GPU = None and max sentences per GPU = 256\n",
      "2022-03-02 20:53:35 | INFO | fairseq.models.roberta.model | Overwriting classification_heads.sentence_classification_head.dense.weight\n",
      "2022-03-02 20:53:35 | INFO | fairseq.models.roberta.model | Overwriting classification_heads.sentence_classification_head.dense.bias\n",
      "2022-03-02 20:53:35 | INFO | fairseq.models.roberta.model | Overwriting classification_heads.sentence_classification_head.out_proj.weight\n",
      "2022-03-02 20:53:35 | INFO | fairseq.models.roberta.model | Overwriting classification_heads.sentence_classification_head.out_proj.bias\n",
      "2022-03-02 20:53:35 | INFO | fairseq.trainer | loaded checkpoint /Users/brazdilk/Projects/BioPhi/biophi/humanization/methods/sapiens/models/v1/checkpoint_vh.pt (epoch 700 @ 0 updates)\n",
      "2022-03-02 20:53:35 | INFO | fairseq.trainer | loading train data for epoch 1\n",
      "2022-03-02 20:53:35 | INFO | fairseq.data.data_utils | loaded 1338 examples from: data/processed/heavy/train/input0/train\n",
      "2022-03-02 20:53:35 | INFO | fairseq.data.data_utils | loaded 1338 examples from: data/processed/heavy/train/label/train\n",
      "2022-03-02 20:53:35 | INFO | fairseq.tasks.sentence_prediction | Loaded train with #samples: 1338\n",
      "2022-03-02 20:53:35 | INFO | fairseq.trainer | begin training epoch 1\n",
      "Traceback (most recent call last):\n",
      "  File \"/Users/brazdilk/opt/anaconda3/envs/biophi_inst/lib/python3.8/site-packages/torch-1.10.1-py3.8-macosx-10.9-x86_64.egg/torch/utils/data/dataloader.py\", line 990, in _try_get_data\n",
      "    data = self._data_queue.get(timeout=timeout)\n",
      "  File \"/Users/brazdilk/opt/anaconda3/envs/biophi_inst/lib/python3.8/multiprocessing/queues.py\", line 108, in get\n",
      "    raise Empty\n",
      "_queue.Empty\n",
      "\n",
      "The above exception was the direct cause of the following exception:\n",
      "\n",
      "Traceback (most recent call last):\n",
      "  File \"/Users/brazdilk/opt/anaconda3/envs/biophi_inst/bin/fairseq-train\", line 33, in <module>\n",
      "    sys.exit(load_entry_point('fairseq==0.10.2', 'console_scripts', 'fairseq-train')())\n",
      "  File \"/Users/brazdilk/opt/anaconda3/envs/biophi_inst/lib/python3.8/site-packages/fairseq-0.10.2-py3.8-macosx-10.9-x86_64.egg/fairseq_cli/train.py\", line 352, in cli_main\n",
      "    distributed_utils.call_main(args, main)\n",
      "  File \"/Users/brazdilk/opt/anaconda3/envs/biophi_inst/lib/python3.8/site-packages/fairseq-0.10.2-py3.8-macosx-10.9-x86_64.egg/fairseq/distributed_utils.py\", line 301, in call_main\n",
      "    main(args, **kwargs)\n",
      "  File \"/Users/brazdilk/opt/anaconda3/envs/biophi_inst/lib/python3.8/site-packages/fairseq-0.10.2-py3.8-macosx-10.9-x86_64.egg/fairseq_cli/train.py\", line 125, in main\n",
      "    valid_losses, should_stop = train(args, trainer, task, epoch_itr)\n",
      "  File \"/Users/brazdilk/opt/anaconda3/envs/biophi_inst/lib/python3.8/contextlib.py\", line 75, in inner\n",
      "    return func(*args, **kwds)\n",
      "  File \"/Users/brazdilk/opt/anaconda3/envs/biophi_inst/lib/python3.8/site-packages/fairseq-0.10.2-py3.8-macosx-10.9-x86_64.egg/fairseq_cli/train.py\", line 204, in train\n",
      "    for i, samples in enumerate(progress):\n",
      "  File \"/Users/brazdilk/opt/anaconda3/envs/biophi_inst/lib/python3.8/site-packages/fairseq-0.10.2-py3.8-macosx-10.9-x86_64.egg/fairseq/logging/progress_bar.py\", line 243, in __iter__\n",
      "    for i, obj in enumerate(self.iterable, start=self.n):\n",
      "  File \"/Users/brazdilk/opt/anaconda3/envs/biophi_inst/lib/python3.8/site-packages/fairseq-0.10.2-py3.8-macosx-10.9-x86_64.egg/fairseq/data/iterators.py\", line 59, in __iter__\n",
      "    for x in self.iterable:\n",
      "  File \"/Users/brazdilk/opt/anaconda3/envs/biophi_inst/lib/python3.8/site-packages/fairseq-0.10.2-py3.8-macosx-10.9-x86_64.egg/fairseq/data/iterators.py\", line 469, in _chunk_iterator\n",
      "    for x in itr:\n",
      "  File \"/Users/brazdilk/opt/anaconda3/envs/biophi_inst/lib/python3.8/site-packages/fairseq-0.10.2-py3.8-macosx-10.9-x86_64.egg/fairseq/data/iterators.py\", line 59, in __iter__\n",
      "    for x in self.iterable:\n",
      "  File \"/Users/brazdilk/opt/anaconda3/envs/biophi_inst/lib/python3.8/site-packages/fairseq-0.10.2-py3.8-macosx-10.9-x86_64.egg/fairseq/data/iterators.py\", line 591, in __next__\n",
      "    raise item\n",
      "  File \"/Users/brazdilk/opt/anaconda3/envs/biophi_inst/lib/python3.8/site-packages/fairseq-0.10.2-py3.8-macosx-10.9-x86_64.egg/fairseq/data/iterators.py\", line 522, in run\n",
      "    for item in self._source:\n",
      "  File \"/Users/brazdilk/opt/anaconda3/envs/biophi_inst/lib/python3.8/site-packages/torch-1.10.1-py3.8-macosx-10.9-x86_64.egg/torch/utils/data/dataloader.py\", line 521, in __next__\n",
      "    data = self._next_data()\n",
      "  File \"/Users/brazdilk/opt/anaconda3/envs/biophi_inst/lib/python3.8/site-packages/torch-1.10.1-py3.8-macosx-10.9-x86_64.egg/torch/utils/data/dataloader.py\", line 1186, in _next_data\n",
      "    idx, data = self._get_data()\n",
      "  File \"/Users/brazdilk/opt/anaconda3/envs/biophi_inst/lib/python3.8/site-packages/torch-1.10.1-py3.8-macosx-10.9-x86_64.egg/torch/utils/data/dataloader.py\", line 1152, in _get_data\n",
      "    success, data = self._try_get_data()\n",
      "  File \"/Users/brazdilk/opt/anaconda3/envs/biophi_inst/lib/python3.8/site-packages/torch-1.10.1-py3.8-macosx-10.9-x86_64.egg/torch/utils/data/dataloader.py\", line 1003, in _try_get_data\n",
      "    raise RuntimeError('DataLoader worker (pid(s) {}) exited unexpectedly'.format(pids_str)) from e\n",
      "RuntimeError: DataLoader worker (pid(s) 44285) exited unexpectedly\n"
     ]
    }
   ],
   "source": [
    "!fairseq-train \\\n",
    "    data/processed/light/train/  \\\n",
    "    --user-dir /home/brazdilv/diplomka/SW/Sapiens/sapiens \\\n",
    "    --init-token 0 --separator-token 2 \\\n",
    "    --restore-file /home/brazdilv/diplomka/SW/Sapiens/sapiens/models/v1/checkpoint_vl.pt \\\n",
    "    --reset-optimizer --reset-dataloader --reset-meters \\\n",
    "    --save-dir data/models/light/01_pretrained_2000epochs/checkpoints \\\n",
    "    --tensorboard-logdir data/models/light/01_pretrained_2000epochs/tensorboard \\\n",
    "    --arch roberta_small \\\n",
    "    --criterion sentence_prediction \\\n",
    "    --task sentence_prediction \\\n",
    "    --classification-head-name di-pred \\\n",
    "    --num-classes 2 \\\n",
    "    --optimizer adam \\\n",
    "    --lr 1e-5 --lr-scheduler inverse_sqrt --warmup-updates 10000 \\\n",
    "    --dropout 0.1 --attention-dropout 0.1 \\\n",
    "    --max-positions 144 \\\n",
    "    --shorten-method truncate \\\n",
    "    --batch-size 256 \\\n",
    "    --max-epoch 2000 \\\n",
    "    --log-format simple \\\n",
    "    --log-interval 1000 \\\n",
    "    --validate-interval 1 \\\n",
    "    --save-interval 100 \\\n",
    "        2>&1 | tee models/light/01_pretrained_2000epochs/log"
   ]
  },
  {
   "cell_type": "code",
   "execution_count": null,
   "id": "aecb48cc-aa21-4d2c-af6f-7e4d3f4c27c9",
   "metadata": {
    "scrolled": true,
    "tags": []
   },
   "outputs": [
    {
     "name": "stdout",
     "output_type": "stream",
     "text": [
      "2022-03-04 08:35:42 | INFO | fairseq_cli.train | Namespace(activation_dropout=0.0, activation_fn='gelu', adam_betas='(0.9, 0.999)', adam_eps=1e-08, add_prev_output_tokens=False, all_gather_list_size=16384, arch='roberta_small', attention_dropout=0.1, batch_size=256, batch_size_valid=256, best_checkpoint_metric='loss', bf16=False, bpe=None, broadcast_buffers=False, bucket_cap_mb=25, checkpoint_shard_count=1, checkpoint_suffix='', classification_head_name='sentence_classification_head', clip_norm=0.0, cpu=False, criterion='sentence_prediction', curriculum=0, data='data/processed/heavy/train/', data_buffer_size=10, dataset_impl=None, ddp_backend='c10d', device_id=0, disable_validation=False, distributed_backend='nccl', distributed_init_method=None, distributed_no_spawn=False, distributed_num_procs=0, distributed_port=-1, distributed_rank=0, distributed_world_size=1, distributed_wrapper='DDP', dropout=0.1, empty_cache_freq=0, encoder_attention_heads=8, encoder_embed_dim=128, encoder_ffn_embed_dim=256, encoder_layerdrop=0, encoder_layers=4, encoder_layers_to_keep=None, fast_stat_sync=False, find_unused_parameters=False, finetune_from_model=None, fix_batches_to_gpus=False, fixed_validation_seed=None, fp16=False, fp16_init_scale=128, fp16_no_flatten_grads=False, fp16_scale_tolerance=0.0, fp16_scale_window=None, gen_subset='test', init_token=0, keep_best_checkpoints=-1, keep_interval_updates=-1, keep_last_epochs=-1, localsgd_frequency=3, log_format='simple', log_interval=100, lr=[1e-05], lr_scheduler='inverse_sqrt', max_epoch=1900, max_positions=144, max_tokens=None, max_tokens_valid=None, max_update=0, maximize_best_checkpoint_metric=False, memory_efficient_bf16=False, memory_efficient_fp16=False, min_loss_scale=0.0001, min_lr=-1.0, model_parallel_size=1, no_epoch_checkpoints=False, no_last_checkpoints=False, no_progress_bar=False, no_save=False, no_save_optimizer_state=False, no_seed_provided=False, no_shuffle=False, nprocs_per_node=1, num_classes=2, num_shards=1, num_workers=1, optimizer='adam', optimizer_overrides='{}', patience=-1, pipeline_balance=None, pipeline_checkpoint='never', pipeline_chunks=0, pipeline_decoder_balance=None, pipeline_decoder_devices=None, pipeline_devices=None, pipeline_encoder_balance=None, pipeline_encoder_devices=None, pipeline_model_parallel=False, pooler_activation_fn='tanh', pooler_dropout=0.0, profile=False, quant_noise_pq=0, quant_noise_pq_block_size=8, quant_noise_scalar=0, quantization_config_path=None, regression_target=False, required_batch_size_multiple=8, required_seq_len_multiple=1, reset_dataloader=True, reset_lr_scheduler=False, reset_meters=True, reset_optimizer=True, restore_file='/Users/brazdilk/Projects/diplomka/di-pred/fairseq/models/heavy/01_pretrained_2000epochs/checkpoint_best.pt', save_dir='models/heavy/01_pretrained_2000epochs/checkpoints', save_interval=20, save_interval_updates=0, scoring='bleu', seed=1, sentence_avg=False, separator_token=2, shard_id=0, shorten_data_split_list='', shorten_method='truncate', skip_invalid_size_inputs_valid_test=False, slowmo_algorithm='LocalSGD', slowmo_momentum=None, spectral_norm_classification_head=False, stop_time_hours=0, task='sentence_prediction', tensorboard_logdir='models/heavy/01_pretrained_2000epochs/tensorboard', threshold_loss_scale=None, tokenizer=None, tpu=False, train_subset='train', update_freq=[1], use_bmuf=False, use_old_adam=False, user_dir='/Users/brazdilk/Projects/BioPhi/biophi/humanization/methods/sapiens', valid_subset='valid', validate_after_updates=0, validate_interval=1, validate_interval_updates=0, warmup_init_lr=-1, warmup_updates=10000, weight_decay=0.0, zero_sharding='none')\n",
      "2022-03-04 08:35:42 | INFO | fairseq.tasks.sentence_prediction | [input] dictionary: 25 types\n",
      "2022-03-04 08:35:42 | INFO | fairseq.tasks.sentence_prediction | [label] dictionary: 9 types\n",
      "2022-03-04 08:35:42 | INFO | fairseq.data.data_utils | loaded 120 examples from: data/processed/heavy/train/input0/valid\n",
      "2022-03-04 08:35:42 | INFO | fairseq.data.data_utils | loaded 120 examples from: data/processed/heavy/train/label/valid\n",
      "2022-03-04 08:35:42 | INFO | fairseq.tasks.sentence_prediction | Loaded valid with #samples: 120\n",
      "2022-03-04 08:35:42 | INFO | fairseq_cli.train | RobertaModel(\n",
      "  (encoder): RobertaEncoder(\n",
      "    (sentence_encoder): TransformerSentenceEncoder(\n",
      "      (dropout_module): FairseqDropout()\n",
      "      (embed_tokens): Embedding(25, 128, padding_idx=1)\n",
      "      (embed_positions): LearnedPositionalEmbedding(146, 128, padding_idx=1)\n",
      "      (layers): ModuleList(\n",
      "        (0): TransformerSentenceEncoderLayer(\n",
      "          (dropout_module): FairseqDropout()\n",
      "          (activation_dropout_module): FairseqDropout()\n",
      "          (self_attn): MultiheadAttention(\n",
      "            (dropout_module): FairseqDropout()\n",
      "            (k_proj): Linear(in_features=128, out_features=128, bias=True)\n",
      "            (v_proj): Linear(in_features=128, out_features=128, bias=True)\n",
      "            (q_proj): Linear(in_features=128, out_features=128, bias=True)\n",
      "            (out_proj): Linear(in_features=128, out_features=128, bias=True)\n",
      "          )\n",
      "          (self_attn_layer_norm): LayerNorm((128,), eps=1e-05, elementwise_affine=True)\n",
      "          (fc1): Linear(in_features=128, out_features=256, bias=True)\n",
      "          (fc2): Linear(in_features=256, out_features=128, bias=True)\n",
      "          (final_layer_norm): LayerNorm((128,), eps=1e-05, elementwise_affine=True)\n",
      "        )\n",
      "        (1): TransformerSentenceEncoderLayer(\n",
      "          (dropout_module): FairseqDropout()\n",
      "          (activation_dropout_module): FairseqDropout()\n",
      "          (self_attn): MultiheadAttention(\n",
      "            (dropout_module): FairseqDropout()\n",
      "            (k_proj): Linear(in_features=128, out_features=128, bias=True)\n",
      "            (v_proj): Linear(in_features=128, out_features=128, bias=True)\n",
      "            (q_proj): Linear(in_features=128, out_features=128, bias=True)\n",
      "            (out_proj): Linear(in_features=128, out_features=128, bias=True)\n",
      "          )\n",
      "          (self_attn_layer_norm): LayerNorm((128,), eps=1e-05, elementwise_affine=True)\n",
      "          (fc1): Linear(in_features=128, out_features=256, bias=True)\n",
      "          (fc2): Linear(in_features=256, out_features=128, bias=True)\n",
      "          (final_layer_norm): LayerNorm((128,), eps=1e-05, elementwise_affine=True)\n",
      "        )\n",
      "        (2): TransformerSentenceEncoderLayer(\n",
      "          (dropout_module): FairseqDropout()\n",
      "          (activation_dropout_module): FairseqDropout()\n",
      "          (self_attn): MultiheadAttention(\n",
      "            (dropout_module): FairseqDropout()\n",
      "            (k_proj): Linear(in_features=128, out_features=128, bias=True)\n",
      "            (v_proj): Linear(in_features=128, out_features=128, bias=True)\n",
      "            (q_proj): Linear(in_features=128, out_features=128, bias=True)\n",
      "            (out_proj): Linear(in_features=128, out_features=128, bias=True)\n",
      "          )\n",
      "          (self_attn_layer_norm): LayerNorm((128,), eps=1e-05, elementwise_affine=True)\n",
      "          (fc1): Linear(in_features=128, out_features=256, bias=True)\n",
      "          (fc2): Linear(in_features=256, out_features=128, bias=True)\n",
      "          (final_layer_norm): LayerNorm((128,), eps=1e-05, elementwise_affine=True)\n",
      "        )\n",
      "        (3): TransformerSentenceEncoderLayer(\n",
      "          (dropout_module): FairseqDropout()\n",
      "          (activation_dropout_module): FairseqDropout()\n",
      "          (self_attn): MultiheadAttention(\n",
      "            (dropout_module): FairseqDropout()\n",
      "            (k_proj): Linear(in_features=128, out_features=128, bias=True)\n",
      "            (v_proj): Linear(in_features=128, out_features=128, bias=True)\n",
      "            (q_proj): Linear(in_features=128, out_features=128, bias=True)\n",
      "            (out_proj): Linear(in_features=128, out_features=128, bias=True)\n",
      "          )\n",
      "          (self_attn_layer_norm): LayerNorm((128,), eps=1e-05, elementwise_affine=True)\n",
      "          (fc1): Linear(in_features=128, out_features=256, bias=True)\n",
      "          (fc2): Linear(in_features=256, out_features=128, bias=True)\n",
      "          (final_layer_norm): LayerNorm((128,), eps=1e-05, elementwise_affine=True)\n",
      "        )\n",
      "      )\n",
      "      (emb_layer_norm): LayerNorm((128,), eps=1e-05, elementwise_affine=True)\n",
      "    )\n",
      "    (lm_head): RobertaLMHead(\n",
      "      (dense): Linear(in_features=128, out_features=128, bias=True)\n",
      "      (layer_norm): LayerNorm((128,), eps=1e-05, elementwise_affine=True)\n",
      "    )\n",
      "  )\n",
      "  (classification_heads): ModuleDict(\n",
      "    (sentence_classification_head): RobertaClassificationHead(\n",
      "      (dense): Linear(in_features=128, out_features=128, bias=True)\n",
      "      (dropout): Dropout(p=0.0, inplace=False)\n",
      "      (out_proj): Linear(in_features=128, out_features=2, bias=True)\n",
      "    )\n",
      "  )\n",
      ")\n",
      "2022-03-04 08:35:42 | INFO | fairseq_cli.train | task: sentence_prediction (SentencePredictionTask)\n",
      "2022-03-04 08:35:42 | INFO | fairseq_cli.train | model: roberta_small (RobertaModel)\n",
      "2022-03-04 08:35:42 | INFO | fairseq_cli.train | criterion: sentence_prediction (SentencePredictionCriterion)\n",
      "2022-03-04 08:35:42 | INFO | fairseq_cli.train | num. model params: 585627 (num. trained: 585627)\n",
      "2022-03-04 08:35:42 | INFO | fairseq.trainer | detected shared parameter: encoder.sentence_encoder.embed_tokens.weight <- encoder.lm_head.weight\n",
      "2022-03-04 08:35:42 | INFO | fairseq_cli.train | training on 1 devices (GPUs/TPUs)\n",
      "2022-03-04 08:35:42 | INFO | fairseq_cli.train | max tokens per GPU = None and max sentences per GPU = 256\n",
      "2022-03-04 08:35:42 | INFO | fairseq.trainer | loaded checkpoint /Users/brazdilk/Projects/diplomka/di-pred/fairseq/models/heavy/01_pretrained_2000epochs/checkpoint_best.pt (epoch 101 @ 0 updates)\n",
      "2022-03-04 08:35:42 | INFO | fairseq.trainer | loading train data for epoch 1\n",
      "2022-03-04 08:35:42 | INFO | fairseq.data.data_utils | loaded 1338 examples from: data/processed/heavy/train/input0/train\n",
      "2022-03-04 08:35:42 | INFO | fairseq.data.data_utils | loaded 1338 examples from: data/processed/heavy/train/label/train\n",
      "2022-03-04 08:35:42 | INFO | fairseq.tasks.sentence_prediction | Loaded train with #samples: 1338\n",
      "2022-03-04 08:35:42 | WARNING | fairseq.logging.progress_bar | tensorboard not found, please install with: pip install tensorboardX\n",
      "2022-03-04 08:35:42 | INFO | fairseq.trainer | begin training epoch 1\n",
      "2022-03-04 08:36:13 | INFO | fairseq_cli.train | begin validation on \"valid\" subset\n",
      "2022-03-04 08:36:13 | WARNING | fairseq.logging.progress_bar | tensorboard not found, please install with: pip install tensorboardX\n",
      "2022-03-04 08:36:20 | INFO | valid | epoch 001 | valid on 'valid' subset | loss 1.025 | nll_loss 0.008 | accuracy 30 | wps 0 | wpb 14701 | bsz 120 | num_updates 6\n",
      "2022-03-04 08:36:20 | INFO | fairseq_cli.train | end of epoch 1 (average epoch stats below)\n",
      "2022-03-04 08:36:20 | INFO | train | epoch 001 | loss 1.015 | nll_loss 0.008 | accuracy 44 | wps 4613.2 | ups 0.17 | wpb 27415.2 | bsz 223 | num_updates 6 | lr 6e-09 | gnorm 3.827 | train_wall 28 | wall 37\n",
      "2022-03-04 08:36:20 | WARNING | fairseq.logging.progress_bar | tensorboard not found, please install with: pip install tensorboardX\n",
      "2022-03-04 08:36:20 | INFO | fairseq.trainer | begin training epoch 2\n",
      "2022-03-04 08:36:49 | INFO | fairseq_cli.train | begin validation on \"valid\" subset\n",
      "2022-03-04 08:36:49 | WARNING | fairseq.logging.progress_bar | tensorboard not found, please install with: pip install tensorboardX\n",
      "2022-03-04 08:36:56 | INFO | valid | epoch 002 | valid on 'valid' subset | loss 1.025 | nll_loss 0.008 | accuracy 30 | wps 0 | wpb 14701 | bsz 120 | num_updates 12\n",
      "2022-03-04 08:36:56 | INFO | fairseq_cli.train | end of epoch 2 (average epoch stats below)\n",
      "2022-03-04 08:36:56 | INFO | train | epoch 002 | loss 1.021 | nll_loss 0.008 | accuracy 39.8 | wps 4562.8 | ups 0.17 | wpb 27415.2 | bsz 223 | num_updates 12 | lr 1.2e-08 | gnorm 3.849 | train_wall 27 | wall 73\n",
      "2022-03-04 08:36:56 | WARNING | fairseq.logging.progress_bar | tensorboard not found, please install with: pip install tensorboardX\n",
      "2022-03-04 08:36:56 | INFO | fairseq.trainer | begin training epoch 3\n",
      "2022-03-04 08:37:25 | INFO | fairseq_cli.train | begin validation on \"valid\" subset\n",
      "2022-03-04 08:37:25 | WARNING | fairseq.logging.progress_bar | tensorboard not found, please install with: pip install tensorboardX\n",
      "2022-03-04 08:37:32 | INFO | valid | epoch 003 | valid on 'valid' subset | loss 1.025 | nll_loss 0.008 | accuracy 30 | wps 0 | wpb 14701 | bsz 120 | num_updates 18\n",
      "2022-03-04 08:37:32 | INFO | fairseq_cli.train | end of epoch 3 (average epoch stats below)\n",
      "2022-03-04 08:37:32 | INFO | train | epoch 003 | loss 1.016 | nll_loss 0.008 | accuracy 42.8 | wps 4551.5 | ups 0.17 | wpb 27415.2 | bsz 223 | num_updates 18 | lr 1.8e-08 | gnorm 3.84 | train_wall 27 | wall 110\n",
      "2022-03-04 08:37:32 | WARNING | fairseq.logging.progress_bar | tensorboard not found, please install with: pip install tensorboardX\n",
      "2022-03-04 08:37:32 | INFO | fairseq.trainer | begin training epoch 4\n",
      "2022-03-04 08:38:02 | INFO | fairseq_cli.train | begin validation on \"valid\" subset\n",
      "2022-03-04 08:38:02 | WARNING | fairseq.logging.progress_bar | tensorboard not found, please install with: pip install tensorboardX\n",
      "2022-03-04 08:38:09 | INFO | valid | epoch 004 | valid on 'valid' subset | loss 1.025 | nll_loss 0.008 | accuracy 30.8 | wps 0 | wpb 14701 | bsz 120 | num_updates 24\n",
      "2022-03-04 08:38:09 | INFO | fairseq_cli.train | end of epoch 4 (average epoch stats below)\n",
      "2022-03-04 08:38:09 | INFO | train | epoch 004 | loss 1.018 | nll_loss 0.008 | accuracy 40.3 | wps 4384.4 | ups 0.16 | wpb 27415.2 | bsz 223 | num_updates 24 | lr 2.4e-08 | gnorm 3.82 | train_wall 29 | wall 147\n",
      "2022-03-04 08:38:09 | WARNING | fairseq.logging.progress_bar | tensorboard not found, please install with: pip install tensorboardX\n",
      "2022-03-04 08:38:09 | INFO | fairseq.trainer | begin training epoch 5\n",
      "2022-03-04 08:38:38 | INFO | fairseq_cli.train | begin validation on \"valid\" subset\n",
      "2022-03-04 08:38:38 | WARNING | fairseq.logging.progress_bar | tensorboard not found, please install with: pip install tensorboardX\n",
      "2022-03-04 08:38:45 | INFO | valid | epoch 005 | valid on 'valid' subset | loss 1.025 | nll_loss 0.008 | accuracy 30.8 | wps 0 | wpb 14701 | bsz 120 | num_updates 30\n",
      "2022-03-04 08:38:45 | INFO | fairseq_cli.train | end of epoch 5 (average epoch stats below)\n",
      "2022-03-04 08:38:45 | INFO | train | epoch 005 | loss 1.018 | nll_loss 0.008 | accuracy 40.2 | wps 4583 | ups 0.17 | wpb 27415.2 | bsz 223 | num_updates 30 | lr 3e-08 | gnorm 3.837 | train_wall 27 | wall 183\n",
      "2022-03-04 08:38:45 | WARNING | fairseq.logging.progress_bar | tensorboard not found, please install with: pip install tensorboardX\n",
      "2022-03-04 08:38:45 | INFO | fairseq.trainer | begin training epoch 6\n",
      "2022-03-04 08:39:13 | INFO | fairseq_cli.train | begin validation on \"valid\" subset\n",
      "2022-03-04 08:39:13 | WARNING | fairseq.logging.progress_bar | tensorboard not found, please install with: pip install tensorboardX\n",
      "2022-03-04 08:39:20 | INFO | valid | epoch 006 | valid on 'valid' subset | loss 1.024 | nll_loss 0.008 | accuracy 30 | wps 0 | wpb 14701 | bsz 120 | num_updates 36\n",
      "2022-03-04 08:39:20 | INFO | fairseq_cli.train | end of epoch 6 (average epoch stats below)\n",
      "2022-03-04 08:39:20 | INFO | train | epoch 006 | loss 1.014 | nll_loss 0.008 | accuracy 43.6 | wps 4723.2 | ups 0.17 | wpb 27415.2 | bsz 223 | num_updates 36 | lr 3.6e-08 | gnorm 3.823 | train_wall 27 | wall 218\n",
      "2022-03-04 08:39:20 | WARNING | fairseq.logging.progress_bar | tensorboard not found, please install with: pip install tensorboardX\n",
      "2022-03-04 08:39:20 | INFO | fairseq.trainer | begin training epoch 7\n",
      "2022-03-04 08:39:48 | INFO | fairseq_cli.train | begin validation on \"valid\" subset\n",
      "2022-03-04 08:39:48 | WARNING | fairseq.logging.progress_bar | tensorboard not found, please install with: pip install tensorboardX\n",
      "2022-03-04 08:39:55 | INFO | valid | epoch 007 | valid on 'valid' subset | loss 1.024 | nll_loss 0.008 | accuracy 30 | wps 0 | wpb 14701 | bsz 120 | num_updates 42\n",
      "2022-03-04 08:39:55 | INFO | fairseq_cli.train | end of epoch 7 (average epoch stats below)\n",
      "2022-03-04 08:39:55 | INFO | train | epoch 007 | loss 1.015 | nll_loss 0.008 | accuracy 42.7 | wps 4699.4 | ups 0.17 | wpb 27415.2 | bsz 223 | num_updates 42 | lr 4.2e-08 | gnorm 3.814 | train_wall 27 | wall 253\n",
      "2022-03-04 08:39:55 | WARNING | fairseq.logging.progress_bar | tensorboard not found, please install with: pip install tensorboardX\n",
      "2022-03-04 08:39:55 | INFO | fairseq.trainer | begin training epoch 8\n",
      "2022-03-04 08:40:24 | INFO | fairseq_cli.train | begin validation on \"valid\" subset\n",
      "2022-03-04 08:40:24 | WARNING | fairseq.logging.progress_bar | tensorboard not found, please install with: pip install tensorboardX\n",
      "2022-03-04 08:40:31 | INFO | valid | epoch 008 | valid on 'valid' subset | loss 1.024 | nll_loss 0.008 | accuracy 30 | wps 0 | wpb 14701 | bsz 120 | num_updates 48\n",
      "2022-03-04 08:40:31 | INFO | fairseq_cli.train | end of epoch 8 (average epoch stats below)\n",
      "2022-03-04 08:40:31 | INFO | train | epoch 008 | loss 1.015 | nll_loss 0.008 | accuracy 43.2 | wps 4542.3 | ups 0.17 | wpb 27415.2 | bsz 223 | num_updates 48 | lr 4.8e-08 | gnorm 3.825 | train_wall 27 | wall 289\n",
      "2022-03-04 08:40:31 | WARNING | fairseq.logging.progress_bar | tensorboard not found, please install with: pip install tensorboardX\n",
      "2022-03-04 08:40:31 | INFO | fairseq.trainer | begin training epoch 9\n",
      "2022-03-04 08:41:00 | INFO | fairseq_cli.train | begin validation on \"valid\" subset\n",
      "2022-03-04 08:41:00 | WARNING | fairseq.logging.progress_bar | tensorboard not found, please install with: pip install tensorboardX\n",
      "2022-03-04 08:41:07 | INFO | valid | epoch 009 | valid on 'valid' subset | loss 1.023 | nll_loss 0.008 | accuracy 30.8 | wps 0 | wpb 14701 | bsz 120 | num_updates 54\n",
      "2022-03-04 08:41:07 | INFO | fairseq_cli.train | end of epoch 9 (average epoch stats below)\n",
      "2022-03-04 08:41:07 | INFO | train | epoch 009 | loss 1.015 | nll_loss 0.008 | accuracy 41 | wps 4593.9 | ups 0.17 | wpb 27415.2 | bsz 223 | num_updates 54 | lr 5.4e-08 | gnorm 3.807 | train_wall 27 | wall 325\n",
      "2022-03-04 08:41:07 | WARNING | fairseq.logging.progress_bar | tensorboard not found, please install with: pip install tensorboardX\n",
      "2022-03-04 08:41:07 | INFO | fairseq.trainer | begin training epoch 10\n"
     ]
    }
   ],
   "source": [
    "!fairseq-train \\\n",
    "    data/processed/heavy/train/  \\\n",
    "    --user-dir /Users/brazdilk/Projects/BioPhi/biophi/humanization/methods/sapiens \\\n",
    "    --init-token 0 --separator-token 2 \\\n",
    "    --restore-file /Users/brazdilk/Projects/diplomka/di-pred/fairseq/models/heavy/01_pretrained_2000epochs/checkpoint_best.pt \\\n",
    "    --reset-optimizer --reset-dataloader --reset-meters \\\n",
    "    --save-dir models/heavy/01_pretrained_2000epochs/checkpoints \\\n",
    "    --tensorboard-logdir models/heavy/01_pretrained_2000epochs/tensorboard \\\n",
    "    --arch roberta_small \\\n",
    "    --criterion sentence_prediction \\\n",
    "    --task sentence_prediction \\\n",
    "    --num-classes 2 \\\n",
    "    --optimizer adam \\\n",
    "    --lr 1e-5 --lr-scheduler inverse_sqrt --warmup-updates 10000 \\\n",
    "    --dropout 0.1 --attention-dropout 0.1 \\\n",
    "    --max-positions 144 \\\n",
    "    --shorten-method truncate \\\n",
    "    --batch-size 256 \\\n",
    "    --max-epoch 1900 \\\n",
    "    --log-format simple \\\n",
    "    --log-interval 100 \\\n",
    "    --validate-interval 1 \\\n",
    "    --save-interval 20 \\\n",
    "        2>&1 | tee models/heavy/01_pretrained_2000epochs/log"
   ]
  },
  {
   "cell_type": "code",
   "execution_count": null,
   "id": "c74ad1b9-35f6-4edb-a78d-0409815b6c78",
   "metadata": {},
   "outputs": [],
   "source": []
  }
 ],
 "metadata": {
  "kernelspec": {
   "display_name": "Python 3 (ipykernel)",
   "language": "python",
   "name": "python3"
  },
  "language_info": {
   "codemirror_mode": {
    "name": "ipython",
    "version": 3
   },
   "file_extension": ".py",
   "mimetype": "text/x-python",
   "name": "python",
   "nbconvert_exporter": "python",
   "pygments_lexer": "ipython3",
   "version": "3.7.12"
  }
 },
 "nbformat": 4,
 "nbformat_minor": 5
}
