{
 "cells": [
  {
   "cell_type": "code",
   "execution_count": 1,
   "id": "32a9ee0d-003e-442e-bd2f-402e39ada9ce",
   "metadata": {},
   "outputs": [
    {
     "name": "stderr",
     "output_type": "stream",
     "text": [
      "/Users/brazdilk/opt/anaconda3/envs/unirep/lib/python3.7/site-packages/jax/experimental/stax.py:30: FutureWarning: jax.experimental.stax is deprecated, import jax.example_libraries.stax instead\n",
      "  FutureWarning)\n",
      "WARNING:absl:No GPU/TPU found, falling back to CPU. (Set TF_CPP_MIN_LOG_LEVEL=0 and rerun for more info.)\n",
      "/Users/brazdilk/opt/anaconda3/envs/unirep/lib/python3.7/site-packages/jax/experimental/optimizers.py:30: FutureWarning: jax.experimental.optimizers is deprecated, import jax.example_libraries.optimizers instead\n",
      "  FutureWarning)\n"
     ]
    }
   ],
   "source": [
    "from jax.experimental import stax\n",
    "from jax.experimental.stax import Dense, Relu, serial, Sigmoid\n",
    "from jax.nn import relu, sigmoid\n",
    "from jax.experimental.stax import elementwise\n",
    "from jax import random\n",
    "import jax\n",
    "from jax_unirep.layers import AAEmbedding, mLSTM, mLSTMAvgHidden\n",
    "import jax.numpy as jnp"
   ]
  },
  {
   "cell_type": "code",
   "execution_count": 2,
   "id": "68d15a57-eca6-4261-a193-266b230e08b3",
   "metadata": {},
   "outputs": [],
   "source": [
    "import pandas as pd\n",
    "from os import path\n",
    "import numpy as np"
   ]
  },
  {
   "cell_type": "code",
   "execution_count": 3,
   "id": "a060874a-f822-4b2a-ad33-4c753224600d",
   "metadata": {},
   "outputs": [],
   "source": [
    "DATA_DIR = \"../../data\""
   ]
  },
  {
   "cell_type": "code",
   "execution_count": 4,
   "id": "6f170957-bd14-4f63-a20f-91214223b43a",
   "metadata": {},
   "outputs": [
    {
     "data": {
      "text/html": [
       "<div>\n",
       "<style scoped>\n",
       "    .dataframe tbody tr th:only-of-type {\n",
       "        vertical-align: middle;\n",
       "    }\n",
       "\n",
       "    .dataframe tbody tr th {\n",
       "        vertical-align: top;\n",
       "    }\n",
       "\n",
       "    .dataframe thead th {\n",
       "        text-align: right;\n",
       "    }\n",
       "</style>\n",
       "<table border=\"1\" class=\"dataframe\">\n",
       "  <thead>\n",
       "    <tr style=\"text-align: right;\">\n",
       "      <th></th>\n",
       "      <th>Antibody_ID</th>\n",
       "      <th>heavy</th>\n",
       "      <th>light</th>\n",
       "      <th>Y</th>\n",
       "    </tr>\n",
       "  </thead>\n",
       "  <tbody>\n",
       "    <tr>\n",
       "      <th>2073</th>\n",
       "      <td>6aod</td>\n",
       "      <td>EVQLVQSGAEVKKPGASVKVSCKASGYTFTGYYMHWVRQAPGQGLE...</td>\n",
       "      <td>DIVMTKSPSSLSASVGDRVTITCRASQGIRNDLGWYQQKPGKAPKR...</td>\n",
       "      <td>0</td>\n",
       "    </tr>\n",
       "    <tr>\n",
       "      <th>1517</th>\n",
       "      <td>4yny</td>\n",
       "      <td>EVQLVESGGGLVQPGRSLKLSCAASGFTFSNYGMAWVRQTPTKGLE...</td>\n",
       "      <td>EFVLTQPNSVSTNLGSTVKLSCKRSTGNIGSNYVNWYQQHEGRSPT...</td>\n",
       "      <td>1</td>\n",
       "    </tr>\n",
       "    <tr>\n",
       "      <th>2025</th>\n",
       "      <td>5xcv</td>\n",
       "      <td>EVQLVESGGGLVQPGRSLKLSCAASGFTFSNYGMAWVRQTPTKGLE...</td>\n",
       "      <td>QFVLTQPNSVSTNLGSTVKLSCKRSTGNIGSNYVNWYQQHEGRSPT...</td>\n",
       "      <td>1</td>\n",
       "    </tr>\n",
       "    <tr>\n",
       "      <th>2070</th>\n",
       "      <td>6and</td>\n",
       "      <td>EVQLVESGGGLVQPGGSLRLSCAASGYEFSRSWMNWVRQAPGKGLE...</td>\n",
       "      <td>DIQMTQSPSSLSASVGDRVTITCRSSQSIVHSVGNTFLEWYQQKPG...</td>\n",
       "      <td>1</td>\n",
       "    </tr>\n",
       "    <tr>\n",
       "      <th>666</th>\n",
       "      <td>2xqy</td>\n",
       "      <td>QVQLQQPGAELVKPGASVKMSCKASGYSFTSYWMNWVKQRPGRGLE...</td>\n",
       "      <td>DIVLTQSPASLALSLGQRATISCRASKSVSTSGYSYMYWYQQKPGQ...</td>\n",
       "      <td>0</td>\n",
       "    </tr>\n",
       "  </tbody>\n",
       "</table>\n",
       "</div>"
      ],
      "text/plain": [
       "     Antibody_ID                                              heavy  \\\n",
       "2073        6aod  EVQLVQSGAEVKKPGASVKVSCKASGYTFTGYYMHWVRQAPGQGLE...   \n",
       "1517        4yny  EVQLVESGGGLVQPGRSLKLSCAASGFTFSNYGMAWVRQTPTKGLE...   \n",
       "2025        5xcv  EVQLVESGGGLVQPGRSLKLSCAASGFTFSNYGMAWVRQTPTKGLE...   \n",
       "2070        6and  EVQLVESGGGLVQPGGSLRLSCAASGYEFSRSWMNWVRQAPGKGLE...   \n",
       "666         2xqy  QVQLQQPGAELVKPGASVKMSCKASGYSFTSYWMNWVKQRPGRGLE...   \n",
       "\n",
       "                                                  light  Y  \n",
       "2073  DIVMTKSPSSLSASVGDRVTITCRASQGIRNDLGWYQQKPGKAPKR...  0  \n",
       "1517  EFVLTQPNSVSTNLGSTVKLSCKRSTGNIGSNYVNWYQQHEGRSPT...  1  \n",
       "2025  QFVLTQPNSVSTNLGSTVKLSCKRSTGNIGSNYVNWYQQHEGRSPT...  1  \n",
       "2070  DIQMTQSPSSLSASVGDRVTITCRSSQSIVHSVGNTFLEWYQQKPG...  1  \n",
       "666   DIVLTQSPASLALSLGQRATISCRASKSVSTSGYSYMYWYQQKPGQ...  0  "
      ]
     },
     "execution_count": 4,
     "metadata": {},
     "output_type": "execute_result"
    }
   ],
   "source": [
    "train_df = pd.read_csv(path.join(DATA_DIR, \"chen/deduplicated/chen_train_data.csv\"), index_col=0)\n",
    "train_df.head()"
   ]
  },
  {
   "cell_type": "code",
   "execution_count": 5,
   "id": "39bcdda7-e8bc-4348-a220-15a8ff62cfc3",
   "metadata": {},
   "outputs": [],
   "source": [
    "test_df = pd.read_csv(path.join(DATA_DIR, \"chen/deduplicated/chen_test_data.csv\"), index_col=0)\n",
    "valid_df = pd.read_csv(path.join(DATA_DIR, \"chen/deduplicated/chen_valid_data.csv\"), index_col=0)\n",
    "test_df = pd.concat([test_df, valid_df])\n"
   ]
  },
  {
   "cell_type": "code",
   "execution_count": 6,
   "id": "cb2b6c76-0792-40e5-8ff0-9ff4baa4aa26",
   "metadata": {},
   "outputs": [
    {
     "data": {
      "text/plain": [
       "1338"
      ]
     },
     "execution_count": 6,
     "metadata": {},
     "output_type": "execute_result"
    }
   ],
   "source": [
    "train_h_seqs = list(train_df[\"heavy\"])\n",
    "train_labels = list(train_df[\"Y\"])\n",
    "len(train_h_seqs)"
   ]
  },
  {
   "cell_type": "code",
   "execution_count": 7,
   "id": "4f0db291-c08a-490d-a3a5-884e0e483a10",
   "metadata": {},
   "outputs": [
    {
     "data": {
      "text/plain": [
       "239"
      ]
     },
     "execution_count": 7,
     "metadata": {},
     "output_type": "execute_result"
    }
   ],
   "source": [
    "test_h_seqs = list(test_df[\"heavy\"])\n",
    "test_labels = list(test_df[\"Y\"])\n",
    "len(test_h_seqs)"
   ]
  },
  {
   "cell_type": "code",
   "execution_count": 8,
   "id": "3ae07921-ca44-427f-88e7-00c844a83cd0",
   "metadata": {},
   "outputs": [],
   "source": [
    "from jax.experimental.optimizers import adam\n",
    "from jax import grad, jit"
   ]
  },
  {
   "cell_type": "code",
   "execution_count": 9,
   "id": "d711ea43-5b60-4c7a-be36-e22e94d3ad10",
   "metadata": {},
   "outputs": [],
   "source": [
    "from jax_unirep.utils import seq_to_oh\n",
    "from jax_unirep.utils import load_params"
   ]
  },
  {
   "cell_type": "code",
   "execution_count": 44,
   "id": "0b02702e-b346-4e3d-9961-000f0bf03d41",
   "metadata": {},
   "outputs": [],
   "source": [
    "init_fun, apply_fun = serial(\n",
    "    AAEmbedding(10),\n",
    "    mLSTM(1900),\n",
    "    mLSTMAvgHidden(),\n",
    "    Dense(512), \n",
    "    elementwise(relu),\n",
    "    Dense(1)\n",
    ")"
   ]
  },
  {
   "cell_type": "code",
   "execution_count": 45,
   "id": "eb107ded-ee3b-4dfc-a030-c00f15d3c2f6",
   "metadata": {},
   "outputs": [],
   "source": [
    "rng_key = random.PRNGKey(0)\n",
    "\n",
    "batch_size = 1\n",
    "num_classes = 2\n",
    "#input_shape = (173, 26, batch_size)\n",
    "input_shape = (batch_size, 153, 26)\n",
    "step_size = 0.1\n",
    "num_steps = 10"
   ]
  },
  {
   "cell_type": "code",
   "execution_count": 46,
   "id": "ad938d62-7df4-48aa-9532-06c092046983",
   "metadata": {},
   "outputs": [],
   "source": [
    "_, init_params = init_fun(rng_key, input_shape)\n",
    "params = load_params(paper_weights=1900)"
   ]
  },
  {
   "cell_type": "code",
   "execution_count": 47,
   "id": "dbca07b3-0b42-4698-95f3-dcc0dda7ce79",
   "metadata": {},
   "outputs": [],
   "source": [
    "def loss(params, batch):\n",
    "    inputs, targets = batch\n",
    "    logits = apply_fun(params, inputs)\n",
    "    log_p = jax.nn.log_sigmoid(logits)\n",
    "    log_not_p = jax.nn.log_sigmoid(1-logits)\n",
    "    #cross_entropy = -targets * np.log(logits) - (1 - targets)*np.log(1 - logits)\n",
    "    res = -targets * log_p - (1. - targets) * log_not_p\n",
    "    \n",
    "    return res.mean()\n",
    "    # without the .mean(), res has shape (25,)\n",
    "    #return res\n"
   ]
  },
  {
   "cell_type": "code",
   "execution_count": 14,
   "id": "5cf4e2f5-5c6f-4df4-9d23-183989930315",
   "metadata": {},
   "outputs": [],
   "source": [
    "def pad_seq(seq, max_len=151):\n",
    "    seq = seq[:max_len]\n",
    "    if len(seq) < max_len:\n",
    "        seq = seq + \"-\" * (max_len - len(seq))\n",
    "    return seq"
   ]
  },
  {
   "cell_type": "code",
   "execution_count": 15,
   "id": "fc707c84-d8b9-4beb-9188-95c63d7267d7",
   "metadata": {},
   "outputs": [],
   "source": [
    "train_h_seqs = [pad_seq(seq) for seq in train_h_seqs]\n",
    "test_h_seqs = [pad_seq(seq) for seq in test_h_seqs]"
   ]
  },
  {
   "cell_type": "code",
   "execution_count": 48,
   "id": "c8416d6b-7ef0-4193-8de7-2a703bb8e3ba",
   "metadata": {},
   "outputs": [],
   "source": [
    "def get_batches():\n",
    "    oh_seqs = [seq_to_oh(seq) for seq in train_h_seqs]\n",
    "    labels = train_labels\n",
    "    num_batches = len(labels) // batch_size\n",
    "    for i in range(num_batches):\n",
    "        #x = np.swapaxes(np.swapaxes(np.asarray(oh_seqs[i*batch_size : (i+1)*batch_size]), 0, 1), 1, 2)\n",
    "        #x = np.asarray(oh_seqs[i*batch_size : (i+1)*batch_size])\n",
    "        #x = np.swapaxes(np.asarray(oh_seqs[i*batch_size : (i+1)*batch_size]), 0,1)\n",
    "        x = np.asarray(oh_seqs[i])#.transpose()\n",
    "        yield x, np.asarray(labels[i*batch_size : (i+1)*batch_size])\n",
    "    "
   ]
  },
  {
   "cell_type": "code",
   "execution_count": 49,
   "id": "220529ec-42b8-4196-9fc5-29119fff9989",
   "metadata": {},
   "outputs": [],
   "source": [
    "opt_init, opt_update, get_params = adam(step_size)\n",
    "batches = get_batches()"
   ]
  },
  {
   "cell_type": "code",
   "execution_count": 56,
   "id": "0c9b4258-2712-46fa-8622-a1f352a8b39a",
   "metadata": {},
   "outputs": [],
   "source": [
    "#@jit\n",
    "def update(i, opt_state, batch):\n",
    "    params = get_params(opt_state)\n",
    "    l = loss(params, batch)\n",
    "    print(l)\n",
    "    return opt_update(i, grad(loss)(params, batch), opt_state)"
   ]
  },
  {
   "cell_type": "code",
   "execution_count": 52,
   "id": "38a578f8-1998-4493-a947-59c7cf6be2e3",
   "metadata": {},
   "outputs": [],
   "source": [
    "#opt_state = opt_init(init_params)\n",
    "opt_state = opt_init(params)"
   ]
  },
  {
   "cell_type": "code",
   "execution_count": 57,
   "id": "53ac6f9c-348c-4dc2-b369-cb06097eae10",
   "metadata": {
    "scrolled": true,
    "tags": []
   },
   "outputs": [
    {
     "name": "stdout",
     "output_type": "stream",
     "text": [
      "Training epoch 0...\n",
      "2.1457455\n",
      "Training epoch 1...\n",
      "0.3132617\n",
      "Training epoch 2...\n",
      "0.3132617\n",
      "Training epoch 3...\n",
      "0.3132617\n",
      "Training epoch 4...\n",
      "0.3132617\n",
      "Training epoch 5...\n",
      "0.3132617\n",
      "Training epoch 6...\n",
      "0.31411317\n",
      "Training epoch 7...\n",
      "0.3132617\n",
      "Training epoch 8...\n",
      "0.3132617\n",
      "Training epoch 9...\n",
      "0.3132617\n"
     ]
    }
   ],
   "source": [
    "for i in range(num_steps):\n",
    "    print(f\"Training epoch {i}...\")\n",
    "    opt_state = update(i, opt_state, next(batches))\n",
    "trained_params = get_params(opt_state)"
   ]
  },
  {
   "cell_type": "code",
   "execution_count": null,
   "id": "e400384d-b557-43d9-bf29-94548b356e9f",
   "metadata": {},
   "outputs": [
    {
     "data": {
      "text/plain": [
       "DeviceArray([0., 0., 0., 0., 0., 0., 0., 0., 0., 0., 0., 0., 0., 0., 0.,\n",
       "             0., 0., 0., 0., 0., 0., 0., 0., 0., 0.], dtype=float32)"
      ]
     },
     "execution_count": 35,
     "metadata": {},
     "output_type": "execute_result"
    }
   ],
   "source": [
    "test_oh_seqs = [seq_to_oh(seq) for seq in test_h_seqs]\n",
    "\n",
    "apply_fun(trained_params, test_oh_seqs[0])"
   ]
  },
  {
   "cell_type": "code",
   "execution_count": 24,
   "id": "a2a74b97-58b8-435d-bdb4-a06680d32811",
   "metadata": {},
   "outputs": [
    {
     "data": {
      "text/plain": [
       "(25,)"
      ]
     },
     "execution_count": 24,
     "metadata": {},
     "output_type": "execute_result"
    }
   ],
   "source": [
    "apply_fun(trained_params, test_oh_seqs[0]).shape"
   ]
  },
  {
   "cell_type": "code",
   "execution_count": null,
   "id": "10165f2f-8898-463d-838c-0322bcd8c549",
   "metadata": {},
   "outputs": [],
   "source": []
  }
 ],
 "metadata": {
  "kernelspec": {
   "display_name": "Python 3 (ipykernel)",
   "language": "python",
   "name": "python3"
  },
  "language_info": {
   "codemirror_mode": {
    "name": "ipython",
    "version": 3
   },
   "file_extension": ".py",
   "mimetype": "text/x-python",
   "name": "python",
   "nbconvert_exporter": "python",
   "pygments_lexer": "ipython3",
   "version": "3.7.11"
  }
 },
 "nbformat": 4,
 "nbformat_minor": 5
}
