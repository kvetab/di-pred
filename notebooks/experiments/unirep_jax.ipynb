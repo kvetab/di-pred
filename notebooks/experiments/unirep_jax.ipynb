{
 "cells": [
  {
   "cell_type": "code",
   "execution_count": 56,
   "id": "32a9ee0d-003e-442e-bd2f-402e39ada9ce",
   "metadata": {},
   "outputs": [],
   "source": [
    "from jax.experimental import stax\n",
    "from jax.experimental.stax import Dense, Relu, serial, Sigmoid\n",
    "from jax.nn import relu, sigmoid\n",
    "from jax.experimental.stax import elementwise\n",
    "from jax import random\n",
    "import jax\n",
    "from jax_unirep.layers import AAEmbedding, mLSTM, mLSTMAvgHidden\n",
    "import jax.numpy as jnp"
   ]
  },
  {
   "cell_type": "code",
   "execution_count": 2,
   "id": "68d15a57-eca6-4261-a193-266b230e08b3",
   "metadata": {},
   "outputs": [],
   "source": [
    "import pandas as pd\n",
    "from os import path\n",
    "import numpy as np"
   ]
  },
  {
   "cell_type": "code",
   "execution_count": 3,
   "id": "a060874a-f822-4b2a-ad33-4c753224600d",
   "metadata": {},
   "outputs": [],
   "source": [
    "DATA_DIR = \"../../data\""
   ]
  },
  {
   "cell_type": "code",
   "execution_count": 4,
   "id": "6f170957-bd14-4f63-a20f-91214223b43a",
   "metadata": {},
   "outputs": [
    {
     "data": {
      "text/html": [
       "<div>\n",
       "<style scoped>\n",
       "    .dataframe tbody tr th:only-of-type {\n",
       "        vertical-align: middle;\n",
       "    }\n",
       "\n",
       "    .dataframe tbody tr th {\n",
       "        vertical-align: top;\n",
       "    }\n",
       "\n",
       "    .dataframe thead th {\n",
       "        text-align: right;\n",
       "    }\n",
       "</style>\n",
       "<table border=\"1\" class=\"dataframe\">\n",
       "  <thead>\n",
       "    <tr style=\"text-align: right;\">\n",
       "      <th></th>\n",
       "      <th>Antibody_ID</th>\n",
       "      <th>heavy</th>\n",
       "      <th>light</th>\n",
       "      <th>Y</th>\n",
       "    </tr>\n",
       "  </thead>\n",
       "  <tbody>\n",
       "    <tr>\n",
       "      <th>2073</th>\n",
       "      <td>6aod</td>\n",
       "      <td>EVQLVQSGAEVKKPGASVKVSCKASGYTFTGYYMHWVRQAPGQGLE...</td>\n",
       "      <td>DIVMTKSPSSLSASVGDRVTITCRASQGIRNDLGWYQQKPGKAPKR...</td>\n",
       "      <td>0</td>\n",
       "    </tr>\n",
       "    <tr>\n",
       "      <th>1517</th>\n",
       "      <td>4yny</td>\n",
       "      <td>EVQLVESGGGLVQPGRSLKLSCAASGFTFSNYGMAWVRQTPTKGLE...</td>\n",
       "      <td>EFVLTQPNSVSTNLGSTVKLSCKRSTGNIGSNYVNWYQQHEGRSPT...</td>\n",
       "      <td>1</td>\n",
       "    </tr>\n",
       "    <tr>\n",
       "      <th>2025</th>\n",
       "      <td>5xcv</td>\n",
       "      <td>EVQLVESGGGLVQPGRSLKLSCAASGFTFSNYGMAWVRQTPTKGLE...</td>\n",
       "      <td>QFVLTQPNSVSTNLGSTVKLSCKRSTGNIGSNYVNWYQQHEGRSPT...</td>\n",
       "      <td>1</td>\n",
       "    </tr>\n",
       "    <tr>\n",
       "      <th>2070</th>\n",
       "      <td>6and</td>\n",
       "      <td>EVQLVESGGGLVQPGGSLRLSCAASGYEFSRSWMNWVRQAPGKGLE...</td>\n",
       "      <td>DIQMTQSPSSLSASVGDRVTITCRSSQSIVHSVGNTFLEWYQQKPG...</td>\n",
       "      <td>1</td>\n",
       "    </tr>\n",
       "    <tr>\n",
       "      <th>666</th>\n",
       "      <td>2xqy</td>\n",
       "      <td>QVQLQQPGAELVKPGASVKMSCKASGYSFTSYWMNWVKQRPGRGLE...</td>\n",
       "      <td>DIVLTQSPASLALSLGQRATISCRASKSVSTSGYSYMYWYQQKPGQ...</td>\n",
       "      <td>0</td>\n",
       "    </tr>\n",
       "  </tbody>\n",
       "</table>\n",
       "</div>"
      ],
      "text/plain": [
       "     Antibody_ID                                              heavy  \\\n",
       "2073        6aod  EVQLVQSGAEVKKPGASVKVSCKASGYTFTGYYMHWVRQAPGQGLE...   \n",
       "1517        4yny  EVQLVESGGGLVQPGRSLKLSCAASGFTFSNYGMAWVRQTPTKGLE...   \n",
       "2025        5xcv  EVQLVESGGGLVQPGRSLKLSCAASGFTFSNYGMAWVRQTPTKGLE...   \n",
       "2070        6and  EVQLVESGGGLVQPGGSLRLSCAASGYEFSRSWMNWVRQAPGKGLE...   \n",
       "666         2xqy  QVQLQQPGAELVKPGASVKMSCKASGYSFTSYWMNWVKQRPGRGLE...   \n",
       "\n",
       "                                                  light  Y  \n",
       "2073  DIVMTKSPSSLSASVGDRVTITCRASQGIRNDLGWYQQKPGKAPKR...  0  \n",
       "1517  EFVLTQPNSVSTNLGSTVKLSCKRSTGNIGSNYVNWYQQHEGRSPT...  1  \n",
       "2025  QFVLTQPNSVSTNLGSTVKLSCKRSTGNIGSNYVNWYQQHEGRSPT...  1  \n",
       "2070  DIQMTQSPSSLSASVGDRVTITCRSSQSIVHSVGNTFLEWYQQKPG...  1  \n",
       "666   DIVLTQSPASLALSLGQRATISCRASKSVSTSGYSYMYWYQQKPGQ...  0  "
      ]
     },
     "execution_count": 4,
     "metadata": {},
     "output_type": "execute_result"
    }
   ],
   "source": [
    "train_df = pd.read_csv(path.join(DATA_DIR, \"chen/deduplicated/chen_train_data.csv\"), index_col=0)\n",
    "train_df.head()"
   ]
  },
  {
   "cell_type": "code",
   "execution_count": 71,
   "id": "39bcdda7-e8bc-4348-a220-15a8ff62cfc3",
   "metadata": {},
   "outputs": [],
   "source": [
    "test_df = pd.read_csv(path.join(DATA_DIR, \"chen/deduplicated/chen_test_data.csv\"), index_col=0)\n",
    "valid_df = pd.read_csv(path.join(DATA_DIR, \"chen/deduplicated/chen_valid_data.csv\"), index_col=0)\n",
    "test_df = pd.concat([test_df, valid_df])\n"
   ]
  },
  {
   "cell_type": "code",
   "execution_count": 5,
   "id": "cb2b6c76-0792-40e5-8ff0-9ff4baa4aa26",
   "metadata": {},
   "outputs": [
    {
     "data": {
      "text/plain": [
       "1338"
      ]
     },
     "execution_count": 5,
     "metadata": {},
     "output_type": "execute_result"
    }
   ],
   "source": [
    "train_h_seqs = list(train_df[\"heavy\"])\n",
    "train_labels = list(train_df[\"Y\"])\n",
    "len(train_h_seqs)"
   ]
  },
  {
   "cell_type": "code",
   "execution_count": 72,
   "id": "4f0db291-c08a-490d-a3a5-884e0e483a10",
   "metadata": {},
   "outputs": [
    {
     "data": {
      "text/plain": [
       "239"
      ]
     },
     "execution_count": 72,
     "metadata": {},
     "output_type": "execute_result"
    }
   ],
   "source": [
    "test_h_seqs = list(test_df[\"heavy\"])\n",
    "test_labels = list(test_df[\"Y\"])\n",
    "len(test_h_seqs)"
   ]
  },
  {
   "cell_type": "code",
   "execution_count": 6,
   "id": "3ae07921-ca44-427f-88e7-00c844a83cd0",
   "metadata": {},
   "outputs": [],
   "source": [
    "from jax.experimental.optimizers import adam\n",
    "from jax import grad, jit"
   ]
  },
  {
   "cell_type": "code",
   "execution_count": 7,
   "id": "d711ea43-5b60-4c7a-be36-e22e94d3ad10",
   "metadata": {},
   "outputs": [],
   "source": [
    "from jax_unirep.utils import seq_to_oh\n",
    "from jax_unirep.utils import load_params"
   ]
  },
  {
   "cell_type": "code",
   "execution_count": 8,
   "id": "0b02702e-b346-4e3d-9961-000f0bf03d41",
   "metadata": {},
   "outputs": [],
   "source": [
    "init_fun, apply_fun = serial(\n",
    "    AAEmbedding(10),\n",
    "    mLSTM(1900),\n",
    "    mLSTMAvgHidden(),\n",
    "    Dense(512), \n",
    "    elementwise(relu),\n",
    "    Dense(1),\n",
    "    elementwise(sigmoid)\n",
    ")"
   ]
  },
  {
   "cell_type": "code",
   "execution_count": 9,
   "id": "eb107ded-ee3b-4dfc-a030-c00f15d3c2f6",
   "metadata": {},
   "outputs": [],
   "source": [
    "rng_key = random.PRNGKey(0)\n",
    "\n",
    "batch_size = 1\n",
    "num_classes = 2\n",
    "#input_shape = (173, 26, batch_size)\n",
    "input_shape = (batch_size, 173, 26)\n",
    "step_size = 0.1\n",
    "num_steps = 10"
   ]
  },
  {
   "cell_type": "code",
   "execution_count": 10,
   "id": "ad938d62-7df4-48aa-9532-06c092046983",
   "metadata": {},
   "outputs": [],
   "source": [
    "_, init_params = init_fun(rng_key, input_shape)\n",
    "params = load_params(paper_weights=1900)"
   ]
  },
  {
   "cell_type": "code",
   "execution_count": 105,
   "id": "dbca07b3-0b42-4698-95f3-dcc0dda7ce79",
   "metadata": {},
   "outputs": [],
   "source": [
    "def loss(params, batch):\n",
    "    inputs, targets = batch\n",
    "    #print(inputs.shape)\n",
    "    logits = apply_fun(params, inputs)\n",
    "    #print(logits.shape)\n",
    "    \n",
    "    log_p = jax.nn.log_sigmoid(logits)\n",
    "    log_not_p = jax.nn.log_sigmoid(1-logits)\n",
    "    #cross_entropy = -targets * np.log(logits) - (1 - targets)*np.log(1 - logits)\n",
    "    res = -targets * log_p - (1. - targets) * log_not_p\n",
    "    #print(type(res))\n",
    "    #print(res)\n",
    "    #return res.mean()\n",
    "    return res\n",
    "    \n",
    "    #return -targets * log_p - (1. - targets) * log_not_p"
   ]
  },
  {
   "cell_type": "code",
   "execution_count": 106,
   "id": "5cf4e2f5-5c6f-4df4-9d23-183989930315",
   "metadata": {},
   "outputs": [],
   "source": [
    "def pad_seq(seq, max_len=171):\n",
    "    if len(seq) < max_len:\n",
    "        seq = seq + \"-\" * (max_len - len(seq))\n",
    "    return seq"
   ]
  },
  {
   "cell_type": "code",
   "execution_count": 101,
   "id": "fc707c84-d8b9-4beb-9188-95c63d7267d7",
   "metadata": {},
   "outputs": [],
   "source": [
    "train_h_seqs = [pad_seq(seq) for seq in train_h_seqs]\n",
    "test_h_seqs = [pad_seq(seq) for seq in test_h_seqs]"
   ]
  },
  {
   "cell_type": "code",
   "execution_count": 102,
   "id": "c8416d6b-7ef0-4193-8de7-2a703bb8e3ba",
   "metadata": {},
   "outputs": [],
   "source": [
    "def get_batches():\n",
    "    oh_seqs = [seq_to_oh(seq) for seq in train_h_seqs]\n",
    "    labels = train_labels\n",
    "    num_batches = len(labels) // batch_size\n",
    "    for i in range(num_batches):\n",
    "        #x = np.swapaxes(np.swapaxes(np.asarray(oh_seqs[i*batch_size : (i+1)*batch_size]), 0, 1), 1, 2)\n",
    "        #x = np.asarray(oh_seqs[i*batch_size : (i+1)*batch_size])\n",
    "        #x = np.swapaxes(np.asarray(oh_seqs[i*batch_size : (i+1)*batch_size]), 0,1)\n",
    "        x = np.asarray(oh_seqs[i])#.transpose()\n",
    "        yield x, np.asarray(labels[i*batch_size : (i+1)*batch_size])\n",
    "    "
   ]
  },
  {
   "cell_type": "code",
   "execution_count": 103,
   "id": "220529ec-42b8-4196-9fc5-29119fff9989",
   "metadata": {},
   "outputs": [],
   "source": [
    "opt_init, opt_update, get_params = adam(step_size)\n",
    "batches = get_batches()"
   ]
  },
  {
   "cell_type": "code",
   "execution_count": 107,
   "id": "0c9b4258-2712-46fa-8622-a1f352a8b39a",
   "metadata": {},
   "outputs": [],
   "source": [
    "@jit\n",
    "def update(i, opt_state, batch):\n",
    "    params = get_params(opt_state)\n",
    "    l = loss(params, batch)\n",
    "    print(l.shape)\n",
    "    return opt_update(i, grad(loss)(params, batch), opt_state)"
   ]
  },
  {
   "cell_type": "code",
   "execution_count": 108,
   "id": "38a578f8-1998-4493-a947-59c7cf6be2e3",
   "metadata": {},
   "outputs": [],
   "source": [
    "#opt_state = opt_init(init_params)\n",
    "opt_state = opt_init(params)"
   ]
  },
  {
   "cell_type": "code",
   "execution_count": 109,
   "id": "53ac6f9c-348c-4dc2-b369-cb06097eae10",
   "metadata": {},
   "outputs": [
    {
     "name": "stdout",
     "output_type": "stream",
     "text": [
      "(25,)\n"
     ]
    },
    {
     "ename": "TypeError",
     "evalue": "Gradient only defined for scalar-output functions. Output had shape: (25,).",
     "output_type": "error",
     "traceback": [
      "\u001b[0;31m---------------------------------------------------------------------------\u001b[0m",
      "\u001b[0;31mTypeError\u001b[0m                                 Traceback (most recent call last)",
      "\u001b[0;32m/var/folders/61/hfd5m2p90t73_dwqrjbrpyk80000gn/T/ipykernel_30615/3879238366.py\u001b[0m in \u001b[0;36m<module>\u001b[0;34m\u001b[0m\n\u001b[1;32m      1\u001b[0m \u001b[0;32mfor\u001b[0m \u001b[0mi\u001b[0m \u001b[0;32min\u001b[0m \u001b[0mrange\u001b[0m\u001b[0;34m(\u001b[0m\u001b[0mnum_steps\u001b[0m\u001b[0;34m)\u001b[0m\u001b[0;34m:\u001b[0m\u001b[0;34m\u001b[0m\u001b[0;34m\u001b[0m\u001b[0m\n\u001b[0;32m----> 2\u001b[0;31m     \u001b[0mopt_state\u001b[0m \u001b[0;34m=\u001b[0m \u001b[0mupdate\u001b[0m\u001b[0;34m(\u001b[0m\u001b[0mi\u001b[0m\u001b[0;34m,\u001b[0m \u001b[0mopt_state\u001b[0m\u001b[0;34m,\u001b[0m \u001b[0mnext\u001b[0m\u001b[0;34m(\u001b[0m\u001b[0mbatches\u001b[0m\u001b[0;34m)\u001b[0m\u001b[0;34m)\u001b[0m\u001b[0;34m\u001b[0m\u001b[0;34m\u001b[0m\u001b[0m\n\u001b[0m\u001b[1;32m      3\u001b[0m \u001b[0mtrained_params\u001b[0m \u001b[0;34m=\u001b[0m \u001b[0mget_params\u001b[0m\u001b[0;34m(\u001b[0m\u001b[0mopt_state\u001b[0m\u001b[0;34m)\u001b[0m\u001b[0;34m\u001b[0m\u001b[0;34m\u001b[0m\u001b[0m\n",
      "    \u001b[0;31m[... skipping hidden 15 frame]\u001b[0m\n",
      "\u001b[0;32m/var/folders/61/hfd5m2p90t73_dwqrjbrpyk80000gn/T/ipykernel_30615/344363442.py\u001b[0m in \u001b[0;36mupdate\u001b[0;34m(i, opt_state, batch)\u001b[0m\n\u001b[1;32m      4\u001b[0m     \u001b[0ml\u001b[0m \u001b[0;34m=\u001b[0m \u001b[0mloss\u001b[0m\u001b[0;34m(\u001b[0m\u001b[0mparams\u001b[0m\u001b[0;34m,\u001b[0m \u001b[0mbatch\u001b[0m\u001b[0;34m)\u001b[0m\u001b[0;34m\u001b[0m\u001b[0;34m\u001b[0m\u001b[0m\n\u001b[1;32m      5\u001b[0m     \u001b[0mprint\u001b[0m\u001b[0;34m(\u001b[0m\u001b[0ml\u001b[0m\u001b[0;34m.\u001b[0m\u001b[0mshape\u001b[0m\u001b[0;34m)\u001b[0m\u001b[0;34m\u001b[0m\u001b[0;34m\u001b[0m\u001b[0m\n\u001b[0;32m----> 6\u001b[0;31m     \u001b[0;32mreturn\u001b[0m \u001b[0mopt_update\u001b[0m\u001b[0;34m(\u001b[0m\u001b[0mi\u001b[0m\u001b[0;34m,\u001b[0m \u001b[0mgrad\u001b[0m\u001b[0;34m(\u001b[0m\u001b[0mloss\u001b[0m\u001b[0;34m)\u001b[0m\u001b[0;34m(\u001b[0m\u001b[0mparams\u001b[0m\u001b[0;34m,\u001b[0m \u001b[0mbatch\u001b[0m\u001b[0;34m)\u001b[0m\u001b[0;34m,\u001b[0m \u001b[0mopt_state\u001b[0m\u001b[0;34m)\u001b[0m\u001b[0;34m\u001b[0m\u001b[0;34m\u001b[0m\u001b[0m\n\u001b[0m",
      "    \u001b[0;31m[... skipping hidden 4 frame]\u001b[0m\n",
      "\u001b[0;32m~/opt/anaconda3/envs/unirep/lib/python3.7/site-packages/jax/_src/api.py\u001b[0m in \u001b[0;36m_check_scalar\u001b[0;34m(x)\u001b[0m\n\u001b[1;32m   1080\u001b[0m     \u001b[0;32mif\u001b[0m \u001b[0misinstance\u001b[0m\u001b[0;34m(\u001b[0m\u001b[0maval\u001b[0m\u001b[0;34m,\u001b[0m \u001b[0mShapedArray\u001b[0m\u001b[0;34m)\u001b[0m\u001b[0;34m:\u001b[0m\u001b[0;34m\u001b[0m\u001b[0;34m\u001b[0m\u001b[0m\n\u001b[1;32m   1081\u001b[0m       \u001b[0;32mif\u001b[0m \u001b[0maval\u001b[0m\u001b[0;34m.\u001b[0m\u001b[0mshape\u001b[0m \u001b[0;34m!=\u001b[0m \u001b[0;34m(\u001b[0m\u001b[0;34m)\u001b[0m\u001b[0;34m:\u001b[0m\u001b[0;34m\u001b[0m\u001b[0;34m\u001b[0m\u001b[0m\n\u001b[0;32m-> 1082\u001b[0;31m         \u001b[0;32mraise\u001b[0m \u001b[0mTypeError\u001b[0m\u001b[0;34m(\u001b[0m\u001b[0mmsg\u001b[0m\u001b[0;34m(\u001b[0m\u001b[0;34mf\"had shape: {aval.shape}\"\u001b[0m\u001b[0;34m)\u001b[0m\u001b[0;34m)\u001b[0m\u001b[0;34m\u001b[0m\u001b[0;34m\u001b[0m\u001b[0m\n\u001b[0m\u001b[1;32m   1083\u001b[0m     \u001b[0;32melse\u001b[0m\u001b[0;34m:\u001b[0m\u001b[0;34m\u001b[0m\u001b[0;34m\u001b[0m\u001b[0m\n\u001b[1;32m   1084\u001b[0m       \u001b[0;32mraise\u001b[0m \u001b[0mTypeError\u001b[0m\u001b[0;34m(\u001b[0m\u001b[0mmsg\u001b[0m\u001b[0;34m(\u001b[0m\u001b[0;34mf\"had abstract value {aval}\"\u001b[0m\u001b[0;34m)\u001b[0m\u001b[0;34m)\u001b[0m\u001b[0;34m\u001b[0m\u001b[0;34m\u001b[0m\u001b[0m\n",
      "\u001b[0;31mTypeError\u001b[0m: Gradient only defined for scalar-output functions. Output had shape: (25,)."
     ]
    }
   ],
   "source": [
    "for i in range(num_steps):\n",
    "    opt_state = update(i, opt_state, next(batches))\n",
    "trained_params = get_params(opt_state)"
   ]
  },
  {
   "cell_type": "code",
   "execution_count": 95,
   "id": "e400384d-b557-43d9-bf29-94548b356e9f",
   "metadata": {},
   "outputs": [
    {
     "data": {
      "text/plain": [
       "DeviceArray([0., 0., 0., 0., 0., 0., 0., 0., 0., 0., 0., 0., 0., 0., 0.,\n",
       "             0., 0., 0., 0., 0., 0., 0., 0., 0., 0.], dtype=float32)"
      ]
     },
     "execution_count": 95,
     "metadata": {},
     "output_type": "execute_result"
    }
   ],
   "source": [
    "test_oh_seqs = [seq_to_oh(seq) for seq in test_h_seqs]\n",
    "\n",
    "apply_fun(trained_params, test_oh_seqs[0])"
   ]
  },
  {
   "cell_type": "code",
   "execution_count": 96,
   "id": "a2a74b97-58b8-435d-bdb4-a06680d32811",
   "metadata": {},
   "outputs": [
    {
     "data": {
      "text/plain": [
       "(25,)"
      ]
     },
     "execution_count": 96,
     "metadata": {},
     "output_type": "execute_result"
    }
   ],
   "source": [
    "apply_fun(trained_params, test_oh_seqs[0]).shape"
   ]
  },
  {
   "cell_type": "code",
   "execution_count": null,
   "id": "10165f2f-8898-463d-838c-0322bcd8c549",
   "metadata": {},
   "outputs": [],
   "source": []
  }
 ],
 "metadata": {
  "kernelspec": {
   "display_name": "Python 3 (ipykernel)",
   "language": "python",
   "name": "python3"
  },
  "language_info": {
   "codemirror_mode": {
    "name": "ipython",
    "version": 3
   },
   "file_extension": ".py",
   "mimetype": "text/x-python",
   "name": "python",
   "nbconvert_exporter": "python",
   "pygments_lexer": "ipython3",
   "version": "3.7.11"
  }
 },
 "nbformat": 4,
 "nbformat_minor": 5
}
