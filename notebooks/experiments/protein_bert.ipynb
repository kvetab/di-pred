{
 "cells": [
  {
   "cell_type": "code",
   "execution_count": 1,
   "id": "46de4b61-9432-4737-9f84-d2b352774630",
   "metadata": {},
   "outputs": [],
   "source": [
    "import pandas as pd\n",
    "from tensorflow import keras\n",
    "\n",
    "from sklearn.model_selection import train_test_split\n",
    "\n",
    "from proteinbert import OutputType, OutputSpec, FinetuningModelGenerator, load_pretrained_model, finetune, evaluate_by_len\n",
    "from proteinbert.conv_and_global_attention_model import get_model_with_hidden_layers_as_outputs\n",
    "from os import path\n",
    "import pickle"
   ]
  },
  {
   "cell_type": "code",
   "execution_count": 16,
   "id": "7207ca03-77c3-4e21-9daf-e4dc0b007d6f",
   "metadata": {},
   "outputs": [
    {
     "data": {
      "text/html": [
       "Finishing last run (ID:1b2nhmcq) before initializing another..."
      ],
      "text/plain": [
       "<IPython.core.display.HTML object>"
      ]
     },
     "metadata": {},
     "output_type": "display_data"
    },
    {
     "data": {
      "text/html": [
       "Successfully finished last run (ID:1b2nhmcq). Initializing new run:<br/>"
      ],
      "text/plain": [
       "<IPython.core.display.HTML object>"
      ]
     },
     "metadata": {},
     "output_type": "display_data"
    },
    {
     "data": {
      "text/html": [
       "\n",
       "                    Syncing run <strong><a href=\"https://wandb.ai/kvetab/my-test-project/runs/1gyq6i73\" target=\"_blank\">light-sun-6</a></strong> to <a href=\"https://wandb.ai/kvetab/my-test-project\" target=\"_blank\">Weights & Biases</a> (<a href=\"https://docs.wandb.com/integrations/jupyter.html\" target=\"_blank\">docs</a>).<br/>\n",
       "\n",
       "                "
      ],
      "text/plain": [
       "<IPython.core.display.HTML object>"
      ]
     },
     "metadata": {},
     "output_type": "display_data"
    },
    {
     "data": {
      "text/html": [
       "<button onClick=\"this.nextSibling.style.display='block';this.style.display='none';\">Display W&B run</button><iframe src=\"https://wandb.ai/kvetab/my-test-project/runs/1gyq6i73?jupyter=true\" style=\"border:none;width:100%;height:420px;display:none;\"></iframe>"
      ],
      "text/plain": [
       "<wandb.sdk.wandb_run.Run at 0x7f05482eb550>"
      ]
     },
     "execution_count": 16,
     "metadata": {},
     "output_type": "execute_result"
    }
   ],
   "source": [
    "import wandb\n",
    "from wandb.keras import WandbCallback\n",
    "wandb.init(project=\"my-test-project\", entity=\"kvetab\")"
   ]
  },
  {
   "cell_type": "code",
   "execution_count": 2,
   "id": "170e33c4-f43d-4107-ac8e-f49f7b8639b8",
   "metadata": {},
   "outputs": [],
   "source": [
    "DATA_DIR = \"../../data/\""
   ]
  },
  {
   "cell_type": "code",
   "execution_count": 3,
   "id": "ca433177-b772-4f06-b299-d0881b7f12a3",
   "metadata": {},
   "outputs": [],
   "source": [
    "OUTPUT_TYPE = OutputType(False, 'binary')\n",
    "UNIQUE_LABELS = [0, 1]\n",
    "OUTPUT_SPEC = OutputSpec(OUTPUT_TYPE, UNIQUE_LABELS)"
   ]
  },
  {
   "cell_type": "code",
   "execution_count": 4,
   "id": "59b9bb79-e747-445a-985d-68f32f922316",
   "metadata": {},
   "outputs": [],
   "source": [
    "pretrained_model_generator, input_encoder = load_pretrained_model(\"../../data/protein_bert/\", \"epoch_92400_sample_23500000.pkl\")"
   ]
  },
  {
   "cell_type": "code",
   "execution_count": 5,
   "id": "15c7d9ab-2013-4cdd-82b1-44157cab56ab",
   "metadata": {},
   "outputs": [],
   "source": [
    "#pretrained_model_generator, input_encoder = load_pretrained_model(\"../../data/protein_bert/\", \"checkpoint_2022_01_19.pkl\")"
   ]
  },
  {
   "cell_type": "code",
   "execution_count": 5,
   "id": "e89d8432-0860-431c-8b30-f9e44686f9d5",
   "metadata": {},
   "outputs": [],
   "source": [
    "model_generator = FinetuningModelGenerator(pretrained_model_generator, OUTPUT_SPEC, pretraining_model_manipulation_function = \\\n",
    "        get_model_with_hidden_layers_as_outputs, dropout_rate = 0.5)"
   ]
  },
  {
   "cell_type": "code",
   "execution_count": 6,
   "id": "112bf82b-2866-43b8-9bea-2a300fdf1dc3",
   "metadata": {},
   "outputs": [],
   "source": [
    "training_callbacks = [\n",
    "    keras.callbacks.ReduceLROnPlateau(patience = 1, factor = 0.25, min_lr = 1e-05, verbose = 1),\n",
    "    keras.callbacks.EarlyStopping(patience = 2, restore_best_weights = True)\n",
    "    #WandbCallback()\n",
    "]"
   ]
  },
  {
   "cell_type": "code",
   "execution_count": 7,
   "id": "f6fd92e3-8ed7-43da-9da1-a7454c11a571",
   "metadata": {},
   "outputs": [
    {
     "data": {
      "text/html": [
       "<div>\n",
       "<style scoped>\n",
       "    .dataframe tbody tr th:only-of-type {\n",
       "        vertical-align: middle;\n",
       "    }\n",
       "\n",
       "    .dataframe tbody tr th {\n",
       "        vertical-align: top;\n",
       "    }\n",
       "\n",
       "    .dataframe thead th {\n",
       "        text-align: right;\n",
       "    }\n",
       "</style>\n",
       "<table border=\"1\" class=\"dataframe\">\n",
       "  <thead>\n",
       "    <tr style=\"text-align: right;\">\n",
       "      <th></th>\n",
       "      <th>Antibody_ID</th>\n",
       "      <th>heavy</th>\n",
       "      <th>light</th>\n",
       "      <th>Y</th>\n",
       "    </tr>\n",
       "  </thead>\n",
       "  <tbody>\n",
       "    <tr>\n",
       "      <th>2073</th>\n",
       "      <td>6aod</td>\n",
       "      <td>EVQLVQSGAEVKKPGASVKVSCKASGYTFTGYYMHWVRQAPGQGLE...</td>\n",
       "      <td>DIVMTKSPSSLSASVGDRVTITCRASQGIRNDLGWYQQKPGKAPKR...</td>\n",
       "      <td>0</td>\n",
       "    </tr>\n",
       "    <tr>\n",
       "      <th>1517</th>\n",
       "      <td>4yny</td>\n",
       "      <td>EVQLVESGGGLVQPGRSLKLSCAASGFTFSNYGMAWVRQTPTKGLE...</td>\n",
       "      <td>EFVLTQPNSVSTNLGSTVKLSCKRSTGNIGSNYVNWYQQHEGRSPT...</td>\n",
       "      <td>1</td>\n",
       "    </tr>\n",
       "    <tr>\n",
       "      <th>2025</th>\n",
       "      <td>5xcv</td>\n",
       "      <td>EVQLVESGGGLVQPGRSLKLSCAASGFTFSNYGMAWVRQTPTKGLE...</td>\n",
       "      <td>QFVLTQPNSVSTNLGSTVKLSCKRSTGNIGSNYVNWYQQHEGRSPT...</td>\n",
       "      <td>1</td>\n",
       "    </tr>\n",
       "    <tr>\n",
       "      <th>2070</th>\n",
       "      <td>6and</td>\n",
       "      <td>EVQLVESGGGLVQPGGSLRLSCAASGYEFSRSWMNWVRQAPGKGLE...</td>\n",
       "      <td>DIQMTQSPSSLSASVGDRVTITCRSSQSIVHSVGNTFLEWYQQKPG...</td>\n",
       "      <td>1</td>\n",
       "    </tr>\n",
       "    <tr>\n",
       "      <th>666</th>\n",
       "      <td>2xqy</td>\n",
       "      <td>QVQLQQPGAELVKPGASVKMSCKASGYSFTSYWMNWVKQRPGRGLE...</td>\n",
       "      <td>DIVLTQSPASLALSLGQRATISCRASKSVSTSGYSYMYWYQQKPGQ...</td>\n",
       "      <td>0</td>\n",
       "    </tr>\n",
       "  </tbody>\n",
       "</table>\n",
       "</div>"
      ],
      "text/plain": [
       "     Antibody_ID                                              heavy  \\\n",
       "2073        6aod  EVQLVQSGAEVKKPGASVKVSCKASGYTFTGYYMHWVRQAPGQGLE...   \n",
       "1517        4yny  EVQLVESGGGLVQPGRSLKLSCAASGFTFSNYGMAWVRQTPTKGLE...   \n",
       "2025        5xcv  EVQLVESGGGLVQPGRSLKLSCAASGFTFSNYGMAWVRQTPTKGLE...   \n",
       "2070        6and  EVQLVESGGGLVQPGGSLRLSCAASGYEFSRSWMNWVRQAPGKGLE...   \n",
       "666         2xqy  QVQLQQPGAELVKPGASVKMSCKASGYSFTSYWMNWVKQRPGRGLE...   \n",
       "\n",
       "                                                  light  Y  \n",
       "2073  DIVMTKSPSSLSASVGDRVTITCRASQGIRNDLGWYQQKPGKAPKR...  0  \n",
       "1517  EFVLTQPNSVSTNLGSTVKLSCKRSTGNIGSNYVNWYQQHEGRSPT...  1  \n",
       "2025  QFVLTQPNSVSTNLGSTVKLSCKRSTGNIGSNYVNWYQQHEGRSPT...  1  \n",
       "2070  DIQMTQSPSSLSASVGDRVTITCRSSQSIVHSVGNTFLEWYQQKPG...  1  \n",
       "666   DIVLTQSPASLALSLGQRATISCRASKSVSTSGYSYMYWYQQKPGQ...  0  "
      ]
     },
     "execution_count": 7,
     "metadata": {},
     "output_type": "execute_result"
    }
   ],
   "source": [
    "train_data = pd.read_csv(path.join(DATA_DIR, \"chen/deduplicated/chen_train_data.csv\"), index_col=0)\n",
    "valid_data = pd.read_csv(path.join(DATA_DIR, \"chen/deduplicated/chen_valid_data.csv\"), index_col=0)\n",
    "test_data = pd.read_csv(path.join(DATA_DIR, \"chen/deduplicated/chen_test_data.csv\"), index_col=0)\n",
    "train_data.head()"
   ]
  },
  {
   "cell_type": "code",
   "execution_count": 8,
   "id": "13d3a01f-a233-4f90-8b8c-6409bafdcaab",
   "metadata": {},
   "outputs": [],
   "source": [
    "train_data[\"seq\"] = train_data[\"heavy\"] + train_data[\"light\"]\n",
    "valid_data[\"seq\"] = valid_data[\"heavy\"] + valid_data[\"light\"]\n",
    "test_data[\"seq\"] = test_data[\"heavy\"] + test_data[\"light\"]"
   ]
  },
  {
   "cell_type": "code",
   "execution_count": 10,
   "id": "4ceab599-bc63-4238-b996-8fb6d70409c7",
   "metadata": {},
   "outputs": [],
   "source": [
    "wandb.config = {\n",
    "  \"learning_rate\": 1e-04,\n",
    "  \"epochs\": 80,\n",
    "  \"batch_size\": 64\n",
    "}"
   ]
  },
  {
   "cell_type": "code",
   "execution_count": 9,
   "id": "513d219a-b643-406f-ac1d-966ecdf7293c",
   "metadata": {
    "scrolled": true,
    "tags": []
   },
   "outputs": [
    {
     "name": "stdout",
     "output_type": "stream",
     "text": [
      "[2022_01_25-11:35:43] Training set: Filtered out 0 of 1338 (0.0%) records of lengths exceeding 510.\n",
      "[2022_01_25-11:35:43] Validation set: Filtered out 0 of 120 (0.0%) records of lengths exceeding 510.\n",
      "[2022_01_25-11:35:43] Training with frozen pretrained layers...\n"
     ]
    },
    {
     "name": "stderr",
     "output_type": "stream",
     "text": [
      "2022-01-25 11:35:43.604370: E tensorflow/stream_executor/cuda/cuda_driver.cc:271] failed call to cuInit: CUDA_ERROR_NO_DEVICE: no CUDA-capable device is detected\n",
      "/home/brazdilv/.conda/envs/tf-gpu/lib/python3.7/site-packages/keras/optimizer_v2/adam.py:105: UserWarning: The `lr` argument is deprecated, use `learning_rate` instead.\n",
      "  super(Adam, self).__init__(name, **kwargs)\n"
     ]
    },
    {
     "name": "stdout",
     "output_type": "stream",
     "text": [
      "Epoch 1/40\n",
      "42/42 [==============================] - 88s 2s/step - loss: 0.7930 - val_loss: 0.5215 - lr: 0.0100\n",
      "Epoch 2/40\n",
      "42/42 [==============================] - 75s 2s/step - loss: 0.5365 - val_loss: 0.4679 - lr: 0.0100\n",
      "Epoch 3/40\n",
      "42/42 [==============================] - ETA: 0s - loss: 0.4428\n",
      "Epoch 00003: ReduceLROnPlateau reducing learning rate to 0.0024999999441206455.\n",
      "42/42 [==============================] - 75s 2s/step - loss: 0.4428 - val_loss: 0.4877 - lr: 0.0100\n",
      "Epoch 4/40\n",
      "42/42 [==============================] - 77s 2s/step - loss: 0.4378 - val_loss: 0.4448 - lr: 0.0025\n",
      "Epoch 5/40\n",
      "42/42 [==============================] - ETA: 0s - loss: 0.4176\n",
      "Epoch 00005: ReduceLROnPlateau reducing learning rate to 0.0006249999860301614.\n",
      "42/42 [==============================] - 75s 2s/step - loss: 0.4176 - val_loss: 0.4459 - lr: 0.0025\n",
      "Epoch 6/40\n",
      "42/42 [==============================] - 75s 2s/step - loss: 0.4228 - val_loss: 0.4297 - lr: 6.2500e-04\n",
      "Epoch 7/40\n",
      "42/42 [==============================] - 75s 2s/step - loss: 0.4171 - val_loss: 0.4286 - lr: 6.2500e-04\n",
      "Epoch 8/40\n",
      "42/42 [==============================] - 75s 2s/step - loss: 0.4154 - val_loss: 0.4285 - lr: 6.2500e-04\n",
      "Epoch 9/40\n",
      "42/42 [==============================] - ETA: 0s - loss: 0.4141\n",
      "Epoch 00009: ReduceLROnPlateau reducing learning rate to 0.00015624999650754035.\n",
      "42/42 [==============================] - 76s 2s/step - loss: 0.4141 - val_loss: 0.4338 - lr: 6.2500e-04\n",
      "Epoch 10/40\n",
      "42/42 [==============================] - 75s 2s/step - loss: 0.4130 - val_loss: 0.4274 - lr: 1.5625e-04\n",
      "Epoch 11/40\n",
      "42/42 [==============================] - 75s 2s/step - loss: 0.4094 - val_loss: 0.4271 - lr: 1.5625e-04\n",
      "Epoch 12/40\n",
      "42/42 [==============================] - ETA: 0s - loss: 0.4118\n",
      "Epoch 00012: ReduceLROnPlateau reducing learning rate to 3.9062499126885086e-05.\n",
      "42/42 [==============================] - 76s 2s/step - loss: 0.4118 - val_loss: 0.4271 - lr: 1.5625e-04\n",
      "Epoch 13/40\n",
      "42/42 [==============================] - ETA: 0s - loss: 0.4063\n",
      "Epoch 00013: ReduceLROnPlateau reducing learning rate to 1e-05.\n",
      "42/42 [==============================] - 75s 2s/step - loss: 0.4063 - val_loss: 0.4273 - lr: 3.9062e-05\n",
      "Epoch 14/40\n",
      "42/42 [==============================] - 75s 2s/step - loss: 0.4056 - val_loss: 0.4270 - lr: 1.0000e-05\n",
      "Epoch 15/40\n",
      "42/42 [==============================] - 75s 2s/step - loss: 0.4043 - val_loss: 0.4270 - lr: 1.0000e-05\n",
      "Epoch 16/40\n",
      "42/42 [==============================] - 75s 2s/step - loss: 0.4104 - val_loss: 0.4270 - lr: 1.0000e-05\n",
      "Epoch 17/40\n",
      "42/42 [==============================] - 77s 2s/step - loss: 0.3965 - val_loss: 0.4269 - lr: 1.0000e-05\n",
      "Epoch 18/40\n",
      "42/42 [==============================] - 76s 2s/step - loss: 0.4003 - val_loss: 0.4269 - lr: 1.0000e-05\n",
      "Epoch 19/40\n",
      "42/42 [==============================] - 76s 2s/step - loss: 0.4071 - val_loss: 0.4269 - lr: 1.0000e-05\n",
      "Epoch 20/40\n",
      "42/42 [==============================] - 75s 2s/step - loss: 0.4044 - val_loss: 0.4268 - lr: 1.0000e-05\n",
      "Epoch 21/40\n",
      "42/42 [==============================] - 75s 2s/step - loss: 0.4058 - val_loss: 0.4267 - lr: 1.0000e-05\n",
      "Epoch 22/40\n",
      "42/42 [==============================] - 75s 2s/step - loss: 0.4089 - val_loss: 0.4267 - lr: 1.0000e-05\n",
      "Epoch 23/40\n",
      "42/42 [==============================] - 75s 2s/step - loss: 0.4012 - val_loss: 0.4267 - lr: 1.0000e-05\n",
      "Epoch 24/40\n",
      "42/42 [==============================] - 75s 2s/step - loss: 0.3996 - val_loss: 0.4267 - lr: 1.0000e-05\n",
      "Epoch 25/40\n",
      "42/42 [==============================] - 75s 2s/step - loss: 0.4112 - val_loss: 0.4267 - lr: 1.0000e-05\n",
      "[2022_01_25-12:07:22] Training the entire fine-tuned model...\n",
      "[2022_01_25-12:07:32] Incompatible number of optimizer weights - will not initialize them.\n",
      "Epoch 1/40\n",
      "42/42 [==============================] - 243s 6s/step - loss: 0.4154 - val_loss: 0.4198 - lr: 1.0000e-04\n",
      "Epoch 2/40\n",
      "42/42 [==============================] - 230s 5s/step - loss: 0.4102 - val_loss: 0.4127 - lr: 1.0000e-04\n",
      "Epoch 3/40\n",
      "42/42 [==============================] - ETA: 0s - loss: 0.3971\n",
      "Epoch 00003: ReduceLROnPlateau reducing learning rate to 2.499999936844688e-05.\n",
      "42/42 [==============================] - 234s 6s/step - loss: 0.3971 - val_loss: 0.4148 - lr: 1.0000e-04\n",
      "Epoch 4/40\n",
      "42/42 [==============================] - 236s 6s/step - loss: 0.3645 - val_loss: 0.4027 - lr: 2.5000e-05\n",
      "Epoch 5/40\n",
      "42/42 [==============================] - 235s 6s/step - loss: 0.3641 - val_loss: 0.3995 - lr: 2.5000e-05\n",
      "Epoch 6/40\n",
      "42/42 [==============================] - ETA: 0s - loss: 0.3505\n",
      "Epoch 00006: ReduceLROnPlateau reducing learning rate to 1e-05.\n",
      "42/42 [==============================] - 234s 6s/step - loss: 0.3505 - val_loss: 0.4006 - lr: 2.5000e-05\n",
      "Epoch 7/40\n",
      "42/42 [==============================] - 235s 6s/step - loss: 0.3573 - val_loss: 0.3964 - lr: 1.0000e-05\n",
      "Epoch 8/40\n",
      "42/42 [==============================] - 236s 6s/step - loss: 0.3488 - val_loss: 0.3949 - lr: 1.0000e-05\n",
      "Epoch 9/40\n",
      "42/42 [==============================] - 233s 6s/step - loss: 0.3465 - val_loss: 0.3932 - lr: 1.0000e-05\n",
      "Epoch 10/40\n",
      "42/42 [==============================] - 235s 6s/step - loss: 0.3407 - val_loss: 0.3970 - lr: 1.0000e-05\n",
      "Epoch 11/40\n",
      "42/42 [==============================] - 236s 6s/step - loss: 0.3416 - val_loss: 0.3922 - lr: 1.0000e-05\n",
      "Epoch 12/40\n",
      "42/42 [==============================] - 240s 6s/step - loss: 0.3377 - val_loss: 0.3923 - lr: 1.0000e-05\n",
      "Epoch 13/40\n",
      "42/42 [==============================] - 233s 6s/step - loss: 0.3372 - val_loss: 0.3890 - lr: 1.0000e-05\n",
      "Epoch 14/40\n",
      "42/42 [==============================] - 236s 6s/step - loss: 0.3373 - val_loss: 0.3903 - lr: 1.0000e-05\n",
      "Epoch 15/40\n",
      "42/42 [==============================] - 237s 6s/step - loss: 0.3263 - val_loss: 0.3943 - lr: 1.0000e-05\n",
      "[2022_01_25-13:06:25] Training on final epochs of sequence length 1024...\n",
      "[2022_01_25-13:06:25] Training set: Filtered out 0 of 1338 (0.0%) records of lengths exceeding 1022.\n",
      "[2022_01_25-13:06:25] Validation set: Filtered out 0 of 120 (0.0%) records of lengths exceeding 1022.\n",
      "84/84 [==============================] - 467s 5s/step - loss: 0.3548 - val_loss: 0.3928 - lr: 1.0000e-05\n"
     ]
    }
   ],
   "source": [
    "finetune(model_generator, input_encoder, OUTPUT_SPEC, train_data['seq'], train_data['Y'], valid_data['seq'], valid_data['Y'], \\\n",
    "        seq_len = 512, batch_size = 32, max_epochs_per_stage = 40, lr = 1e-04, begin_with_frozen_pretrained_layers = True, \\\n",
    "        lr_with_frozen_pretrained_layers = 1e-02, n_final_epochs = 1, final_seq_len = 1024, final_lr = 1e-05, callbacks = training_callbacks)"
   ]
  },
  {
   "cell_type": "code",
   "execution_count": 10,
   "id": "7ca778fa-d9a6-41d1-b4ab-8b280a05c590",
   "metadata": {},
   "outputs": [],
   "source": [
    "results, confusion_matrix = evaluate_by_len(model_generator, input_encoder, OUTPUT_SPEC, test_data['seq'], test_data['Y'], \\\n",
    "        start_seq_len = 512, start_batch_size = 32)"
   ]
  },
  {
   "cell_type": "code",
   "execution_count": null,
   "id": "d2586115-2430-4fcd-8fc0-188c41abaafb",
   "metadata": {},
   "outputs": [],
   "source": [
    "# fine tuned loaded\n",
    "results, confusion_matrix = evaluate_by_len(pretrained_model_generator, input_encoder, OUTPUT_SPEC, test_data['seq'], test_data['Y'], \\\n",
    "        start_seq_len = 512, start_batch_size = 32)"
   ]
  },
  {
   "cell_type": "code",
   "execution_count": 11,
   "id": "75e592d1-75bb-490a-a91e-9a6d3f4f6972",
   "metadata": {},
   "outputs": [
    {
     "name": "stdout",
     "output_type": "stream",
     "text": [
      "Test-set performance:\n"
     ]
    },
    {
     "data": {
      "text/html": [
       "<div>\n",
       "<style scoped>\n",
       "    .dataframe tbody tr th:only-of-type {\n",
       "        vertical-align: middle;\n",
       "    }\n",
       "\n",
       "    .dataframe tbody tr th {\n",
       "        vertical-align: top;\n",
       "    }\n",
       "\n",
       "    .dataframe thead th {\n",
       "        text-align: right;\n",
       "    }\n",
       "</style>\n",
       "<table border=\"1\" class=\"dataframe\">\n",
       "  <thead>\n",
       "    <tr style=\"text-align: right;\">\n",
       "      <th></th>\n",
       "      <th># records</th>\n",
       "      <th>AUC</th>\n",
       "    </tr>\n",
       "    <tr>\n",
       "      <th>Model seq len</th>\n",
       "      <th></th>\n",
       "      <th></th>\n",
       "    </tr>\n",
       "  </thead>\n",
       "  <tbody>\n",
       "    <tr>\n",
       "      <th>512</th>\n",
       "      <td>119</td>\n",
       "      <td>0.936821</td>\n",
       "    </tr>\n",
       "    <tr>\n",
       "      <th>All</th>\n",
       "      <td>119</td>\n",
       "      <td>0.936821</td>\n",
       "    </tr>\n",
       "  </tbody>\n",
       "</table>\n",
       "</div>"
      ],
      "text/plain": [
       "               # records       AUC\n",
       "Model seq len                     \n",
       "512                  119  0.936821\n",
       "All                  119  0.936821"
      ]
     },
     "metadata": {},
     "output_type": "display_data"
    },
    {
     "name": "stdout",
     "output_type": "stream",
     "text": [
      "Confusion matrix:\n"
     ]
    },
    {
     "data": {
      "text/html": [
       "<div>\n",
       "<style scoped>\n",
       "    .dataframe tbody tr th:only-of-type {\n",
       "        vertical-align: middle;\n",
       "    }\n",
       "\n",
       "    .dataframe tbody tr th {\n",
       "        vertical-align: top;\n",
       "    }\n",
       "\n",
       "    .dataframe thead th {\n",
       "        text-align: right;\n",
       "    }\n",
       "</style>\n",
       "<table border=\"1\" class=\"dataframe\">\n",
       "  <thead>\n",
       "    <tr style=\"text-align: right;\">\n",
       "      <th></th>\n",
       "      <th>0</th>\n",
       "      <th>1</th>\n",
       "    </tr>\n",
       "  </thead>\n",
       "  <tbody>\n",
       "    <tr>\n",
       "      <th>0</th>\n",
       "      <td>85</td>\n",
       "      <td>11</td>\n",
       "    </tr>\n",
       "    <tr>\n",
       "      <th>1</th>\n",
       "      <td>8</td>\n",
       "      <td>15</td>\n",
       "    </tr>\n",
       "  </tbody>\n",
       "</table>\n",
       "</div>"
      ],
      "text/plain": [
       "    0   1\n",
       "0  85  11\n",
       "1   8  15"
      ]
     },
     "metadata": {},
     "output_type": "display_data"
    }
   ],
   "source": [
    "print('Test-set performance:')\n",
    "display(results)\n",
    "\n",
    "print('Confusion matrix:')\n",
    "display(confusion_matrix)"
   ]
  },
  {
   "cell_type": "code",
   "execution_count": 32,
   "id": "f4f25be6-07c1-4b82-88c1-13e31f3040b7",
   "metadata": {},
   "outputs": [
    {
     "data": {
      "text/plain": [
       "True"
      ]
     },
     "execution_count": 32,
     "metadata": {},
     "output_type": "execute_result"
    }
   ],
   "source": [
    "model_generator.pretraining_model_generator.optimizer_weights is None"
   ]
  },
  {
   "cell_type": "code",
   "execution_count": 33,
   "id": "d3ecea61-6b7d-4d58-9de4-573d2a69c8cb",
   "metadata": {},
   "outputs": [],
   "source": [
    "to_save = {\n",
    "    \"n_annotations\": model_generator.pretraining_model_generator.n_annotations,\n",
    "    \"model_weights\": model_generator.model_weights,\n",
    "    \"optimizer_weights\": model_generator.optimizer_weights\n",
    "}"
   ]
  },
  {
   "cell_type": "code",
   "execution_count": 36,
   "id": "1d79da64-cd9d-4c13-80bb-581fa4ce125f",
   "metadata": {},
   "outputs": [],
   "source": [
    "with open(path.join(DATA_DIR, \"protein_bert/checkpoint_2022_01_19.pkl\"), 'wb') as f:\n",
    "    pickle.dump(to_save, f)"
   ]
  },
  {
   "cell_type": "code",
   "execution_count": 12,
   "id": "3cedffd7-4882-4f29-879c-9d05936995a0",
   "metadata": {},
   "outputs": [
    {
     "data": {
      "text/plain": [
       "0.6122448979591837"
      ]
     },
     "execution_count": 12,
     "metadata": {},
     "output_type": "execute_result"
    }
   ],
   "source": [
    "f1 = 15 / (15 + 0.5* (11 + 8))\n",
    "# TN / (TN + 0.5 * (FP + FN))\n",
    "f1"
   ]
  },
  {
   "cell_type": "code",
   "execution_count": 16,
   "id": "9f263713-8459-4eee-a37e-5d15fe8a784c",
   "metadata": {},
   "outputs": [],
   "source": [
    "mod = model_generator.create_model(seq_len = 512)"
   ]
  },
  {
   "cell_type": "code",
   "execution_count": 17,
   "id": "a5a9eafe-dcef-4be1-a375-8d200ae7a922",
   "metadata": {},
   "outputs": [
    {
     "name": "stderr",
     "output_type": "stream",
     "text": [
      "2022-01-25 15:36:30.188640: W tensorflow/python/util/util.cc:368] Sets are not currently considered sequences, but this may change in the future, so consider avoiding using them.\n",
      "WARNING:absl:Function `_wrapped_model` contains input name(s) input-seq, input-annotations with unsupported characters which will be renamed to input_seq, input_annotations in the SavedModel.\n"
     ]
    },
    {
     "name": "stdout",
     "output_type": "stream",
     "text": [
      "INFO:tensorflow:Assets written to: ../../data/protein_bert/batch_32_lr_1e-4_2022_01_25.pkl/assets\n"
     ]
    },
    {
     "name": "stderr",
     "output_type": "stream",
     "text": [
      "INFO:tensorflow:Assets written to: ../../data/protein_bert/batch_32_lr_1e-4_2022_01_25.pkl/assets\n",
      "/home/brazdilv/.conda/envs/tf-gpu/lib/python3.7/site-packages/keras/engine/functional.py:1410: CustomMaskWarning: Custom mask layers require a config and must override get_config. When loading, the custom mask layer must be passed to the custom_objects argument.\n",
      "  layer_config = serialize_layer_fn(layer)\n",
      "/home/brazdilv/.conda/envs/tf-gpu/lib/python3.7/site-packages/keras/saving/saved_model/layer_serialization.py:112: CustomMaskWarning: Custom mask layers require a config and must override get_config. When loading, the custom mask layer must be passed to the custom_objects argument.\n",
      "  return generic_utils.serialize_keras_object(obj)\n"
     ]
    }
   ],
   "source": [
    "mod.save(path.join(DATA_DIR, \"protein_bert/batch_32_lr_1e-4_2022_01_25.pkl\"))\n"
   ]
  },
  {
   "cell_type": "code",
   "execution_count": null,
   "id": "bbfa05eb-f86e-4053-95c7-6cd3be27019d",
   "metadata": {},
   "outputs": [],
   "source": [
    "def fine_tune():\n",
    "    model_generator = FinetuningModelGenerator(pretrained_model_generator, OUTPUT_SPEC, pretraining_model_manipulation_function = \\\n",
    "        get_model_with_hidden_layers_as_outputs, dropout_rate = 0.5)"
   ]
  }
 ],
 "metadata": {
  "kernelspec": {
   "display_name": "Python 3 (ipykernel)",
   "language": "python",
   "name": "python3"
  },
  "language_info": {
   "codemirror_mode": {
    "name": "ipython",
    "version": 3
   },
   "file_extension": ".py",
   "mimetype": "text/x-python",
   "name": "python",
   "nbconvert_exporter": "python",
   "pygments_lexer": "ipython3",
   "version": "3.7.10"
  }
 },
 "nbformat": 4,
 "nbformat_minor": 5
}
