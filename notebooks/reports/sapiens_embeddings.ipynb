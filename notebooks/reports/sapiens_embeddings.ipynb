{
 "cells": [
  {
   "cell_type": "code",
   "execution_count": 1,
   "id": "36caf76e-7d5a-4a45-95a9-d4f04dbfe463",
   "metadata": {},
   "outputs": [],
   "source": [
    "import numpy as np\n",
    "from biophi.humanization.methods.sapiens.predict import sapiens_predict_seq, sapiens_predict_chain\n",
    "import pandas as pd\n",
    "import numpy as np\n",
    "import torch\n",
    "from abnumber import Chain"
   ]
  },
  {
   "cell_type": "code",
   "execution_count": 2,
   "id": "60daeb99-3f95-496a-9077-a622d76d61e1",
   "metadata": {},
   "outputs": [],
   "source": [
    "def get_embeds(chain):\n",
    "    pred, extra = sapiens_predict_seq(\n",
    "        seq=chain.seq[:142],\n",
    "        chain_type=chain.chain_type,\n",
    "        return_all_hiddens=True\n",
    "    )\n",
    "    return extra"
   ]
  },
  {
   "cell_type": "code",
   "execution_count": 3,
   "id": "bd4d97da-c002-4078-924a-c33eca6ea358",
   "metadata": {},
   "outputs": [],
   "source": [
    "def embed_seq(seq, layer=4):\n",
    "    #if len(seq) > 142:\n",
    "    #    seq = seq[:142]\n",
    "    if seq == \"QVQLQESGPRLVKPSDTLSLTCTVSGGSITSDSHYWGWVRQSPGKGLEWIASTSDSGSTYHNRPIYYNPSLKSRVTISVATSKNQFSLKLRSVTAADTAMYYCVRQWRYSSGSLDCWGQGILVTVSS\" or seq == \"EPQLQESGPTLVEASETLSLTCAVSGDSTAACNSFWGWVRQPPGKGLEWVGSLSHCASYWNRGWTYHNPSLKSRLTLALDTPKNLVFLKLNSVTAADTATYYCARFGGEVLRYTDWPKPAWVDLWGRGTLVTVSS\":\n",
    "        pred, extra = sapiens_predict_seq(seq, chain_type=\"H\", model_version='latest', return_all_hiddens=True)\n",
    "    else:\n",
    "        ch = Chain(seq, \"imgt\")\n",
    "        extra = get_embeds(ch)\n",
    "    layer_state = extra['inner_states'][layer]\n",
    "    #layer_reduced = torch.mean(fourth, (0, 1))\n",
    "    \n",
    "    return layer_state"
   ]
  },
  {
   "cell_type": "code",
   "execution_count": 4,
   "id": "b70f80e5-808b-4e6c-9e6b-e5a6788004a5",
   "metadata": {},
   "outputs": [
    {
     "data": {
      "text/html": [
       "<div>\n",
       "<style scoped>\n",
       "    .dataframe tbody tr th:only-of-type {\n",
       "        vertical-align: middle;\n",
       "    }\n",
       "\n",
       "    .dataframe tbody tr th {\n",
       "        vertical-align: top;\n",
       "    }\n",
       "\n",
       "    .dataframe thead th {\n",
       "        text-align: right;\n",
       "    }\n",
       "</style>\n",
       "<table border=\"1\" class=\"dataframe\">\n",
       "  <thead>\n",
       "    <tr style=\"text-align: right;\">\n",
       "      <th></th>\n",
       "      <th>Antibody_ID</th>\n",
       "      <th>heavy</th>\n",
       "      <th>light</th>\n",
       "      <th>Y</th>\n",
       "    </tr>\n",
       "  </thead>\n",
       "  <tbody>\n",
       "    <tr>\n",
       "      <th>0</th>\n",
       "      <td>12e8</td>\n",
       "      <td>EVQLQQSGAEVVRSGASVKLSCTASGFNIKDYYIHWVKQRPEKGLE...</td>\n",
       "      <td>DIVMTQSQKFMSTSVGDRVSITCKASQNVGTAVAWYQQKPGQSPKL...</td>\n",
       "      <td>0</td>\n",
       "    </tr>\n",
       "    <tr>\n",
       "      <th>1</th>\n",
       "      <td>15c8</td>\n",
       "      <td>EVQLQQSGAELVKPGASVKLSCTASGFNIKDTYMHWVKQKPEQGLE...</td>\n",
       "      <td>DIVLTQSPAIMSASLGERVTMTCTASSSVSSSNLHWYQQKPGSSPK...</td>\n",
       "      <td>0</td>\n",
       "    </tr>\n",
       "    <tr>\n",
       "      <th>2</th>\n",
       "      <td>1a0q</td>\n",
       "      <td>EVQLQESDAELVKPGASVKISCKASGYTFTDHVIHWVKQKPEQGLE...</td>\n",
       "      <td>DIELTQSPSSLSASLGGKVTITCKASQDIKKYIGWYQHKPGKQPRL...</td>\n",
       "      <td>1</td>\n",
       "    </tr>\n",
       "    <tr>\n",
       "      <th>3</th>\n",
       "      <td>1a14</td>\n",
       "      <td>QVQLQQSGAELVKPGASVRMSCKASGYTFTNYNMYWVKQSPGQGLE...</td>\n",
       "      <td>DIELTQTTSSLSASLGDRVTISCRASQDISNYLNWYQQNPDGTVKL...</td>\n",
       "      <td>0</td>\n",
       "    </tr>\n",
       "    <tr>\n",
       "      <th>4</th>\n",
       "      <td>1a2y</td>\n",
       "      <td>QVQLQESGPGLVAPSQSLSITCTVSGFSLTGYGVNWVRQPPGKGLE...</td>\n",
       "      <td>DIVLTQSPASLSASVGETVTITCRASGNIHNYLAWYQQKQGKSPQL...</td>\n",
       "      <td>0</td>\n",
       "    </tr>\n",
       "  </tbody>\n",
       "</table>\n",
       "</div>"
      ],
      "text/plain": [
       "  Antibody_ID                                              heavy  \\\n",
       "0        12e8  EVQLQQSGAEVVRSGASVKLSCTASGFNIKDYYIHWVKQRPEKGLE...   \n",
       "1        15c8  EVQLQQSGAELVKPGASVKLSCTASGFNIKDTYMHWVKQKPEQGLE...   \n",
       "2        1a0q  EVQLQESDAELVKPGASVKISCKASGYTFTDHVIHWVKQKPEQGLE...   \n",
       "3        1a14  QVQLQQSGAELVKPGASVRMSCKASGYTFTNYNMYWVKQSPGQGLE...   \n",
       "4        1a2y  QVQLQESGPGLVAPSQSLSITCTVSGFSLTGYGVNWVRQPPGKGLE...   \n",
       "\n",
       "                                               light  Y  \n",
       "0  DIVMTQSQKFMSTSVGDRVSITCKASQNVGTAVAWYQQKPGQSPKL...  0  \n",
       "1  DIVLTQSPAIMSASLGERVTMTCTASSSVSSSNLHWYQQKPGSSPK...  0  \n",
       "2  DIELTQSPSSLSASLGGKVTITCKASQDIKKYIGWYQHKPGKQPRL...  1  \n",
       "3  DIELTQTTSSLSASLGDRVTISCRASQDISNYLNWYQQNPDGTVKL...  0  \n",
       "4  DIVLTQSPASLSASVGETVTITCRASGNIHNYLAWYQQKQGKSPQL...  0  "
      ]
     },
     "execution_count": 4,
     "metadata": {},
     "output_type": "execute_result"
    }
   ],
   "source": [
    "chen_data = pd.read_csv(\"../diplomka/di-pred/data/chen/deduplicated/chen_data.csv\", index_col=0)\n",
    "chen_data.head()"
   ]
  },
  {
   "cell_type": "code",
   "execution_count": 5,
   "id": "2a67e7a7-87b1-41bb-a675-4b21edcdaf26",
   "metadata": {},
   "outputs": [],
   "source": [
    "aa_embeddings = {}"
   ]
  },
  {
   "cell_type": "code",
   "execution_count": 7,
   "id": "f1fadd15-f866-4103-95d4-ec2b06e3491c",
   "metadata": {
    "scrolled": true,
    "tags": []
   },
   "outputs": [
    {
     "name": "stdout",
     "output_type": "stream",
     "text": [
      "EVQVVESGGGVVQPGRSLRLSCTASGFTFSNFAMGWVRQAPGKGLEWVAFISSDGSNKNYGDSVKGRFTISRDNSKNTVFLQMNSLRVEDTALYYCAKDVGDYKSDEWGT\n",
      "index 108 is out of bounds for axis 0 with size 108\n"
     ]
    }
   ],
   "source": [
    "for seq in chen_data[\"heavy\"]:\n",
    "    embeds = embed_seq(seq, 4).numpy()\n",
    "    for i, aa in enumerate(seq):\n",
    "        if i > 142:\n",
    "            break\n",
    "        this_aa = aa_embeddings.get(aa, [])\n",
    "        try:\n",
    "            this_aa.append(embeds[i+1][0])\n",
    "            aa_embeddings[aa] = this_aa\n",
    "        except IndexError as e:\n",
    "            print(seq)\n",
    "            print(e)\n",
    "            break"
   ]
  },
  {
   "cell_type": "code",
   "execution_count": 8,
   "id": "4c2e50ee-ee6b-40d3-b004-e54ef8cd5f2e",
   "metadata": {},
   "outputs": [
    {
     "data": {
      "text/plain": [
       "20891"
      ]
     },
     "execution_count": 8,
     "metadata": {},
     "output_type": "execute_result"
    }
   ],
   "source": [
    "len(aa_embeddings[\"G\"])"
   ]
  },
  {
   "cell_type": "code",
   "execution_count": 9,
   "id": "41a09d9f-6dc4-4c11-8cbc-b7ee11cbd6e7",
   "metadata": {},
   "outputs": [],
   "source": [
    "avg_embeddings = {}\n",
    "for aa, embeds in aa_embeddings.items():\n",
    "    avg_embeddings[aa] = np.mean(embeds, axis=0)"
   ]
  },
  {
   "cell_type": "code",
   "execution_count": 10,
   "id": "8eaf0d8e-88d3-497a-a489-8cb33b070164",
   "metadata": {},
   "outputs": [
    {
     "data": {
      "text/plain": [
       "array([ 0.5982515 ,  0.13410734,  0.20607784,  0.4386581 ,  0.37758714,\n",
       "        0.20928387, -0.15174393, -0.54333556, -0.6192946 ,  0.08610747,\n",
       "       -0.04562759, -0.09132405, -0.10046086,  0.61160475, -0.482084  ,\n",
       "        0.12285791,  0.45776454, -0.10156195,  0.13402376,  0.37640473,\n",
       "        0.35484576,  0.02362585, -0.38811383,  0.04754244,  0.07318439,\n",
       "       -0.60552835, -0.64319783, -0.08976725,  0.1171002 ,  0.34133175,\n",
       "       -0.39372635, -0.00894412, -0.33694592,  0.5189189 ,  0.5620063 ,\n",
       "       -0.22051965, -0.5528979 ,  0.12840842,  0.55966127,  0.10147157,\n",
       "        1.1631454 ,  0.37170753,  0.36794403, -0.36457238, -1.1049118 ,\n",
       "        0.08824558, -0.2480651 , -0.3165683 ,  0.4758849 , -0.39972264,\n",
       "       -0.04323062,  0.673232  , -0.3255388 ,  0.0035374 , -0.26010337,\n",
       "        0.3236177 , -0.32332507, -0.01118304,  0.1962856 , -0.8515702 ,\n",
       "        0.10369954, -0.85794926, -0.04025489, -0.13612527,  0.25469393,\n",
       "        0.1841256 ,  0.08090537, -0.26788777,  0.40651327, -0.17795113,\n",
       "       -0.3559136 ,  0.5654004 , -0.24643838,  0.6459831 , -0.34485078,\n",
       "       -0.16225104, -0.02473161, -0.33915383, -0.25364262,  0.03104928,\n",
       "       -0.8231495 ,  0.08357571, -0.20231004, -0.91305643,  0.35151064,\n",
       "       -0.45205098,  0.34778592, -0.01861908, -0.07053759, -0.10617198,\n",
       "       -0.1698712 ,  0.60109574, -0.34198564,  0.2576327 , -0.6252573 ,\n",
       "        0.11610828,  0.17060551, -0.44043025, -0.2562709 , -0.45611686,\n",
       "       -0.11373008, -0.09425676,  0.3242253 , -0.508476  ,  1.1477537 ,\n",
       "       -0.19448109, -0.03397521, -0.23500085, -0.01076653, -0.3475679 ,\n",
       "       -0.2609305 ,  0.7294535 ,  0.1345955 , -0.4575657 , -0.15169658,\n",
       "        1.0184561 , -0.22881542,  0.8855492 , -0.75036174, -0.31899068,\n",
       "       -0.2969487 , -0.24531773, -0.34537676, -0.21490681, -0.6700825 ,\n",
       "        0.03837268, -3.0000162 ,  0.4443593 ], dtype=float32)"
      ]
     },
     "execution_count": 10,
     "metadata": {},
     "output_type": "execute_result"
    }
   ],
   "source": [
    "avg_embeddings[\"G\"]"
   ]
  },
  {
   "cell_type": "code",
   "execution_count": 11,
   "id": "e6e2adb9-f219-4f8f-863a-137996fb8e43",
   "metadata": {},
   "outputs": [],
   "source": [
    "del(aa_embeddings)"
   ]
  },
  {
   "cell_type": "code",
   "execution_count": 12,
   "id": "5bb02f48-24ae-4166-8f7c-94e89fae7bf2",
   "metadata": {},
   "outputs": [],
   "source": [
    "for aa, embeds in avg_embeddings.items():\n",
    "    np.savetxt(f\"../diplomka/di-pred/data/aa_embeds/{aa}.txt\", embeds)"
   ]
  },
  {
   "cell_type": "code",
   "execution_count": 1,
   "id": "1a4afcdc-06bb-4401-b425-da95c4e0679a",
   "metadata": {},
   "outputs": [],
   "source": [
    "import numpy as np \n",
    "import pandas as pd\n",
    "from sklearn.manifold import TSNE\n",
    "import seaborn as sns\n",
    "import matplotlib.pyplot as plt\n",
    "from sklearn.decomposition import PCA\n",
    "from os import path"
   ]
  },
  {
   "cell_type": "code",
   "execution_count": 2,
   "id": "927f75d3-74c8-490e-bbfd-ced4ee9d2b27",
   "metadata": {},
   "outputs": [],
   "source": [
    "DATA_DIR = \"../../data\""
   ]
  },
  {
   "cell_type": "code",
   "execution_count": 4,
   "id": "c4da7210-3db9-4407-8254-9d61a97a4fe3",
   "metadata": {},
   "outputs": [],
   "source": [
    "avg_embeddings = {}\n",
    "for aa in [\"A\", \"C\", \"D\", \"E\", \"F\", \"G\", \"H\", \"I\", \"K\", \"L\", \"M\", \"N\", \"P\", \"Q\", \"R\", \"S\", \"T\", \"V\", \"W\", \"Y\"]:\n",
    "    avg_embeddings[aa] = np.loadtxt(path.join(DATA_DIR, f\"aa_embeds/{aa}.txt\"))"
   ]
  },
  {
   "cell_type": "code",
   "execution_count": 8,
   "id": "0fb76454-2167-4602-adf2-8627c3078526",
   "metadata": {},
   "outputs": [
    {
     "data": {
      "text/plain": [
       "(20, 128)"
      ]
     },
     "execution_count": 8,
     "metadata": {},
     "output_type": "execute_result"
    }
   ],
   "source": [
    "all_aas = np.stack([value for aa, value in avg_embeddings.items()])\n",
    "all_aas.shape"
   ]
  },
  {
   "cell_type": "code",
   "execution_count": 15,
   "id": "c3116c1a-b0fc-40cd-85f1-01bd0b3829c2",
   "metadata": {},
   "outputs": [
    {
     "data": {
      "text/plain": [
       "array([-0.06999911,  0.12572235,  0.50500107,  0.04555972])"
      ]
     },
     "execution_count": 15,
     "metadata": {},
     "output_type": "execute_result"
    }
   ],
   "source": [
    "avg_embeddings[\"E\"][:4]"
   ]
  },
  {
   "cell_type": "code",
   "execution_count": 16,
   "id": "656da08c-0d65-4021-8a94-f82aa30063b8",
   "metadata": {},
   "outputs": [],
   "source": [
    "df = pd.DataFrame(all_aas)\n",
    "df.insert(0, \"AA\", [\"A\", \"C\", \"D\", \"E\", \"F\", \"G\", \"H\", \"I\", \"K\", \"L\", \"M\", \"N\", \"P\", \"Q\", \"R\", \"S\", \"T\", \"V\", \"W\", \"Y\"])"
   ]
  },
  {
   "cell_type": "code",
   "execution_count": 17,
   "id": "f461535e-edd2-4d35-a1a0-a3a1ccff9074",
   "metadata": {},
   "outputs": [
    {
     "data": {
      "text/html": [
       "<div>\n",
       "<style scoped>\n",
       "    .dataframe tbody tr th:only-of-type {\n",
       "        vertical-align: middle;\n",
       "    }\n",
       "\n",
       "    .dataframe tbody tr th {\n",
       "        vertical-align: top;\n",
       "    }\n",
       "\n",
       "    .dataframe thead th {\n",
       "        text-align: right;\n",
       "    }\n",
       "</style>\n",
       "<table border=\"1\" class=\"dataframe\">\n",
       "  <thead>\n",
       "    <tr style=\"text-align: right;\">\n",
       "      <th></th>\n",
       "      <th>AA</th>\n",
       "      <th>0</th>\n",
       "      <th>1</th>\n",
       "      <th>2</th>\n",
       "      <th>3</th>\n",
       "      <th>4</th>\n",
       "      <th>5</th>\n",
       "      <th>6</th>\n",
       "      <th>7</th>\n",
       "      <th>8</th>\n",
       "      <th>...</th>\n",
       "      <th>118</th>\n",
       "      <th>119</th>\n",
       "      <th>120</th>\n",
       "      <th>121</th>\n",
       "      <th>122</th>\n",
       "      <th>123</th>\n",
       "      <th>124</th>\n",
       "      <th>125</th>\n",
       "      <th>126</th>\n",
       "      <th>127</th>\n",
       "    </tr>\n",
       "  </thead>\n",
       "  <tbody>\n",
       "    <tr>\n",
       "      <th>0</th>\n",
       "      <td>A</td>\n",
       "      <td>-0.085962</td>\n",
       "      <td>-0.008316</td>\n",
       "      <td>0.178330</td>\n",
       "      <td>0.016752</td>\n",
       "      <td>0.073978</td>\n",
       "      <td>0.163546</td>\n",
       "      <td>-0.000088</td>\n",
       "      <td>-0.293104</td>\n",
       "      <td>0.048754</td>\n",
       "      <td>...</td>\n",
       "      <td>-0.476999</td>\n",
       "      <td>-0.512411</td>\n",
       "      <td>0.301371</td>\n",
       "      <td>0.159086</td>\n",
       "      <td>0.115479</td>\n",
       "      <td>-0.174416</td>\n",
       "      <td>-0.581010</td>\n",
       "      <td>-0.063700</td>\n",
       "      <td>-3.006306</td>\n",
       "      <td>0.020641</td>\n",
       "    </tr>\n",
       "    <tr>\n",
       "      <th>1</th>\n",
       "      <td>C</td>\n",
       "      <td>-0.080946</td>\n",
       "      <td>-0.151230</td>\n",
       "      <td>0.885428</td>\n",
       "      <td>-0.478934</td>\n",
       "      <td>-0.218426</td>\n",
       "      <td>0.297768</td>\n",
       "      <td>-0.194731</td>\n",
       "      <td>-0.851298</td>\n",
       "      <td>-0.300306</td>\n",
       "      <td>...</td>\n",
       "      <td>-0.423883</td>\n",
       "      <td>-0.412249</td>\n",
       "      <td>0.805094</td>\n",
       "      <td>-0.348605</td>\n",
       "      <td>0.186338</td>\n",
       "      <td>-0.647939</td>\n",
       "      <td>-0.898708</td>\n",
       "      <td>-0.561087</td>\n",
       "      <td>-3.038252</td>\n",
       "      <td>0.042514</td>\n",
       "    </tr>\n",
       "    <tr>\n",
       "      <th>2</th>\n",
       "      <td>D</td>\n",
       "      <td>-0.000720</td>\n",
       "      <td>-0.016567</td>\n",
       "      <td>0.155226</td>\n",
       "      <td>0.076530</td>\n",
       "      <td>0.157009</td>\n",
       "      <td>-0.083082</td>\n",
       "      <td>-0.138282</td>\n",
       "      <td>-0.295558</td>\n",
       "      <td>0.063856</td>\n",
       "      <td>...</td>\n",
       "      <td>-0.151437</td>\n",
       "      <td>0.019031</td>\n",
       "      <td>0.202792</td>\n",
       "      <td>0.005611</td>\n",
       "      <td>0.469985</td>\n",
       "      <td>-0.314752</td>\n",
       "      <td>-0.436408</td>\n",
       "      <td>-0.116348</td>\n",
       "      <td>-3.027245</td>\n",
       "      <td>-0.270519</td>\n",
       "    </tr>\n",
       "    <tr>\n",
       "      <th>3</th>\n",
       "      <td>E</td>\n",
       "      <td>-0.069999</td>\n",
       "      <td>0.125722</td>\n",
       "      <td>0.505001</td>\n",
       "      <td>0.045560</td>\n",
       "      <td>-0.074301</td>\n",
       "      <td>0.187816</td>\n",
       "      <td>-0.175275</td>\n",
       "      <td>-0.499588</td>\n",
       "      <td>0.074093</td>\n",
       "      <td>...</td>\n",
       "      <td>-0.287286</td>\n",
       "      <td>-0.231326</td>\n",
       "      <td>0.103002</td>\n",
       "      <td>0.278571</td>\n",
       "      <td>-0.061662</td>\n",
       "      <td>-0.189246</td>\n",
       "      <td>-0.467575</td>\n",
       "      <td>-0.277627</td>\n",
       "      <td>-2.987581</td>\n",
       "      <td>-0.110687</td>\n",
       "    </tr>\n",
       "    <tr>\n",
       "      <th>4</th>\n",
       "      <td>F</td>\n",
       "      <td>-0.161603</td>\n",
       "      <td>0.038484</td>\n",
       "      <td>0.229177</td>\n",
       "      <td>0.041155</td>\n",
       "      <td>0.297659</td>\n",
       "      <td>0.129874</td>\n",
       "      <td>0.022724</td>\n",
       "      <td>-0.444766</td>\n",
       "      <td>-0.240061</td>\n",
       "      <td>...</td>\n",
       "      <td>-0.055367</td>\n",
       "      <td>-0.100928</td>\n",
       "      <td>0.312706</td>\n",
       "      <td>-0.204234</td>\n",
       "      <td>0.227349</td>\n",
       "      <td>-0.397752</td>\n",
       "      <td>-0.335116</td>\n",
       "      <td>-0.010932</td>\n",
       "      <td>-3.014831</td>\n",
       "      <td>-0.096190</td>\n",
       "    </tr>\n",
       "  </tbody>\n",
       "</table>\n",
       "<p>5 rows × 129 columns</p>\n",
       "</div>"
      ],
      "text/plain": [
       "  AA         0         1         2         3         4         5         6  \\\n",
       "0  A -0.085962 -0.008316  0.178330  0.016752  0.073978  0.163546 -0.000088   \n",
       "1  C -0.080946 -0.151230  0.885428 -0.478934 -0.218426  0.297768 -0.194731   \n",
       "2  D -0.000720 -0.016567  0.155226  0.076530  0.157009 -0.083082 -0.138282   \n",
       "3  E -0.069999  0.125722  0.505001  0.045560 -0.074301  0.187816 -0.175275   \n",
       "4  F -0.161603  0.038484  0.229177  0.041155  0.297659  0.129874  0.022724   \n",
       "\n",
       "          7         8  ...       118       119       120       121       122  \\\n",
       "0 -0.293104  0.048754  ... -0.476999 -0.512411  0.301371  0.159086  0.115479   \n",
       "1 -0.851298 -0.300306  ... -0.423883 -0.412249  0.805094 -0.348605  0.186338   \n",
       "2 -0.295558  0.063856  ... -0.151437  0.019031  0.202792  0.005611  0.469985   \n",
       "3 -0.499588  0.074093  ... -0.287286 -0.231326  0.103002  0.278571 -0.061662   \n",
       "4 -0.444766 -0.240061  ... -0.055367 -0.100928  0.312706 -0.204234  0.227349   \n",
       "\n",
       "        123       124       125       126       127  \n",
       "0 -0.174416 -0.581010 -0.063700 -3.006306  0.020641  \n",
       "1 -0.647939 -0.898708 -0.561087 -3.038252  0.042514  \n",
       "2 -0.314752 -0.436408 -0.116348 -3.027245 -0.270519  \n",
       "3 -0.189246 -0.467575 -0.277627 -2.987581 -0.110687  \n",
       "4 -0.397752 -0.335116 -0.010932 -3.014831 -0.096190  \n",
       "\n",
       "[5 rows x 129 columns]"
      ]
     },
     "execution_count": 17,
     "metadata": {},
     "output_type": "execute_result"
    }
   ],
   "source": [
    "df.head()"
   ]
  },
  {
   "cell_type": "code",
   "execution_count": 25,
   "id": "085deacb-a32c-4ca0-ba5c-ab5950c7ae8a",
   "metadata": {},
   "outputs": [],
   "source": [
    "def plot_tsne(\n",
    "    x, y, components, perplexity, n_iter, metric\n",
    "):\n",
    "    tsne = TSNE(n_components=components, verbose=1, perplexity=perplexity, n_iter=n_iter, metric=metric)\n",
    "    X_embedded = tsne.fit_transform(x)\n",
    "    \n",
    "    df = pd.DataFrame()\n",
    "    df['x'] = X_embedded[:,0]\n",
    "    df['y'] = X_embedded[:,1]\n",
    "    df[\"label\"] = y\n",
    "\n",
    "    plt.figure(figsize=(16,10))\n",
    "    sns.scatterplot(\n",
    "        x=\"x\", y=\"y\",\n",
    "        hue=\"label\",\n",
    "        data=df,\n",
    "        legend=\"full\"\n",
    "    )\n",
    "    for i, txt in enumerate(y):\n",
    "        plt.annotate(txt, (df[\"x\"][i], df[\"y\"][i]))\n",
    "    plt.show()"
   ]
  },
  {
   "cell_type": "code",
   "execution_count": 27,
   "id": "594e132f-daee-4ca2-afcb-d865377de98a",
   "metadata": {},
   "outputs": [
    {
     "name": "stderr",
     "output_type": "stream",
     "text": [
      "/home/brazdilv/.conda/envs/tf-gpu/lib/python3.7/site-packages/sklearn/manifold/_t_sne.py:783: FutureWarning: The default initialization in TSNE will change from 'random' to 'pca' in 1.2.\n",
      "  FutureWarning,\n",
      "/home/brazdilv/.conda/envs/tf-gpu/lib/python3.7/site-packages/sklearn/manifold/_t_sne.py:793: FutureWarning: The default learning rate in TSNE will change from 200.0 to 'auto' in 1.2.\n",
      "  FutureWarning,\n"
     ]
    },
    {
     "name": "stdout",
     "output_type": "stream",
     "text": [
      "[t-SNE] Computing 19 nearest neighbors...\n",
      "[t-SNE] Indexed 20 samples in 0.000s...\n",
      "[t-SNE] Computed neighbors for 20 samples in 0.001s...\n",
      "[t-SNE] Computed conditional probabilities for sample 20 / 20\n",
      "[t-SNE] Mean sigma: 1125899906842624.000000\n",
      "[t-SNE] KL divergence after 250 iterations with early exaggeration: 45.964611\n",
      "[t-SNE] KL divergence after 300 iterations: 0.483512\n"
     ]
    },
    {
     "data": {
      "image/png": "[encoded data removed]",
      "text/plain": [
       "<Figure size 1152x720 with 1 Axes>"
      ]
     },
     "metadata": {
      "needs_background": "light"
     },
     "output_type": "display_data"
    }
   ],
   "source": [
    "plot_tsne(df.drop(\"AA\", axis=1), df[\"AA\"], 2, perplexity=40, n_iter=300, metric=\"euclidean\")"
   ]
  },
  {
   "cell_type": "code",
   "execution_count": 23,
   "id": "84c70592-9b99-4411-8e16-b2decaa65469",
   "metadata": {},
   "outputs": [],
   "source": [
    "def plot_pca(\n",
    "    x, y, components, comp_to_plot=[0,1]\n",
    "):\n",
    "    pca = PCA(n_components=components)\n",
    "    X_pca = pca.fit_transform(x)\n",
    "    \n",
    "    df = pd.DataFrame()\n",
    "    df['x'] = X_pca[:,comp_to_plot[0]]\n",
    "    df['y'] = X_pca[:,comp_to_plot[1]]\n",
    "    df[\"label\"] = y\n",
    "    plt.figure(figsize=(16,10))\n",
    "    sns.scatterplot(\n",
    "        x=\"x\", y=\"y\",\n",
    "        hue=\"label\",\n",
    "        data=df,\n",
    "        legend=\"full\"\n",
    "    )\n",
    "    for i, txt in enumerate(y):\n",
    "        plt.annotate(txt, (df[\"x\"][i], df[\"y\"][i]))\n",
    "    plt.show()\n",
    "    return X_pca"
   ]
  },
  {
   "cell_type": "code",
   "execution_count": 24,
   "id": "23e80c7b-8fd6-4177-8922-bf0f919722ee",
   "metadata": {},
   "outputs": [
    {
     "data": {
      "image/png": "[encoded data removed]",
      "text/plain": [
       "<Figure size 1152x720 with 1 Axes>"
      ]
     },
     "metadata": {
      "needs_background": "light"
     },
     "output_type": "display_data"
    },
    {
     "data": {
      "text/plain": [
       "array([[ 0.19766122,  0.44305602],\n",
       "       [ 3.820386  ,  0.08173168],\n",
       "       [-0.54472711, -0.93149374],\n",
       "       [-0.38384031,  1.02920088],\n",
       "       [-0.23788499, -0.46322411],\n",
       "       [ 0.01664441,  0.52136353],\n",
       "       [-0.47545757, -1.15928307],\n",
       "       [-0.21701792, -0.39225767],\n",
       "       [-0.29989032,  1.32500688],\n",
       "       [ 0.29094924,  0.46525518],\n",
       "       [ 0.00774143, -0.3857101 ],\n",
       "       [-0.34674312, -0.94331156],\n",
       "       [-0.84711987,  0.26626525],\n",
       "       [-0.62938803,  1.3358798 ],\n",
       "       [-0.24532869,  0.57816503],\n",
       "       [-0.29997733,  0.0643017 ],\n",
       "       [-0.14240882, -0.23097855],\n",
       "       [ 0.1324146 ,  0.7942596 ],\n",
       "       [ 0.03318705, -1.23205037],\n",
       "       [ 0.17080016, -1.16617637]])"
      ]
     },
     "execution_count": 24,
     "metadata": {},
     "output_type": "execute_result"
    }
   ],
   "source": [
    "plot_pca(df.drop(\"AA\", axis=1), df[\"AA\"], 2)"
   ]
  },
  {
   "cell_type": "code",
   "execution_count": 28,
   "id": "1d88a881-abdf-42e5-b4f4-bfd28eb4e74c",
   "metadata": {},
   "outputs": [],
   "source": [
    "import umap"
   ]
  },
  {
   "cell_type": "code",
   "execution_count": 36,
   "id": "b61f1e07-bbe5-4818-a2fb-4de70e52848e",
   "metadata": {},
   "outputs": [],
   "source": [
    "def plot_umap(x, y):\n",
    "    reducer = umap.UMAP()\n",
    "    embedding = reducer.fit_transform(x)\n",
    "    \n",
    "    df = pd.DataFrame()\n",
    "    df['x'] = embedding[:, 0]\n",
    "    df['y'] = embedding[:, 1]\n",
    "    df[\"label\"] = y\n",
    "    plt.figure(figsize=(16,10))\n",
    "    sns.scatterplot(\n",
    "        x=\"x\", y=\"y\",\n",
    "        hue=\"label\",\n",
    "        data=df,\n",
    "        legend=\"full\"\n",
    "    )\n",
    "    for i, txt in enumerate(y):\n",
    "        plt.annotate(txt, (df[\"x\"][i], df[\"y\"][i]))\n",
    "    plt.gca().set_aspect('equal', 'datalim')\n",
    "    plt.title('UMAP projection Amino Acids', fontsize=20)\n",
    "    plt.show()"
   ]
  },
  {
   "cell_type": "code",
   "execution_count": 37,
   "id": "bbc12334-1387-400e-adaf-93f9bb6557c9",
   "metadata": {},
   "outputs": [
    {
     "data": {
      "image/png": "[encoded data removed]",
      "text/plain": [
       "<Figure size 1152x720 with 1 Axes>"
      ]
     },
     "metadata": {
      "needs_background": "light"
     },
     "output_type": "display_data"
    }
   ],
   "source": [
    "plot_umap(df.drop(\"AA\", axis=1), df[\"AA\"])"
   ]
  },
  {
   "cell_type": "code",
   "execution_count": null,
   "id": "e50e4406-df94-48f7-a07c-d74eb544240c",
   "metadata": {},
   "outputs": [],
   "source": []
  }
 ],
 "metadata": {
  "kernelspec": {
   "display_name": "Python 3 (ipykernel)",
   "language": "python",
   "name": "python3"
  },
  "language_info": {
   "codemirror_mode": {
    "name": "ipython",
    "version": 3
   },
   "file_extension": ".py",
   "mimetype": "text/x-python",
   "name": "python",
   "nbconvert_exporter": "python",
   "pygments_lexer": "ipython3",
   "version": "3.8.12"
  }
 },
 "nbformat": 4,
 "nbformat_minor": 5
}
