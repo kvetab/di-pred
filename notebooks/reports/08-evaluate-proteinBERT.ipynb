{
 "cells": [
  {
   "cell_type": "code",
   "execution_count": 1,
   "id": "7d40195a-6e94-4f37-92a0-ec3a4d7a61ff",
   "metadata": {},
   "outputs": [],
   "source": [
    "import pandas as pd\n",
    "from os import path\n",
    "import json"
   ]
  },
  {
   "cell_type": "code",
   "execution_count": 13,
   "id": "c52a6eb9-cc6e-40fa-aeba-a376833d5457",
   "metadata": {},
   "outputs": [],
   "source": [
    "import seaborn as sns\n",
    "import matplotlib.pyplot as plt"
   ]
  },
  {
   "cell_type": "code",
   "execution_count": 2,
   "id": "caee682e-0509-415e-865e-36004b98b0a0",
   "metadata": {},
   "outputs": [],
   "source": [
    "DATA_DIR = \"../../data\""
   ]
  },
  {
   "cell_type": "code",
   "execution_count": 3,
   "id": "e430488d-f954-48e2-a3fc-7817a7f9c177",
   "metadata": {},
   "outputs": [],
   "source": [
    "seeds = [4, 18, 27, 36, 42]"
   ]
  },
  {
   "cell_type": "code",
   "execution_count": 4,
   "id": "7331c7a1-7ace-489b-9b98-17c1b283e75b",
   "metadata": {},
   "outputs": [],
   "source": [
    "split_results = {}\n",
    "for seed in seeds:\n",
    "    results_a = pd.read_csv(path.join(\n",
    "        DATA_DIR, \n",
    "        \"evaluations/protein_bert\", \n",
    "        f\"{str(seed)}a\", \n",
    "        \"all.csv\"\n",
    "    ), sep=\"\\t\", header=None)\n",
    "    results_b = pd.read_csv(path.join(\n",
    "        DATA_DIR, \n",
    "        \"evaluations/protein_bert\", \n",
    "        f\"{str(seed)}b\", \n",
    "        \"all.csv\"\n",
    "    ), sep=\"\\t\", header=None)\n",
    "    results_a.columns = [\"model_name\", \"patience_stop\", \"patience_lr\", \"lr\", \"F1\", \"MCC\", \"Acc\", \"Precision\", \"Recall\", \"AUC\"]\n",
    "    results_b.columns = [\"model_name\", \"patience_stop\", \"patience_lr\", \"lr\", \"F1\", \"MCC\", \"Acc\", \"Precision\", \"Recall\", \"AUC\"]\n",
    "    \n",
    "    split_results[str(seed) + \"a\"] = results_a    \n",
    "    split_results[str(seed) + \"b\"] = results_b"
   ]
  },
  {
   "cell_type": "code",
   "execution_count": 5,
   "id": "21fb860b-f5c9-4905-9b78-b5a4a3d1fa25",
   "metadata": {},
   "outputs": [],
   "source": [
    "df_list = [value for key, value in split_results.items()]\n",
    "# Concatenate results for all data splits\n",
    "df_concat = pd.concat(df_list)"
   ]
  },
  {
   "cell_type": "code",
   "execution_count": 6,
   "id": "163607f8-a479-43ab-97fe-55432cb641cd",
   "metadata": {
    "tags": []
   },
   "outputs": [
    {
     "data": {
      "text/html": [
       "<div>\n",
       "<style scoped>\n",
       "    .dataframe tbody tr th:only-of-type {\n",
       "        vertical-align: middle;\n",
       "    }\n",
       "\n",
       "    .dataframe tbody tr th {\n",
       "        vertical-align: top;\n",
       "    }\n",
       "\n",
       "    .dataframe thead th {\n",
       "        text-align: right;\n",
       "    }\n",
       "</style>\n",
       "<table border=\"1\" class=\"dataframe\">\n",
       "  <thead>\n",
       "    <tr style=\"text-align: right;\">\n",
       "      <th></th>\n",
       "      <th>model_name</th>\n",
       "      <th>patience_stop</th>\n",
       "      <th>patience_lr</th>\n",
       "      <th>lr</th>\n",
       "      <th>F1</th>\n",
       "      <th>MCC</th>\n",
       "      <th>Acc</th>\n",
       "      <th>Precision</th>\n",
       "      <th>Recall</th>\n",
       "      <th>AUC</th>\n",
       "    </tr>\n",
       "  </thead>\n",
       "  <tbody>\n",
       "    <tr>\n",
       "      <th>0</th>\n",
       "      <td>protein_bert</td>\n",
       "      <td>3</td>\n",
       "      <td>3</td>\n",
       "      <td>0.00001</td>\n",
       "      <td>0.062500</td>\n",
       "      <td>0.157524</td>\n",
       "      <td>0.770992</td>\n",
       "      <td>1.000000</td>\n",
       "      <td>0.032258</td>\n",
       "      <td>0.516129</td>\n",
       "    </tr>\n",
       "    <tr>\n",
       "      <th>1</th>\n",
       "      <td>protein_bert</td>\n",
       "      <td>3</td>\n",
       "      <td>3</td>\n",
       "      <td>0.00005</td>\n",
       "      <td>0.236364</td>\n",
       "      <td>0.264185</td>\n",
       "      <td>0.786260</td>\n",
       "      <td>0.764706</td>\n",
       "      <td>0.139785</td>\n",
       "      <td>0.563226</td>\n",
       "    </tr>\n",
       "    <tr>\n",
       "      <th>2</th>\n",
       "      <td>protein_bert</td>\n",
       "      <td>3</td>\n",
       "      <td>3</td>\n",
       "      <td>0.00010</td>\n",
       "      <td>0.333333</td>\n",
       "      <td>0.322143</td>\n",
       "      <td>0.796438</td>\n",
       "      <td>0.740741</td>\n",
       "      <td>0.215054</td>\n",
       "      <td>0.595860</td>\n",
       "    </tr>\n",
       "    <tr>\n",
       "      <th>3</th>\n",
       "      <td>protein_bert</td>\n",
       "      <td>3</td>\n",
       "      <td>3</td>\n",
       "      <td>0.00050</td>\n",
       "      <td>0.333333</td>\n",
       "      <td>0.322143</td>\n",
       "      <td>0.796438</td>\n",
       "      <td>0.740741</td>\n",
       "      <td>0.215054</td>\n",
       "      <td>0.595860</td>\n",
       "    </tr>\n",
       "    <tr>\n",
       "      <th>4</th>\n",
       "      <td>protein_bert</td>\n",
       "      <td>4</td>\n",
       "      <td>3</td>\n",
       "      <td>0.00001</td>\n",
       "      <td>0.155340</td>\n",
       "      <td>0.214179</td>\n",
       "      <td>0.778626</td>\n",
       "      <td>0.800000</td>\n",
       "      <td>0.086022</td>\n",
       "      <td>0.539677</td>\n",
       "    </tr>\n",
       "    <tr>\n",
       "      <th>...</th>\n",
       "      <td>...</td>\n",
       "      <td>...</td>\n",
       "      <td>...</td>\n",
       "      <td>...</td>\n",
       "      <td>...</td>\n",
       "      <td>...</td>\n",
       "      <td>...</td>\n",
       "      <td>...</td>\n",
       "      <td>...</td>\n",
       "      <td>...</td>\n",
       "    </tr>\n",
       "    <tr>\n",
       "      <th>11</th>\n",
       "      <td>protein_bert</td>\n",
       "      <td>6</td>\n",
       "      <td>3</td>\n",
       "      <td>0.00050</td>\n",
       "      <td>0.000000</td>\n",
       "      <td>0.000000</td>\n",
       "      <td>0.765789</td>\n",
       "      <td>0.000000</td>\n",
       "      <td>0.000000</td>\n",
       "      <td>0.500000</td>\n",
       "    </tr>\n",
       "    <tr>\n",
       "      <th>12</th>\n",
       "      <td>protein_bert</td>\n",
       "      <td>8</td>\n",
       "      <td>4</td>\n",
       "      <td>0.00001</td>\n",
       "      <td>0.168224</td>\n",
       "      <td>0.139946</td>\n",
       "      <td>0.765789</td>\n",
       "      <td>0.500000</td>\n",
       "      <td>0.101124</td>\n",
       "      <td>0.535098</td>\n",
       "    </tr>\n",
       "    <tr>\n",
       "      <th>13</th>\n",
       "      <td>protein_bert</td>\n",
       "      <td>8</td>\n",
       "      <td>4</td>\n",
       "      <td>0.00005</td>\n",
       "      <td>0.220183</td>\n",
       "      <td>0.203581</td>\n",
       "      <td>0.776316</td>\n",
       "      <td>0.600000</td>\n",
       "      <td>0.134831</td>\n",
       "      <td>0.553670</td>\n",
       "    </tr>\n",
       "    <tr>\n",
       "      <th>14</th>\n",
       "      <td>protein_bert</td>\n",
       "      <td>8</td>\n",
       "      <td>4</td>\n",
       "      <td>0.00010</td>\n",
       "      <td>0.247934</td>\n",
       "      <td>0.167936</td>\n",
       "      <td>0.760526</td>\n",
       "      <td>0.468750</td>\n",
       "      <td>0.168539</td>\n",
       "      <td>0.555060</td>\n",
       "    </tr>\n",
       "    <tr>\n",
       "      <th>15</th>\n",
       "      <td>protein_bert</td>\n",
       "      <td>8</td>\n",
       "      <td>4</td>\n",
       "      <td>0.00050</td>\n",
       "      <td>0.153846</td>\n",
       "      <td>0.143183</td>\n",
       "      <td>0.768421</td>\n",
       "      <td>0.533333</td>\n",
       "      <td>0.089888</td>\n",
       "      <td>0.532916</td>\n",
       "    </tr>\n",
       "  </tbody>\n",
       "</table>\n",
       "<p>160 rows × 10 columns</p>\n",
       "</div>"
      ],
      "text/plain": [
       "      model_name  patience_stop  patience_lr       lr        F1       MCC  \\\n",
       "0   protein_bert              3            3  0.00001  0.062500  0.157524   \n",
       "1   protein_bert              3            3  0.00005  0.236364  0.264185   \n",
       "2   protein_bert              3            3  0.00010  0.333333  0.322143   \n",
       "3   protein_bert              3            3  0.00050  0.333333  0.322143   \n",
       "4   protein_bert              4            3  0.00001  0.155340  0.214179   \n",
       "..           ...            ...          ...      ...       ...       ...   \n",
       "11  protein_bert              6            3  0.00050  0.000000  0.000000   \n",
       "12  protein_bert              8            4  0.00001  0.168224  0.139946   \n",
       "13  protein_bert              8            4  0.00005  0.220183  0.203581   \n",
       "14  protein_bert              8            4  0.00010  0.247934  0.167936   \n",
       "15  protein_bert              8            4  0.00050  0.153846  0.143183   \n",
       "\n",
       "         Acc  Precision    Recall       AUC  \n",
       "0   0.770992   1.000000  0.032258  0.516129  \n",
       "1   0.786260   0.764706  0.139785  0.563226  \n",
       "2   0.796438   0.740741  0.215054  0.595860  \n",
       "3   0.796438   0.740741  0.215054  0.595860  \n",
       "4   0.778626   0.800000  0.086022  0.539677  \n",
       "..       ...        ...       ...       ...  \n",
       "11  0.765789   0.000000  0.000000  0.500000  \n",
       "12  0.765789   0.500000  0.101124  0.535098  \n",
       "13  0.776316   0.600000  0.134831  0.553670  \n",
       "14  0.760526   0.468750  0.168539  0.555060  \n",
       "15  0.768421   0.533333  0.089888  0.532916  \n",
       "\n",
       "[160 rows x 10 columns]"
      ]
     },
     "execution_count": 6,
     "metadata": {},
     "output_type": "execute_result"
    }
   ],
   "source": [
    "df_concat"
   ]
  },
  {
   "cell_type": "code",
   "execution_count": 7,
   "id": "014fb6d4-ff4b-4760-8167-ef7d20ffb373",
   "metadata": {},
   "outputs": [],
   "source": [
    "grouped = df_concat.groupby([\"patience_stop\", \"patience_lr\", \"lr\"])\n",
    "df_means = grouped.mean()"
   ]
  },
  {
   "cell_type": "code",
   "execution_count": 9,
   "id": "4c11f5a2-61c9-49c0-b582-dbdc0f1460cd",
   "metadata": {
    "tags": []
   },
   "outputs": [
    {
     "data": {
      "text/html": [
       "<div>\n",
       "<style scoped>\n",
       "    .dataframe tbody tr th:only-of-type {\n",
       "        vertical-align: middle;\n",
       "    }\n",
       "\n",
       "    .dataframe tbody tr th {\n",
       "        vertical-align: top;\n",
       "    }\n",
       "\n",
       "    .dataframe thead th {\n",
       "        text-align: right;\n",
       "    }\n",
       "</style>\n",
       "<table border=\"1\" class=\"dataframe\">\n",
       "  <thead>\n",
       "    <tr style=\"text-align: right;\">\n",
       "      <th></th>\n",
       "      <th></th>\n",
       "      <th></th>\n",
       "      <th>F1</th>\n",
       "      <th>MCC</th>\n",
       "      <th>Acc</th>\n",
       "      <th>Precision</th>\n",
       "      <th>Recall</th>\n",
       "      <th>AUC</th>\n",
       "    </tr>\n",
       "    <tr>\n",
       "      <th>patience_stop</th>\n",
       "      <th>patience_lr</th>\n",
       "      <th>lr</th>\n",
       "      <th></th>\n",
       "      <th></th>\n",
       "      <th></th>\n",
       "      <th></th>\n",
       "      <th></th>\n",
       "      <th></th>\n",
       "    </tr>\n",
       "  </thead>\n",
       "  <tbody>\n",
       "    <tr>\n",
       "      <th rowspan=\"4\" valign=\"top\">3</th>\n",
       "      <th rowspan=\"4\" valign=\"top\">3</th>\n",
       "      <th>0.00001</th>\n",
       "      <td>0.121766</td>\n",
       "      <td>0.155733</td>\n",
       "      <td>0.801810</td>\n",
       "      <td>0.651445</td>\n",
       "      <td>0.070294</td>\n",
       "      <td>0.529458</td>\n",
       "    </tr>\n",
       "    <tr>\n",
       "      <th>0.00005</th>\n",
       "      <td>0.212892</td>\n",
       "      <td>0.184282</td>\n",
       "      <td>0.800152</td>\n",
       "      <td>0.475879</td>\n",
       "      <td>0.143903</td>\n",
       "      <td>0.556140</td>\n",
       "    </tr>\n",
       "    <tr>\n",
       "      <th>0.00010</th>\n",
       "      <td>0.245131</td>\n",
       "      <td>0.215820</td>\n",
       "      <td>0.802415</td>\n",
       "      <td>0.526614</td>\n",
       "      <td>0.169222</td>\n",
       "      <td>0.567390</td>\n",
       "    </tr>\n",
       "    <tr>\n",
       "      <th>0.00050</th>\n",
       "      <td>0.179402</td>\n",
       "      <td>0.171927</td>\n",
       "      <td>0.803384</td>\n",
       "      <td>0.472954</td>\n",
       "      <td>0.117709</td>\n",
       "      <td>0.547837</td>\n",
       "    </tr>\n",
       "    <tr>\n",
       "      <th rowspan=\"4\" valign=\"top\">4</th>\n",
       "      <th rowspan=\"4\" valign=\"top\">3</th>\n",
       "      <th>0.00001</th>\n",
       "      <td>0.196399</td>\n",
       "      <td>0.205698</td>\n",
       "      <td>0.802668</td>\n",
       "      <td>0.651509</td>\n",
       "      <td>0.121132</td>\n",
       "      <td>0.548894</td>\n",
       "    </tr>\n",
       "    <tr>\n",
       "      <th>0.00005</th>\n",
       "      <td>0.204310</td>\n",
       "      <td>0.200869</td>\n",
       "      <td>0.801821</td>\n",
       "      <td>0.602133</td>\n",
       "      <td>0.131638</td>\n",
       "      <td>0.552354</td>\n",
       "    </tr>\n",
       "    <tr>\n",
       "      <th>0.00010</th>\n",
       "      <td>0.274351</td>\n",
       "      <td>0.230110</td>\n",
       "      <td>0.801969</td>\n",
       "      <td>0.555414</td>\n",
       "      <td>0.198241</td>\n",
       "      <td>0.577577</td>\n",
       "    </tr>\n",
       "    <tr>\n",
       "      <th>0.00050</th>\n",
       "      <td>0.276936</td>\n",
       "      <td>0.226801</td>\n",
       "      <td>0.796067</td>\n",
       "      <td>0.528858</td>\n",
       "      <td>0.213362</td>\n",
       "      <td>0.580451</td>\n",
       "    </tr>\n",
       "    <tr>\n",
       "      <th rowspan=\"4\" valign=\"top\">6</th>\n",
       "      <th rowspan=\"4\" valign=\"top\">3</th>\n",
       "      <th>0.00001</th>\n",
       "      <td>0.169943</td>\n",
       "      <td>0.170772</td>\n",
       "      <td>0.802901</td>\n",
       "      <td>0.537209</td>\n",
       "      <td>0.104442</td>\n",
       "      <td>0.542596</td>\n",
       "    </tr>\n",
       "    <tr>\n",
       "      <th>0.00005</th>\n",
       "      <td>0.223157</td>\n",
       "      <td>0.214697</td>\n",
       "      <td>0.803296</td>\n",
       "      <td>0.601702</td>\n",
       "      <td>0.141581</td>\n",
       "      <td>0.556770</td>\n",
       "    </tr>\n",
       "    <tr>\n",
       "      <th>0.00010</th>\n",
       "      <td>0.278487</td>\n",
       "      <td>0.237982</td>\n",
       "      <td>0.801701</td>\n",
       "      <td>0.563502</td>\n",
       "      <td>0.195126</td>\n",
       "      <td>0.576538</td>\n",
       "    </tr>\n",
       "    <tr>\n",
       "      <th>0.00050</th>\n",
       "      <td>0.230972</td>\n",
       "      <td>0.193256</td>\n",
       "      <td>0.797988</td>\n",
       "      <td>0.478511</td>\n",
       "      <td>0.158166</td>\n",
       "      <td>0.560412</td>\n",
       "    </tr>\n",
       "    <tr>\n",
       "      <th rowspan=\"4\" valign=\"top\">8</th>\n",
       "      <th rowspan=\"4\" valign=\"top\">4</th>\n",
       "      <th>0.00001</th>\n",
       "      <td>0.251841</td>\n",
       "      <td>0.223730</td>\n",
       "      <td>0.801798</td>\n",
       "      <td>0.573507</td>\n",
       "      <td>0.166608</td>\n",
       "      <td>0.565456</td>\n",
       "    </tr>\n",
       "    <tr>\n",
       "      <th>0.00005</th>\n",
       "      <td>0.274126</td>\n",
       "      <td>0.225966</td>\n",
       "      <td>0.798179</td>\n",
       "      <td>0.539510</td>\n",
       "      <td>0.193364</td>\n",
       "      <td>0.573640</td>\n",
       "    </tr>\n",
       "    <tr>\n",
       "      <th>0.00010</th>\n",
       "      <td>0.300830</td>\n",
       "      <td>0.237983</td>\n",
       "      <td>0.798128</td>\n",
       "      <td>0.523262</td>\n",
       "      <td>0.219323</td>\n",
       "      <td>0.583247</td>\n",
       "    </tr>\n",
       "    <tr>\n",
       "      <th>0.00050</th>\n",
       "      <td>0.273190</td>\n",
       "      <td>0.230439</td>\n",
       "      <td>0.801767</td>\n",
       "      <td>0.546453</td>\n",
       "      <td>0.192944</td>\n",
       "      <td>0.575611</td>\n",
       "    </tr>\n",
       "  </tbody>\n",
       "</table>\n",
       "</div>"
      ],
      "text/plain": [
       "                                         F1       MCC       Acc  Precision  \\\n",
       "patience_stop patience_lr lr                                                 \n",
       "3             3           0.00001  0.121766  0.155733  0.801810   0.651445   \n",
       "                          0.00005  0.212892  0.184282  0.800152   0.475879   \n",
       "                          0.00010  0.245131  0.215820  0.802415   0.526614   \n",
       "                          0.00050  0.179402  0.171927  0.803384   0.472954   \n",
       "4             3           0.00001  0.196399  0.205698  0.802668   0.651509   \n",
       "                          0.00005  0.204310  0.200869  0.801821   0.602133   \n",
       "                          0.00010  0.274351  0.230110  0.801969   0.555414   \n",
       "                          0.00050  0.276936  0.226801  0.796067   0.528858   \n",
       "6             3           0.00001  0.169943  0.170772  0.802901   0.537209   \n",
       "                          0.00005  0.223157  0.214697  0.803296   0.601702   \n",
       "                          0.00010  0.278487  0.237982  0.801701   0.563502   \n",
       "                          0.00050  0.230972  0.193256  0.797988   0.478511   \n",
       "8             4           0.00001  0.251841  0.223730  0.801798   0.573507   \n",
       "                          0.00005  0.274126  0.225966  0.798179   0.539510   \n",
       "                          0.00010  0.300830  0.237983  0.798128   0.523262   \n",
       "                          0.00050  0.273190  0.230439  0.801767   0.546453   \n",
       "\n",
       "                                     Recall       AUC  \n",
       "patience_stop patience_lr lr                           \n",
       "3             3           0.00001  0.070294  0.529458  \n",
       "                          0.00005  0.143903  0.556140  \n",
       "                          0.00010  0.169222  0.567390  \n",
       "                          0.00050  0.117709  0.547837  \n",
       "4             3           0.00001  0.121132  0.548894  \n",
       "                          0.00005  0.131638  0.552354  \n",
       "                          0.00010  0.198241  0.577577  \n",
       "                          0.00050  0.213362  0.580451  \n",
       "6             3           0.00001  0.104442  0.542596  \n",
       "                          0.00005  0.141581  0.556770  \n",
       "                          0.00010  0.195126  0.576538  \n",
       "                          0.00050  0.158166  0.560412  \n",
       "8             4           0.00001  0.166608  0.565456  \n",
       "                          0.00005  0.193364  0.573640  \n",
       "                          0.00010  0.219323  0.583247  \n",
       "                          0.00050  0.192944  0.575611  "
      ]
     },
     "execution_count": 9,
     "metadata": {},
     "output_type": "execute_result"
    }
   ],
   "source": [
    "# Means across the different data splits\n",
    "df_means"
   ]
  },
  {
   "cell_type": "code",
   "execution_count": 10,
   "id": "614934b6-7199-4026-8616-df242ec998af",
   "metadata": {},
   "outputs": [],
   "source": [
    "df_means.round(3).to_csv(path.join(DATA_DIR, \"evaluations/protein_bert/5x2cv_means.csv\"))"
   ]
  },
  {
   "cell_type": "code",
   "execution_count": 11,
   "id": "00e7e561-d062-45f6-ba02-3b5ccb51e798",
   "metadata": {},
   "outputs": [],
   "source": [
    "df_means.round(3).to_csv(path.join(DATA_DIR, \"evaluations/protein_bert/5x2cv_means_excel.csv\"), sep=\"\\t\")"
   ]
  },
  {
   "cell_type": "code",
   "execution_count": 12,
   "id": "38c93a8d-423f-40b3-8e5d-72aec4ba9c0f",
   "metadata": {},
   "outputs": [],
   "source": [
    "f1_df = pd.concat(df_list)[[\"patience_stop\", \"patience_lr\", \"lr\", \"F1\"]]"
   ]
  },
  {
   "cell_type": "code",
   "execution_count": 17,
   "id": "42dc3af2-77a8-4ed2-b2aa-c093de58f585",
   "metadata": {},
   "outputs": [],
   "source": [
    "nice_label = {}\n",
    "i = 1\n",
    "for patience in [(3,3), (4,3), (6,3), (8,4)]:\n",
    "    nice_label[sum(patience)] = {}\n",
    "    for learning_rate in [1e-5, 5e-5, 1e-4, 5e-4]:\n",
    "        nice_label[patience[0] + patience[1]][learning_rate] = i\n",
    "        i += 1"
   ]
  },
  {
   "cell_type": "code",
   "execution_count": 20,
   "id": "7d350463-8f3e-4c68-99d7-ae1557cd00e2",
   "metadata": {},
   "outputs": [],
   "source": [
    "def get_readable_label(row):\n",
    "    return nice_label[row[\"patience_stop\"] + row[\"patience_lr\"]][row[\"lr\"]]"
   ]
  },
  {
   "cell_type": "code",
   "execution_count": 21,
   "id": "84d0b9dc-ee7c-47a3-be8d-7d28497dc9b6",
   "metadata": {},
   "outputs": [],
   "source": [
    "f1_df[\"label\"] = f1_df.apply(get_readable_label, axis=1)"
   ]
  },
  {
   "cell_type": "code",
   "execution_count": 27,
   "id": "77829e7c-9e8b-4249-91d1-0fde80759a7a",
   "metadata": {},
   "outputs": [
    {
     "data": {
      "image/png": "[encoded data removed]",
      "text/plain": [
       "<Figure size 864x432 with 1 Axes>"
      ]
     },
     "metadata": {
      "needs_background": "light"
     },
     "output_type": "display_data"
    }
   ],
   "source": [
    "plt.figure(figsize=(12,6))\n",
    "order = range(1, 17)\n",
    "ax = sns.boxplot(x=\"label\", y=\"F1\", data=f1_df, order=order, palette=sns.color_palette(\"tab10\")[:4])\n",
    "#labels = [\"Integer encoded\", \"One-hot\", \"PyBioMed\", \"ProtParam\", \"BERT\", \"SeqVec\", \"Sapiens\"]\n",
    "#ax.set_xticklabels(order, rotation = 90)\n",
    "ax.set_xlabel(\"\")\n",
    "ax.set_ylabel(\"F1 score\", size=15)\n",
    "#ax.set_title(\"Boxplot of F1 scores of ProteinBERT models trained on 5x2cv\", size=20)\n",
    "#ax.yaxis.grid(False)\n",
    "#ax.xaxis.grid(True)\n",
    "#ax.set_axisbelow(True)\n",
    "plt.savefig(path.join(DATA_DIR, \"images/box_f1_of_5x2cv_proteinbert.png\"), bbox_inches='tight')\n",
    "plt.show()"
   ]
  },
  {
   "cell_type": "code",
   "execution_count": null,
   "id": "ac3c087a-3ade-41a8-983e-0a86c17bfa4f",
   "metadata": {},
   "outputs": [],
   "source": []
  },
  {
   "cell_type": "code",
   "execution_count": 22,
   "id": "941e3e83-334b-4425-9d02-1cffab211fa6",
   "metadata": {},
   "outputs": [],
   "source": [
    "from statistics import mean\n",
    "from sklearn.metrics import accuracy_score\n",
    "import numpy as np\n",
    "import csv\n",
    "import scipy.stats\n",
    "import itertools\n",
    "from sklearn.model_selection import train_test_split"
   ]
  },
  {
   "cell_type": "code",
   "execution_count": 23,
   "id": "7b15e172-704f-470f-b92f-3a87478b153d",
   "metadata": {},
   "outputs": [
    {
     "data": {
      "text/html": [
       "<div>\n",
       "<style scoped>\n",
       "    .dataframe tbody tr th:only-of-type {\n",
       "        vertical-align: middle;\n",
       "    }\n",
       "\n",
       "    .dataframe tbody tr th {\n",
       "        vertical-align: top;\n",
       "    }\n",
       "\n",
       "    .dataframe thead th {\n",
       "        text-align: right;\n",
       "    }\n",
       "</style>\n",
       "<table border=\"1\" class=\"dataframe\">\n",
       "  <thead>\n",
       "    <tr style=\"text-align: right;\">\n",
       "      <th></th>\n",
       "      <th>Antibody_ID</th>\n",
       "      <th>heavy</th>\n",
       "      <th>light</th>\n",
       "      <th>Y</th>\n",
       "      <th>cluster</th>\n",
       "    </tr>\n",
       "  </thead>\n",
       "  <tbody>\n",
       "    <tr>\n",
       "      <th>1717</th>\n",
       "      <td>5i1g</td>\n",
       "      <td>EVQLVETGGGLIQPGGSLRLSCAASGFTVSSNYMSWVRQAPGKGLE...</td>\n",
       "      <td>EIVLTQSPATLSLSPGERATLSCRASQSVSSYLAWYQQKPGQAPRL...</td>\n",
       "      <td>0</td>\n",
       "      <td>8</td>\n",
       "    </tr>\n",
       "    <tr>\n",
       "      <th>310</th>\n",
       "      <td>1psk</td>\n",
       "      <td>EVQLQQSGPELVKPGASVKISCKTSGYTFTKYTMHWVKQSHGKSLE...</td>\n",
       "      <td>QIVLTQSPAIMSASPGEKVTITCSASSSVSNIHWFQQKPGTFPKLW...</td>\n",
       "      <td>1</td>\n",
       "      <td>655</td>\n",
       "    </tr>\n",
       "    <tr>\n",
       "      <th>2366</th>\n",
       "      <td>6nou</td>\n",
       "      <td>QVQLVQSGAEVKKPGSSVKVSCKASGYSFTDYHIHWVRQAPGQCLE...</td>\n",
       "      <td>DIVMTQTPLSLSVTPGQPASISCRSSRSLVHSRGNTYLHWYLQKPG...</td>\n",
       "      <td>0</td>\n",
       "      <td>192</td>\n",
       "    </tr>\n",
       "    <tr>\n",
       "      <th>987</th>\n",
       "      <td>3se9</td>\n",
       "      <td>QVQLVQSGSGVKKPGASVRVSCWTSEDIFERTELIHWVRQAPGQGL...</td>\n",
       "      <td>EIVLTQSPGTLSLSPGETASLSCTAASYGHMTWYQKKPGQPPKLLI...</td>\n",
       "      <td>0</td>\n",
       "      <td>848</td>\n",
       "    </tr>\n",
       "    <tr>\n",
       "      <th>2317</th>\n",
       "      <td>6mlk</td>\n",
       "      <td>QVQLQQWGAGLLKPSETLSLTCAVYGGSFSGYYWSWIRQPPGKGLE...</td>\n",
       "      <td>DVVMTQSPLSLPVTPGEPASISCRSSQSLLHSNGYNYLDWYLQKPG...</td>\n",
       "      <td>0</td>\n",
       "      <td>308</td>\n",
       "    </tr>\n",
       "    <tr>\n",
       "      <th>...</th>\n",
       "      <td>...</td>\n",
       "      <td>...</td>\n",
       "      <td>...</td>\n",
       "      <td>...</td>\n",
       "      <td>...</td>\n",
       "    </tr>\n",
       "    <tr>\n",
       "      <th>2174</th>\n",
       "      <td>6cyf</td>\n",
       "      <td>EVQLVESGGGLVQPGGSLRLSCAASGFTFSSYAMDWVRQAPGKGLE...</td>\n",
       "      <td>AIQMTQSPSSLSASVGDRVTITCRASQGIRNDLGWYQQKPGKAPKL...</td>\n",
       "      <td>0</td>\n",
       "      <td>396</td>\n",
       "    </tr>\n",
       "    <tr>\n",
       "      <th>1156</th>\n",
       "      <td>4h20</td>\n",
       "      <td>EVQLQQSGPVLVKPGASVKMSCKASGYTFTDYYVNWVKQSRGKSLE...</td>\n",
       "      <td>DIVMTQSHKFMSTSVGDRVSITCKASQDVTSAVAWFQQKPGQSPKL...</td>\n",
       "      <td>0</td>\n",
       "      <td>75</td>\n",
       "    </tr>\n",
       "    <tr>\n",
       "      <th>285</th>\n",
       "      <td>1nmc</td>\n",
       "      <td>QVQLQQSGAELVKPGASVRMSCKASGYTFTNYNMYWVKQSPGQGLE...</td>\n",
       "      <td>DIELTQTTSSLSASLGDRVTISCRASQDISNYLNWYQQNPDGTVKL...</td>\n",
       "      <td>1</td>\n",
       "      <td>442</td>\n",
       "    </tr>\n",
       "    <tr>\n",
       "      <th>504</th>\n",
       "      <td>2dqf</td>\n",
       "      <td>DVQLQESGPSLVKPSQTLSLTCSVTGDSITSDAWSWIRKFPGNRLE...</td>\n",
       "      <td>DIVLTQSPATLSVTPGNSVSLSCRASQSIGNNLHWYQQKSHESPRL...</td>\n",
       "      <td>0</td>\n",
       "      <td>28</td>\n",
       "    </tr>\n",
       "    <tr>\n",
       "      <th>664</th>\n",
       "      <td>2xkn</td>\n",
       "      <td>EVMLVESGGVLVKPGGSLKLSCAASGFTFSRYAMSWVRQTPEKRLE...</td>\n",
       "      <td>DIQMTQTTSSLSASLGDRVTISCRASQDISNYLNWYQQKPDGTVKL...</td>\n",
       "      <td>1</td>\n",
       "      <td>174</td>\n",
       "    </tr>\n",
       "  </tbody>\n",
       "</table>\n",
       "<p>393 rows × 5 columns</p>\n",
       "</div>"
      ],
      "text/plain": [
       "     Antibody_ID                                              heavy  \\\n",
       "1717        5i1g  EVQLVETGGGLIQPGGSLRLSCAASGFTVSSNYMSWVRQAPGKGLE...   \n",
       "310         1psk  EVQLQQSGPELVKPGASVKISCKTSGYTFTKYTMHWVKQSHGKSLE...   \n",
       "2366        6nou  QVQLVQSGAEVKKPGSSVKVSCKASGYSFTDYHIHWVRQAPGQCLE...   \n",
       "987         3se9  QVQLVQSGSGVKKPGASVRVSCWTSEDIFERTELIHWVRQAPGQGL...   \n",
       "2317        6mlk  QVQLQQWGAGLLKPSETLSLTCAVYGGSFSGYYWSWIRQPPGKGLE...   \n",
       "...          ...                                                ...   \n",
       "2174        6cyf  EVQLVESGGGLVQPGGSLRLSCAASGFTFSSYAMDWVRQAPGKGLE...   \n",
       "1156        4h20  EVQLQQSGPVLVKPGASVKMSCKASGYTFTDYYVNWVKQSRGKSLE...   \n",
       "285         1nmc  QVQLQQSGAELVKPGASVRMSCKASGYTFTNYNMYWVKQSPGQGLE...   \n",
       "504         2dqf  DVQLQESGPSLVKPSQTLSLTCSVTGDSITSDAWSWIRKFPGNRLE...   \n",
       "664         2xkn  EVMLVESGGVLVKPGGSLKLSCAASGFTFSRYAMSWVRQTPEKRLE...   \n",
       "\n",
       "                                                  light  Y  cluster  \n",
       "1717  EIVLTQSPATLSLSPGERATLSCRASQSVSSYLAWYQQKPGQAPRL...  0        8  \n",
       "310   QIVLTQSPAIMSASPGEKVTITCSASSSVSNIHWFQQKPGTFPKLW...  1      655  \n",
       "2366  DIVMTQTPLSLSVTPGQPASISCRSSRSLVHSRGNTYLHWYLQKPG...  0      192  \n",
       "987   EIVLTQSPGTLSLSPGETASLSCTAASYGHMTWYQKKPGQPPKLLI...  0      848  \n",
       "2317  DVVMTQSPLSLPVTPGEPASISCRSSQSLLHSNGYNYLDWYLQKPG...  0      308  \n",
       "...                                                 ... ..      ...  \n",
       "2174  AIQMTQSPSSLSASVGDRVTITCRASQGIRNDLGWYQQKPGKAPKL...  0      396  \n",
       "1156  DIVMTQSHKFMSTSVGDRVSITCKASQDVTSAVAWFQQKPGQSPKL...  0       75  \n",
       "285   DIELTQTTSSLSASLGDRVTISCRASQDISNYLNWYQQNPDGTVKL...  1      442  \n",
       "504   DIVLTQSPATLSVTPGNSVSLSCRASQSIGNNLHWYQQKSHESPRL...  0       28  \n",
       "664   DIQMTQTTSSLSASLGDRVTISCRASQDISNYLNWYQQKPDGTVKL...  1      174  \n",
       "\n",
       "[393 rows x 5 columns]"
      ]
     },
     "execution_count": 23,
     "metadata": {},
     "output_type": "execute_result"
    }
   ],
   "source": [
    "test_data = pd.read_csv(path.join(DATA_DIR, \"chen/deduplicated/crossval/chen_4_b.csv\"), index_col=0).sort_index()\n",
    "valid_data, test_data = train_test_split(\n",
    "        test_data, test_size=0.6, random_state=333, stratify=test_data[\"Y\"]\n",
    "    )\n",
    "test_data"
   ]
  },
  {
   "cell_type": "code",
   "execution_count": 14,
   "id": "2ae208b4-73fe-4da1-ab77-a04d35876f32",
   "metadata": {},
   "outputs": [],
   "source": [
    "patience = [(3,3), (4,3), (6,3), (8,4)]\n",
    "learning_rate = [1e-5, 5e-5, 1e-4, 5e-4]"
   ]
  },
  {
   "cell_type": "code",
   "execution_count": 15,
   "id": "5bbd1ee2-7cc1-488a-8c6c-d2c43a8226f1",
   "metadata": {},
   "outputs": [],
   "source": [
    "y_preds = []\n",
    "i = 0\n",
    "for pat in patience:\n",
    "    for lr in learning_rate:\n",
    "        i += 1\n",
    "        with open(path.join(DATA_DIR, f\"evaluations/protein_bert/4a/2022_04_21_{pat[0]}_{pat[1]}_{lr}_preds.csv\"), \"r\") as f:\n",
    "            reader = csv.reader(f)\n",
    "            row = [int(num) for num in next(reader)]\n",
    "            \n",
    "            y_preds.append(np.array(row))"
   ]
  },
  {
   "cell_type": "code",
   "execution_count": 16,
   "id": "25350c50-3584-4ff6-9587-f04f5b1cb265",
   "metadata": {},
   "outputs": [
    {
     "name": "stdout",
     "output_type": "stream",
     "text": [
      "16\n"
     ]
    }
   ],
   "source": [
    "print(len(y_preds))"
   ]
  },
  {
   "cell_type": "code",
   "execution_count": 24,
   "id": "e10771b4-db8a-486e-9b67-764360b870a2",
   "metadata": {},
   "outputs": [],
   "source": [
    "y_true = np.array(test_data[\"Y\"])"
   ]
  },
  {
   "cell_type": "code",
   "execution_count": 18,
   "id": "69460e6c-5587-45a9-a03b-f77b7e60c438",
   "metadata": {},
   "outputs": [],
   "source": [
    "# Looney 1988\n",
    "# https://www.sciencedirect.com/science/article/pii/0167865588900165\n",
    "def ftest_compact(y_test, test_preds):\n",
    "    n = len(y_test)\n",
    "    accuracies = [accuracy_score(y_test, pred) for pred in test_preds]\n",
    "    avg_acc = mean(accuracies)\n",
    "    count = len(test_preds)\n",
    "    m = []\n",
    "    ssa = (n * sum(acc**2 for acc in accuracies)) - (n * count * avg_acc**2)\n",
    "    \n",
    "    for j in range(n):\n",
    "        mj = sum([1 for preds in test_preds if preds[j] == y_test[j]])\n",
    "        m.append(mj)\n",
    "        \n",
    "    ssb = (1. / count) * sum(mj ** 2 for mj in m) - (count * n * avg_acc ** 2)\n",
    "    sst = count * n * avg_acc * (1 - avg_acc)\n",
    "    ssab = sst - ssa - ssb\n",
    "    msa = ssa / (count - 1)\n",
    "    msab = ssab / ((count - 1)*(n - 1))\n",
    "    f = msa / msab\n",
    "    \n",
    "    degrees_of_freedom_1 = count - 1\n",
    "    degrees_of_freedom_2 = degrees_of_freedom_1 * n\n",
    "\n",
    "    p_value = scipy.stats.f.sf(f, degrees_of_freedom_1, degrees_of_freedom_2)\n",
    "\n",
    "    return f, p_value"
   ]
  },
  {
   "cell_type": "code",
   "execution_count": 21,
   "id": "ba7ec8fb-0c90-4ca7-a98c-89126a067566",
   "metadata": {},
   "outputs": [
    {
     "data": {
      "text/plain": [
       "393"
      ]
     },
     "execution_count": 21,
     "metadata": {},
     "output_type": "execute_result"
    }
   ],
   "source": [
    "len(y_preds[0])"
   ]
  },
  {
   "cell_type": "code",
   "execution_count": 25,
   "id": "5d93dde8-aa64-4d57-87a7-a167c2df9116",
   "metadata": {},
   "outputs": [],
   "source": [
    "f, p_value = ftest_compact(y_true, y_preds)"
   ]
  },
  {
   "cell_type": "code",
   "execution_count": 26,
   "id": "b353ff3d-d91e-42d1-b5f6-008c60adc583",
   "metadata": {},
   "outputs": [
    {
     "data": {
      "text/plain": [
       "0.001958066800227276"
      ]
     },
     "execution_count": 26,
     "metadata": {},
     "output_type": "execute_result"
    }
   ],
   "source": [
    "p_value"
   ]
  },
  {
   "cell_type": "code",
   "execution_count": 27,
   "id": "8f019dd1-c77c-4a59-a13a-6443a0235bba",
   "metadata": {},
   "outputs": [
    {
     "data": {
      "text/plain": [
       "2.3840277401524888"
      ]
     },
     "execution_count": 27,
     "metadata": {},
     "output_type": "execute_result"
    }
   ],
   "source": [
    "f"
   ]
  },
  {
   "cell_type": "code",
   "execution_count": null,
   "id": "fadd6394-613d-408a-8bd5-35f05eca56b9",
   "metadata": {},
   "outputs": [],
   "source": []
  },
  {
   "cell_type": "code",
   "execution_count": 28,
   "id": "77dbf0cd-c280-4ad2-b7d7-2ee5d6d25957",
   "metadata": {},
   "outputs": [],
   "source": [
    "seeds = [4, 18, 27, 36, 42]"
   ]
  },
  {
   "cell_type": "code",
   "execution_count": 70,
   "id": "e1e0cfe0-375e-4323-afab-d349324d9d97",
   "metadata": {},
   "outputs": [],
   "source": [
    "def prepare_test_metrics(pat_a, lr_a, pat_b, lr_b):\n",
    "    metrics_a = np.zeros((5,2))\n",
    "    metrics_b = np.zeros((5,2))\n",
    "    i = 0\n",
    "    for seed in seeds:\n",
    "        for j, letter in enumerate([\"a\", \"b\"]):\n",
    "            res = split_results[str(seed) + letter]\n",
    "            f1_a = res[(res[\"patience_stop\"] == pat_a[0]) & (res[\"patience_lr\"] == pat_a[1]) & (res[\"lr\"] == lr_a)][\"F1\"]\n",
    "            f1_b = res[(res[\"patience_stop\"] == pat_b[0]) & (res[\"patience_lr\"] == pat_b[1]) & (res[\"lr\"] == lr_b)][\"F1\"]\n",
    "            metrics_a[i][j] = f1_a\n",
    "            metrics_b[i][j] = f1_b\n",
    "        i += 1\n",
    "    return metrics_a, metrics_b"
   ]
  },
  {
   "cell_type": "code",
   "execution_count": 61,
   "id": "8ea0b907-60e6-499f-a970-7f0f948834d8",
   "metadata": {},
   "outputs": [
    {
     "data": {
      "text/plain": [
       "0.3937007874015747"
      ]
     },
     "execution_count": 64,
     "metadata": {},
     "output_type": "execute_result"
    }
   ],
   "source": [
    "pat_a = (3,3)\n",
    "lr_a = 1e-5\n",
    "res = split_results[\"4a\"]\n",
    "f1_a = res[(res[\"patience_stop\"] == pat_a[0]) & (res[\"patience_lr\"] == pat_a[1]) & (res[\"lr\"] == lr_a)][\"F1\"].item()\n",
    "f1_b = res[(res[\"patience_stop\"] == 4) & (res[\"patience_lr\"] == 3) & (res[\"lr\"] == 0.0001)][\"F1\"].item()\n",
    "f1_b"
   ]
  },
  {
   "cell_type": "code",
   "execution_count": 29,
   "id": "98480593-c605-4a41-96a5-f866b9daa6ee",
   "metadata": {},
   "outputs": [],
   "source": [
    "def paired_f_test(metrics_a, metrics_b):\n",
    "    s = []\n",
    "    diffs = []\n",
    "    for i in range(5):\n",
    "        p_0 = metrics_a[i][0] - metrics_b[i][0]\n",
    "        p_1 = metrics_a[i][1] - metrics_b[i][1]\n",
    "        p_avg = mean([p_0, p_1])\n",
    "        s2 = (p_0 - p_avg) ** 2 + (p_1 - p_avg) ** 2\n",
    "        s.append(s2)\n",
    "        diffs += [p_0, p_1]\n",
    "        \n",
    "    f = sum(p ** 2 for p in diffs) / (2 * sum(s))\n",
    "    p_value = scipy.stats.f.sf(f, 10, 5)\n",
    "    return f, p_value"
   ]
  },
  {
   "cell_type": "code",
   "execution_count": 71,
   "id": "09f3f8c3-bb07-47a9-8dab-f56967c80dde",
   "metadata": {},
   "outputs": [
    {
     "data": {
      "text/plain": [
       "(2.88993716029002, 0.126518234620923)"
      ]
     },
     "execution_count": 71,
     "metadata": {},
     "output_type": "execute_result"
    }
   ],
   "source": [
    "met_a, met_b = prepare_test_metrics((3,3), 1e-5, (4,3), 1e-4)\n",
    "paired_f_test(met_a, met_b)"
   ]
  },
  {
   "cell_type": "code",
   "execution_count": 72,
   "id": "c14c8013-52e6-4dd1-ab6b-dab29afa8372",
   "metadata": {},
   "outputs": [],
   "source": [
    "from statsmodels.stats.multitest import multipletests"
   ]
  },
  {
   "cell_type": "code",
   "execution_count": 73,
   "id": "a5142c63-d3d1-42d0-ac5b-aedeb2e082c5",
   "metadata": {},
   "outputs": [
    {
     "data": {
      "text/plain": [
       "16"
      ]
     },
     "execution_count": 73,
     "metadata": {},
     "output_type": "execute_result"
    }
   ],
   "source": [
    "model_list = [\n",
    "    (pat, lr) for pat in patience \n",
    "    for dat in learning_rate\n",
    "]\n",
    "len(model_list)"
   ]
  },
  {
   "cell_type": "code",
   "execution_count": 74,
   "id": "322e77e9-d723-4aca-a89c-ee3404cfcd68",
   "metadata": {},
   "outputs": [],
   "source": [
    "p_values = []\n",
    "tested_models = []\n",
    "\n",
    "for i, comb_1 in enumerate(model_list):\n",
    "    for comb_2 in model_list[i:]:\n",
    "        pat_1, lr_1 = comb_1\n",
    "        pat_2, lr_2 = comb_2\n",
    "        if pat_1 != pat_2 or lr_1 != lr_2:\n",
    "            tested_models.append((comb_1, comb_2))\n",
    "            met_1, met_2 = prepare_test_metrics(pat_1, lr_1, pat_2, lr_2)\n",
    "            f, p = paired_f_test(met_1, met_2)\n",
    "            p_values.append(p)"
   ]
  },
  {
   "cell_type": "code",
   "execution_count": 75,
   "id": "f1df8f4a-20fe-4dcd-b67a-29a2eea4c9b3",
   "metadata": {},
   "outputs": [
    {
     "name": "stdout",
     "output_type": "stream",
     "text": [
      "0.012802405299403895\n"
     ]
    },
    {
     "data": {
      "text/plain": [
       "0.6445377765356324"
      ]
     },
     "execution_count": 75,
     "metadata": {},
     "output_type": "execute_result"
    }
   ],
   "source": [
    "print(min(p_values))\n",
    "max(p_values)"
   ]
  },
  {
   "cell_type": "code",
   "execution_count": 76,
   "id": "4c3c43ce-4ff5-4e85-8dbf-5c954cb2fadb",
   "metadata": {},
   "outputs": [],
   "source": [
    "reject, p_vals_corr, _, _ = multipletests(p_values, 0.05, \"fdr_bh\")"
   ]
  },
  {
   "cell_type": "code",
   "execution_count": 77,
   "id": "b8a38417-e15b-4fd1-9750-fbf30c986f21",
   "metadata": {},
   "outputs": [
    {
     "data": {
      "text/plain": [
       "0"
      ]
     },
     "execution_count": 77,
     "metadata": {},
     "output_type": "execute_result"
    }
   ],
   "source": [
    "sum(reject)"
   ]
  },
  {
   "cell_type": "code",
   "execution_count": 78,
   "id": "e63867fc-6b09-450d-af1a-39eb6909bb55",
   "metadata": {},
   "outputs": [
    {
     "data": {
      "text/plain": [
       "96"
      ]
     },
     "execution_count": 78,
     "metadata": {},
     "output_type": "execute_result"
    }
   ],
   "source": [
    "len(p_vals_corr)"
   ]
  },
  {
   "cell_type": "code",
   "execution_count": 79,
   "id": "ef57e489-ce4c-4db8-9d55-215803071ca0",
   "metadata": {},
   "outputs": [
    {
     "name": "stdout",
     "output_type": "stream",
     "text": [
      "0.07681443179642337\n"
     ]
    },
    {
     "data": {
      "text/plain": [
       "0.6445377765356324"
      ]
     },
     "execution_count": 79,
     "metadata": {},
     "output_type": "execute_result"
    }
   ],
   "source": [
    "print(min(p_vals_corr))\n",
    "max(p_vals_corr)"
   ]
  },
  {
   "cell_type": "code",
   "execution_count": null,
   "id": "9fe4835b-2890-4c1a-adce-7cd9929947eb",
   "metadata": {},
   "outputs": [],
   "source": []
  }
 ],
 "metadata": {
  "kernelspec": {
   "display_name": "Python 3 (ipykernel)",
   "language": "python",
   "name": "python3"
  },
  "language_info": {
   "codemirror_mode": {
    "name": "ipython",
    "version": 3
   },
   "file_extension": ".py",
   "mimetype": "text/x-python",
   "name": "python",
   "nbconvert_exporter": "python",
   "pygments_lexer": "ipython3",
   "version": "3.7.12"
  }
 },
 "nbformat": 4,
 "nbformat_minor": 5
}
