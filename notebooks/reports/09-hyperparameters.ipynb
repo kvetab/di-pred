{
 "cells": [
  {
   "cell_type": "code",
   "execution_count": 3,
   "id": "2582094c-74bb-4186-90fc-aeb161fc16ee",
   "metadata": {},
   "outputs": [],
   "source": [
    "import pandas as pd\n",
    "import numpy as np\n",
    "import json\n",
    "import csv\n",
    "import os\n",
    "from os import path"
   ]
  },
  {
   "cell_type": "code",
   "execution_count": 2,
   "id": "8708c279-eb21-4a56-8ea4-94849092e66e",
   "metadata": {},
   "outputs": [],
   "source": [
    "DATA_DIR = \"../../data\""
   ]
  },
  {
   "cell_type": "code",
   "execution_count": 6,
   "id": "e2cfa8ef-cb53-48c9-9228-5da47aad2019",
   "metadata": {},
   "outputs": [],
   "source": [
    "MODEL_NAMES = [\"kNN\", \"logistic_regression\", \"random_forest\", \"multilayer_perceptron\", \"SVM\", \"gradient_boosting\"]\n",
    "DATA_REPS = [\"integer_encoded\", \"pybiomed\", \"protparam\", \"bert\", \"seqvec\", \"sapiens\", \"onehot\"]"
   ]
  },
  {
   "cell_type": "code",
   "execution_count": 20,
   "id": "4cbf74c0-92b6-4f57-82c9-5bae3460f706",
   "metadata": {},
   "outputs": [],
   "source": [
    "NICE_LABELS = {\n",
    "    \"kNN\": \"k-NN\",\n",
    "    \"logistic_regression\": \"Logistic regression\", \n",
    "    \"random_forest\": \"Random forest\", \n",
    "    \"multilayer_perceptron\": \"Multilayer perceptron\", \n",
    "    \"SVM\": \"SVM\", \n",
    "    \"gradient_boosting\": \"Gradient boosting\",\n",
    "    \"integer_encoded\": \"Integer encoded\", \n",
    "    \"pybiomed\": \"PyBioMed\", \n",
    "    \"protparam\": \"ProtParam\", \n",
    "    \"bert\": \"BERT\", \n",
    "    \"seqvec\": \"SeqVec\", \n",
    "    \"sapiens\": \"Sapiens\", \n",
    "    \"onehot\": \"One-hot\"\n",
    "}"
   ]
  },
  {
   "cell_type": "code",
   "execution_count": 21,
   "id": "1f9b51f2-3c7b-4e4c-9e1a-bf22ec104b3e",
   "metadata": {},
   "outputs": [],
   "source": [
    "def get_model_and_data_from_name(filename):\n",
    "    for mod in MODEL_NAMES:\n",
    "        if filename.startswith(mod):\n",
    "            model_type = NICE_LABELS[mod]\n",
    "    for dat in DATA_REPS:\n",
    "        if dat in filename:\n",
    "            data_rep = NICE_LABELS[dat]\n",
    "    return model_type, data_rep"
   ]
  },
  {
   "cell_type": "code",
   "execution_count": 22,
   "id": "8b70fa05-d06c-41bf-8dc6-3da1259bd64e",
   "metadata": {},
   "outputs": [],
   "source": [
    "hyperparameters = {\n",
    "            \"model_type\": [],\n",
    "            \"data_rep\": [],\n",
    "            \"parameters\": []\n",
    "        }\n",
    "for filename in os.listdir(path.join(DATA_DIR, \"evaluations/hyperparameters/\")):\n",
    "    if filename.endswith(\"json\"):\n",
    "        model_type, data_rep = get_model_and_data_from_name(filename)\n",
    "        params = json.load(open(path.join(DATA_DIR, \"evaluations/hyperparameters/\", filename)))\n",
    "        hyperparameters[\"model_type\"].append(model_type)\n",
    "        hyperparameters[\"data_rep\"].append(data_rep)\n",
    "        hyperparameters[\"parameters\"].append(params)\n",
    "        "
   ]
  },
  {
   "cell_type": "code",
   "execution_count": 24,
   "id": "4d6597c5-7bd9-4ebb-8a2f-33a1c4a392db",
   "metadata": {},
   "outputs": [],
   "source": [
    "hyperparams_df = pd.DataFrame(hyperparameters)"
   ]
  },
  {
   "cell_type": "code",
   "execution_count": 26,
   "id": "57478998-35f1-47f5-91ef-9cfe182f3ef2",
   "metadata": {},
   "outputs": [],
   "source": [
    "hyperparams_df.to_csv(path.join(DATA_DIR, \"evaluations/hyperparameters_excel.csv\"), sep=\"\\t\")"
   ]
  },
  {
   "cell_type": "code",
   "execution_count": null,
   "id": "fae12f15-4950-43cd-8e7c-356e85fa5318",
   "metadata": {},
   "outputs": [],
   "source": []
  }
 ],
 "metadata": {
  "kernelspec": {
   "display_name": "Python 3 (ipykernel)",
   "language": "python",
   "name": "python3"
  },
  "language_info": {
   "codemirror_mode": {
    "name": "ipython",
    "version": 3
   },
   "file_extension": ".py",
   "mimetype": "text/x-python",
   "name": "python",
   "nbconvert_exporter": "python",
   "pygments_lexer": "ipython3",
   "version": "3.7.12"
  }
 },
 "nbformat": 4,
 "nbformat_minor": 5
}
