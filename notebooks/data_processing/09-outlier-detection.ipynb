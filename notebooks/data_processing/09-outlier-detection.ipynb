{
 "cells": [
  {
   "cell_type": "code",
   "execution_count": 1,
   "id": "66dead3e-5050-455c-9037-9c67a563bd87",
   "metadata": {},
   "outputs": [],
   "source": [
    "import pandas as pd\n",
    "import numpy as np\n",
    "from os import path\n",
    "from sklearn.decomposition import PCA\n",
    "import matplotlib.pyplot as plt"
   ]
  },
  {
   "cell_type": "code",
   "execution_count": 2,
   "id": "9f13ca31-2c03-49a7-90cf-20bca3a83a80",
   "metadata": {},
   "outputs": [],
   "source": [
    "DATA_DIR = \"../../data/\""
   ]
  },
  {
   "cell_type": "code",
   "execution_count": null,
   "id": "7084fd35-e2f4-43f7-8e50-fdd601389032",
   "metadata": {},
   "outputs": [],
   "source": [
    "encodings = [\"abnumber\", \"embeddings_orig\", \"embeddings_bert\", \"embeddings_seqvec\", \"pybiomed\",\n",
    "            \"protparam\", \"integer\"]\n",
    "paths = {\n",
    "    \"abnumber\": [\"chen/abnumber/chen_heavy_one_hot.ftr\", \"chen/abnumber/chen_light_one_hot.ftr\"],\n",
    "    \"embeddings_orig\": \"\",\n",
    "    \"embeddings_bert\": \"\",\n",
    "    \"embeddings_seqvec\": \"\",\n",
    "    \"pybiomed\": \"\",\n",
    "    \"protparam\": \"\",\n",
    "    \"integer\": \"\"\n",
    "}"
   ]
  }
 ],
 "metadata": {
  "kernelspec": {
   "display_name": "Python 3 (ipykernel)",
   "language": "python",
   "name": "python3"
  },
  "language_info": {
   "codemirror_mode": {
    "name": "ipython",
    "version": 3
   },
   "file_extension": ".py",
   "mimetype": "text/x-python",
   "name": "python",
   "nbconvert_exporter": "python",
   "pygments_lexer": "ipython3",
   "version": "3.7.10"
  }
 },
 "nbformat": 4,
 "nbformat_minor": 5
}
