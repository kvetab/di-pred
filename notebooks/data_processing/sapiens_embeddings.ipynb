{
 "cells": [
  {
   "cell_type": "code",
   "execution_count": 1,
   "id": "36caf76e-7d5a-4a45-95a9-d4f04dbfe463",
   "metadata": {},
   "outputs": [],
   "source": [
    "import numpy as np\n",
    "from biophi.humanization.methods.sapiens.predict import sapiens_predict_seq, sapiens_predict_chain\n",
    "import pandas as pd\n",
    "import numpy as np\n",
    "import torch\n",
    "from abnumber import Chain"
   ]
  },
  {
   "cell_type": "code",
   "execution_count": 52,
   "id": "60daeb99-3f95-496a-9077-a622d76d61e1",
   "metadata": {},
   "outputs": [],
   "source": [
    "def get_embeds(chain):\n",
    "    pred, extra = sapiens_predict_seq(\n",
    "        seq=chain.seq[:142],\n",
    "        chain_type=chain.chain_type,\n",
    "        return_all_hiddens=True\n",
    "    )\n",
    "    return extra"
   ]
  },
  {
   "cell_type": "code",
   "execution_count": 53,
   "id": "bd4d97da-c002-4078-924a-c33eca6ea358",
   "metadata": {},
   "outputs": [],
   "source": [
    "def embed_seq(seq, layer=4):\n",
    "    #if len(seq) > 142:\n",
    "    #    seq = seq[:142]\n",
    "    if seq == \"QVQLQESGPRLVKPSDTLSLTCTVSGGSITSDSHYWGWVRQSPGKGLEWIASTSDSGSTYHNRPIYYNPSLKSRVTISVATSKNQFSLKLRSVTAADTAMYYCVRQWRYSSGSLDCWGQGILVTVSS\" or seq == \"EPQLQESGPTLVEASETLSLTCAVSGDSTAACNSFWGWVRQPPGKGLEWVGSLSHCASYWNRGWTYHNPSLKSRLTLALDTPKNLVFLKLNSVTAADTATYYCARFGGEVLRYTDWPKPAWVDLWGRGTLVTVSS\":\n",
    "        pred, extra = sapiens_predict_seq(seq, chain_type=\"H\", model_version='latest', return_all_hiddens=True)\n",
    "    else:\n",
    "        ch = Chain(seq, \"imgt\")\n",
    "        extra = get_embeds(ch)\n",
    "    layer_state = extra['inner_states'][layer]\n",
    "    #layer_reduced = torch.mean(fourth, (0, 1))\n",
    "    \n",
    "    return layer_state"
   ]
  },
  {
   "cell_type": "code",
   "execution_count": 7,
   "id": "b70f80e5-808b-4e6c-9e6b-e5a6788004a5",
   "metadata": {},
   "outputs": [
    {
     "data": {
      "text/html": [
       "<div>\n",
       "<style scoped>\n",
       "    .dataframe tbody tr th:only-of-type {\n",
       "        vertical-align: middle;\n",
       "    }\n",
       "\n",
       "    .dataframe tbody tr th {\n",
       "        vertical-align: top;\n",
       "    }\n",
       "\n",
       "    .dataframe thead th {\n",
       "        text-align: right;\n",
       "    }\n",
       "</style>\n",
       "<table border=\"1\" class=\"dataframe\">\n",
       "  <thead>\n",
       "    <tr style=\"text-align: right;\">\n",
       "      <th></th>\n",
       "      <th>Antibody_ID</th>\n",
       "      <th>heavy</th>\n",
       "      <th>light</th>\n",
       "      <th>Y</th>\n",
       "    </tr>\n",
       "  </thead>\n",
       "  <tbody>\n",
       "    <tr>\n",
       "      <th>0</th>\n",
       "      <td>12e8</td>\n",
       "      <td>EVQLQQSGAEVVRSGASVKLSCTASGFNIKDYYIHWVKQRPEKGLE...</td>\n",
       "      <td>DIVMTQSQKFMSTSVGDRVSITCKASQNVGTAVAWYQQKPGQSPKL...</td>\n",
       "      <td>0</td>\n",
       "    </tr>\n",
       "    <tr>\n",
       "      <th>1</th>\n",
       "      <td>15c8</td>\n",
       "      <td>EVQLQQSGAELVKPGASVKLSCTASGFNIKDTYMHWVKQKPEQGLE...</td>\n",
       "      <td>DIVLTQSPAIMSASLGERVTMTCTASSSVSSSNLHWYQQKPGSSPK...</td>\n",
       "      <td>0</td>\n",
       "    </tr>\n",
       "    <tr>\n",
       "      <th>2</th>\n",
       "      <td>1a0q</td>\n",
       "      <td>EVQLQESDAELVKPGASVKISCKASGYTFTDHVIHWVKQKPEQGLE...</td>\n",
       "      <td>DIELTQSPSSLSASLGGKVTITCKASQDIKKYIGWYQHKPGKQPRL...</td>\n",
       "      <td>1</td>\n",
       "    </tr>\n",
       "    <tr>\n",
       "      <th>3</th>\n",
       "      <td>1a14</td>\n",
       "      <td>QVQLQQSGAELVKPGASVRMSCKASGYTFTNYNMYWVKQSPGQGLE...</td>\n",
       "      <td>DIELTQTTSSLSASLGDRVTISCRASQDISNYLNWYQQNPDGTVKL...</td>\n",
       "      <td>0</td>\n",
       "    </tr>\n",
       "    <tr>\n",
       "      <th>4</th>\n",
       "      <td>1a2y</td>\n",
       "      <td>QVQLQESGPGLVAPSQSLSITCTVSGFSLTGYGVNWVRQPPGKGLE...</td>\n",
       "      <td>DIVLTQSPASLSASVGETVTITCRASGNIHNYLAWYQQKQGKSPQL...</td>\n",
       "      <td>0</td>\n",
       "    </tr>\n",
       "  </tbody>\n",
       "</table>\n",
       "</div>"
      ],
      "text/plain": [
       "  Antibody_ID                                              heavy  \\\n",
       "0        12e8  EVQLQQSGAEVVRSGASVKLSCTASGFNIKDYYIHWVKQRPEKGLE...   \n",
       "1        15c8  EVQLQQSGAELVKPGASVKLSCTASGFNIKDTYMHWVKQKPEQGLE...   \n",
       "2        1a0q  EVQLQESDAELVKPGASVKISCKASGYTFTDHVIHWVKQKPEQGLE...   \n",
       "3        1a14  QVQLQQSGAELVKPGASVRMSCKASGYTFTNYNMYWVKQSPGQGLE...   \n",
       "4        1a2y  QVQLQESGPGLVAPSQSLSITCTVSGFSLTGYGVNWVRQPPGKGLE...   \n",
       "\n",
       "                                               light  Y  \n",
       "0  DIVMTQSQKFMSTSVGDRVSITCKASQNVGTAVAWYQQKPGQSPKL...  0  \n",
       "1  DIVLTQSPAIMSASLGERVTMTCTASSSVSSSNLHWYQQKPGSSPK...  0  \n",
       "2  DIELTQSPSSLSASLGGKVTITCKASQDIKKYIGWYQHKPGKQPRL...  1  \n",
       "3  DIELTQTTSSLSASLGDRVTISCRASQDISNYLNWYQQNPDGTVKL...  0  \n",
       "4  DIVLTQSPASLSASVGETVTITCRASGNIHNYLAWYQQKQGKSPQL...  0  "
      ]
     },
     "execution_count": 7,
     "metadata": {},
     "output_type": "execute_result"
    }
   ],
   "source": [
    "chen_data = pd.read_csv(\"../diplomka/di-pred/data/chen/deduplicated/chen_data.csv\", index_col=0)\n",
    "chen_data.head()"
   ]
  },
  {
   "cell_type": "code",
   "execution_count": 5,
   "id": "2a67e7a7-87b1-41bb-a675-4b21edcdaf26",
   "metadata": {},
   "outputs": [],
   "source": [
    "aa_embeddings = {}"
   ]
  },
  {
   "cell_type": "code",
   "execution_count": 74,
   "id": "f1fadd15-f866-4103-95d4-ec2b06e3491c",
   "metadata": {
    "scrolled": true,
    "tags": []
   },
   "outputs": [
    {
     "name": "stdout",
     "output_type": "stream",
     "text": [
      "EVQVVESGGGVVQPGRSLRLSCTASGFTFSNFAMGWVRQAPGKGLEWVAFISSDGSNKNYGDSVKGRFTISRDNSKNTVFLQMNSLRVEDTALYYCAKDVGDYKSDEWGT\n",
      "index 108 is out of bounds for axis 0 with size 108\n"
     ]
    }
   ],
   "source": [
    "for seq in chen_data[\"heavy\"]:\n",
    "    embeds = embed_seq(seq, 4).numpy()\n",
    "    for i, aa in enumerate(seq[1:-1]):\n",
    "        if i > 142:\n",
    "            break\n",
    "        this_aa = aa_embeddings.get(aa, [])\n",
    "        try:\n",
    "            this_aa.append(embeds[i+1][0])\n",
    "            aa_embeddings[aa] = this_aa\n",
    "        except IndexError as e:\n",
    "            print(seq)\n",
    "            print(e)\n",
    "            break"
   ]
  },
  {
   "cell_type": "code",
   "execution_count": 77,
   "id": "4c2e50ee-ee6b-40d3-b004-e54ef8cd5f2e",
   "metadata": {},
   "outputs": [
    {
     "data": {
      "text/plain": [
       "19623"
      ]
     },
     "execution_count": 77,
     "metadata": {},
     "output_type": "execute_result"
    }
   ],
   "source": [
    "len(aa_embeddings[\"G\"])"
   ]
  },
  {
   "cell_type": "code",
   "execution_count": 83,
   "id": "41a09d9f-6dc4-4c11-8cbc-b7ee11cbd6e7",
   "metadata": {},
   "outputs": [],
   "source": [
    "avg_embeddings = {}\n",
    "for aa, embeds in aa_embeddings.items():\n",
    "    avg_embeddings[aa] = np.mean(embeds, axis=0)"
   ]
  },
  {
   "cell_type": "code",
   "execution_count": 84,
   "id": "8eaf0d8e-88d3-497a-a489-8cb33b070164",
   "metadata": {},
   "outputs": [
    {
     "data": {
      "text/plain": [
       "array([-0.05875249,  0.26576903,  0.0694622 , -0.04194905,  0.24161631,\n",
       "        0.225295  ,  0.13105331, -0.6727761 , -0.28621334,  0.06681649,\n",
       "       -0.10881362, -0.10429356,  0.03664941, -0.1732501 ,  0.04213296,\n",
       "        0.15052891, -0.3503338 ,  0.15385324, -0.08361631,  0.41532037,\n",
       "        0.1271534 , -0.09759319, -0.05075373, -0.25410998, -0.02562373,\n",
       "       -0.15043558, -0.4387302 , -0.04847994,  0.05231755,  0.10069021,\n",
       "       -0.4691429 , -0.13991734, -0.21416298,  0.418264  ,  0.03282569,\n",
       "        0.439319  , -0.16062318,  0.10267996,  0.66527367, -0.40021572,\n",
       "        0.3700225 ,  0.25961298, -0.01539211,  0.12580693, -0.5059533 ,\n",
       "        0.12072579, -0.36542618, -0.01035052,  0.04767674, -0.66159546,\n",
       "        0.05294256, -0.15926789,  0.01952326, -0.37280717, -0.10008378,\n",
       "        0.4121887 ,  0.04799857, -0.12909476,  0.0144723 , -0.21966751,\n",
       "       -0.66507626, -0.5529061 ,  0.07887878, -0.06207951,  0.90561277,\n",
       "        0.25843486,  0.03269519, -0.28554687, -0.08815382,  0.03991679,\n",
       "       -0.09872735,  0.02467234, -0.60649073,  0.6072701 , -0.07226904,\n",
       "        0.20383269, -0.34632286,  0.19635707,  0.24412176,  0.02338426,\n",
       "       -0.52708524, -0.13857028, -0.02065156, -0.73504376, -0.20553932,\n",
       "       -0.33620048,  0.10471293, -0.11079109, -0.00661485,  0.19869325,\n",
       "       -0.08671845,  0.24052218, -0.19536194,  0.07934733, -0.2755336 ,\n",
       "        0.16147038,  0.28863493, -0.19088593,  0.01201501, -0.06785869,\n",
       "       -0.20652351, -0.14655836,  0.23631223, -0.01470821,  0.6378856 ,\n",
       "       -0.10439369,  0.06738754, -0.03375055, -0.27310547, -0.38481417,\n",
       "       -0.00994001,  0.06810293, -0.19346933, -0.01240663, -0.00662972,\n",
       "        0.65609413,  0.09877949,  0.2443437 , -0.36346722, -0.1527922 ,\n",
       "        0.3887572 ,  0.0679123 , -0.17379734, -0.17820443, -0.68535584,\n",
       "        0.04178876, -3.0318687 ,  0.1277606 ], dtype=float32)"
      ]
     },
     "execution_count": 84,
     "metadata": {},
     "output_type": "execute_result"
    }
   ],
   "source": [
    "avg_embeddings[\"G\"]"
   ]
  },
  {
   "cell_type": "code",
   "execution_count": 85,
   "id": "e6e2adb9-f219-4f8f-863a-137996fb8e43",
   "metadata": {},
   "outputs": [],
   "source": [
    "del(aa_embeddings)"
   ]
  },
  {
   "cell_type": "code",
   "execution_count": 86,
   "id": "5bb02f48-24ae-4166-8f7c-94e89fae7bf2",
   "metadata": {},
   "outputs": [],
   "source": [
    "for aa, embeds in avg_embeddings.items():\n",
    "    np.savetxt(f\"../diplomka/di-pred/data/aa_embeds/{aa}.txt\", embeds)"
   ]
  },
  {
   "cell_type": "code",
   "execution_count": null,
   "id": "c4da7210-3db9-4407-8254-9d61a97a4fe3",
   "metadata": {},
   "outputs": [],
   "source": []
  }
 ],
 "metadata": {
  "kernelspec": {
   "display_name": "Python 3 (ipykernel)",
   "language": "python",
   "name": "python3"
  },
  "language_info": {
   "codemirror_mode": {
    "name": "ipython",
    "version": 3
   },
   "file_extension": ".py",
   "mimetype": "text/x-python",
   "name": "python",
   "nbconvert_exporter": "python",
   "pygments_lexer": "ipython3",
   "version": "3.8.12"
  }
 },
 "nbformat": 4,
 "nbformat_minor": 5
}
