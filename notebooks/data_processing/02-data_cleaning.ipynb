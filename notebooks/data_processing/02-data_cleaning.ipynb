{
 "cells": [
  {
   "cell_type": "code",
   "execution_count": 1,
   "id": "42d0ded0-b6a5-4c71-a926-d5c2f33a47ae",
   "metadata": {},
   "outputs": [],
   "source": [
    "import pandas as pd\n",
    "import numpy as np\n",
    "from os import path"
   ]
  },
  {
   "cell_type": "code",
   "execution_count": 2,
   "id": "9669eae9-53cc-4b4f-95c9-161ab26f3a72",
   "metadata": {},
   "outputs": [],
   "source": [
    "DATA_DIR = \"../../data\""
   ]
  },
  {
   "cell_type": "markdown",
   "id": "443ca046-dcf6-4b25-92fd-ab91b26e2a92",
   "metadata": {},
   "source": [
    "# SAbDab (Chen)"
   ]
  },
  {
   "cell_type": "code",
   "execution_count": 3,
   "id": "0d88c07b-a12e-4a9f-8f03-263cdf47213e",
   "metadata": {},
   "outputs": [
    {
     "data": {
      "text/html": [
       "<div>\n",
       "<style scoped>\n",
       "    .dataframe tbody tr th:only-of-type {\n",
       "        vertical-align: middle;\n",
       "    }\n",
       "\n",
       "    .dataframe tbody tr th {\n",
       "        vertical-align: top;\n",
       "    }\n",
       "\n",
       "    .dataframe thead th {\n",
       "        text-align: right;\n",
       "    }\n",
       "</style>\n",
       "<table border=\"1\" class=\"dataframe\">\n",
       "  <thead>\n",
       "    <tr style=\"text-align: right;\">\n",
       "      <th></th>\n",
       "      <th>Antibody_ID</th>\n",
       "      <th>heavy</th>\n",
       "      <th>light</th>\n",
       "      <th>Y</th>\n",
       "    </tr>\n",
       "  </thead>\n",
       "  <tbody>\n",
       "    <tr>\n",
       "      <th>0</th>\n",
       "      <td>12e8</td>\n",
       "      <td>EVQLQQSGAEVVRSGASVKLSCTASGFNIKDYYIHWVKQRPEKGLE...</td>\n",
       "      <td>DIVMTQSQKFMSTSVGDRVSITCKASQNVGTAVAWYQQKPGQSPKL...</td>\n",
       "      <td>0</td>\n",
       "    </tr>\n",
       "    <tr>\n",
       "      <th>1</th>\n",
       "      <td>15c8</td>\n",
       "      <td>EVQLQQSGAELVKPGASVKLSCTASGFNIKDTYMHWVKQKPEQGLE...</td>\n",
       "      <td>DIVLTQSPAIMSASLGERVTMTCTASSSVSSSNLHWYQQKPGSSPK...</td>\n",
       "      <td>0</td>\n",
       "    </tr>\n",
       "    <tr>\n",
       "      <th>2</th>\n",
       "      <td>1a0q</td>\n",
       "      <td>EVQLQESDAELVKPGASVKISCKASGYTFTDHVIHWVKQKPEQGLE...</td>\n",
       "      <td>DIELTQSPSSLSASLGGKVTITCKASQDIKKYIGWYQHKPGKQPRL...</td>\n",
       "      <td>1</td>\n",
       "    </tr>\n",
       "    <tr>\n",
       "      <th>3</th>\n",
       "      <td>1a14</td>\n",
       "      <td>QVQLQQSGAELVKPGASVRMSCKASGYTFTNYNMYWVKQSPGQGLE...</td>\n",
       "      <td>DIELTQTTSSLSASLGDRVTISCRASQDISNYLNWYQQNPDGTVKL...</td>\n",
       "      <td>0</td>\n",
       "    </tr>\n",
       "    <tr>\n",
       "      <th>4</th>\n",
       "      <td>1a2y</td>\n",
       "      <td>QVQLQESGPGLVAPSQSLSITCTVSGFSLTGYGVNWVRQPPGKGLE...</td>\n",
       "      <td>DIVLTQSPASLSASVGETVTITCRASGNIHNYLAWYQQKQGKSPQL...</td>\n",
       "      <td>0</td>\n",
       "    </tr>\n",
       "  </tbody>\n",
       "</table>\n",
       "</div>"
      ],
      "text/plain": [
       "  Antibody_ID                                              heavy  \\\n",
       "0        12e8  EVQLQQSGAEVVRSGASVKLSCTASGFNIKDYYIHWVKQRPEKGLE...   \n",
       "1        15c8  EVQLQQSGAELVKPGASVKLSCTASGFNIKDTYMHWVKQKPEQGLE...   \n",
       "2        1a0q  EVQLQESDAELVKPGASVKISCKASGYTFTDHVIHWVKQKPEQGLE...   \n",
       "3        1a14  QVQLQQSGAELVKPGASVRMSCKASGYTFTNYNMYWVKQSPGQGLE...   \n",
       "4        1a2y  QVQLQESGPGLVAPSQSLSITCTVSGFSLTGYGVNWVRQPPGKGLE...   \n",
       "\n",
       "                                               light  Y  \n",
       "0  DIVMTQSQKFMSTSVGDRVSITCKASQNVGTAVAWYQQKPGQSPKL...  0  \n",
       "1  DIVLTQSPAIMSASLGERVTMTCTASSSVSSSNLHWYQQKPGSSPK...  0  \n",
       "2  DIELTQSPSSLSASLGGKVTITCKASQDIKKYIGWYQHKPGKQPRL...  1  \n",
       "3  DIELTQTTSSLSASLGDRVTISCRASQDISNYLNWYQQNPDGTVKL...  0  \n",
       "4  DIVLTQSPASLSASVGETVTITCRASGNIHNYLAWYQQKQGKSPQL...  0  "
      ]
     },
     "execution_count": 3,
     "metadata": {},
     "output_type": "execute_result"
    }
   ],
   "source": [
    "chen_data = pd.read_csv(path.join(DATA_DIR, \"chen/chen_data.csv\"))\n",
    "chen_data.head()"
   ]
  },
  {
   "cell_type": "markdown",
   "id": "98267816-01cc-459d-87b8-e0e28870cc00",
   "metadata": {},
   "source": [
    "## Look for duplicates"
   ]
  },
  {
   "cell_type": "code",
   "execution_count": 4,
   "id": "d15d0922-f5a3-4ed0-9e78-9e3635f441aa",
   "metadata": {},
   "outputs": [
    {
     "data": {
      "text/html": [
       "<div>\n",
       "<style scoped>\n",
       "    .dataframe tbody tr th:only-of-type {\n",
       "        vertical-align: middle;\n",
       "    }\n",
       "\n",
       "    .dataframe tbody tr th {\n",
       "        vertical-align: top;\n",
       "    }\n",
       "\n",
       "    .dataframe thead th {\n",
       "        text-align: right;\n",
       "    }\n",
       "</style>\n",
       "<table border=\"1\" class=\"dataframe\">\n",
       "  <thead>\n",
       "    <tr style=\"text-align: right;\">\n",
       "      <th></th>\n",
       "      <th>Antibody_ID</th>\n",
       "      <th>heavy</th>\n",
       "      <th>light</th>\n",
       "      <th>Y</th>\n",
       "    </tr>\n",
       "  </thead>\n",
       "  <tbody>\n",
       "    <tr>\n",
       "      <th>13</th>\n",
       "      <td>1a6w</td>\n",
       "      <td>QVQLQQPGAELVKPGASVKLSCKASGYTFTSYWMHWVKQRPGRGLE...</td>\n",
       "      <td>AVVTQESALTTSPGETVTLTCRSSTGAVTTSNYANWVQEKPDHLFT...</td>\n",
       "      <td>0</td>\n",
       "    </tr>\n",
       "    <tr>\n",
       "      <th>33</th>\n",
       "      <td>1bbd</td>\n",
       "      <td>EVQLQQSGAELVRPGASVKLSCTTSGFNIKDIYIHWVKQRPEQGLE...</td>\n",
       "      <td>DIVMTQSPSSLTVTTGEKVTMTCKSSQSLLNSRTQKNYLTWYQQKP...</td>\n",
       "      <td>1</td>\n",
       "    </tr>\n",
       "    <tr>\n",
       "      <th>36</th>\n",
       "      <td>1bgx</td>\n",
       "      <td>EVQLQESGPGLVKPYQSLSLSCTVTGYSITSDYAWNWIRQFPGNKL...</td>\n",
       "      <td>DIQMTQSPAIMSASPGEKVTMTCSASSSVSYMYWYQQKPGSSPRLL...</td>\n",
       "      <td>0</td>\n",
       "    </tr>\n",
       "    <tr>\n",
       "      <th>43</th>\n",
       "      <td>1bvl</td>\n",
       "      <td>QVQLQESGPGLVRPSQTLSLTCTVSGFSLTGYGVNWVRQPPGRGLE...</td>\n",
       "      <td>DIQMTQSPSSLSASVGDRVTITCRASGNIHNYLAWYQQKPGKAPKL...</td>\n",
       "      <td>0</td>\n",
       "    </tr>\n",
       "    <tr>\n",
       "      <th>49</th>\n",
       "      <td>1c5c</td>\n",
       "      <td>QVQLLEPGTELVKPGASVKLSCRASGYSFTSYWMHWVKQRPGQGLE...</td>\n",
       "      <td>EIQLTQSPSSLSASLGERVSLTCRTSQEISGYLSWLQQKPDGTIKR...</td>\n",
       "      <td>0</td>\n",
       "    </tr>\n",
       "    <tr>\n",
       "      <th>...</th>\n",
       "      <td>...</td>\n",
       "      <td>...</td>\n",
       "      <td>...</td>\n",
       "      <td>...</td>\n",
       "    </tr>\n",
       "    <tr>\n",
       "      <th>2383</th>\n",
       "      <td>6pa0</td>\n",
       "      <td>QVQLQQPGAELVKPGASVKLSCKASGYTFTSDWIHWVKQRPGHGLE...</td>\n",
       "      <td>DILLTQSPAILSVSPGERVSFSCRASQSIGTDIHWYQQRTNGSPRL...</td>\n",
       "      <td>0</td>\n",
       "    </tr>\n",
       "    <tr>\n",
       "      <th>2386</th>\n",
       "      <td>6pe8</td>\n",
       "      <td>EVQLVESGGGLVKPGGSLRLSCAASGFTFSDYGMNWVRQAPGKGLE...</td>\n",
       "      <td>DIVMTQSPDSLAVSLGERATINCKSSQSLLNRGNQKNYLTWFQQKP...</td>\n",
       "      <td>0</td>\n",
       "    </tr>\n",
       "    <tr>\n",
       "      <th>2390</th>\n",
       "      <td>6phh</td>\n",
       "      <td>EVQLVESGGGLVQPGGSLRLSCVASGFTFSNYNMNWVRQAPGKGLE...</td>\n",
       "      <td>DIVMTQSPLSLPVTPGEPASISCRSSQSLLHNGYNYLDWYLQKPGQ...</td>\n",
       "      <td>0</td>\n",
       "    </tr>\n",
       "    <tr>\n",
       "      <th>2392</th>\n",
       "      <td>6pxh</td>\n",
       "      <td>QVQLQQSGGELVKPGASVKLSCKTSGFTFSSSYISWLKQKPGQSLE...</td>\n",
       "      <td>QLVLTQSPASLAVSLGQRATISCRASESVDNYGISFMNWFQQKPGQ...</td>\n",
       "      <td>0</td>\n",
       "    </tr>\n",
       "    <tr>\n",
       "      <th>2399</th>\n",
       "      <td>6qnk</td>\n",
       "      <td>DVQLVESGGGLVQPGGSRKLSCSASGFAFSSFGMHWVRQAPEKGLE...</td>\n",
       "      <td>DIVMTQATSSVPVTPGESVSISCRSSKSLLHSNGNTYLYWFLQRPG...</td>\n",
       "      <td>0</td>\n",
       "    </tr>\n",
       "  </tbody>\n",
       "</table>\n",
       "<p>817 rows × 4 columns</p>\n",
       "</div>"
      ],
      "text/plain": [
       "     Antibody_ID                                              heavy  \\\n",
       "13          1a6w  QVQLQQPGAELVKPGASVKLSCKASGYTFTSYWMHWVKQRPGRGLE...   \n",
       "33          1bbd  EVQLQQSGAELVRPGASVKLSCTTSGFNIKDIYIHWVKQRPEQGLE...   \n",
       "36          1bgx  EVQLQESGPGLVKPYQSLSLSCTVTGYSITSDYAWNWIRQFPGNKL...   \n",
       "43          1bvl  QVQLQESGPGLVRPSQTLSLTCTVSGFSLTGYGVNWVRQPPGRGLE...   \n",
       "49          1c5c  QVQLLEPGTELVKPGASVKLSCRASGYSFTSYWMHWVKQRPGQGLE...   \n",
       "...          ...                                                ...   \n",
       "2383        6pa0  QVQLQQPGAELVKPGASVKLSCKASGYTFTSDWIHWVKQRPGHGLE...   \n",
       "2386        6pe8  EVQLVESGGGLVKPGGSLRLSCAASGFTFSDYGMNWVRQAPGKGLE...   \n",
       "2390        6phh  EVQLVESGGGLVQPGGSLRLSCVASGFTFSNYNMNWVRQAPGKGLE...   \n",
       "2392        6pxh  QVQLQQSGGELVKPGASVKLSCKTSGFTFSSSYISWLKQKPGQSLE...   \n",
       "2399        6qnk  DVQLVESGGGLVQPGGSRKLSCSASGFAFSSFGMHWVRQAPEKGLE...   \n",
       "\n",
       "                                                  light  Y  \n",
       "13    AVVTQESALTTSPGETVTLTCRSSTGAVTTSNYANWVQEKPDHLFT...  0  \n",
       "33    DIVMTQSPSSLTVTTGEKVTMTCKSSQSLLNSRTQKNYLTWYQQKP...  1  \n",
       "36    DIQMTQSPAIMSASPGEKVTMTCSASSSVSYMYWYQQKPGSSPRLL...  0  \n",
       "43    DIQMTQSPSSLSASVGDRVTITCRASGNIHNYLAWYQQKPGKAPKL...  0  \n",
       "49    EIQLTQSPSSLSASLGERVSLTCRTSQEISGYLSWLQQKPDGTIKR...  0  \n",
       "...                                                 ... ..  \n",
       "2383  DILLTQSPAILSVSPGERVSFSCRASQSIGTDIHWYQQRTNGSPRL...  0  \n",
       "2386  DIVMTQSPDSLAVSLGERATINCKSSQSLLNRGNQKNYLTWFQQKP...  0  \n",
       "2390  DIVMTQSPLSLPVTPGEPASISCRSSQSLLHNGYNYLDWYLQKPGQ...  0  \n",
       "2392  QLVLTQSPASLAVSLGQRATISCRASESVDNYGISFMNWFQQKPGQ...  0  \n",
       "2399  DIVMTQATSSVPVTPGESVSISCRSSKSLLHSNGNTYLYWFLQRPG...  0  \n",
       "\n",
       "[817 rows x 4 columns]"
      ]
     },
     "execution_count": 4,
     "metadata": {},
     "output_type": "execute_result"
    }
   ],
   "source": [
    "chen_data[chen_data.duplicated([\"heavy\", \"light\"])]"
   ]
  },
  {
   "cell_type": "markdown",
   "id": "7312cc39-adef-4826-89d0-29676a1e6696",
   "metadata": {},
   "source": [
    "817 duplicated rows"
   ]
  },
  {
   "cell_type": "code",
   "execution_count": 5,
   "id": "06c5d4ad-7492-4359-a972-f796b75c0f88",
   "metadata": {},
   "outputs": [
    {
     "data": {
      "text/html": [
       "<div>\n",
       "<style scoped>\n",
       "    .dataframe tbody tr th:only-of-type {\n",
       "        vertical-align: middle;\n",
       "    }\n",
       "\n",
       "    .dataframe tbody tr th {\n",
       "        vertical-align: top;\n",
       "    }\n",
       "\n",
       "    .dataframe thead th {\n",
       "        text-align: right;\n",
       "    }\n",
       "</style>\n",
       "<table border=\"1\" class=\"dataframe\">\n",
       "  <thead>\n",
       "    <tr style=\"text-align: right;\">\n",
       "      <th></th>\n",
       "      <th>Antibody_ID</th>\n",
       "      <th>heavy</th>\n",
       "      <th>light</th>\n",
       "      <th>Y</th>\n",
       "    </tr>\n",
       "  </thead>\n",
       "  <tbody>\n",
       "    <tr>\n",
       "      <th>13</th>\n",
       "      <td>1a6w</td>\n",
       "      <td>QVQLQQPGAELVKPGASVKLSCKASGYTFTSYWMHWVKQRPGRGLE...</td>\n",
       "      <td>AVVTQESALTTSPGETVTLTCRSSTGAVTTSNYANWVQEKPDHLFT...</td>\n",
       "      <td>0</td>\n",
       "    </tr>\n",
       "    <tr>\n",
       "      <th>36</th>\n",
       "      <td>1bgx</td>\n",
       "      <td>EVQLQESGPGLVKPYQSLSLSCTVTGYSITSDYAWNWIRQFPGNKL...</td>\n",
       "      <td>DIQMTQSPAIMSASPGEKVTMTCSASSSVSYMYWYQQKPGSSPRLL...</td>\n",
       "      <td>0</td>\n",
       "    </tr>\n",
       "    <tr>\n",
       "      <th>43</th>\n",
       "      <td>1bvl</td>\n",
       "      <td>QVQLQESGPGLVRPSQTLSLTCTVSGFSLTGYGVNWVRQPPGRGLE...</td>\n",
       "      <td>DIQMTQSPSSLSASVGDRVTITCRASGNIHNYLAWYQQKPGKAPKL...</td>\n",
       "      <td>0</td>\n",
       "    </tr>\n",
       "    <tr>\n",
       "      <th>54</th>\n",
       "      <td>1cfn</td>\n",
       "      <td>QDQLQQSGAELVRPGASVKLSCKALGYIFTDYEIHWVKQTPVHGLE...</td>\n",
       "      <td>DIKMTQSPSSMYTSLGERVTITCKASQDINSFLTWFLQKPGKSPKT...</td>\n",
       "      <td>0</td>\n",
       "    </tr>\n",
       "    <tr>\n",
       "      <th>55</th>\n",
       "      <td>1cfq</td>\n",
       "      <td>QDQLQQSGAELVRPGASVKLSCKALGYIFTDYEIHWVKQTPVHGLE...</td>\n",
       "      <td>DIKMTQSPSSMYTSLGERVTITCKASQDINSFLTWFLQKPGKSPKT...</td>\n",
       "      <td>0</td>\n",
       "    </tr>\n",
       "    <tr>\n",
       "      <th>...</th>\n",
       "      <td>...</td>\n",
       "      <td>...</td>\n",
       "      <td>...</td>\n",
       "      <td>...</td>\n",
       "    </tr>\n",
       "    <tr>\n",
       "      <th>2383</th>\n",
       "      <td>6pa0</td>\n",
       "      <td>QVQLQQPGAELVKPGASVKLSCKASGYTFTSDWIHWVKQRPGHGLE...</td>\n",
       "      <td>DILLTQSPAILSVSPGERVSFSCRASQSIGTDIHWYQQRTNGSPRL...</td>\n",
       "      <td>0</td>\n",
       "    </tr>\n",
       "    <tr>\n",
       "      <th>2386</th>\n",
       "      <td>6pe8</td>\n",
       "      <td>EVQLVESGGGLVKPGGSLRLSCAASGFTFSDYGMNWVRQAPGKGLE...</td>\n",
       "      <td>DIVMTQSPDSLAVSLGERATINCKSSQSLLNRGNQKNYLTWFQQKP...</td>\n",
       "      <td>0</td>\n",
       "    </tr>\n",
       "    <tr>\n",
       "      <th>2390</th>\n",
       "      <td>6phh</td>\n",
       "      <td>EVQLVESGGGLVQPGGSLRLSCVASGFTFSNYNMNWVRQAPGKGLE...</td>\n",
       "      <td>DIVMTQSPLSLPVTPGEPASISCRSSQSLLHNGYNYLDWYLQKPGQ...</td>\n",
       "      <td>0</td>\n",
       "    </tr>\n",
       "    <tr>\n",
       "      <th>2392</th>\n",
       "      <td>6pxh</td>\n",
       "      <td>QVQLQQSGGELVKPGASVKLSCKTSGFTFSSSYISWLKQKPGQSLE...</td>\n",
       "      <td>QLVLTQSPASLAVSLGQRATISCRASESVDNYGISFMNWFQQKPGQ...</td>\n",
       "      <td>0</td>\n",
       "    </tr>\n",
       "    <tr>\n",
       "      <th>2399</th>\n",
       "      <td>6qnk</td>\n",
       "      <td>DVQLVESGGGLVQPGGSRKLSCSASGFAFSSFGMHWVRQAPEKGLE...</td>\n",
       "      <td>DIVMTQATSSVPVTPGESVSISCRSSKSLLHSNGNTYLYWFLQRPG...</td>\n",
       "      <td>0</td>\n",
       "    </tr>\n",
       "  </tbody>\n",
       "</table>\n",
       "<p>776 rows × 4 columns</p>\n",
       "</div>"
      ],
      "text/plain": [
       "     Antibody_ID                                              heavy  \\\n",
       "13          1a6w  QVQLQQPGAELVKPGASVKLSCKASGYTFTSYWMHWVKQRPGRGLE...   \n",
       "36          1bgx  EVQLQESGPGLVKPYQSLSLSCTVTGYSITSDYAWNWIRQFPGNKL...   \n",
       "43          1bvl  QVQLQESGPGLVRPSQTLSLTCTVSGFSLTGYGVNWVRQPPGRGLE...   \n",
       "54          1cfn  QDQLQQSGAELVRPGASVKLSCKALGYIFTDYEIHWVKQTPVHGLE...   \n",
       "55          1cfq  QDQLQQSGAELVRPGASVKLSCKALGYIFTDYEIHWVKQTPVHGLE...   \n",
       "...          ...                                                ...   \n",
       "2383        6pa0  QVQLQQPGAELVKPGASVKLSCKASGYTFTSDWIHWVKQRPGHGLE...   \n",
       "2386        6pe8  EVQLVESGGGLVKPGGSLRLSCAASGFTFSDYGMNWVRQAPGKGLE...   \n",
       "2390        6phh  EVQLVESGGGLVQPGGSLRLSCVASGFTFSNYNMNWVRQAPGKGLE...   \n",
       "2392        6pxh  QVQLQQSGGELVKPGASVKLSCKTSGFTFSSSYISWLKQKPGQSLE...   \n",
       "2399        6qnk  DVQLVESGGGLVQPGGSRKLSCSASGFAFSSFGMHWVRQAPEKGLE...   \n",
       "\n",
       "                                                  light  Y  \n",
       "13    AVVTQESALTTSPGETVTLTCRSSTGAVTTSNYANWVQEKPDHLFT...  0  \n",
       "36    DIQMTQSPAIMSASPGEKVTMTCSASSSVSYMYWYQQKPGSSPRLL...  0  \n",
       "43    DIQMTQSPSSLSASVGDRVTITCRASGNIHNYLAWYQQKPGKAPKL...  0  \n",
       "54    DIKMTQSPSSMYTSLGERVTITCKASQDINSFLTWFLQKPGKSPKT...  0  \n",
       "55    DIKMTQSPSSMYTSLGERVTITCKASQDINSFLTWFLQKPGKSPKT...  0  \n",
       "...                                                 ... ..  \n",
       "2383  DILLTQSPAILSVSPGERVSFSCRASQSIGTDIHWYQQRTNGSPRL...  0  \n",
       "2386  DIVMTQSPDSLAVSLGERATINCKSSQSLLNRGNQKNYLTWFQQKP...  0  \n",
       "2390  DIVMTQSPLSLPVTPGEPASISCRSSQSLLHNGYNYLDWYLQKPGQ...  0  \n",
       "2392  QLVLTQSPASLAVSLGQRATISCRASESVDNYGISFMNWFQQKPGQ...  0  \n",
       "2399  DIVMTQATSSVPVTPGESVSISCRSSKSLLHSNGNTYLYWFLQRPG...  0  \n",
       "\n",
       "[776 rows x 4 columns]"
      ]
     },
     "execution_count": 5,
     "metadata": {},
     "output_type": "execute_result"
    }
   ],
   "source": [
    "chen_data[chen_data.duplicated([\"heavy\", \"light\", \"Y\"])]"
   ]
  },
  {
   "cell_type": "code",
   "execution_count": 6,
   "id": "0842a4e1-1f13-41b6-9980-d1e57b7d537a",
   "metadata": {},
   "outputs": [
    {
     "data": {
      "text/plain": [
       "41"
      ]
     },
     "execution_count": 6,
     "metadata": {},
     "output_type": "execute_result"
    }
   ],
   "source": [
    "817-776"
   ]
  },
  {
   "cell_type": "markdown",
   "id": "59a3daac-7e20-4121-bb86-ff6d478c2015",
   "metadata": {},
   "source": [
    "41 of these have different labels."
   ]
  },
  {
   "cell_type": "markdown",
   "id": "0fc466df-7df7-4fbb-8a37-0554835e778b",
   "metadata": {},
   "source": [
    "## Data cleaning\n",
    "Remove all sequences with two different labels  \n",
    "For each other duplicate, remove one of the rows"
   ]
  },
  {
   "cell_type": "code",
   "execution_count": 7,
   "id": "8ba446c4-451a-4886-b8c9-f808396e370d",
   "metadata": {},
   "outputs": [
    {
     "data": {
      "text/plain": [
       "56"
      ]
     },
     "execution_count": 7,
     "metadata": {},
     "output_type": "execute_result"
    }
   ],
   "source": [
    "# all duplicated rows (both/all duplicates)\n",
    "dup = chen_data[chen_data.duplicated([\"heavy\", \"light\"], keep=False)]\n",
    "# all duplicated rows except for different labels\n",
    "dup_lab = chen_data[chen_data.duplicated([\"heavy\", \"light\", \"Y\"], keep=False)]\n",
    "# difference of the two = rows with mismatching labels\n",
    "mism = dup[~dup.index.isin(dup_lab.index)]\n",
    "len(mism)"
   ]
  },
  {
   "cell_type": "code",
   "execution_count": 13,
   "id": "260ca100-b66c-44fd-b181-e44975eca4f8",
   "metadata": {},
   "outputs": [
    {
     "data": {
      "text/plain": [
       "35"
      ]
     },
     "execution_count": 13,
     "metadata": {},
     "output_type": "execute_result"
    }
   ],
   "source": [
    "# Number of distinct antibodies in the mism group\n",
    "len(mism.drop_duplicates([\"heavy\", \"light\"]))"
   ]
  },
  {
   "cell_type": "code",
   "execution_count": 10,
   "id": "c19fe3df-4ad6-4c72-b934-b64069365332",
   "metadata": {},
   "outputs": [
    {
     "data": {
      "text/plain": [
       "21"
      ]
     },
     "execution_count": 10,
     "metadata": {},
     "output_type": "execute_result"
    }
   ],
   "source": [
    "len(mism[mism.duplicated([\"heavy\", \"light\"])])"
   ]
  },
  {
   "cell_type": "code",
   "execution_count": 34,
   "id": "1ffe39d7-6740-4edb-8dae-cae208cc9d68",
   "metadata": {},
   "outputs": [
    {
     "data": {
      "text/plain": [
       "heavy    QIQLVQSGPELKKPGETVKISCKASGYTFTDYSVHWVKQVPGKGLK...\n",
       "light    DIQLTQSPSSLAMSGGQKVTMRCKSSQSLLNSRNERNYLAWYQQKP...\n",
       "Name: 886, dtype: object"
      ]
     },
     "execution_count": 34,
     "metadata": {},
     "output_type": "execute_result"
    }
   ],
   "source": [
    "ab = mism[[\"heavy\", \"light\"]].iloc[23]\n",
    "ab"
   ]
  },
  {
   "cell_type": "code",
   "execution_count": 35,
   "id": "531b706f-ecea-417e-a8b5-73d6bc94e114",
   "metadata": {},
   "outputs": [
    {
     "data": {
      "text/html": [
       "<div>\n",
       "<style scoped>\n",
       "    .dataframe tbody tr th:only-of-type {\n",
       "        vertical-align: middle;\n",
       "    }\n",
       "\n",
       "    .dataframe tbody tr th {\n",
       "        vertical-align: top;\n",
       "    }\n",
       "\n",
       "    .dataframe thead th {\n",
       "        text-align: right;\n",
       "    }\n",
       "</style>\n",
       "<table border=\"1\" class=\"dataframe\">\n",
       "  <thead>\n",
       "    <tr style=\"text-align: right;\">\n",
       "      <th></th>\n",
       "      <th>Antibody_ID</th>\n",
       "      <th>heavy</th>\n",
       "      <th>light</th>\n",
       "      <th>Y</th>\n",
       "    </tr>\n",
       "  </thead>\n",
       "  <tbody>\n",
       "    <tr>\n",
       "      <th>886</th>\n",
       "      <td>3mnv</td>\n",
       "      <td>QIQLVQSGPELKKPGETVKISCKASGYTFTDYSVHWVKQVPGKGLK...</td>\n",
       "      <td>DIQLTQSPSSLAMSGGQKVTMRCKSSQSLLNSRNERNYLAWYQQKP...</td>\n",
       "      <td>1</td>\n",
       "    </tr>\n",
       "    <tr>\n",
       "      <th>887</th>\n",
       "      <td>3mnw</td>\n",
       "      <td>QIQLVQSGPELKKPGETVKISCKASGYTFTDYSVHWVKQVPGKGLK...</td>\n",
       "      <td>DIQLTQSPSSLAMSGGQKVTMRCKSSQSLLNSRNERNYLAWYQQKP...</td>\n",
       "      <td>0</td>\n",
       "    </tr>\n",
       "    <tr>\n",
       "      <th>888</th>\n",
       "      <td>3mnz</td>\n",
       "      <td>QIQLVQSGPELKKPGETVKISCKASGYTFTDYSVHWVKQVPGKGLK...</td>\n",
       "      <td>DIQLTQSPSSLAMSGGQKVTMRCKSSQSLLNSRNERNYLAWYQQKP...</td>\n",
       "      <td>0</td>\n",
       "    </tr>\n",
       "    <tr>\n",
       "      <th>889</th>\n",
       "      <td>3mo1</td>\n",
       "      <td>QIQLVQSGPELKKPGETVKISCKASGYTFTDYSVHWVKQVPGKGLK...</td>\n",
       "      <td>DIQLTQSPSSLAMSGGQKVTMRCKSSQSLLNSRNERNYLAWYQQKP...</td>\n",
       "      <td>0</td>\n",
       "    </tr>\n",
       "  </tbody>\n",
       "</table>\n",
       "</div>"
      ],
      "text/plain": [
       "    Antibody_ID                                              heavy  \\\n",
       "886        3mnv  QIQLVQSGPELKKPGETVKISCKASGYTFTDYSVHWVKQVPGKGLK...   \n",
       "887        3mnw  QIQLVQSGPELKKPGETVKISCKASGYTFTDYSVHWVKQVPGKGLK...   \n",
       "888        3mnz  QIQLVQSGPELKKPGETVKISCKASGYTFTDYSVHWVKQVPGKGLK...   \n",
       "889        3mo1  QIQLVQSGPELKKPGETVKISCKASGYTFTDYSVHWVKQVPGKGLK...   \n",
       "\n",
       "                                                 light  Y  \n",
       "886  DIQLTQSPSSLAMSGGQKVTMRCKSSQSLLNSRNERNYLAWYQQKP...  1  \n",
       "887  DIQLTQSPSSLAMSGGQKVTMRCKSSQSLLNSRNERNYLAWYQQKP...  0  \n",
       "888  DIQLTQSPSSLAMSGGQKVTMRCKSSQSLLNSRNERNYLAWYQQKP...  0  \n",
       "889  DIQLTQSPSSLAMSGGQKVTMRCKSSQSLLNSRNERNYLAWYQQKP...  0  "
      ]
     },
     "execution_count": 35,
     "metadata": {},
     "output_type": "execute_result"
    }
   ],
   "source": [
    "chen_data[(chen_data[\"heavy\"] == ab[\"heavy\"]) & (chen_data[\"light\"] == ab[\"light\"])]"
   ]
  },
  {
   "cell_type": "code",
   "execution_count": 32,
   "id": "68ac6146-119d-4891-9255-18682e742c9a",
   "metadata": {},
   "outputs": [],
   "source": [
    "indices = []\n",
    "for i, ab in mism[[\"heavy\", \"light\"]].iterrows():\n",
    "    indices += list(chen_data[(chen_data[\"heavy\"] == ab[\"heavy\"]) & (chen_data[\"light\"] == ab[\"light\"])].index)"
   ]
  },
  {
   "cell_type": "code",
   "execution_count": 33,
   "id": "b795fb6c-c25d-4cca-ad28-44f78b977734",
   "metadata": {},
   "outputs": [
    {
     "data": {
      "text/plain": [
       "133"
      ]
     },
     "execution_count": 33,
     "metadata": {},
     "output_type": "execute_result"
    }
   ],
   "source": [
    "len(indices)"
   ]
  },
  {
   "cell_type": "code",
   "execution_count": 42,
   "id": "58305c13-f608-4cab-a81f-9205d02da28a",
   "metadata": {},
   "outputs": [
    {
     "data": {
      "text/plain": [
       "2318"
      ]
     },
     "execution_count": 42,
     "metadata": {},
     "output_type": "execute_result"
    }
   ],
   "source": [
    "no_conflicts = chen_data.drop(indices)\n",
    "len(chen_data.drop(indices))"
   ]
  },
  {
   "cell_type": "code",
   "execution_count": 44,
   "id": "f798fce8-a1cd-4701-a858-bdca8c90ddda",
   "metadata": {},
   "outputs": [
    {
     "data": {
      "text/plain": [
       "761"
      ]
     },
     "execution_count": 44,
     "metadata": {},
     "output_type": "execute_result"
    }
   ],
   "source": [
    "len(no_conflicts[no_conflicts.duplicated([\"heavy\", \"light\"])])"
   ]
  },
  {
   "cell_type": "code",
   "execution_count": 45,
   "id": "b55c04ad-64a5-4552-b597-00cad111adbd",
   "metadata": {},
   "outputs": [
    {
     "data": {
      "text/plain": [
       "1557"
      ]
     },
     "execution_count": 45,
     "metadata": {},
     "output_type": "execute_result"
    }
   ],
   "source": [
    "len(no_conflicts.drop_duplicates([\"heavy\", \"light\"]))"
   ]
  },
  {
   "cell_type": "code",
   "execution_count": 46,
   "id": "b61b0474-5740-420a-b2db-dc221ef4b6ff",
   "metadata": {},
   "outputs": [
    {
     "data": {
      "text/plain": [
       "'QIQLVQSGPELKKPGETVKISCKASGYTFTDYSVHWVKQVPGKGLKWMGWINTETGEPTYADDFKGRFAFSLESSASTAYLEIHNLKNEDTATYFCALGWLHWGLGTTLTVSS'"
      ]
     },
     "execution_count": 46,
     "metadata": {},
     "output_type": "execute_result"
    }
   ],
   "source": [
    "ab[\"heavy\"]"
   ]
  },
  {
   "cell_type": "code",
   "execution_count": null,
   "id": "084c130a-c157-49b6-a249-7f1c9cee2490",
   "metadata": {},
   "outputs": [],
   "source": []
  },
  {
   "cell_type": "code",
   "execution_count": 18,
   "id": "6f7b39b2-1ecf-444c-b4db-90a136109a41",
   "metadata": {},
   "outputs": [],
   "source": [
    "# indices to drop from dataframe\n",
    "to_drop = list(mism.index)"
   ]
  },
  {
   "cell_type": "code",
   "execution_count": 20,
   "id": "96489af0-8eae-475e-985e-c9e81600e73d",
   "metadata": {},
   "outputs": [
    {
     "data": {
      "text/plain": [
       "776"
      ]
     },
     "execution_count": 20,
     "metadata": {},
     "output_type": "execute_result"
    }
   ],
   "source": [
    "# duplicates with the same label\n",
    "dup_lab = chen_data[chen_data.duplicated([\"heavy\", \"light\", \"Y\"])]\n",
    "len(dup_lab)"
   ]
  },
  {
   "cell_type": "code",
   "execution_count": 22,
   "id": "f9a58954-2fab-481b-a981-d9d6e3906a8e",
   "metadata": {},
   "outputs": [
    {
     "data": {
      "text/plain": [
       "400"
      ]
     },
     "execution_count": 22,
     "metadata": {},
     "output_type": "execute_result"
    }
   ],
   "source": [
    "dup_lab.duplicated([\"heavy\", \"light\"]).sum()\n"
   ]
  },
  {
   "cell_type": "code",
   "execution_count": 23,
   "id": "32c1bec3-9e14-4186-9e33-6bc5fdd0681a",
   "metadata": {},
   "outputs": [
    {
     "data": {
      "text/plain": [
       "2353"
      ]
     },
     "execution_count": 23,
     "metadata": {},
     "output_type": "execute_result"
    }
   ],
   "source": [
    "# remove the 56 mismatched rows\n",
    "chen_data.drop(to_drop, axis=0, inplace=True)\n",
    "len(chen_data)"
   ]
  },
  {
   "cell_type": "code",
   "execution_count": 26,
   "id": "0fa23c7b-fbe5-4d2c-a783-d057ee5c487d",
   "metadata": {},
   "outputs": [
    {
     "name": "stdout",
     "output_type": "stream",
     "text": [
      "1577\n"
     ]
    },
    {
     "data": {
      "text/html": [
       "<div>\n",
       "<style scoped>\n",
       "    .dataframe tbody tr th:only-of-type {\n",
       "        vertical-align: middle;\n",
       "    }\n",
       "\n",
       "    .dataframe tbody tr th {\n",
       "        vertical-align: top;\n",
       "    }\n",
       "\n",
       "    .dataframe thead th {\n",
       "        text-align: right;\n",
       "    }\n",
       "</style>\n",
       "<table border=\"1\" class=\"dataframe\">\n",
       "  <thead>\n",
       "    <tr style=\"text-align: right;\">\n",
       "      <th></th>\n",
       "      <th>Antibody_ID</th>\n",
       "      <th>heavy</th>\n",
       "      <th>light</th>\n",
       "      <th>Y</th>\n",
       "    </tr>\n",
       "  </thead>\n",
       "  <tbody>\n",
       "    <tr>\n",
       "      <th>0</th>\n",
       "      <td>12e8</td>\n",
       "      <td>EVQLQQSGAEVVRSGASVKLSCTASGFNIKDYYIHWVKQRPEKGLE...</td>\n",
       "      <td>DIVMTQSQKFMSTSVGDRVSITCKASQNVGTAVAWYQQKPGQSPKL...</td>\n",
       "      <td>0</td>\n",
       "    </tr>\n",
       "    <tr>\n",
       "      <th>1</th>\n",
       "      <td>15c8</td>\n",
       "      <td>EVQLQQSGAELVKPGASVKLSCTASGFNIKDTYMHWVKQKPEQGLE...</td>\n",
       "      <td>DIVLTQSPAIMSASLGERVTMTCTASSSVSSSNLHWYQQKPGSSPK...</td>\n",
       "      <td>0</td>\n",
       "    </tr>\n",
       "    <tr>\n",
       "      <th>2</th>\n",
       "      <td>1a0q</td>\n",
       "      <td>EVQLQESDAELVKPGASVKISCKASGYTFTDHVIHWVKQKPEQGLE...</td>\n",
       "      <td>DIELTQSPSSLSASLGGKVTITCKASQDIKKYIGWYQHKPGKQPRL...</td>\n",
       "      <td>1</td>\n",
       "    </tr>\n",
       "    <tr>\n",
       "      <th>3</th>\n",
       "      <td>1a14</td>\n",
       "      <td>QVQLQQSGAELVKPGASVRMSCKASGYTFTNYNMYWVKQSPGQGLE...</td>\n",
       "      <td>DIELTQTTSSLSASLGDRVTISCRASQDISNYLNWYQQNPDGTVKL...</td>\n",
       "      <td>0</td>\n",
       "    </tr>\n",
       "    <tr>\n",
       "      <th>4</th>\n",
       "      <td>1a2y</td>\n",
       "      <td>QVQLQESGPGLVAPSQSLSITCTVSGFSLTGYGVNWVRQPPGKGLE...</td>\n",
       "      <td>DIVLTQSPASLSASVGETVTITCRASGNIHNYLAWYQQKQGKSPQL...</td>\n",
       "      <td>0</td>\n",
       "    </tr>\n",
       "  </tbody>\n",
       "</table>\n",
       "</div>"
      ],
      "text/plain": [
       "  Antibody_ID                                              heavy  \\\n",
       "0        12e8  EVQLQQSGAEVVRSGASVKLSCTASGFNIKDYYIHWVKQRPEKGLE...   \n",
       "1        15c8  EVQLQQSGAELVKPGASVKLSCTASGFNIKDTYMHWVKQKPEQGLE...   \n",
       "2        1a0q  EVQLQESDAELVKPGASVKISCKASGYTFTDHVIHWVKQKPEQGLE...   \n",
       "3        1a14  QVQLQQSGAELVKPGASVRMSCKASGYTFTNYNMYWVKQSPGQGLE...   \n",
       "4        1a2y  QVQLQESGPGLVAPSQSLSITCTVSGFSLTGYGVNWVRQPPGKGLE...   \n",
       "\n",
       "                                               light  Y  \n",
       "0  DIVMTQSQKFMSTSVGDRVSITCKASQNVGTAVAWYQQKPGQSPKL...  0  \n",
       "1  DIVLTQSPAIMSASLGERVTMTCTASSSVSSSNLHWYQQKPGSSPK...  0  \n",
       "2  DIELTQSPSSLSASLGGKVTITCKASQDIKKYIGWYQHKPGKQPRL...  1  \n",
       "3  DIELTQTTSSLSASLGDRVTISCRASQDISNYLNWYQQNPDGTVKL...  0  \n",
       "4  DIVLTQSPASLSASVGETVTITCRASGNIHNYLAWYQQKQGKSPQL...  0  "
      ]
     },
     "execution_count": 26,
     "metadata": {},
     "output_type": "execute_result"
    }
   ],
   "source": [
    "# remove remaining duplicates (keep one of each unique sequence)\n",
    "chen_data.drop_duplicates([\"heavy\", \"light\", \"Y\"], keep=\"first\", inplace=True)\n",
    "print(len(chen_data))\n",
    "chen_data.head()"
   ]
  },
  {
   "cell_type": "code",
   "execution_count": 27,
   "id": "a854921d-09aa-469a-be43-47f462be0d03",
   "metadata": {},
   "outputs": [],
   "source": [
    "chen_data.to_csv(path.join(DATA_DIR, \"chen/deduplicated/chen_data.csv\"))"
   ]
  },
  {
   "cell_type": "code",
   "execution_count": null,
   "id": "1995a64b-0178-4c39-b393-510845638c31",
   "metadata": {},
   "outputs": [],
   "source": []
  },
  {
   "cell_type": "code",
   "execution_count": 15,
   "id": "5088096d-2f3a-4ae1-b2f2-02cc46e80b8e",
   "metadata": {},
   "outputs": [],
   "source": [
    "chen_data[\"whole\"] = chen_data[\"heavy\"] + \"#\" + chen_data[\"light\"]"
   ]
  },
  {
   "cell_type": "code",
   "execution_count": 27,
   "id": "e8cbeafd-b524-4ef4-bef5-9575714fb29e",
   "metadata": {},
   "outputs": [
    {
     "data": {
      "text/html": [
       "<div>\n",
       "<style scoped>\n",
       "    .dataframe tbody tr th:only-of-type {\n",
       "        vertical-align: middle;\n",
       "    }\n",
       "\n",
       "    .dataframe tbody tr th {\n",
       "        vertical-align: top;\n",
       "    }\n",
       "\n",
       "    .dataframe thead th {\n",
       "        text-align: right;\n",
       "    }\n",
       "</style>\n",
       "<table border=\"1\" class=\"dataframe\">\n",
       "  <thead>\n",
       "    <tr style=\"text-align: right;\">\n",
       "      <th></th>\n",
       "      <th>Antibody_ID</th>\n",
       "      <th>heavy</th>\n",
       "      <th>light</th>\n",
       "      <th>Y</th>\n",
       "      <th>whole</th>\n",
       "    </tr>\n",
       "  </thead>\n",
       "  <tbody>\n",
       "    <tr>\n",
       "      <th>6</th>\n",
       "      <td>1a3r</td>\n",
       "      <td>EVQLQQSGAELVRPGASVKLSCTTSGFNIKDIYIHWVKQRPEQGLE...</td>\n",
       "      <td>DIVMTQSPSSLTVTTGEKVTMTCKSSQSLLNSRTQKNYLTWYQQKP...</td>\n",
       "      <td>0</td>\n",
       "      <td>EVQLQQSGAELVRPGASVKLSCTTSGFNIKDIYIHWVKQRPEQGLE...</td>\n",
       "    </tr>\n",
       "    <tr>\n",
       "      <th>23</th>\n",
       "      <td>1aj7</td>\n",
       "      <td>QVQLQQSGAELVKPGASVKLSCTASGFNIKDTYMHWVKQRPEQGLE...</td>\n",
       "      <td>DIQMTQSPSSLSASLGERVSLTCRASQEISGYLSWLQQKPDGTIKR...</td>\n",
       "      <td>1</td>\n",
       "      <td>QVQLQQSGAELVKPGASVKLSCTASGFNIKDTYMHWVKQRPEQGLE...</td>\n",
       "    </tr>\n",
       "    <tr>\n",
       "      <th>33</th>\n",
       "      <td>1bbd</td>\n",
       "      <td>EVQLQQSGAELVRPGASVKLSCTTSGFNIKDIYIHWVKQRPEQGLE...</td>\n",
       "      <td>DIVMTQSPSSLTVTTGEKVTMTCKSSQSLLNSRTQKNYLTWYQQKP...</td>\n",
       "      <td>1</td>\n",
       "      <td>EVQLQQSGAELVRPGASVKLSCTTSGFNIKDIYIHWVKQRPEQGLE...</td>\n",
       "    </tr>\n",
       "    <tr>\n",
       "      <th>39</th>\n",
       "      <td>1bm3</td>\n",
       "      <td>EVQLVQSGGGLVNPGRSLKLSCAASGFTFSSYGMSWVRQTPEKRLE...</td>\n",
       "      <td>DELLTQSPATLSVTPGDSVSLSCRASQSISNNLHWYQQKSHESPRL...</td>\n",
       "      <td>1</td>\n",
       "      <td>EVQLVQSGGGLVNPGRSLKLSCAASGFTFSSYGMSWVRQTPEKRLE...</td>\n",
       "    </tr>\n",
       "    <tr>\n",
       "      <th>45</th>\n",
       "      <td>1c08</td>\n",
       "      <td>DVQLQESGPSLVKPSQTLSLTCSVTGDSITSDYWSWIRKFPGNRLE...</td>\n",
       "      <td>DIVLTQSPATLSVTPGNSVSLSCRASQSIGNNLHWYQQKSHESPRL...</td>\n",
       "      <td>0</td>\n",
       "      <td>DVQLQESGPSLVKPSQTLSLTCSVTGDSITSDYWSWIRKFPGNRLE...</td>\n",
       "    </tr>\n",
       "    <tr>\n",
       "      <th>...</th>\n",
       "      <td>...</td>\n",
       "      <td>...</td>\n",
       "      <td>...</td>\n",
       "      <td>...</td>\n",
       "      <td>...</td>\n",
       "    </tr>\n",
       "    <tr>\n",
       "      <th>2293</th>\n",
       "      <td>6j5f</td>\n",
       "      <td>QVQLQQSGPELVKPGASVKMSCKASGYTFTDYVIGWVKQRTGQGLE...</td>\n",
       "      <td>DIELTQSPASLSASVGETVTITCRASGNIHNYLAWYQQKQGKSPQL...</td>\n",
       "      <td>0</td>\n",
       "      <td>QVQLQQSGPELVKPGASVKMSCKASGYTFTDYVIGWVKQRTGQGLE...</td>\n",
       "    </tr>\n",
       "    <tr>\n",
       "      <th>2303</th>\n",
       "      <td>6med</td>\n",
       "      <td>QVQLVQSGAEVKKPGSSVKVSCKASGGTLNSYEITWVRQAPGQGLE...</td>\n",
       "      <td>DIQMTQSPSSLSASVGDRVTITCRAGQNINNYLNWYQQKPGKAPKV...</td>\n",
       "      <td>1</td>\n",
       "      <td>QVQLVQSGAEVKKPGSSVKVSCKASGGTLNSYEITWVRQAPGQGLE...</td>\n",
       "    </tr>\n",
       "    <tr>\n",
       "      <th>2308</th>\n",
       "      <td>6mei</td>\n",
       "      <td>QVQLVQSGAEVKKPGSSVKVSCKASGGTLNSYEITWVRQAPGQGLE...</td>\n",
       "      <td>DIQMTQSPSSLSASVGDRVTITCRAGQNINNYLNWYQQKPGKAPKV...</td>\n",
       "      <td>0</td>\n",
       "      <td>QVQLVQSGAEVKKPGSSVKVSCKASGGTLNSYEITWVRQAPGQGLE...</td>\n",
       "    </tr>\n",
       "    <tr>\n",
       "      <th>2309</th>\n",
       "      <td>6mej</td>\n",
       "      <td>QVQLVQSGAEVKKPGSSVKVSCKASGGTLNSYEITWVRQAPGQGLE...</td>\n",
       "      <td>DIQMTQSPSSLSASVGDRVTITCRAGQNINNYLNWYQQKPGKAPKV...</td>\n",
       "      <td>1</td>\n",
       "      <td>QVQLVQSGAEVKKPGSSVKVSCKASGGTLNSYEITWVRQAPGQGLE...</td>\n",
       "    </tr>\n",
       "    <tr>\n",
       "      <th>2313</th>\n",
       "      <td>6mh2</td>\n",
       "      <td>EVQLVESGGGLVQPGGSLRLSCAASGFNIKDTYIHWVRQAPGKGLE...</td>\n",
       "      <td>DIQMTQSPSSLSASVGDRVTITCRASQDVNTAVAWYQQKPGKAPKL...</td>\n",
       "      <td>0</td>\n",
       "      <td>EVQLVESGGGLVQPGGSLRLSCAASGFNIKDTYIHWVRQAPGKGLE...</td>\n",
       "    </tr>\n",
       "  </tbody>\n",
       "</table>\n",
       "<p>142 rows × 5 columns</p>\n",
       "</div>"
      ],
      "text/plain": [
       "     Antibody_ID                                              heavy  \\\n",
       "6           1a3r  EVQLQQSGAELVRPGASVKLSCTTSGFNIKDIYIHWVKQRPEQGLE...   \n",
       "23          1aj7  QVQLQQSGAELVKPGASVKLSCTASGFNIKDTYMHWVKQRPEQGLE...   \n",
       "33          1bbd  EVQLQQSGAELVRPGASVKLSCTTSGFNIKDIYIHWVKQRPEQGLE...   \n",
       "39          1bm3  EVQLVQSGGGLVNPGRSLKLSCAASGFTFSSYGMSWVRQTPEKRLE...   \n",
       "45          1c08  DVQLQESGPSLVKPSQTLSLTCSVTGDSITSDYWSWIRKFPGNRLE...   \n",
       "...          ...                                                ...   \n",
       "2293        6j5f  QVQLQQSGPELVKPGASVKMSCKASGYTFTDYVIGWVKQRTGQGLE...   \n",
       "2303        6med  QVQLVQSGAEVKKPGSSVKVSCKASGGTLNSYEITWVRQAPGQGLE...   \n",
       "2308        6mei  QVQLVQSGAEVKKPGSSVKVSCKASGGTLNSYEITWVRQAPGQGLE...   \n",
       "2309        6mej  QVQLVQSGAEVKKPGSSVKVSCKASGGTLNSYEITWVRQAPGQGLE...   \n",
       "2313        6mh2  EVQLVESGGGLVQPGGSLRLSCAASGFNIKDTYIHWVRQAPGKGLE...   \n",
       "\n",
       "                                                  light  Y  \\\n",
       "6     DIVMTQSPSSLTVTTGEKVTMTCKSSQSLLNSRTQKNYLTWYQQKP...  0   \n",
       "23    DIQMTQSPSSLSASLGERVSLTCRASQEISGYLSWLQQKPDGTIKR...  1   \n",
       "33    DIVMTQSPSSLTVTTGEKVTMTCKSSQSLLNSRTQKNYLTWYQQKP...  1   \n",
       "39    DELLTQSPATLSVTPGDSVSLSCRASQSISNNLHWYQQKSHESPRL...  1   \n",
       "45    DIVLTQSPATLSVTPGNSVSLSCRASQSIGNNLHWYQQKSHESPRL...  0   \n",
       "...                                                 ... ..   \n",
       "2293  DIELTQSPASLSASVGETVTITCRASGNIHNYLAWYQQKQGKSPQL...  0   \n",
       "2303  DIQMTQSPSSLSASVGDRVTITCRAGQNINNYLNWYQQKPGKAPKV...  1   \n",
       "2308  DIQMTQSPSSLSASVGDRVTITCRAGQNINNYLNWYQQKPGKAPKV...  0   \n",
       "2309  DIQMTQSPSSLSASVGDRVTITCRAGQNINNYLNWYQQKPGKAPKV...  1   \n",
       "2313  DIQMTQSPSSLSASVGDRVTITCRASQDVNTAVAWYQQKPGKAPKL...  0   \n",
       "\n",
       "                                                  whole  \n",
       "6     EVQLQQSGAELVRPGASVKLSCTTSGFNIKDIYIHWVKQRPEQGLE...  \n",
       "23    QVQLQQSGAELVKPGASVKLSCTASGFNIKDTYMHWVKQRPEQGLE...  \n",
       "33    EVQLQQSGAELVRPGASVKLSCTTSGFNIKDIYIHWVKQRPEQGLE...  \n",
       "39    EVQLVQSGGGLVNPGRSLKLSCAASGFTFSSYGMSWVRQTPEKRLE...  \n",
       "45    DVQLQESGPSLVKPSQTLSLTCSVTGDSITSDYWSWIRKFPGNRLE...  \n",
       "...                                                 ...  \n",
       "2293  QVQLQQSGPELVKPGASVKMSCKASGYTFTDYVIGWVKQRTGQGLE...  \n",
       "2303  QVQLVQSGAEVKKPGSSVKVSCKASGGTLNSYEITWVRQAPGQGLE...  \n",
       "2308  QVQLVQSGAEVKKPGSSVKVSCKASGGTLNSYEITWVRQAPGQGLE...  \n",
       "2309  QVQLVQSGAEVKKPGSSVKVSCKASGGTLNSYEITWVRQAPGQGLE...  \n",
       "2313  EVQLVESGGGLVQPGGSLRLSCAASGFNIKDTYIHWVRQAPGKGLE...  \n",
       "\n",
       "[142 rows x 5 columns]"
      ]
     },
     "execution_count": 27,
     "metadata": {},
     "output_type": "execute_result"
    }
   ],
   "source": [
    "multi_seq = chen_data.groupby([\"whole\"]).Y.nunique().gt(1)\n",
    "\n",
    "conflict_rows = chen_data.loc[chen_data[\"whole\"].isin(multi_seq[multi_seq].index)]\n",
    "conflict_rows"
   ]
  },
  {
   "cell_type": "code",
   "execution_count": 32,
   "id": "7a5f6cc5-f046-4675-9dc5-1934df8048c0",
   "metadata": {},
   "outputs": [
    {
     "data": {
      "text/plain": [
       "41"
      ]
     },
     "execution_count": 32,
     "metadata": {},
     "output_type": "execute_result"
    }
   ],
   "source": [
    "conflict_rows[\"whole\"].nunique()"
   ]
  },
  {
   "cell_type": "code",
   "execution_count": 35,
   "id": "9b6d76ff-bafa-40f9-b1d5-d7d9106794ca",
   "metadata": {},
   "outputs": [
    {
     "data": {
      "text/plain": [
       "2267"
      ]
     },
     "execution_count": 35,
     "metadata": {},
     "output_type": "execute_result"
    }
   ],
   "source": [
    "chen_data_f = chen_data.drop(conflict_rows.index)\n",
    "len(chen_data_f)"
   ]
  },
  {
   "cell_type": "code",
   "execution_count": 36,
   "id": "7824e270-8c22-4d45-a449-545803384075",
   "metadata": {},
   "outputs": [
    {
     "name": "stdout",
     "output_type": "stream",
     "text": [
      "1551\n"
     ]
    },
    {
     "data": {
      "text/html": [
       "<div>\n",
       "<style scoped>\n",
       "    .dataframe tbody tr th:only-of-type {\n",
       "        vertical-align: middle;\n",
       "    }\n",
       "\n",
       "    .dataframe tbody tr th {\n",
       "        vertical-align: top;\n",
       "    }\n",
       "\n",
       "    .dataframe thead th {\n",
       "        text-align: right;\n",
       "    }\n",
       "</style>\n",
       "<table border=\"1\" class=\"dataframe\">\n",
       "  <thead>\n",
       "    <tr style=\"text-align: right;\">\n",
       "      <th></th>\n",
       "      <th>Antibody_ID</th>\n",
       "      <th>heavy</th>\n",
       "      <th>light</th>\n",
       "      <th>Y</th>\n",
       "      <th>whole</th>\n",
       "    </tr>\n",
       "  </thead>\n",
       "  <tbody>\n",
       "    <tr>\n",
       "      <th>0</th>\n",
       "      <td>12e8</td>\n",
       "      <td>EVQLQQSGAEVVRSGASVKLSCTASGFNIKDYYIHWVKQRPEKGLE...</td>\n",
       "      <td>DIVMTQSQKFMSTSVGDRVSITCKASQNVGTAVAWYQQKPGQSPKL...</td>\n",
       "      <td>0</td>\n",
       "      <td>EVQLQQSGAEVVRSGASVKLSCTASGFNIKDYYIHWVKQRPEKGLE...</td>\n",
       "    </tr>\n",
       "    <tr>\n",
       "      <th>1</th>\n",
       "      <td>15c8</td>\n",
       "      <td>EVQLQQSGAELVKPGASVKLSCTASGFNIKDTYMHWVKQKPEQGLE...</td>\n",
       "      <td>DIVLTQSPAIMSASLGERVTMTCTASSSVSSSNLHWYQQKPGSSPK...</td>\n",
       "      <td>0</td>\n",
       "      <td>EVQLQQSGAELVKPGASVKLSCTASGFNIKDTYMHWVKQKPEQGLE...</td>\n",
       "    </tr>\n",
       "    <tr>\n",
       "      <th>2</th>\n",
       "      <td>1a0q</td>\n",
       "      <td>EVQLQESDAELVKPGASVKISCKASGYTFTDHVIHWVKQKPEQGLE...</td>\n",
       "      <td>DIELTQSPSSLSASLGGKVTITCKASQDIKKYIGWYQHKPGKQPRL...</td>\n",
       "      <td>1</td>\n",
       "      <td>EVQLQESDAELVKPGASVKISCKASGYTFTDHVIHWVKQKPEQGLE...</td>\n",
       "    </tr>\n",
       "    <tr>\n",
       "      <th>3</th>\n",
       "      <td>1a14</td>\n",
       "      <td>QVQLQQSGAELVKPGASVRMSCKASGYTFTNYNMYWVKQSPGQGLE...</td>\n",
       "      <td>DIELTQTTSSLSASLGDRVTISCRASQDISNYLNWYQQNPDGTVKL...</td>\n",
       "      <td>0</td>\n",
       "      <td>QVQLQQSGAELVKPGASVRMSCKASGYTFTNYNMYWVKQSPGQGLE...</td>\n",
       "    </tr>\n",
       "    <tr>\n",
       "      <th>4</th>\n",
       "      <td>1a2y</td>\n",
       "      <td>QVQLQESGPGLVAPSQSLSITCTVSGFSLTGYGVNWVRQPPGKGLE...</td>\n",
       "      <td>DIVLTQSPASLSASVGETVTITCRASGNIHNYLAWYQQKQGKSPQL...</td>\n",
       "      <td>0</td>\n",
       "      <td>QVQLQESGPGLVAPSQSLSITCTVSGFSLTGYGVNWVRQPPGKGLE...</td>\n",
       "    </tr>\n",
       "  </tbody>\n",
       "</table>\n",
       "</div>"
      ],
      "text/plain": [
       "  Antibody_ID                                              heavy  \\\n",
       "0        12e8  EVQLQQSGAEVVRSGASVKLSCTASGFNIKDYYIHWVKQRPEKGLE...   \n",
       "1        15c8  EVQLQQSGAELVKPGASVKLSCTASGFNIKDTYMHWVKQKPEQGLE...   \n",
       "2        1a0q  EVQLQESDAELVKPGASVKISCKASGYTFTDHVIHWVKQKPEQGLE...   \n",
       "3        1a14  QVQLQQSGAELVKPGASVRMSCKASGYTFTNYNMYWVKQSPGQGLE...   \n",
       "4        1a2y  QVQLQESGPGLVAPSQSLSITCTVSGFSLTGYGVNWVRQPPGKGLE...   \n",
       "\n",
       "                                               light  Y  \\\n",
       "0  DIVMTQSQKFMSTSVGDRVSITCKASQNVGTAVAWYQQKPGQSPKL...  0   \n",
       "1  DIVLTQSPAIMSASLGERVTMTCTASSSVSSSNLHWYQQKPGSSPK...  0   \n",
       "2  DIELTQSPSSLSASLGGKVTITCKASQDIKKYIGWYQHKPGKQPRL...  1   \n",
       "3  DIELTQTTSSLSASLGDRVTISCRASQDISNYLNWYQQNPDGTVKL...  0   \n",
       "4  DIVLTQSPASLSASVGETVTITCRASGNIHNYLAWYQQKQGKSPQL...  0   \n",
       "\n",
       "                                               whole  \n",
       "0  EVQLQQSGAEVVRSGASVKLSCTASGFNIKDYYIHWVKQRPEKGLE...  \n",
       "1  EVQLQQSGAELVKPGASVKLSCTASGFNIKDTYMHWVKQKPEQGLE...  \n",
       "2  EVQLQESDAELVKPGASVKISCKASGYTFTDHVIHWVKQKPEQGLE...  \n",
       "3  QVQLQQSGAELVKPGASVRMSCKASGYTFTNYNMYWVKQSPGQGLE...  \n",
       "4  QVQLQESGPGLVAPSQSLSITCTVSGFSLTGYGVNWVRQPPGKGLE...  "
      ]
     },
     "execution_count": 36,
     "metadata": {},
     "output_type": "execute_result"
    }
   ],
   "source": [
    "chen_data_f.drop_duplicates([\"heavy\", \"light\", \"Y\"], keep=\"first\", inplace=True)\n",
    "print(len(chen_data_f))\n",
    "chen_data_f.head()"
   ]
  },
  {
   "cell_type": "code",
   "execution_count": 38,
   "id": "12b34454-7126-4db4-a076-60f41c717bc2",
   "metadata": {},
   "outputs": [],
   "source": [
    "chen_data_f[[\"Antibody_ID\", \"heavy\", \"light\", \"Y\"]].to_csv(path.join(DATA_DIR, \"chen/deduplicated/chen_data.csv\"))"
   ]
  },
  {
   "cell_type": "code",
   "execution_count": null,
   "id": "1e891fac-3e20-44db-8994-389a955441a5",
   "metadata": {},
   "outputs": [],
   "source": []
  },
  {
   "cell_type": "markdown",
   "id": "f1fb1f0b-dd2b-423d-98d8-db340b0b7573",
   "metadata": {},
   "source": [
    "# TAP"
   ]
  },
  {
   "cell_type": "code",
   "execution_count": 47,
   "id": "e89f1a3d-dcd6-4217-ba72-abf1ed42f8ed",
   "metadata": {},
   "outputs": [
    {
     "data": {
      "text/html": [
       "<div>\n",
       "<style scoped>\n",
       "    .dataframe tbody tr th:only-of-type {\n",
       "        vertical-align: middle;\n",
       "    }\n",
       "\n",
       "    .dataframe tbody tr th {\n",
       "        vertical-align: top;\n",
       "    }\n",
       "\n",
       "    .dataframe thead th {\n",
       "        text-align: right;\n",
       "    }\n",
       "</style>\n",
       "<table border=\"1\" class=\"dataframe\">\n",
       "  <thead>\n",
       "    <tr style=\"text-align: right;\">\n",
       "      <th></th>\n",
       "      <th>Antibody_ID</th>\n",
       "      <th>heavy</th>\n",
       "      <th>light</th>\n",
       "      <th>CDR_length</th>\n",
       "      <th>PSH</th>\n",
       "      <th>PPC</th>\n",
       "      <th>PNC</th>\n",
       "      <th>SFvCSP</th>\n",
       "      <th>Y</th>\n",
       "    </tr>\n",
       "  </thead>\n",
       "  <tbody>\n",
       "    <tr>\n",
       "      <th>0</th>\n",
       "      <td>Abagovomab</td>\n",
       "      <td>QVKLQESGAELARPGASVKLSCKASGYTFTNYWMQWVKQRPGQGLD...</td>\n",
       "      <td>DIELTQSPASLSASVGETVTITCQASENIYSYLAWHQQKQGKSPQL...</td>\n",
       "      <td>46</td>\n",
       "      <td>129.7603</td>\n",
       "      <td>0.0000</td>\n",
       "      <td>0.0000</td>\n",
       "      <td>16.32</td>\n",
       "      <td>1</td>\n",
       "    </tr>\n",
       "    <tr>\n",
       "      <th>1</th>\n",
       "      <td>Abituzumab</td>\n",
       "      <td>QVQLQQSGGELAKPGASVKVSCKASGYTFSSFWMHWVRQAPGQGLE...</td>\n",
       "      <td>DIQMTQSPSSLSASVGDRVTITCRASQDISNYLAWYQQKPGKAPKL...</td>\n",
       "      <td>45</td>\n",
       "      <td>115.9106</td>\n",
       "      <td>0.0954</td>\n",
       "      <td>0.0421</td>\n",
       "      <td>-3.10</td>\n",
       "      <td>1</td>\n",
       "    </tr>\n",
       "    <tr>\n",
       "      <th>2</th>\n",
       "      <td>Abrilumab</td>\n",
       "      <td>QVQLVQSGAEVKKPGASVKVSCKVSGYTLSDLSIHWVRQAPGKGLE...</td>\n",
       "      <td>DIQMTQSPSSVSASVGDRVTITCRASQGISSWLAWYQQKPGKAPKL...</td>\n",
       "      <td>45</td>\n",
       "      <td>109.6995</td>\n",
       "      <td>0.0000</td>\n",
       "      <td>0.8965</td>\n",
       "      <td>-4.00</td>\n",
       "      <td>1</td>\n",
       "    </tr>\n",
       "    <tr>\n",
       "      <th>3</th>\n",
       "      <td>Actoxumab</td>\n",
       "      <td>QVQLVESGGGVVQPGRSLRLSCAASGFSFSNYGMHWVRQAPGKGLE...</td>\n",
       "      <td>DIQMTQSPSSVSASVGDRVTITCRASQGISSWLAWYQHKPGKAPKL...</td>\n",
       "      <td>49</td>\n",
       "      <td>112.6290</td>\n",
       "      <td>0.0000</td>\n",
       "      <td>1.1247</td>\n",
       "      <td>3.10</td>\n",
       "      <td>1</td>\n",
       "    </tr>\n",
       "    <tr>\n",
       "      <th>4</th>\n",
       "      <td>Adalimumab</td>\n",
       "      <td>EVQLVESGGGLVQPGRSLRLSCAASGFTFDDYAMHWVRQAPGKGLE...</td>\n",
       "      <td>DIQMTQSPSSLSASVGDRVTITCRASQGIRNYLAWYQQKPGKAPKL...</td>\n",
       "      <td>48</td>\n",
       "      <td>111.2512</td>\n",
       "      <td>0.0485</td>\n",
       "      <td>1.1364</td>\n",
       "      <td>-19.50</td>\n",
       "      <td>1</td>\n",
       "    </tr>\n",
       "  </tbody>\n",
       "</table>\n",
       "</div>"
      ],
      "text/plain": [
       "  Antibody_ID                                              heavy  \\\n",
       "0  Abagovomab  QVKLQESGAELARPGASVKLSCKASGYTFTNYWMQWVKQRPGQGLD...   \n",
       "1  Abituzumab  QVQLQQSGGELAKPGASVKVSCKASGYTFSSFWMHWVRQAPGQGLE...   \n",
       "2   Abrilumab  QVQLVQSGAEVKKPGASVKVSCKVSGYTLSDLSIHWVRQAPGKGLE...   \n",
       "3   Actoxumab  QVQLVESGGGVVQPGRSLRLSCAASGFSFSNYGMHWVRQAPGKGLE...   \n",
       "4  Adalimumab  EVQLVESGGGLVQPGRSLRLSCAASGFTFDDYAMHWVRQAPGKGLE...   \n",
       "\n",
       "                                               light  CDR_length       PSH  \\\n",
       "0  DIELTQSPASLSASVGETVTITCQASENIYSYLAWHQQKQGKSPQL...          46  129.7603   \n",
       "1  DIQMTQSPSSLSASVGDRVTITCRASQDISNYLAWYQQKPGKAPKL...          45  115.9106   \n",
       "2  DIQMTQSPSSVSASVGDRVTITCRASQGISSWLAWYQQKPGKAPKL...          45  109.6995   \n",
       "3  DIQMTQSPSSVSASVGDRVTITCRASQGISSWLAWYQHKPGKAPKL...          49  112.6290   \n",
       "4  DIQMTQSPSSLSASVGDRVTITCRASQGIRNYLAWYQQKPGKAPKL...          48  111.2512   \n",
       "\n",
       "      PPC     PNC  SFvCSP  Y  \n",
       "0  0.0000  0.0000   16.32  1  \n",
       "1  0.0954  0.0421   -3.10  1  \n",
       "2  0.0000  0.8965   -4.00  1  \n",
       "3  0.0000  1.1247    3.10  1  \n",
       "4  0.0485  1.1364  -19.50  1  "
      ]
     },
     "execution_count": 47,
     "metadata": {},
     "output_type": "execute_result"
    }
   ],
   "source": [
    "tap_data = pd.read_csv(path.join(DATA_DIR, \"tap/TAP_data.csv\"))\n",
    "tap_data.head()"
   ]
  },
  {
   "cell_type": "code",
   "execution_count": 58,
   "id": "89cdf697-6906-4293-a45d-e67d72c4830d",
   "metadata": {},
   "outputs": [
    {
     "data": {
      "text/html": [
       "<div>\n",
       "<style scoped>\n",
       "    .dataframe tbody tr th:only-of-type {\n",
       "        vertical-align: middle;\n",
       "    }\n",
       "\n",
       "    .dataframe tbody tr th {\n",
       "        vertical-align: top;\n",
       "    }\n",
       "\n",
       "    .dataframe thead th {\n",
       "        text-align: right;\n",
       "    }\n",
       "</style>\n",
       "<table border=\"1\" class=\"dataframe\">\n",
       "  <thead>\n",
       "    <tr style=\"text-align: right;\">\n",
       "      <th></th>\n",
       "      <th>Antibody_ID</th>\n",
       "      <th>heavy</th>\n",
       "      <th>light</th>\n",
       "      <th>CDR_length</th>\n",
       "      <th>PSH</th>\n",
       "      <th>PPC</th>\n",
       "      <th>PNC</th>\n",
       "      <th>SFvCSP</th>\n",
       "      <th>Y</th>\n",
       "    </tr>\n",
       "  </thead>\n",
       "  <tbody>\n",
       "  </tbody>\n",
       "</table>\n",
       "</div>"
      ],
      "text/plain": [
       "Empty DataFrame\n",
       "Columns: [Antibody_ID, heavy, light, CDR_length, PSH, PPC, PNC, SFvCSP, Y]\n",
       "Index: []"
      ]
     },
     "execution_count": 58,
     "metadata": {},
     "output_type": "execute_result"
    }
   ],
   "source": [
    "tap_data[tap_data.duplicated([\"heavy\", \"light\"], keep=False)]"
   ]
  },
  {
   "cell_type": "code",
   "execution_count": null,
   "id": "5cd668b6-7d29-4026-b717-d17d1215f53a",
   "metadata": {},
   "outputs": [],
   "source": []
  }
 ],
 "metadata": {
  "kernelspec": {
   "display_name": "Python 3 (ipykernel)",
   "language": "python",
   "name": "python3"
  },
  "language_info": {
   "codemirror_mode": {
    "name": "ipython",
    "version": 3
   },
   "file_extension": ".py",
   "mimetype": "text/x-python",
   "name": "python",
   "nbconvert_exporter": "python",
   "pygments_lexer": "ipython3",
   "version": "3.7.12"
  }
 },
 "nbformat": 4,
 "nbformat_minor": 5
}
