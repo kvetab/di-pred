{
 "cells": [
  {
   "cell_type": "code",
   "execution_count": 65,
   "id": "61de9217-fc18-486e-9bd0-60535c4b73d2",
   "metadata": {},
   "outputs": [],
   "source": [
    "import numpy as np\n",
    "import pandas as pd\n",
    "from os import path\n",
    "import matplotlib.pyplot as plt\n",
    "from tqdm import tqdm\n",
    "import umap\n",
    "from sklearn.cluster import AgglomerativeClustering\n",
    "import seaborn as sns\n",
    "from sklearn.model_selection import train_test_split"
   ]
  },
  {
   "cell_type": "code",
   "execution_count": 2,
   "id": "7d6f1d70-548b-4b5d-ba99-582c48412cd9",
   "metadata": {},
   "outputs": [],
   "source": [
    "DATA_DIR = \"../../data\""
   ]
  },
  {
   "cell_type": "code",
   "execution_count": 3,
   "id": "21b01098-85ae-4b0d-a6a1-62631f044610",
   "metadata": {},
   "outputs": [
    {
     "data": {
      "text/html": [
       "<div>\n",
       "<style scoped>\n",
       "    .dataframe tbody tr th:only-of-type {\n",
       "        vertical-align: middle;\n",
       "    }\n",
       "\n",
       "    .dataframe tbody tr th {\n",
       "        vertical-align: top;\n",
       "    }\n",
       "\n",
       "    .dataframe thead th {\n",
       "        text-align: right;\n",
       "    }\n",
       "</style>\n",
       "<table border=\"1\" class=\"dataframe\">\n",
       "  <thead>\n",
       "    <tr style=\"text-align: right;\">\n",
       "      <th></th>\n",
       "      <th>Antibody_ID</th>\n",
       "      <th>heavy</th>\n",
       "      <th>light</th>\n",
       "      <th>Y</th>\n",
       "    </tr>\n",
       "  </thead>\n",
       "  <tbody>\n",
       "    <tr>\n",
       "      <th>0</th>\n",
       "      <td>12e8</td>\n",
       "      <td>EVQLQQSGAEVVRSGASVKLSCTASGFNIKDYYIHWVKQRPEKGLE...</td>\n",
       "      <td>DIVMTQSQKFMSTSVGDRVSITCKASQNVGTAVAWYQQKPGQSPKL...</td>\n",
       "      <td>0</td>\n",
       "    </tr>\n",
       "    <tr>\n",
       "      <th>1</th>\n",
       "      <td>15c8</td>\n",
       "      <td>EVQLQQSGAELVKPGASVKLSCTASGFNIKDTYMHWVKQKPEQGLE...</td>\n",
       "      <td>DIVLTQSPAIMSASLGERVTMTCTASSSVSSSNLHWYQQKPGSSPK...</td>\n",
       "      <td>0</td>\n",
       "    </tr>\n",
       "    <tr>\n",
       "      <th>2</th>\n",
       "      <td>1a0q</td>\n",
       "      <td>EVQLQESDAELVKPGASVKISCKASGYTFTDHVIHWVKQKPEQGLE...</td>\n",
       "      <td>DIELTQSPSSLSASLGGKVTITCKASQDIKKYIGWYQHKPGKQPRL...</td>\n",
       "      <td>1</td>\n",
       "    </tr>\n",
       "    <tr>\n",
       "      <th>3</th>\n",
       "      <td>1a14</td>\n",
       "      <td>QVQLQQSGAELVKPGASVRMSCKASGYTFTNYNMYWVKQSPGQGLE...</td>\n",
       "      <td>DIELTQTTSSLSASLGDRVTISCRASQDISNYLNWYQQNPDGTVKL...</td>\n",
       "      <td>0</td>\n",
       "    </tr>\n",
       "    <tr>\n",
       "      <th>4</th>\n",
       "      <td>1a2y</td>\n",
       "      <td>QVQLQESGPGLVAPSQSLSITCTVSGFSLTGYGVNWVRQPPGKGLE...</td>\n",
       "      <td>DIVLTQSPASLSASVGETVTITCRASGNIHNYLAWYQQKQGKSPQL...</td>\n",
       "      <td>0</td>\n",
       "    </tr>\n",
       "    <tr>\n",
       "      <th>...</th>\n",
       "      <td>...</td>\n",
       "      <td>...</td>\n",
       "      <td>...</td>\n",
       "      <td>...</td>\n",
       "    </tr>\n",
       "    <tr>\n",
       "      <th>2404</th>\n",
       "      <td>6s5a</td>\n",
       "      <td>EVKLLESGGGLVQPGGSLKLSCAASGFDFSRYWMNWVRQAPGKGLE...</td>\n",
       "      <td>QAVVTQESALTTSPGETVTLTCRSSTGAVTTSNYANWVQEKPDHLF...</td>\n",
       "      <td>0</td>\n",
       "    </tr>\n",
       "    <tr>\n",
       "      <th>2405</th>\n",
       "      <td>6tyb</td>\n",
       "      <td>EVQLVQSGTEVKRPGESLTISCKTSGYSFSGTWISWVRQMPGKGLE...</td>\n",
       "      <td>DIQMTQSPSSLSASVGDRVTITCRASQGISTYLAWYQQKPGKAPKL...</td>\n",
       "      <td>0</td>\n",
       "    </tr>\n",
       "    <tr>\n",
       "      <th>2406</th>\n",
       "      <td>6u1t</td>\n",
       "      <td>EVQLVESGGGLVKPGGSLKLSCAASGFTFSSYDMSWVRQTPEKRLE...</td>\n",
       "      <td>DIQMTQSPASQSASLGESVTITCLASQTIGTWLAWYQQKPGKSPQL...</td>\n",
       "      <td>0</td>\n",
       "    </tr>\n",
       "    <tr>\n",
       "      <th>2407</th>\n",
       "      <td>7fab</td>\n",
       "      <td>AVQLEQSGPGLVRPSQTLSLTCTVSGTSFDDYYWTWVRQPPGRGLE...</td>\n",
       "      <td>ASVLTQPPSVSGAPGQRVTISCTGSSSNIGAGHNVKWYQQLPGTAP...</td>\n",
       "      <td>0</td>\n",
       "    </tr>\n",
       "    <tr>\n",
       "      <th>2408</th>\n",
       "      <td>8fab</td>\n",
       "      <td>AVKLVQAGGGVVQPGRSLRLSCIASGFTFSNYGMHWVRQAPGKGLE...</td>\n",
       "      <td>SYELTQPPSVSVSPGQTARITCSANALPNQYAYWYQQKPGRAPVMV...</td>\n",
       "      <td>0</td>\n",
       "    </tr>\n",
       "  </tbody>\n",
       "</table>\n",
       "<p>1551 rows × 4 columns</p>\n",
       "</div>"
      ],
      "text/plain": [
       "     Antibody_ID                                              heavy  \\\n",
       "0           12e8  EVQLQQSGAEVVRSGASVKLSCTASGFNIKDYYIHWVKQRPEKGLE...   \n",
       "1           15c8  EVQLQQSGAELVKPGASVKLSCTASGFNIKDTYMHWVKQKPEQGLE...   \n",
       "2           1a0q  EVQLQESDAELVKPGASVKISCKASGYTFTDHVIHWVKQKPEQGLE...   \n",
       "3           1a14  QVQLQQSGAELVKPGASVRMSCKASGYTFTNYNMYWVKQSPGQGLE...   \n",
       "4           1a2y  QVQLQESGPGLVAPSQSLSITCTVSGFSLTGYGVNWVRQPPGKGLE...   \n",
       "...          ...                                                ...   \n",
       "2404        6s5a  EVKLLESGGGLVQPGGSLKLSCAASGFDFSRYWMNWVRQAPGKGLE...   \n",
       "2405        6tyb  EVQLVQSGTEVKRPGESLTISCKTSGYSFSGTWISWVRQMPGKGLE...   \n",
       "2406        6u1t  EVQLVESGGGLVKPGGSLKLSCAASGFTFSSYDMSWVRQTPEKRLE...   \n",
       "2407        7fab  AVQLEQSGPGLVRPSQTLSLTCTVSGTSFDDYYWTWVRQPPGRGLE...   \n",
       "2408        8fab  AVKLVQAGGGVVQPGRSLRLSCIASGFTFSNYGMHWVRQAPGKGLE...   \n",
       "\n",
       "                                                  light  Y  \n",
       "0     DIVMTQSQKFMSTSVGDRVSITCKASQNVGTAVAWYQQKPGQSPKL...  0  \n",
       "1     DIVLTQSPAIMSASLGERVTMTCTASSSVSSSNLHWYQQKPGSSPK...  0  \n",
       "2     DIELTQSPSSLSASLGGKVTITCKASQDIKKYIGWYQHKPGKQPRL...  1  \n",
       "3     DIELTQTTSSLSASLGDRVTISCRASQDISNYLNWYQQNPDGTVKL...  0  \n",
       "4     DIVLTQSPASLSASVGETVTITCRASGNIHNYLAWYQQKQGKSPQL...  0  \n",
       "...                                                 ... ..  \n",
       "2404  QAVVTQESALTTSPGETVTLTCRSSTGAVTTSNYANWVQEKPDHLF...  0  \n",
       "2405  DIQMTQSPSSLSASVGDRVTITCRASQGISTYLAWYQQKPGKAPKL...  0  \n",
       "2406  DIQMTQSPASQSASLGESVTITCLASQTIGTWLAWYQQKPGKSPQL...  0  \n",
       "2407  ASVLTQPPSVSGAPGQRVTISCTGSSSNIGAGHNVKWYQQLPGTAP...  0  \n",
       "2408  SYELTQPPSVSVSPGQTARITCSANALPNQYAYWYQQKPGRAPVMV...  0  \n",
       "\n",
       "[1551 rows x 4 columns]"
      ]
     },
     "execution_count": 3,
     "metadata": {},
     "output_type": "execute_result"
    }
   ],
   "source": [
    "chen_data = pd.read_csv(path.join(DATA_DIR, \"chen/deduplicated/chen_data.csv\"), index_col=0)\n",
    "chen_data"
   ]
  },
  {
   "cell_type": "markdown",
   "id": "cdbad764-6ef3-442c-8b28-251f5011f210",
   "metadata": {},
   "source": [
    "# Load precomputed ANARCI matrix"
   ]
  },
  {
   "cell_type": "code",
   "execution_count": 6,
   "id": "fbf4125c-1f27-4a45-9191-00b73541a55c",
   "metadata": {},
   "outputs": [
    {
     "data": {
      "text/html": [
       "<div>\n",
       "<style scoped>\n",
       "    .dataframe tbody tr th:only-of-type {\n",
       "        vertical-align: middle;\n",
       "    }\n",
       "\n",
       "    .dataframe tbody tr th {\n",
       "        vertical-align: top;\n",
       "    }\n",
       "\n",
       "    .dataframe thead th {\n",
       "        text-align: right;\n",
       "    }\n",
       "</style>\n",
       "<table border=\"1\" class=\"dataframe\">\n",
       "  <thead>\n",
       "    <tr style=\"text-align: right;\">\n",
       "      <th></th>\n",
       "      <th>Ab_ID</th>\n",
       "      <th>species</th>\n",
       "      <th>chain_type</th>\n",
       "      <th>1</th>\n",
       "      <th>2</th>\n",
       "      <th>3</th>\n",
       "      <th>3A</th>\n",
       "      <th>4</th>\n",
       "      <th>4A</th>\n",
       "      <th>5</th>\n",
       "      <th>...</th>\n",
       "      <th>119</th>\n",
       "      <th>120</th>\n",
       "      <th>121</th>\n",
       "      <th>122</th>\n",
       "      <th>123</th>\n",
       "      <th>124</th>\n",
       "      <th>125</th>\n",
       "      <th>126</th>\n",
       "      <th>127</th>\n",
       "      <th>128</th>\n",
       "    </tr>\n",
       "  </thead>\n",
       "  <tbody>\n",
       "    <tr>\n",
       "      <th>0</th>\n",
       "      <td>12e8</td>\n",
       "      <td>mouse</td>\n",
       "      <td>H</td>\n",
       "      <td>E</td>\n",
       "      <td>V</td>\n",
       "      <td>Q</td>\n",
       "      <td>-</td>\n",
       "      <td>L</td>\n",
       "      <td>-</td>\n",
       "      <td>Q</td>\n",
       "      <td>...</td>\n",
       "      <td>G</td>\n",
       "      <td>Q</td>\n",
       "      <td>G</td>\n",
       "      <td>T</td>\n",
       "      <td>L</td>\n",
       "      <td>V</td>\n",
       "      <td>T</td>\n",
       "      <td>V</td>\n",
       "      <td>S</td>\n",
       "      <td>A</td>\n",
       "    </tr>\n",
       "    <tr>\n",
       "      <th>1</th>\n",
       "      <td>15c8</td>\n",
       "      <td>mouse</td>\n",
       "      <td>H</td>\n",
       "      <td>E</td>\n",
       "      <td>V</td>\n",
       "      <td>Q</td>\n",
       "      <td>-</td>\n",
       "      <td>L</td>\n",
       "      <td>-</td>\n",
       "      <td>Q</td>\n",
       "      <td>...</td>\n",
       "      <td>G</td>\n",
       "      <td>Q</td>\n",
       "      <td>G</td>\n",
       "      <td>T</td>\n",
       "      <td>T</td>\n",
       "      <td>L</td>\n",
       "      <td>T</td>\n",
       "      <td>V</td>\n",
       "      <td>S</td>\n",
       "      <td>S</td>\n",
       "    </tr>\n",
       "    <tr>\n",
       "      <th>2</th>\n",
       "      <td>1a0q</td>\n",
       "      <td>mouse</td>\n",
       "      <td>H</td>\n",
       "      <td>E</td>\n",
       "      <td>V</td>\n",
       "      <td>Q</td>\n",
       "      <td>-</td>\n",
       "      <td>L</td>\n",
       "      <td>-</td>\n",
       "      <td>Q</td>\n",
       "      <td>...</td>\n",
       "      <td>G</td>\n",
       "      <td>Q</td>\n",
       "      <td>G</td>\n",
       "      <td>T</td>\n",
       "      <td>T</td>\n",
       "      <td>L</td>\n",
       "      <td>T</td>\n",
       "      <td>V</td>\n",
       "      <td>S</td>\n",
       "      <td>S</td>\n",
       "    </tr>\n",
       "    <tr>\n",
       "      <th>3</th>\n",
       "      <td>1a14</td>\n",
       "      <td>mouse</td>\n",
       "      <td>H</td>\n",
       "      <td>Q</td>\n",
       "      <td>V</td>\n",
       "      <td>Q</td>\n",
       "      <td>-</td>\n",
       "      <td>L</td>\n",
       "      <td>-</td>\n",
       "      <td>Q</td>\n",
       "      <td>...</td>\n",
       "      <td>G</td>\n",
       "      <td>Q</td>\n",
       "      <td>G</td>\n",
       "      <td>T</td>\n",
       "      <td>T</td>\n",
       "      <td>V</td>\n",
       "      <td>T</td>\n",
       "      <td>V</td>\n",
       "      <td>-</td>\n",
       "      <td>-</td>\n",
       "    </tr>\n",
       "    <tr>\n",
       "      <th>4</th>\n",
       "      <td>1a2y</td>\n",
       "      <td>mouse</td>\n",
       "      <td>H</td>\n",
       "      <td>Q</td>\n",
       "      <td>V</td>\n",
       "      <td>Q</td>\n",
       "      <td>-</td>\n",
       "      <td>L</td>\n",
       "      <td>-</td>\n",
       "      <td>Q</td>\n",
       "      <td>...</td>\n",
       "      <td>G</td>\n",
       "      <td>Q</td>\n",
       "      <td>G</td>\n",
       "      <td>T</td>\n",
       "      <td>T</td>\n",
       "      <td>L</td>\n",
       "      <td>T</td>\n",
       "      <td>V</td>\n",
       "      <td>S</td>\n",
       "      <td>S</td>\n",
       "    </tr>\n",
       "  </tbody>\n",
       "</table>\n",
       "<p>5 rows × 207 columns</p>\n",
       "</div>"
      ],
      "text/plain": [
       "  Ab_ID species chain_type  1  2  3 3A  4 4A  5  ... 119 120 121 122 123 124  \\\n",
       "0  12e8   mouse          H  E  V  Q  -  L  -  Q  ...   G   Q   G   T   L   V   \n",
       "1  15c8   mouse          H  E  V  Q  -  L  -  Q  ...   G   Q   G   T   T   L   \n",
       "2  1a0q   mouse          H  E  V  Q  -  L  -  Q  ...   G   Q   G   T   T   L   \n",
       "3  1a14   mouse          H  Q  V  Q  -  L  -  Q  ...   G   Q   G   T   T   V   \n",
       "4  1a2y   mouse          H  Q  V  Q  -  L  -  Q  ...   G   Q   G   T   T   L   \n",
       "\n",
       "  125 126 127 128  \n",
       "0   T   V   S   A  \n",
       "1   T   V   S   S  \n",
       "2   T   V   S   S  \n",
       "3   T   V   -   -  \n",
       "4   T   V   S   S  \n",
       "\n",
       "[5 rows x 207 columns]"
      ]
     },
     "execution_count": 6,
     "metadata": {},
     "output_type": "execute_result"
    }
   ],
   "source": [
    "heavy_df = pd.read_csv(path.join(DATA_DIR, \"chen/abnumber/chen_heavy_chain_numbering.csv\"), index_col=0)\n",
    "light_df = pd.read_csv(path.join(DATA_DIR, \"chen/abnumber/chen_light_chain_numbering.csv\"), index_col=0)\n",
    "heavy_df.head()"
   ]
  },
  {
   "cell_type": "code",
   "execution_count": 7,
   "id": "6c2e2454-fb59-4fb5-a6c2-7cb05de44b06",
   "metadata": {},
   "outputs": [
    {
     "data": {
      "text/plain": [
       "[1921, 2097]"
      ]
     },
     "execution_count": 7,
     "metadata": {},
     "output_type": "execute_result"
    }
   ],
   "source": [
    "[i for i in chen_data.index if i not in heavy_df.index]"
   ]
  },
  {
   "cell_type": "code",
   "execution_count": 8,
   "id": "6022816c-8b52-4e32-8acd-ea8b34e6c968",
   "metadata": {},
   "outputs": [],
   "source": [
    "heavy_df.loc[1921] = [np.nan] * 207\n",
    "heavy_df.loc[2097] = [np.nan] * 207\n",
    "\n",
    "heavy_df.loc[1921][\"Ab_ID\"] = chen_data.loc[1921][\"Antibody_ID\"]\n",
    "heavy_df.loc[2097][\"Ab_ID\"] = chen_data.loc[2097][\"Antibody_ID\"]"
   ]
  },
  {
   "cell_type": "code",
   "execution_count": 9,
   "id": "16dc1611-ca57-489a-8737-4e14ee42555e",
   "metadata": {},
   "outputs": [
    {
     "data": {
      "text/plain": [
       "1551"
      ]
     },
     "execution_count": 9,
     "metadata": {},
     "output_type": "execute_result"
    }
   ],
   "source": [
    "heavy_df = heavy_df.loc[chen_data.index]\n",
    "light_df = light_df.loc[chen_data.index]\n",
    "len(heavy_df)"
   ]
  },
  {
   "cell_type": "code",
   "execution_count": 10,
   "id": "e11a7af2-ffa6-4e12-94d4-1fa2293e32c3",
   "metadata": {},
   "outputs": [
    {
     "data": {
      "text/plain": [
       "1551"
      ]
     },
     "execution_count": 10,
     "metadata": {},
     "output_type": "execute_result"
    }
   ],
   "source": [
    "len(light_df)"
   ]
  },
  {
   "cell_type": "code",
   "execution_count": 11,
   "id": "b56bd289-3e7a-4d01-95f9-4d560fe71413",
   "metadata": {},
   "outputs": [],
   "source": [
    "def anarci_similarity_matrix(anarci_df):\n",
    "    pos_columns = [col for col in anarci_df.columns if col[0].isnumeric()]\n",
    "    positions = anarci_df[pos_columns]\n",
    "    tasks = [(row, positions) for i, row in positions.iterrows()]\n",
    "    rows = tqdm(map(identity_task, tasks), total=len(tasks), position=0, leave=True)\n",
    "    matrix = pd.DataFrame(rows)\n",
    "    matrix.index = matrix.columns\n",
    "    return matrix\n",
    "\n",
    "def identity_task(task):\n",
    "    seq, seqs = task\n",
    "    return seqs.apply(all_position_identity, seq2=seq, axis=1).astype(np.float16)\n",
    "\n",
    "def all_position_identity(seq1, seq2):\n",
    "    return (seq1 == seq2).mean()"
   ]
  },
  {
   "cell_type": "markdown",
   "id": "a79fa6a3-121e-42d2-b77a-91a2b8603480",
   "metadata": {},
   "source": [
    "# Compute similarity matrices"
   ]
  },
  {
   "cell_type": "code",
   "execution_count": 12,
   "id": "980eae14-3b6e-4c80-af32-0d189befcd70",
   "metadata": {},
   "outputs": [
    {
     "name": "stderr",
     "output_type": "stream",
     "text": [
      "100%|██████████| 1551/1551 [08:55<00:00,  2.89it/s]\n"
     ]
    },
    {
     "data": {
      "text/html": [
       "<div>\n",
       "<style scoped>\n",
       "    .dataframe tbody tr th:only-of-type {\n",
       "        vertical-align: middle;\n",
       "    }\n",
       "\n",
       "    .dataframe tbody tr th {\n",
       "        vertical-align: top;\n",
       "    }\n",
       "\n",
       "    .dataframe thead th {\n",
       "        text-align: right;\n",
       "    }\n",
       "</style>\n",
       "<table border=\"1\" class=\"dataframe\">\n",
       "  <thead>\n",
       "    <tr style=\"text-align: right;\">\n",
       "      <th></th>\n",
       "      <th>0</th>\n",
       "      <th>1</th>\n",
       "      <th>2</th>\n",
       "      <th>3</th>\n",
       "      <th>4</th>\n",
       "      <th>5</th>\n",
       "      <th>7</th>\n",
       "      <th>8</th>\n",
       "      <th>9</th>\n",
       "      <th>10</th>\n",
       "      <th>...</th>\n",
       "      <th>2398</th>\n",
       "      <th>2400</th>\n",
       "      <th>2401</th>\n",
       "      <th>2402</th>\n",
       "      <th>2403</th>\n",
       "      <th>2404</th>\n",
       "      <th>2405</th>\n",
       "      <th>2406</th>\n",
       "      <th>2407</th>\n",
       "      <th>2408</th>\n",
       "    </tr>\n",
       "  </thead>\n",
       "  <tbody>\n",
       "    <tr>\n",
       "      <th>0</th>\n",
       "      <td>1.000000</td>\n",
       "      <td>0.857910</td>\n",
       "      <td>0.784180</td>\n",
       "      <td>0.769531</td>\n",
       "      <td>0.656738</td>\n",
       "      <td>0.759766</td>\n",
       "      <td>0.686035</td>\n",
       "      <td>0.686035</td>\n",
       "      <td>0.818848</td>\n",
       "      <td>0.754883</td>\n",
       "      <td>...</td>\n",
       "      <td>0.598145</td>\n",
       "      <td>0.691406</td>\n",
       "      <td>0.745117</td>\n",
       "      <td>0.686035</td>\n",
       "      <td>0.691406</td>\n",
       "      <td>0.710938</td>\n",
       "      <td>0.696289</td>\n",
       "      <td>0.720703</td>\n",
       "      <td>0.691406</td>\n",
       "      <td>0.691406</td>\n",
       "    </tr>\n",
       "    <tr>\n",
       "      <th>1</th>\n",
       "      <td>0.857910</td>\n",
       "      <td>1.000000</td>\n",
       "      <td>0.818848</td>\n",
       "      <td>0.789062</td>\n",
       "      <td>0.676270</td>\n",
       "      <td>0.774414</td>\n",
       "      <td>0.681152</td>\n",
       "      <td>0.681152</td>\n",
       "      <td>0.857910</td>\n",
       "      <td>0.784180</td>\n",
       "      <td>...</td>\n",
       "      <td>0.598145</td>\n",
       "      <td>0.696289</td>\n",
       "      <td>0.750000</td>\n",
       "      <td>0.696289</td>\n",
       "      <td>0.706055</td>\n",
       "      <td>0.686035</td>\n",
       "      <td>0.671387</td>\n",
       "      <td>0.715820</td>\n",
       "      <td>0.691406</td>\n",
       "      <td>0.691406</td>\n",
       "    </tr>\n",
       "    <tr>\n",
       "      <th>2</th>\n",
       "      <td>0.784180</td>\n",
       "      <td>0.818848</td>\n",
       "      <td>1.000000</td>\n",
       "      <td>0.818848</td>\n",
       "      <td>0.676270</td>\n",
       "      <td>0.813965</td>\n",
       "      <td>0.725586</td>\n",
       "      <td>0.725586</td>\n",
       "      <td>0.793945</td>\n",
       "      <td>0.803711</td>\n",
       "      <td>...</td>\n",
       "      <td>0.583496</td>\n",
       "      <td>0.681152</td>\n",
       "      <td>0.750000</td>\n",
       "      <td>0.691406</td>\n",
       "      <td>0.706055</td>\n",
       "      <td>0.676270</td>\n",
       "      <td>0.676270</td>\n",
       "      <td>0.696289</td>\n",
       "      <td>0.637207</td>\n",
       "      <td>0.666504</td>\n",
       "    </tr>\n",
       "    <tr>\n",
       "      <th>3</th>\n",
       "      <td>0.769531</td>\n",
       "      <td>0.789062</td>\n",
       "      <td>0.818848</td>\n",
       "      <td>1.000000</td>\n",
       "      <td>0.656738</td>\n",
       "      <td>0.808594</td>\n",
       "      <td>0.701172</td>\n",
       "      <td>0.701172</td>\n",
       "      <td>0.793945</td>\n",
       "      <td>0.803711</td>\n",
       "      <td>...</td>\n",
       "      <td>0.598145</td>\n",
       "      <td>0.701172</td>\n",
       "      <td>0.759766</td>\n",
       "      <td>0.715820</td>\n",
       "      <td>0.740234</td>\n",
       "      <td>0.671387</td>\n",
       "      <td>0.686035</td>\n",
       "      <td>0.691406</td>\n",
       "      <td>0.656738</td>\n",
       "      <td>0.691406</td>\n",
       "    </tr>\n",
       "    <tr>\n",
       "      <th>4</th>\n",
       "      <td>0.656738</td>\n",
       "      <td>0.676270</td>\n",
       "      <td>0.676270</td>\n",
       "      <td>0.656738</td>\n",
       "      <td>1.000000</td>\n",
       "      <td>0.666504</td>\n",
       "      <td>0.686035</td>\n",
       "      <td>0.686035</td>\n",
       "      <td>0.676270</td>\n",
       "      <td>0.701172</td>\n",
       "      <td>...</td>\n",
       "      <td>0.720703</td>\n",
       "      <td>0.725586</td>\n",
       "      <td>0.661621</td>\n",
       "      <td>0.656738</td>\n",
       "      <td>0.656738</td>\n",
       "      <td>0.696289</td>\n",
       "      <td>0.651855</td>\n",
       "      <td>0.706055</td>\n",
       "      <td>0.720703</td>\n",
       "      <td>0.706055</td>\n",
       "    </tr>\n",
       "  </tbody>\n",
       "</table>\n",
       "<p>5 rows × 1551 columns</p>\n",
       "</div>"
      ],
      "text/plain": [
       "       0         1         2         3         4         5         7     \\\n",
       "0  1.000000  0.857910  0.784180  0.769531  0.656738  0.759766  0.686035   \n",
       "1  0.857910  1.000000  0.818848  0.789062  0.676270  0.774414  0.681152   \n",
       "2  0.784180  0.818848  1.000000  0.818848  0.676270  0.813965  0.725586   \n",
       "3  0.769531  0.789062  0.818848  1.000000  0.656738  0.808594  0.701172   \n",
       "4  0.656738  0.676270  0.676270  0.656738  1.000000  0.666504  0.686035   \n",
       "\n",
       "       8         9         10    ...      2398      2400      2401      2402  \\\n",
       "0  0.686035  0.818848  0.754883  ...  0.598145  0.691406  0.745117  0.686035   \n",
       "1  0.681152  0.857910  0.784180  ...  0.598145  0.696289  0.750000  0.696289   \n",
       "2  0.725586  0.793945  0.803711  ...  0.583496  0.681152  0.750000  0.691406   \n",
       "3  0.701172  0.793945  0.803711  ...  0.598145  0.701172  0.759766  0.715820   \n",
       "4  0.686035  0.676270  0.701172  ...  0.720703  0.725586  0.661621  0.656738   \n",
       "\n",
       "       2403      2404      2405      2406      2407      2408  \n",
       "0  0.691406  0.710938  0.696289  0.720703  0.691406  0.691406  \n",
       "1  0.706055  0.686035  0.671387  0.715820  0.691406  0.691406  \n",
       "2  0.706055  0.676270  0.676270  0.696289  0.637207  0.666504  \n",
       "3  0.740234  0.671387  0.686035  0.691406  0.656738  0.691406  \n",
       "4  0.656738  0.696289  0.651855  0.706055  0.720703  0.706055  \n",
       "\n",
       "[5 rows x 1551 columns]"
      ]
     },
     "execution_count": 12,
     "metadata": {},
     "output_type": "execute_result"
    }
   ],
   "source": [
    "heavy_similarity = anarci_similarity_matrix(heavy_df)\n",
    "heavy_similarity.head()"
   ]
  },
  {
   "cell_type": "code",
   "execution_count": 13,
   "id": "a9e40d5f-ec75-4e44-af53-87848a1355fc",
   "metadata": {},
   "outputs": [],
   "source": [
    "heavy_similarity.to_csv(path.join(DATA_DIR, \"chen/distances/deduplicated_anarci_similarity_heavy.csv\"))"
   ]
  },
  {
   "cell_type": "code",
   "execution_count": 4,
   "id": "b7c09163-ae1e-482f-9f52-01192cd8cf39",
   "metadata": {},
   "outputs": [],
   "source": [
    "heavy_similarity = pd.read_csv(path.join(DATA_DIR, \"chen/distances/deduplicated_anarci_similarity_heavy.csv\"), index_col=0)"
   ]
  },
  {
   "cell_type": "code",
   "execution_count": 14,
   "id": "9f7bbe37-2ec3-42c3-a0d6-e810577de5b5",
   "metadata": {},
   "outputs": [
    {
     "name": "stderr",
     "output_type": "stream",
     "text": [
      "100%|██████████| 1551/1551 [08:29<00:00,  3.04it/s]\n"
     ]
    },
    {
     "data": {
      "text/html": [
       "<div>\n",
       "<style scoped>\n",
       "    .dataframe tbody tr th:only-of-type {\n",
       "        vertical-align: middle;\n",
       "    }\n",
       "\n",
       "    .dataframe tbody tr th {\n",
       "        vertical-align: top;\n",
       "    }\n",
       "\n",
       "    .dataframe thead th {\n",
       "        text-align: right;\n",
       "    }\n",
       "</style>\n",
       "<table border=\"1\" class=\"dataframe\">\n",
       "  <thead>\n",
       "    <tr style=\"text-align: right;\">\n",
       "      <th></th>\n",
       "      <th>0</th>\n",
       "      <th>1</th>\n",
       "      <th>2</th>\n",
       "      <th>3</th>\n",
       "      <th>4</th>\n",
       "      <th>5</th>\n",
       "      <th>7</th>\n",
       "      <th>8</th>\n",
       "      <th>9</th>\n",
       "      <th>10</th>\n",
       "      <th>...</th>\n",
       "      <th>2398</th>\n",
       "      <th>2400</th>\n",
       "      <th>2401</th>\n",
       "      <th>2402</th>\n",
       "      <th>2403</th>\n",
       "      <th>2404</th>\n",
       "      <th>2405</th>\n",
       "      <th>2406</th>\n",
       "      <th>2407</th>\n",
       "      <th>2408</th>\n",
       "    </tr>\n",
       "  </thead>\n",
       "  <tbody>\n",
       "    <tr>\n",
       "      <th>0</th>\n",
       "      <td>1.000000</td>\n",
       "      <td>0.695801</td>\n",
       "      <td>0.623047</td>\n",
       "      <td>0.630371</td>\n",
       "      <td>0.645020</td>\n",
       "      <td>0.586914</td>\n",
       "      <td>0.652344</td>\n",
       "      <td>0.652344</td>\n",
       "      <td>0.703125</td>\n",
       "      <td>0.681152</td>\n",
       "      <td>...</td>\n",
       "      <td>0.586914</td>\n",
       "      <td>0.572266</td>\n",
       "      <td>0.558105</td>\n",
       "      <td>0.550781</td>\n",
       "      <td>0.709961</td>\n",
       "      <td>0.500000</td>\n",
       "      <td>0.384033</td>\n",
       "      <td>0.688477</td>\n",
       "      <td>0.528809</td>\n",
       "      <td>0.565430</td>\n",
       "    </tr>\n",
       "    <tr>\n",
       "      <th>1</th>\n",
       "      <td>0.695801</td>\n",
       "      <td>1.000000</td>\n",
       "      <td>0.681152</td>\n",
       "      <td>0.681152</td>\n",
       "      <td>0.709961</td>\n",
       "      <td>0.630371</td>\n",
       "      <td>0.630371</td>\n",
       "      <td>0.630371</td>\n",
       "      <td>0.637695</td>\n",
       "      <td>0.811523</td>\n",
       "      <td>...</td>\n",
       "      <td>0.594238</td>\n",
       "      <td>0.608887</td>\n",
       "      <td>0.594238</td>\n",
       "      <td>0.565430</td>\n",
       "      <td>0.681152</td>\n",
       "      <td>0.528809</td>\n",
       "      <td>0.434814</td>\n",
       "      <td>0.717285</td>\n",
       "      <td>0.586914</td>\n",
       "      <td>0.572266</td>\n",
       "    </tr>\n",
       "    <tr>\n",
       "      <th>2</th>\n",
       "      <td>0.623047</td>\n",
       "      <td>0.681152</td>\n",
       "      <td>1.000000</td>\n",
       "      <td>0.703125</td>\n",
       "      <td>0.709961</td>\n",
       "      <td>0.565430</td>\n",
       "      <td>0.565430</td>\n",
       "      <td>0.565430</td>\n",
       "      <td>0.623047</td>\n",
       "      <td>0.637695</td>\n",
       "      <td>...</td>\n",
       "      <td>0.536133</td>\n",
       "      <td>0.528809</td>\n",
       "      <td>0.550781</td>\n",
       "      <td>0.550781</td>\n",
       "      <td>0.681152</td>\n",
       "      <td>0.500000</td>\n",
       "      <td>0.434814</td>\n",
       "      <td>0.703125</td>\n",
       "      <td>0.514648</td>\n",
       "      <td>0.550781</td>\n",
       "    </tr>\n",
       "    <tr>\n",
       "      <th>3</th>\n",
       "      <td>0.630371</td>\n",
       "      <td>0.681152</td>\n",
       "      <td>0.703125</td>\n",
       "      <td>1.000000</td>\n",
       "      <td>0.666504</td>\n",
       "      <td>0.565430</td>\n",
       "      <td>0.608887</td>\n",
       "      <td>0.608887</td>\n",
       "      <td>0.572266</td>\n",
       "      <td>0.623047</td>\n",
       "      <td>...</td>\n",
       "      <td>0.558105</td>\n",
       "      <td>0.572266</td>\n",
       "      <td>0.558105</td>\n",
       "      <td>0.521973</td>\n",
       "      <td>0.673828</td>\n",
       "      <td>0.514648</td>\n",
       "      <td>0.413086</td>\n",
       "      <td>0.652344</td>\n",
       "      <td>0.507324</td>\n",
       "      <td>0.536133</td>\n",
       "    </tr>\n",
       "    <tr>\n",
       "      <th>4</th>\n",
       "      <td>0.645020</td>\n",
       "      <td>0.709961</td>\n",
       "      <td>0.709961</td>\n",
       "      <td>0.666504</td>\n",
       "      <td>1.000000</td>\n",
       "      <td>0.594238</td>\n",
       "      <td>0.594238</td>\n",
       "      <td>0.594238</td>\n",
       "      <td>0.623047</td>\n",
       "      <td>0.666504</td>\n",
       "      <td>...</td>\n",
       "      <td>0.528809</td>\n",
       "      <td>0.558105</td>\n",
       "      <td>0.543457</td>\n",
       "      <td>0.543457</td>\n",
       "      <td>0.703125</td>\n",
       "      <td>0.543457</td>\n",
       "      <td>0.434814</td>\n",
       "      <td>0.818848</td>\n",
       "      <td>0.521973</td>\n",
       "      <td>0.565430</td>\n",
       "    </tr>\n",
       "  </tbody>\n",
       "</table>\n",
       "<p>5 rows × 1551 columns</p>\n",
       "</div>"
      ],
      "text/plain": [
       "       0         1         2         3         4         5         7     \\\n",
       "0  1.000000  0.695801  0.623047  0.630371  0.645020  0.586914  0.652344   \n",
       "1  0.695801  1.000000  0.681152  0.681152  0.709961  0.630371  0.630371   \n",
       "2  0.623047  0.681152  1.000000  0.703125  0.709961  0.565430  0.565430   \n",
       "3  0.630371  0.681152  0.703125  1.000000  0.666504  0.565430  0.608887   \n",
       "4  0.645020  0.709961  0.709961  0.666504  1.000000  0.594238  0.594238   \n",
       "\n",
       "       8         9         10    ...      2398      2400      2401      2402  \\\n",
       "0  0.652344  0.703125  0.681152  ...  0.586914  0.572266  0.558105  0.550781   \n",
       "1  0.630371  0.637695  0.811523  ...  0.594238  0.608887  0.594238  0.565430   \n",
       "2  0.565430  0.623047  0.637695  ...  0.536133  0.528809  0.550781  0.550781   \n",
       "3  0.608887  0.572266  0.623047  ...  0.558105  0.572266  0.558105  0.521973   \n",
       "4  0.594238  0.623047  0.666504  ...  0.528809  0.558105  0.543457  0.543457   \n",
       "\n",
       "       2403      2404      2405      2406      2407      2408  \n",
       "0  0.709961  0.500000  0.384033  0.688477  0.528809  0.565430  \n",
       "1  0.681152  0.528809  0.434814  0.717285  0.586914  0.572266  \n",
       "2  0.681152  0.500000  0.434814  0.703125  0.514648  0.550781  \n",
       "3  0.673828  0.514648  0.413086  0.652344  0.507324  0.536133  \n",
       "4  0.703125  0.543457  0.434814  0.818848  0.521973  0.565430  \n",
       "\n",
       "[5 rows x 1551 columns]"
      ]
     },
     "execution_count": 14,
     "metadata": {},
     "output_type": "execute_result"
    }
   ],
   "source": [
    "light_similarity = anarci_similarity_matrix(light_df)\n",
    "light_similarity.head()"
   ]
  },
  {
   "cell_type": "code",
   "execution_count": 15,
   "id": "9d970e89-e52c-4919-8230-d9a9e5f10571",
   "metadata": {},
   "outputs": [],
   "source": [
    "light_similarity.to_csv(path.join(DATA_DIR, \"chen/distances/deduplicated_anarci_similarity_light.csv\"))"
   ]
  },
  {
   "cell_type": "code",
   "execution_count": 5,
   "id": "f1d5458a-3bb8-472f-9600-15d7154a4d5c",
   "metadata": {},
   "outputs": [],
   "source": [
    "light_similarity = pd.read_csv(path.join(DATA_DIR, \"chen/distances/deduplicated_anarci_similarity_light.csv\"), index_col=0)\n"
   ]
  },
  {
   "cell_type": "code",
   "execution_count": 16,
   "id": "0ab48bed-7141-46b9-a150-c77754a67da6",
   "metadata": {},
   "outputs": [],
   "source": [
    "def fit_umap(df, n_components=2, random_state=0, **kwargs):\n",
    "    reducer = umap.UMAP(n_components=n_components, random_state=random_state, metric='precomputed', **kwargs)\n",
    "    embedding = reducer.fit_transform(df)\n",
    "    return reducer, pd.DataFrame(embedding, columns=[f'UMAP-{i+1}' for i in range(n_components)], index=df.index)"
   ]
  },
  {
   "cell_type": "code",
   "execution_count": 17,
   "id": "dbc90024-833c-4659-9a5e-09fa2c85beca",
   "metadata": {},
   "outputs": [],
   "source": [
    "def agglomerative_clustering(distance, linkage='complete', **kwargs):\n",
    "    clusters = AgglomerativeClustering(linkage=linkage, affinity='precomputed', **kwargs).fit(distance).labels_\n",
    "    return pd.Series(clusters+1, distance.index)"
   ]
  },
  {
   "cell_type": "markdown",
   "id": "598dde2c-6237-4fb8-ba6a-738d1f8a879e",
   "metadata": {},
   "source": [
    "## Combine heavy and light distances"
   ]
  },
  {
   "cell_type": "code",
   "execution_count": 18,
   "id": "0601c1f3-d7a4-4862-a952-f33ec6797511",
   "metadata": {},
   "outputs": [
    {
     "data": {
      "text/html": [
       "<div>\n",
       "<style scoped>\n",
       "    .dataframe tbody tr th:only-of-type {\n",
       "        vertical-align: middle;\n",
       "    }\n",
       "\n",
       "    .dataframe tbody tr th {\n",
       "        vertical-align: top;\n",
       "    }\n",
       "\n",
       "    .dataframe thead th {\n",
       "        text-align: right;\n",
       "    }\n",
       "</style>\n",
       "<table border=\"1\" class=\"dataframe\">\n",
       "  <thead>\n",
       "    <tr style=\"text-align: right;\">\n",
       "      <th></th>\n",
       "      <th>0</th>\n",
       "      <th>1</th>\n",
       "      <th>2</th>\n",
       "      <th>3</th>\n",
       "      <th>4</th>\n",
       "      <th>5</th>\n",
       "      <th>7</th>\n",
       "      <th>8</th>\n",
       "      <th>9</th>\n",
       "      <th>10</th>\n",
       "      <th>...</th>\n",
       "      <th>2398</th>\n",
       "      <th>2400</th>\n",
       "      <th>2401</th>\n",
       "      <th>2402</th>\n",
       "      <th>2403</th>\n",
       "      <th>2404</th>\n",
       "      <th>2405</th>\n",
       "      <th>2406</th>\n",
       "      <th>2407</th>\n",
       "      <th>2408</th>\n",
       "    </tr>\n",
       "  </thead>\n",
       "  <tbody>\n",
       "    <tr>\n",
       "      <th>0</th>\n",
       "      <td>1.000000</td>\n",
       "      <td>0.776855</td>\n",
       "      <td>0.703613</td>\n",
       "      <td>0.700195</td>\n",
       "      <td>0.650879</td>\n",
       "      <td>0.673340</td>\n",
       "      <td>0.668945</td>\n",
       "      <td>0.668945</td>\n",
       "      <td>0.760742</td>\n",
       "      <td>0.717773</td>\n",
       "      <td>...</td>\n",
       "      <td>0.592773</td>\n",
       "      <td>0.631836</td>\n",
       "      <td>0.651367</td>\n",
       "      <td>0.618164</td>\n",
       "      <td>0.700684</td>\n",
       "      <td>0.605469</td>\n",
       "      <td>0.540039</td>\n",
       "      <td>0.704590</td>\n",
       "      <td>0.610352</td>\n",
       "      <td>0.628418</td>\n",
       "    </tr>\n",
       "    <tr>\n",
       "      <th>1</th>\n",
       "      <td>0.776855</td>\n",
       "      <td>1.000000</td>\n",
       "      <td>0.750000</td>\n",
       "      <td>0.735352</td>\n",
       "      <td>0.693359</td>\n",
       "      <td>0.702148</td>\n",
       "      <td>0.655762</td>\n",
       "      <td>0.655762</td>\n",
       "      <td>0.748047</td>\n",
       "      <td>0.797852</td>\n",
       "      <td>...</td>\n",
       "      <td>0.596191</td>\n",
       "      <td>0.652344</td>\n",
       "      <td>0.671875</td>\n",
       "      <td>0.630859</td>\n",
       "      <td>0.693359</td>\n",
       "      <td>0.607422</td>\n",
       "      <td>0.553223</td>\n",
       "      <td>0.716797</td>\n",
       "      <td>0.639160</td>\n",
       "      <td>0.631836</td>\n",
       "    </tr>\n",
       "    <tr>\n",
       "      <th>2</th>\n",
       "      <td>0.703613</td>\n",
       "      <td>0.750000</td>\n",
       "      <td>1.000000</td>\n",
       "      <td>0.760742</td>\n",
       "      <td>0.693359</td>\n",
       "      <td>0.689453</td>\n",
       "      <td>0.645508</td>\n",
       "      <td>0.645508</td>\n",
       "      <td>0.708496</td>\n",
       "      <td>0.720703</td>\n",
       "      <td>...</td>\n",
       "      <td>0.559570</td>\n",
       "      <td>0.604980</td>\n",
       "      <td>0.650391</td>\n",
       "      <td>0.621094</td>\n",
       "      <td>0.693359</td>\n",
       "      <td>0.587891</td>\n",
       "      <td>0.555664</td>\n",
       "      <td>0.699707</td>\n",
       "      <td>0.576172</td>\n",
       "      <td>0.608398</td>\n",
       "    </tr>\n",
       "    <tr>\n",
       "      <th>3</th>\n",
       "      <td>0.700195</td>\n",
       "      <td>0.735352</td>\n",
       "      <td>0.760742</td>\n",
       "      <td>1.000000</td>\n",
       "      <td>0.661621</td>\n",
       "      <td>0.687012</td>\n",
       "      <td>0.655273</td>\n",
       "      <td>0.655273</td>\n",
       "      <td>0.683105</td>\n",
       "      <td>0.713379</td>\n",
       "      <td>...</td>\n",
       "      <td>0.578125</td>\n",
       "      <td>0.636719</td>\n",
       "      <td>0.659180</td>\n",
       "      <td>0.619141</td>\n",
       "      <td>0.707031</td>\n",
       "      <td>0.592773</td>\n",
       "      <td>0.549805</td>\n",
       "      <td>0.671875</td>\n",
       "      <td>0.582031</td>\n",
       "      <td>0.613770</td>\n",
       "    </tr>\n",
       "    <tr>\n",
       "      <th>4</th>\n",
       "      <td>0.650879</td>\n",
       "      <td>0.693359</td>\n",
       "      <td>0.693359</td>\n",
       "      <td>0.661621</td>\n",
       "      <td>1.000000</td>\n",
       "      <td>0.630371</td>\n",
       "      <td>0.640137</td>\n",
       "      <td>0.640137</td>\n",
       "      <td>0.649414</td>\n",
       "      <td>0.683594</td>\n",
       "      <td>...</td>\n",
       "      <td>0.625000</td>\n",
       "      <td>0.641602</td>\n",
       "      <td>0.602539</td>\n",
       "      <td>0.600098</td>\n",
       "      <td>0.679688</td>\n",
       "      <td>0.620117</td>\n",
       "      <td>0.543457</td>\n",
       "      <td>0.762695</td>\n",
       "      <td>0.621094</td>\n",
       "      <td>0.635742</td>\n",
       "    </tr>\n",
       "    <tr>\n",
       "      <th>...</th>\n",
       "      <td>...</td>\n",
       "      <td>...</td>\n",
       "      <td>...</td>\n",
       "      <td>...</td>\n",
       "      <td>...</td>\n",
       "      <td>...</td>\n",
       "      <td>...</td>\n",
       "      <td>...</td>\n",
       "      <td>...</td>\n",
       "      <td>...</td>\n",
       "      <td>...</td>\n",
       "      <td>...</td>\n",
       "      <td>...</td>\n",
       "      <td>...</td>\n",
       "      <td>...</td>\n",
       "      <td>...</td>\n",
       "      <td>...</td>\n",
       "      <td>...</td>\n",
       "      <td>...</td>\n",
       "      <td>...</td>\n",
       "      <td>...</td>\n",
       "    </tr>\n",
       "    <tr>\n",
       "      <th>2404</th>\n",
       "      <td>0.605469</td>\n",
       "      <td>0.607422</td>\n",
       "      <td>0.587891</td>\n",
       "      <td>0.592773</td>\n",
       "      <td>0.620117</td>\n",
       "      <td>0.571289</td>\n",
       "      <td>0.585938</td>\n",
       "      <td>0.582031</td>\n",
       "      <td>0.620117</td>\n",
       "      <td>0.613770</td>\n",
       "      <td>...</td>\n",
       "      <td>0.577148</td>\n",
       "      <td>0.675781</td>\n",
       "      <td>0.645508</td>\n",
       "      <td>0.594238</td>\n",
       "      <td>0.558594</td>\n",
       "      <td>1.000000</td>\n",
       "      <td>0.477051</td>\n",
       "      <td>0.671875</td>\n",
       "      <td>0.594238</td>\n",
       "      <td>0.647949</td>\n",
       "    </tr>\n",
       "    <tr>\n",
       "      <th>2405</th>\n",
       "      <td>0.540039</td>\n",
       "      <td>0.553223</td>\n",
       "      <td>0.555664</td>\n",
       "      <td>0.549805</td>\n",
       "      <td>0.543457</td>\n",
       "      <td>0.516113</td>\n",
       "      <td>0.502441</td>\n",
       "      <td>0.502441</td>\n",
       "      <td>0.520508</td>\n",
       "      <td>0.526367</td>\n",
       "      <td>...</td>\n",
       "      <td>0.467041</td>\n",
       "      <td>0.511230</td>\n",
       "      <td>0.524414</td>\n",
       "      <td>0.516113</td>\n",
       "      <td>0.572754</td>\n",
       "      <td>0.477051</td>\n",
       "      <td>1.000000</td>\n",
       "      <td>0.562988</td>\n",
       "      <td>0.481689</td>\n",
       "      <td>0.513672</td>\n",
       "    </tr>\n",
       "    <tr>\n",
       "      <th>2406</th>\n",
       "      <td>0.704590</td>\n",
       "      <td>0.716797</td>\n",
       "      <td>0.699707</td>\n",
       "      <td>0.671875</td>\n",
       "      <td>0.762695</td>\n",
       "      <td>0.661133</td>\n",
       "      <td>0.657227</td>\n",
       "      <td>0.657227</td>\n",
       "      <td>0.700195</td>\n",
       "      <td>0.678711</td>\n",
       "      <td>...</td>\n",
       "      <td>0.575684</td>\n",
       "      <td>0.697266</td>\n",
       "      <td>0.623535</td>\n",
       "      <td>0.615234</td>\n",
       "      <td>0.701660</td>\n",
       "      <td>0.671875</td>\n",
       "      <td>0.562988</td>\n",
       "      <td>1.000000</td>\n",
       "      <td>0.594238</td>\n",
       "      <td>0.687012</td>\n",
       "    </tr>\n",
       "    <tr>\n",
       "      <th>2407</th>\n",
       "      <td>0.610352</td>\n",
       "      <td>0.639160</td>\n",
       "      <td>0.576172</td>\n",
       "      <td>0.582031</td>\n",
       "      <td>0.621094</td>\n",
       "      <td>0.581055</td>\n",
       "      <td>0.556641</td>\n",
       "      <td>0.556641</td>\n",
       "      <td>0.595703</td>\n",
       "      <td>0.609863</td>\n",
       "      <td>...</td>\n",
       "      <td>0.645996</td>\n",
       "      <td>0.709961</td>\n",
       "      <td>0.696777</td>\n",
       "      <td>0.620605</td>\n",
       "      <td>0.596680</td>\n",
       "      <td>0.594238</td>\n",
       "      <td>0.481689</td>\n",
       "      <td>0.594238</td>\n",
       "      <td>1.000000</td>\n",
       "      <td>0.640137</td>\n",
       "    </tr>\n",
       "    <tr>\n",
       "      <th>2408</th>\n",
       "      <td>0.628418</td>\n",
       "      <td>0.631836</td>\n",
       "      <td>0.608398</td>\n",
       "      <td>0.613770</td>\n",
       "      <td>0.635742</td>\n",
       "      <td>0.599121</td>\n",
       "      <td>0.614746</td>\n",
       "      <td>0.614746</td>\n",
       "      <td>0.633301</td>\n",
       "      <td>0.637695</td>\n",
       "      <td>...</td>\n",
       "      <td>0.610352</td>\n",
       "      <td>0.748047</td>\n",
       "      <td>0.680664</td>\n",
       "      <td>0.721680</td>\n",
       "      <td>0.630371</td>\n",
       "      <td>0.647949</td>\n",
       "      <td>0.513672</td>\n",
       "      <td>0.687012</td>\n",
       "      <td>0.640137</td>\n",
       "      <td>1.000000</td>\n",
       "    </tr>\n",
       "  </tbody>\n",
       "</table>\n",
       "<p>1551 rows × 1551 columns</p>\n",
       "</div>"
      ],
      "text/plain": [
       "          0         1         2         3         4         5         7     \\\n",
       "0     1.000000  0.776855  0.703613  0.700195  0.650879  0.673340  0.668945   \n",
       "1     0.776855  1.000000  0.750000  0.735352  0.693359  0.702148  0.655762   \n",
       "2     0.703613  0.750000  1.000000  0.760742  0.693359  0.689453  0.645508   \n",
       "3     0.700195  0.735352  0.760742  1.000000  0.661621  0.687012  0.655273   \n",
       "4     0.650879  0.693359  0.693359  0.661621  1.000000  0.630371  0.640137   \n",
       "...        ...       ...       ...       ...       ...       ...       ...   \n",
       "2404  0.605469  0.607422  0.587891  0.592773  0.620117  0.571289  0.585938   \n",
       "2405  0.540039  0.553223  0.555664  0.549805  0.543457  0.516113  0.502441   \n",
       "2406  0.704590  0.716797  0.699707  0.671875  0.762695  0.661133  0.657227   \n",
       "2407  0.610352  0.639160  0.576172  0.582031  0.621094  0.581055  0.556641   \n",
       "2408  0.628418  0.631836  0.608398  0.613770  0.635742  0.599121  0.614746   \n",
       "\n",
       "          8         9         10    ...      2398      2400      2401  \\\n",
       "0     0.668945  0.760742  0.717773  ...  0.592773  0.631836  0.651367   \n",
       "1     0.655762  0.748047  0.797852  ...  0.596191  0.652344  0.671875   \n",
       "2     0.645508  0.708496  0.720703  ...  0.559570  0.604980  0.650391   \n",
       "3     0.655273  0.683105  0.713379  ...  0.578125  0.636719  0.659180   \n",
       "4     0.640137  0.649414  0.683594  ...  0.625000  0.641602  0.602539   \n",
       "...        ...       ...       ...  ...       ...       ...       ...   \n",
       "2404  0.582031  0.620117  0.613770  ...  0.577148  0.675781  0.645508   \n",
       "2405  0.502441  0.520508  0.526367  ...  0.467041  0.511230  0.524414   \n",
       "2406  0.657227  0.700195  0.678711  ...  0.575684  0.697266  0.623535   \n",
       "2407  0.556641  0.595703  0.609863  ...  0.645996  0.709961  0.696777   \n",
       "2408  0.614746  0.633301  0.637695  ...  0.610352  0.748047  0.680664   \n",
       "\n",
       "          2402      2403      2404      2405      2406      2407      2408  \n",
       "0     0.618164  0.700684  0.605469  0.540039  0.704590  0.610352  0.628418  \n",
       "1     0.630859  0.693359  0.607422  0.553223  0.716797  0.639160  0.631836  \n",
       "2     0.621094  0.693359  0.587891  0.555664  0.699707  0.576172  0.608398  \n",
       "3     0.619141  0.707031  0.592773  0.549805  0.671875  0.582031  0.613770  \n",
       "4     0.600098  0.679688  0.620117  0.543457  0.762695  0.621094  0.635742  \n",
       "...        ...       ...       ...       ...       ...       ...       ...  \n",
       "2404  0.594238  0.558594  1.000000  0.477051  0.671875  0.594238  0.647949  \n",
       "2405  0.516113  0.572754  0.477051  1.000000  0.562988  0.481689  0.513672  \n",
       "2406  0.615234  0.701660  0.671875  0.562988  1.000000  0.594238  0.687012  \n",
       "2407  0.620605  0.596680  0.594238  0.481689  0.594238  1.000000  0.640137  \n",
       "2408  0.721680  0.630371  0.647949  0.513672  0.687012  0.640137  1.000000  \n",
       "\n",
       "[1551 rows x 1551 columns]"
      ]
     },
     "execution_count": 18,
     "metadata": {},
     "output_type": "execute_result"
    }
   ],
   "source": [
    "similarity = (light_similarity + heavy_similarity) / 2\n",
    "similarity"
   ]
  },
  {
   "cell_type": "code",
   "execution_count": 19,
   "id": "c90a76ed-bb90-44ee-a12c-e7858ffc8694",
   "metadata": {},
   "outputs": [],
   "source": [
    "similarity.to_csv(path.join(DATA_DIR, \"chen/distances/deduplicated_anarci_similarity.csv\"))"
   ]
  },
  {
   "cell_type": "code",
   "execution_count": 4,
   "id": "28face44-f180-4008-9485-670479e8487d",
   "metadata": {},
   "outputs": [
    {
     "data": {
      "text/html": [
       "<div>\n",
       "<style scoped>\n",
       "    .dataframe tbody tr th:only-of-type {\n",
       "        vertical-align: middle;\n",
       "    }\n",
       "\n",
       "    .dataframe tbody tr th {\n",
       "        vertical-align: top;\n",
       "    }\n",
       "\n",
       "    .dataframe thead th {\n",
       "        text-align: right;\n",
       "    }\n",
       "</style>\n",
       "<table border=\"1\" class=\"dataframe\">\n",
       "  <thead>\n",
       "    <tr style=\"text-align: right;\">\n",
       "      <th></th>\n",
       "      <th>0</th>\n",
       "      <th>1</th>\n",
       "      <th>2</th>\n",
       "      <th>3</th>\n",
       "      <th>4</th>\n",
       "      <th>5</th>\n",
       "      <th>7</th>\n",
       "      <th>8</th>\n",
       "      <th>9</th>\n",
       "      <th>10</th>\n",
       "      <th>...</th>\n",
       "      <th>2398</th>\n",
       "      <th>2400</th>\n",
       "      <th>2401</th>\n",
       "      <th>2402</th>\n",
       "      <th>2403</th>\n",
       "      <th>2404</th>\n",
       "      <th>2405</th>\n",
       "      <th>2406</th>\n",
       "      <th>2407</th>\n",
       "      <th>2408</th>\n",
       "    </tr>\n",
       "  </thead>\n",
       "  <tbody>\n",
       "    <tr>\n",
       "      <th>0</th>\n",
       "      <td>1.00000</td>\n",
       "      <td>0.77700</td>\n",
       "      <td>0.70350</td>\n",
       "      <td>0.69995</td>\n",
       "      <td>0.65085</td>\n",
       "      <td>0.67350</td>\n",
       "      <td>0.66915</td>\n",
       "      <td>0.66915</td>\n",
       "      <td>0.76100</td>\n",
       "      <td>0.71800</td>\n",
       "      <td>...</td>\n",
       "      <td>0.59250</td>\n",
       "      <td>0.63185</td>\n",
       "      <td>0.65150</td>\n",
       "      <td>0.61850</td>\n",
       "      <td>0.70070</td>\n",
       "      <td>0.60550</td>\n",
       "      <td>0.54015</td>\n",
       "      <td>0.70460</td>\n",
       "      <td>0.61020</td>\n",
       "      <td>0.62840</td>\n",
       "    </tr>\n",
       "    <tr>\n",
       "      <th>1</th>\n",
       "      <td>0.77700</td>\n",
       "      <td>1.00000</td>\n",
       "      <td>0.75000</td>\n",
       "      <td>0.73500</td>\n",
       "      <td>0.69315</td>\n",
       "      <td>0.70240</td>\n",
       "      <td>0.65570</td>\n",
       "      <td>0.65570</td>\n",
       "      <td>0.74785</td>\n",
       "      <td>0.79775</td>\n",
       "      <td>...</td>\n",
       "      <td>0.59600</td>\n",
       "      <td>0.65265</td>\n",
       "      <td>0.67200</td>\n",
       "      <td>0.63085</td>\n",
       "      <td>0.69350</td>\n",
       "      <td>0.60750</td>\n",
       "      <td>0.55310</td>\n",
       "      <td>0.71665</td>\n",
       "      <td>0.63920</td>\n",
       "      <td>0.63185</td>\n",
       "    </tr>\n",
       "    <tr>\n",
       "      <th>2</th>\n",
       "      <td>0.70350</td>\n",
       "      <td>0.75000</td>\n",
       "      <td>1.00000</td>\n",
       "      <td>0.76100</td>\n",
       "      <td>0.69315</td>\n",
       "      <td>0.68970</td>\n",
       "      <td>0.64550</td>\n",
       "      <td>0.64550</td>\n",
       "      <td>0.70850</td>\n",
       "      <td>0.72070</td>\n",
       "      <td>...</td>\n",
       "      <td>0.55975</td>\n",
       "      <td>0.60500</td>\n",
       "      <td>0.65050</td>\n",
       "      <td>0.62120</td>\n",
       "      <td>0.69350</td>\n",
       "      <td>0.58815</td>\n",
       "      <td>0.55555</td>\n",
       "      <td>0.69965</td>\n",
       "      <td>0.57580</td>\n",
       "      <td>0.60875</td>\n",
       "    </tr>\n",
       "    <tr>\n",
       "      <th>3</th>\n",
       "      <td>0.69995</td>\n",
       "      <td>0.73500</td>\n",
       "      <td>0.76100</td>\n",
       "      <td>1.00000</td>\n",
       "      <td>0.66160</td>\n",
       "      <td>0.68700</td>\n",
       "      <td>0.65500</td>\n",
       "      <td>0.65500</td>\n",
       "      <td>0.68315</td>\n",
       "      <td>0.71335</td>\n",
       "      <td>...</td>\n",
       "      <td>0.57800</td>\n",
       "      <td>0.63665</td>\n",
       "      <td>0.65900</td>\n",
       "      <td>0.61900</td>\n",
       "      <td>0.70700</td>\n",
       "      <td>0.59300</td>\n",
       "      <td>0.54950</td>\n",
       "      <td>0.67185</td>\n",
       "      <td>0.58200</td>\n",
       "      <td>0.61370</td>\n",
       "    </tr>\n",
       "    <tr>\n",
       "      <th>4</th>\n",
       "      <td>0.65085</td>\n",
       "      <td>0.69315</td>\n",
       "      <td>0.69315</td>\n",
       "      <td>0.66160</td>\n",
       "      <td>1.00000</td>\n",
       "      <td>0.63025</td>\n",
       "      <td>0.64000</td>\n",
       "      <td>0.64000</td>\n",
       "      <td>0.64965</td>\n",
       "      <td>0.68375</td>\n",
       "      <td>...</td>\n",
       "      <td>0.62485</td>\n",
       "      <td>0.64180</td>\n",
       "      <td>0.60255</td>\n",
       "      <td>0.60010</td>\n",
       "      <td>0.67985</td>\n",
       "      <td>0.61990</td>\n",
       "      <td>0.54340</td>\n",
       "      <td>0.76250</td>\n",
       "      <td>0.62135</td>\n",
       "      <td>0.63570</td>\n",
       "    </tr>\n",
       "  </tbody>\n",
       "</table>\n",
       "<p>5 rows × 1577 columns</p>\n",
       "</div>"
      ],
      "text/plain": [
       "         0        1        2        3        4        5        7        8  \\\n",
       "0  1.00000  0.77700  0.70350  0.69995  0.65085  0.67350  0.66915  0.66915   \n",
       "1  0.77700  1.00000  0.75000  0.73500  0.69315  0.70240  0.65570  0.65570   \n",
       "2  0.70350  0.75000  1.00000  0.76100  0.69315  0.68970  0.64550  0.64550   \n",
       "3  0.69995  0.73500  0.76100  1.00000  0.66160  0.68700  0.65500  0.65500   \n",
       "4  0.65085  0.69315  0.69315  0.66160  1.00000  0.63025  0.64000  0.64000   \n",
       "\n",
       "         9       10  ...     2398     2400     2401     2402     2403  \\\n",
       "0  0.76100  0.71800  ...  0.59250  0.63185  0.65150  0.61850  0.70070   \n",
       "1  0.74785  0.79775  ...  0.59600  0.65265  0.67200  0.63085  0.69350   \n",
       "2  0.70850  0.72070  ...  0.55975  0.60500  0.65050  0.62120  0.69350   \n",
       "3  0.68315  0.71335  ...  0.57800  0.63665  0.65900  0.61900  0.70700   \n",
       "4  0.64965  0.68375  ...  0.62485  0.64180  0.60255  0.60010  0.67985   \n",
       "\n",
       "      2404     2405     2406     2407     2408  \n",
       "0  0.60550  0.54015  0.70460  0.61020  0.62840  \n",
       "1  0.60750  0.55310  0.71665  0.63920  0.63185  \n",
       "2  0.58815  0.55555  0.69965  0.57580  0.60875  \n",
       "3  0.59300  0.54950  0.67185  0.58200  0.61370  \n",
       "4  0.61990  0.54340  0.76250  0.62135  0.63570  \n",
       "\n",
       "[5 rows x 1577 columns]"
      ]
     },
     "execution_count": 4,
     "metadata": {},
     "output_type": "execute_result"
    }
   ],
   "source": [
    "similarity = pd.read_csv(path.join(DATA_DIR, \"chen/distances/deduplicated_anarci_similarity.csv\"), index_col=0)\n",
    "similarity.head()"
   ]
  },
  {
   "cell_type": "code",
   "execution_count": 20,
   "id": "719b3895-7fde-4af0-a303-4d2152e3e58f",
   "metadata": {},
   "outputs": [
    {
     "data": {
      "text/html": [
       "<div>\n",
       "<style scoped>\n",
       "    .dataframe tbody tr th:only-of-type {\n",
       "        vertical-align: middle;\n",
       "    }\n",
       "\n",
       "    .dataframe tbody tr th {\n",
       "        vertical-align: top;\n",
       "    }\n",
       "\n",
       "    .dataframe thead th {\n",
       "        text-align: right;\n",
       "    }\n",
       "</style>\n",
       "<table border=\"1\" class=\"dataframe\">\n",
       "  <thead>\n",
       "    <tr style=\"text-align: right;\">\n",
       "      <th></th>\n",
       "      <th>0</th>\n",
       "      <th>1</th>\n",
       "      <th>2</th>\n",
       "      <th>3</th>\n",
       "      <th>4</th>\n",
       "      <th>5</th>\n",
       "      <th>7</th>\n",
       "      <th>8</th>\n",
       "      <th>9</th>\n",
       "      <th>10</th>\n",
       "      <th>...</th>\n",
       "      <th>2398</th>\n",
       "      <th>2400</th>\n",
       "      <th>2401</th>\n",
       "      <th>2402</th>\n",
       "      <th>2403</th>\n",
       "      <th>2404</th>\n",
       "      <th>2405</th>\n",
       "      <th>2406</th>\n",
       "      <th>2407</th>\n",
       "      <th>2408</th>\n",
       "    </tr>\n",
       "  </thead>\n",
       "  <tbody>\n",
       "  </tbody>\n",
       "</table>\n",
       "<p>0 rows × 1551 columns</p>\n",
       "</div>"
      ],
      "text/plain": [
       "Empty DataFrame\n",
       "Columns: [0, 1, 2, 3, 4, 5, 7, 8, 9, 10, 11, 12, 14, 15, 16, 17, 18, 19, 20, 21, 22, 24, 25, 26, 27, 28, 29, 30, 31, 32, 34, 35, 37, 38, 40, 41, 42, 44, 46, 47, 50, 51, 52, 53, 59, 60, 61, 62, 63, 65, 66, 68, 69, 70, 72, 76, 77, 78, 79, 81, 82, 83, 85, 87, 88, 90, 91, 92, 93, 94, 95, 96, 97, 98, 99, 100, 103, 104, 106, 107, 108, 109, 110, 111, 112, 113, 114, 116, 117, 118, 119, 120, 121, 123, 124, 125, 126, 127, 128, 129, ...]\n",
       "Index: []\n",
       "\n",
       "[0 rows x 1551 columns]"
      ]
     },
     "execution_count": 20,
     "metadata": {},
     "output_type": "execute_result"
    }
   ],
   "source": [
    "similarity[similarity.isna().all(axis=1)]"
   ]
  },
  {
   "cell_type": "code",
   "execution_count": 21,
   "id": "e7426abc-ffc6-498e-a65e-a62097e3e98d",
   "metadata": {},
   "outputs": [
    {
     "name": "stderr",
     "output_type": "stream",
     "text": [
      "/home/brazdilv/.conda/envs/ml/lib/python3.7/site-packages/umap/umap_.py:1780: UserWarning: using precomputed metric; inverse_transform will be unavailable\n",
      "  warn(\"using precomputed metric; inverse_transform will be unavailable\")\n"
     ]
    },
    {
     "data": {
      "text/html": [
       "<div>\n",
       "<style scoped>\n",
       "    .dataframe tbody tr th:only-of-type {\n",
       "        vertical-align: middle;\n",
       "    }\n",
       "\n",
       "    .dataframe tbody tr th {\n",
       "        vertical-align: top;\n",
       "    }\n",
       "\n",
       "    .dataframe thead th {\n",
       "        text-align: right;\n",
       "    }\n",
       "</style>\n",
       "<table border=\"1\" class=\"dataframe\">\n",
       "  <thead>\n",
       "    <tr style=\"text-align: right;\">\n",
       "      <th></th>\n",
       "      <th>UMAP-1</th>\n",
       "      <th>UMAP-2</th>\n",
       "    </tr>\n",
       "  </thead>\n",
       "  <tbody>\n",
       "    <tr>\n",
       "      <th>0</th>\n",
       "      <td>10.014360</td>\n",
       "      <td>9.933428</td>\n",
       "    </tr>\n",
       "    <tr>\n",
       "      <th>1</th>\n",
       "      <td>9.207365</td>\n",
       "      <td>5.599749</td>\n",
       "    </tr>\n",
       "    <tr>\n",
       "      <th>2</th>\n",
       "      <td>15.534129</td>\n",
       "      <td>6.763999</td>\n",
       "    </tr>\n",
       "    <tr>\n",
       "      <th>3</th>\n",
       "      <td>15.775919</td>\n",
       "      <td>5.895123</td>\n",
       "    </tr>\n",
       "    <tr>\n",
       "      <th>4</th>\n",
       "      <td>15.131665</td>\n",
       "      <td>9.627743</td>\n",
       "    </tr>\n",
       "  </tbody>\n",
       "</table>\n",
       "</div>"
      ],
      "text/plain": [
       "      UMAP-1    UMAP-2\n",
       "0  10.014360  9.933428\n",
       "1   9.207365  5.599749\n",
       "2  15.534129  6.763999\n",
       "3  15.775919  5.895123\n",
       "4  15.131665  9.627743"
      ]
     },
     "execution_count": 21,
     "metadata": {},
     "output_type": "execute_result"
    }
   ],
   "source": [
    "reducer, hl_umap = fit_umap(1-similarity, n_neighbors=10)\n",
    "hl_umap.head()"
   ]
  },
  {
   "cell_type": "markdown",
   "id": "ae6617e8-477b-4c00-9585-76064f3c8113",
   "metadata": {},
   "source": [
    "# Cluster sequences and plot"
   ]
  },
  {
   "cell_type": "code",
   "execution_count": 22,
   "id": "28df20a3-3a98-4a52-bbc3-f94257c065c1",
   "metadata": {},
   "outputs": [],
   "source": [
    "def plot_clustering(similarity_mat, n_clusters, dist_thresh, umap_coords, linkage=\"single\"):\n",
    "    clusters = agglomerative_clustering(\n",
    "        1-similarity_mat, \n",
    "        n_clusters=n_clusters, \n",
    "        \n",
    "        distance_threshold=dist_thresh, \n",
    "        linkage=linkage\n",
    "    )\n",
    "    \n",
    "    fig, ax = plt.subplots(figsize=(6, 6))\n",
    "    ax = sns.scatterplot(\n",
    "        data=umap_coords,\n",
    "        x='UMAP-1',\n",
    "        y='UMAP-2',\n",
    "        hue=clusters,\n",
    "        palette='tab20',\n",
    "        ax=ax,\n",
    "        legend=False,\n",
    "    )\n",
    "    fig.show()\n",
    "    return clusters"
   ]
  },
  {
   "cell_type": "code",
   "execution_count": 23,
   "id": "bd9e57b6-6697-492a-bf98-b21eb8f881d7",
   "metadata": {},
   "outputs": [
    {
     "data": {
      "image/png": "[encoded data removed]",
      "text/plain": [
       "<Figure size 432x432 with 1 Axes>"
      ]
     },
     "metadata": {
      "needs_background": "light"
     },
     "output_type": "display_data"
    }
   ],
   "source": [
    "clusters = plot_clustering(similarity, None, 0.05, hl_umap)"
   ]
  },
  {
   "cell_type": "code",
   "execution_count": 30,
   "id": "48e015ec-58c2-4e7e-9947-ac89ad0e5309",
   "metadata": {},
   "outputs": [
    {
     "data": {
      "text/plain": [
       "1225"
      ]
     },
     "execution_count": 30,
     "metadata": {},
     "output_type": "execute_result"
    }
   ],
   "source": [
    "clusters.max()"
   ]
  },
  {
   "cell_type": "markdown",
   "id": "d976bc65-5d44-4080-89d4-c50d2a2e7051",
   "metadata": {},
   "source": [
    "Most clusters only contain 1 sequence."
   ]
  },
  {
   "cell_type": "markdown",
   "id": "84f54a44-74ba-4b7b-9c20-339ed3ff4456",
   "metadata": {},
   "source": [
    "## Sanity check\n",
    "If two sequences ave at least 95% similarity, they should be in the same cluster."
   ]
  },
  {
   "cell_type": "code",
   "execution_count": 26,
   "id": "a18f605e-c55f-416d-977f-0f2bbb74bb02",
   "metadata": {},
   "outputs": [],
   "source": [
    "def similar_sequences(seq_row, index, threshold=0.95):\n",
    "    selected = seq_row[seq_row > threshold].index\n",
    "    for other in selected:\n",
    "        if clusters[index] != clusters[int(other)]:\n",
    "            return False\n",
    "    return True"
   ]
  },
  {
   "cell_type": "code",
   "execution_count": 27,
   "id": "6dbb20cb-2c25-4dad-b862-5b7b3352c8a1",
   "metadata": {},
   "outputs": [],
   "source": [
    "checked = similarity.apply(lambda x: similar_sequences(x, x.name), axis=1)"
   ]
  },
  {
   "cell_type": "code",
   "execution_count": 28,
   "id": "0d6581a8-fa82-4d57-9237-e990f44b7d4a",
   "metadata": {},
   "outputs": [
    {
     "data": {
      "text/plain": [
       "1551"
      ]
     },
     "execution_count": 28,
     "metadata": {},
     "output_type": "execute_result"
    }
   ],
   "source": [
    "checked.sum()"
   ]
  },
  {
   "cell_type": "markdown",
   "id": "da472581-0afd-44be-ac64-95f5b25a7ec4",
   "metadata": {},
   "source": [
    "## Clustering with a lower threshold"
   ]
  },
  {
   "cell_type": "code",
   "execution_count": 24,
   "id": "5f79f1e2-aac3-4f3f-9292-a7a2fb0c4d25",
   "metadata": {},
   "outputs": [
    {
     "data": {
      "image/png": "[encoded data removed]",
      "text/plain": [
       "<Figure size 432x432 with 1 Axes>"
      ]
     },
     "metadata": {
      "needs_background": "light"
     },
     "output_type": "display_data"
    }
   ],
   "source": [
    "clusters = plot_clustering(similarity, None, 0.1, hl_umap)"
   ]
  },
  {
   "cell_type": "code",
   "execution_count": 25,
   "id": "a709c321-9fa7-4b9c-8656-12e8b8fd6b62",
   "metadata": {},
   "outputs": [
    {
     "data": {
      "text/plain": [
       "932"
      ]
     },
     "execution_count": 25,
     "metadata": {},
     "output_type": "execute_result"
    }
   ],
   "source": [
    "clusters.max()"
   ]
  },
  {
   "cell_type": "markdown",
   "id": "75cba9eb-889e-47fd-a3f9-821449fc6ac9",
   "metadata": {},
   "source": [
    "There are fewer clusters here, still average size is below 2. Let's use this clustering.\n",
    "## Define datasets using clustering"
   ]
  },
  {
   "cell_type": "code",
   "execution_count": 29,
   "id": "33a87e18-d063-4cea-9b64-feb9d3b63ac1",
   "metadata": {},
   "outputs": [],
   "source": [
    "cluster_assignment = {}\n",
    "for i, cl in enumerate(clusters):\n",
    "    cluster_assignment[cl] = cluster_assignment.get(cl, []) + [i]"
   ]
  },
  {
   "cell_type": "code",
   "execution_count": 30,
   "id": "b69f002f-9598-4bea-97e3-c39751ac701f",
   "metadata": {},
   "outputs": [],
   "source": [
    "train_indices, test_indices = train_test_split(range(clusters.max()), test_size=0.2, random_state=42)"
   ]
  },
  {
   "cell_type": "code",
   "execution_count": 15,
   "id": "d71fdcc9-db9d-483f-bcf1-70194fee7eab",
   "metadata": {},
   "outputs": [],
   "source": [
    "test_indices, valid_indices = train_test_split(test_indices, test_size=0.5, random_state=46)"
   ]
  },
  {
   "cell_type": "code",
   "execution_count": 16,
   "id": "e3fd7335-cdab-46aa-a055-e171c0d8f104",
   "metadata": {},
   "outputs": [
    {
     "data": {
      "text/plain": [
       "1338"
      ]
     },
     "execution_count": 16,
     "metadata": {},
     "output_type": "execute_result"
    }
   ],
   "source": [
    "train_set = []\n",
    "for idx in train_indices:\n",
    "    train_set += cluster_assignment[idx + 1]\n",
    "len(train_set)"
   ]
  },
  {
   "cell_type": "code",
   "execution_count": 17,
   "id": "c0e50e9b-27e8-4e2f-a8cc-54b0a933c654",
   "metadata": {},
   "outputs": [
    {
     "data": {
      "text/plain": [
       "120"
      ]
     },
     "execution_count": 17,
     "metadata": {},
     "output_type": "execute_result"
    }
   ],
   "source": [
    "valid_set = []\n",
    "for idx in valid_indices:\n",
    "    valid_set += cluster_assignment[idx + 1]\n",
    "len(valid_set)"
   ]
  },
  {
   "cell_type": "code",
   "execution_count": 18,
   "id": "b9ae1e36-9643-4b75-8f07-6d594d776474",
   "metadata": {},
   "outputs": [
    {
     "data": {
      "text/plain": [
       "119"
      ]
     },
     "execution_count": 18,
     "metadata": {},
     "output_type": "execute_result"
    }
   ],
   "source": [
    "test_set = []\n",
    "for idx in test_indices:\n",
    "    test_set += cluster_assignment[idx + 1]\n",
    "len(test_set)"
   ]
  },
  {
   "cell_type": "code",
   "execution_count": 42,
   "id": "8f77ee5d-e6df-4e86-a39d-e93b03defe56",
   "metadata": {},
   "outputs": [
    {
     "data": {
      "text/html": [
       "<div>\n",
       "<style scoped>\n",
       "    .dataframe tbody tr th:only-of-type {\n",
       "        vertical-align: middle;\n",
       "    }\n",
       "\n",
       "    .dataframe tbody tr th {\n",
       "        vertical-align: top;\n",
       "    }\n",
       "\n",
       "    .dataframe thead th {\n",
       "        text-align: right;\n",
       "    }\n",
       "</style>\n",
       "<table border=\"1\" class=\"dataframe\">\n",
       "  <thead>\n",
       "    <tr style=\"text-align: right;\">\n",
       "      <th></th>\n",
       "      <th>Antibody_ID</th>\n",
       "      <th>heavy</th>\n",
       "      <th>light</th>\n",
       "      <th>Y</th>\n",
       "    </tr>\n",
       "  </thead>\n",
       "  <tbody>\n",
       "    <tr>\n",
       "      <th>2073</th>\n",
       "      <td>6aod</td>\n",
       "      <td>EVQLVQSGAEVKKPGASVKVSCKASGYTFTGYYMHWVRQAPGQGLE...</td>\n",
       "      <td>DIVMTKSPSSLSASVGDRVTITCRASQGIRNDLGWYQQKPGKAPKR...</td>\n",
       "      <td>0</td>\n",
       "    </tr>\n",
       "    <tr>\n",
       "      <th>1517</th>\n",
       "      <td>4yny</td>\n",
       "      <td>EVQLVESGGGLVQPGRSLKLSCAASGFTFSNYGMAWVRQTPTKGLE...</td>\n",
       "      <td>EFVLTQPNSVSTNLGSTVKLSCKRSTGNIGSNYVNWYQQHEGRSPT...</td>\n",
       "      <td>1</td>\n",
       "    </tr>\n",
       "    <tr>\n",
       "      <th>2025</th>\n",
       "      <td>5xcv</td>\n",
       "      <td>EVQLVESGGGLVQPGRSLKLSCAASGFTFSNYGMAWVRQTPTKGLE...</td>\n",
       "      <td>QFVLTQPNSVSTNLGSTVKLSCKRSTGNIGSNYVNWYQQHEGRSPT...</td>\n",
       "      <td>1</td>\n",
       "    </tr>\n",
       "    <tr>\n",
       "      <th>2070</th>\n",
       "      <td>6and</td>\n",
       "      <td>EVQLVESGGGLVQPGGSLRLSCAASGYEFSRSWMNWVRQAPGKGLE...</td>\n",
       "      <td>DIQMTQSPSSLSASVGDRVTITCRSSQSIVHSVGNTFLEWYQQKPG...</td>\n",
       "      <td>1</td>\n",
       "    </tr>\n",
       "    <tr>\n",
       "      <th>666</th>\n",
       "      <td>2xqy</td>\n",
       "      <td>QVQLQQPGAELVKPGASVKMSCKASGYSFTSYWMNWVKQRPGRGLE...</td>\n",
       "      <td>DIVLTQSPASLALSLGQRATISCRASKSVSTSGYSYMYWYQQKPGQ...</td>\n",
       "      <td>0</td>\n",
       "    </tr>\n",
       "    <tr>\n",
       "      <th>...</th>\n",
       "      <td>...</td>\n",
       "      <td>...</td>\n",
       "      <td>...</td>\n",
       "      <td>...</td>\n",
       "    </tr>\n",
       "    <tr>\n",
       "      <th>1080</th>\n",
       "      <td>4buh</td>\n",
       "      <td>EVQLVQSGAEVKKPGESLKISCKGSEYSFPNYWIAWVRQMPGKGLE...</td>\n",
       "      <td>SYELTQPPSASGTPGQRVTISCSGSSSNIGGNTVNWYQQVPGTAPR...</td>\n",
       "      <td>0</td>\n",
       "    </tr>\n",
       "    <tr>\n",
       "      <th>2296</th>\n",
       "      <td>6jbt</td>\n",
       "      <td>QGQLVQSGAEVKKPGASVKVSCKASGYTFTDYEMHWVRQAPIHGLE...</td>\n",
       "      <td>DVVMTQSPLSLPVTLGQPASISCRSSQSIVHSNGNTYLEWYLQKPG...</td>\n",
       "      <td>0</td>\n",
       "    </tr>\n",
       "    <tr>\n",
       "      <th>202</th>\n",
       "      <td>1kc5</td>\n",
       "      <td>QVKLQQSGPGLVKPSQSLSLTCTVTGYSITSDYAWNWIRQFPGNKL...</td>\n",
       "      <td>DIVLTQSPKSMSMSVGEKVTLSCKASENVDTYVSWYQQRPEQPPAL...</td>\n",
       "      <td>0</td>\n",
       "    </tr>\n",
       "    <tr>\n",
       "      <th>203</th>\n",
       "      <td>1kcr</td>\n",
       "      <td>QVALQESGPGLVKPSQSLSLTCTVTGYSITSDYAWNWIRQFPGNKL...</td>\n",
       "      <td>DIVLTQSPKSMSMSVGERVTLSCKASENVGTYVSWYQQKPEQSPKL...</td>\n",
       "      <td>1</td>\n",
       "    </tr>\n",
       "    <tr>\n",
       "      <th>204</th>\n",
       "      <td>1kcs</td>\n",
       "      <td>QVTLSQSGPGLVKPSQSLSLTCTVTSYSITSDYAWNWIRQFAGQSL...</td>\n",
       "      <td>DIVMTQSPKSMGMSVGEAVTLNCKASENVGTYVSWYQQKPGQSPVL...</td>\n",
       "      <td>1</td>\n",
       "    </tr>\n",
       "  </tbody>\n",
       "</table>\n",
       "<p>1338 rows × 4 columns</p>\n",
       "</div>"
      ],
      "text/plain": [
       "     Antibody_ID                                              heavy  \\\n",
       "2073        6aod  EVQLVQSGAEVKKPGASVKVSCKASGYTFTGYYMHWVRQAPGQGLE...   \n",
       "1517        4yny  EVQLVESGGGLVQPGRSLKLSCAASGFTFSNYGMAWVRQTPTKGLE...   \n",
       "2025        5xcv  EVQLVESGGGLVQPGRSLKLSCAASGFTFSNYGMAWVRQTPTKGLE...   \n",
       "2070        6and  EVQLVESGGGLVQPGGSLRLSCAASGYEFSRSWMNWVRQAPGKGLE...   \n",
       "666         2xqy  QVQLQQPGAELVKPGASVKMSCKASGYSFTSYWMNWVKQRPGRGLE...   \n",
       "...          ...                                                ...   \n",
       "1080        4buh  EVQLVQSGAEVKKPGESLKISCKGSEYSFPNYWIAWVRQMPGKGLE...   \n",
       "2296        6jbt  QGQLVQSGAEVKKPGASVKVSCKASGYTFTDYEMHWVRQAPIHGLE...   \n",
       "202         1kc5  QVKLQQSGPGLVKPSQSLSLTCTVTGYSITSDYAWNWIRQFPGNKL...   \n",
       "203         1kcr  QVALQESGPGLVKPSQSLSLTCTVTGYSITSDYAWNWIRQFPGNKL...   \n",
       "204         1kcs  QVTLSQSGPGLVKPSQSLSLTCTVTSYSITSDYAWNWIRQFAGQSL...   \n",
       "\n",
       "                                                  light  Y  \n",
       "2073  DIVMTKSPSSLSASVGDRVTITCRASQGIRNDLGWYQQKPGKAPKR...  0  \n",
       "1517  EFVLTQPNSVSTNLGSTVKLSCKRSTGNIGSNYVNWYQQHEGRSPT...  1  \n",
       "2025  QFVLTQPNSVSTNLGSTVKLSCKRSTGNIGSNYVNWYQQHEGRSPT...  1  \n",
       "2070  DIQMTQSPSSLSASVGDRVTITCRSSQSIVHSVGNTFLEWYQQKPG...  1  \n",
       "666   DIVLTQSPASLALSLGQRATISCRASKSVSTSGYSYMYWYQQKPGQ...  0  \n",
       "...                                                 ... ..  \n",
       "1080  SYELTQPPSASGTPGQRVTISCSGSSSNIGGNTVNWYQQVPGTAPR...  0  \n",
       "2296  DVVMTQSPLSLPVTLGQPASISCRSSQSIVHSNGNTYLEWYLQKPG...  0  \n",
       "202   DIVLTQSPKSMSMSVGEKVTLSCKASENVDTYVSWYQQRPEQPPAL...  0  \n",
       "203   DIVLTQSPKSMSMSVGERVTLSCKASENVGTYVSWYQQKPEQSPKL...  1  \n",
       "204   DIVMTQSPKSMGMSVGEAVTLNCKASENVGTYVSWYQQKPGQSPVL...  1  \n",
       "\n",
       "[1338 rows x 4 columns]"
      ]
     },
     "execution_count": 42,
     "metadata": {},
     "output_type": "execute_result"
    }
   ],
   "source": [
    "chen_train = chen_data.iloc[train_set]\n",
    "chen_train"
   ]
  },
  {
   "cell_type": "code",
   "execution_count": 43,
   "id": "db51ac46-6b32-4986-bd59-85da7b7a3af8",
   "metadata": {},
   "outputs": [],
   "source": [
    "chen_train.to_csv(path.join(DATA_DIR, \"chen/deduplicated/chen_train_data.csv\"))"
   ]
  },
  {
   "cell_type": "code",
   "execution_count": 20,
   "id": "0b58751e-c0a6-4ccd-8c18-20eb37d1950e",
   "metadata": {},
   "outputs": [],
   "source": [
    "chen_train = pd.read_csv(path.join(DATA_DIR, \"chen/deduplicated/chen_train_data.csv\"), index_col=0)"
   ]
  },
  {
   "cell_type": "code",
   "execution_count": 44,
   "id": "d08d9ef2-31d2-4540-8676-f172cbca5a1a",
   "metadata": {},
   "outputs": [
    {
     "data": {
      "text/html": [
       "<div>\n",
       "<style scoped>\n",
       "    .dataframe tbody tr th:only-of-type {\n",
       "        vertical-align: middle;\n",
       "    }\n",
       "\n",
       "    .dataframe tbody tr th {\n",
       "        vertical-align: top;\n",
       "    }\n",
       "\n",
       "    .dataframe thead th {\n",
       "        text-align: right;\n",
       "    }\n",
       "</style>\n",
       "<table border=\"1\" class=\"dataframe\">\n",
       "  <thead>\n",
       "    <tr style=\"text-align: right;\">\n",
       "      <th></th>\n",
       "      <th>Antibody_ID</th>\n",
       "      <th>heavy</th>\n",
       "      <th>light</th>\n",
       "      <th>Y</th>\n",
       "    </tr>\n",
       "  </thead>\n",
       "  <tbody>\n",
       "    <tr>\n",
       "      <th>2169</th>\n",
       "      <td>6ct7</td>\n",
       "      <td>EVQLVESGGGLVEPGGSLRLSCAVSGFDFEKAWMSWVRQAPGQGLQ...</td>\n",
       "      <td>SYELTQPPSVSVSPGQTARITCSGEALPMQFAHWYQQRPGKAPVIV...</td>\n",
       "      <td>0</td>\n",
       "    </tr>\n",
       "    <tr>\n",
       "      <th>1342</th>\n",
       "      <td>4nzu</td>\n",
       "      <td>AVSLVESGGGTVEPGSTLRLSCAASGFTFGSYAFHWVRQAPGDGLE...</td>\n",
       "      <td>DIEMTQSPSSLSASTGDKVTITCQASQDIAKFLDWYQQRPGKTPKL...</td>\n",
       "      <td>0</td>\n",
       "    </tr>\n",
       "    <tr>\n",
       "      <th>1728</th>\n",
       "      <td>5i8c</td>\n",
       "      <td>QEVLVQSGAEVKKPGASVKVSCRAFGYTFTGNALHWVRQAPGQGLE...</td>\n",
       "      <td>DIQLTQSPSFLSASVGDKVTITCRASQGVRNELAWYQQKPGKAPNL...</td>\n",
       "      <td>1</td>\n",
       "    </tr>\n",
       "    <tr>\n",
       "      <th>1729</th>\n",
       "      <td>5i8e</td>\n",
       "      <td>QEVLVQSGAEVKKPGASVKVSCRAFGYTFTGNALHWVRQAPGQGLE...</td>\n",
       "      <td>IQLTQSPSFLSASVGDKVTITCRASQGVRNELAWYQQKPGKAPNLL...</td>\n",
       "      <td>0</td>\n",
       "    </tr>\n",
       "    <tr>\n",
       "      <th>2114</th>\n",
       "      <td>6bb4</td>\n",
       "      <td>QVQLQQSDAELVKPGASVKISCKASGYTFTDRTIHWVKQRPEQGLE...</td>\n",
       "      <td>DVQMIQSPSSLSASLGDIVTMTCQASQDTSINLNWFQQKPGKAPKL...</td>\n",
       "      <td>0</td>\n",
       "    </tr>\n",
       "    <tr>\n",
       "      <th>...</th>\n",
       "      <td>...</td>\n",
       "      <td>...</td>\n",
       "      <td>...</td>\n",
       "      <td>...</td>\n",
       "    </tr>\n",
       "    <tr>\n",
       "      <th>1068</th>\n",
       "      <td>43c9</td>\n",
       "      <td>QVQLVESGPGLVAPSQSLSITCTVSGISLSRYNVHWVRQSPGKGLE...</td>\n",
       "      <td>DVVMTQTPSSLAMSVGQKVTMSCKSSQSLLNISNQKNYLAWYQQKP...</td>\n",
       "      <td>0</td>\n",
       "    </tr>\n",
       "    <tr>\n",
       "      <th>1872</th>\n",
       "      <td>5t5f</td>\n",
       "      <td>QVQMQQPGAELVKPGASVKLSCKASGYTFISYWMHWVKQRPGRGLE...</td>\n",
       "      <td>DIVMTQAAPSVPVTPGESVSISCRSSKSLLHSNGNTYLFWFLQRPG...</td>\n",
       "      <td>0</td>\n",
       "    </tr>\n",
       "    <tr>\n",
       "      <th>544</th>\n",
       "      <td>2gsi</td>\n",
       "      <td>VQLQQSGAELVRSGASVKLSCTASGFNIKDYYMYWVKLRPEQGLEW...</td>\n",
       "      <td>DIVLTQSPASLAVSLGQPATISCGASKSVRTSGYSYMDWNQQKPGQ...</td>\n",
       "      <td>0</td>\n",
       "    </tr>\n",
       "    <tr>\n",
       "      <th>611</th>\n",
       "      <td>2pcp</td>\n",
       "      <td>EVQLQQSGPELVKPGASVKMSCKASGYTFTDYYIHWNKQSHGKSLE...</td>\n",
       "      <td>DVLMTQTPLSLPVSLGDQASISCRSSQTIVHSNGNTYLEWYLQKPG...</td>\n",
       "      <td>0</td>\n",
       "    </tr>\n",
       "    <tr>\n",
       "      <th>2212</th>\n",
       "      <td>6e56</td>\n",
       "      <td>EVQLLESGGGLVQPGGSLRLSCAASGFTFNHYAMTWVRQAPGKGLE...</td>\n",
       "      <td>EIVMTQSPDTLSVSPGERATLSCRASESISSNLAWYQQKPGQVPRL...</td>\n",
       "      <td>0</td>\n",
       "    </tr>\n",
       "  </tbody>\n",
       "</table>\n",
       "<p>120 rows × 4 columns</p>\n",
       "</div>"
      ],
      "text/plain": [
       "     Antibody_ID                                              heavy  \\\n",
       "2169        6ct7  EVQLVESGGGLVEPGGSLRLSCAVSGFDFEKAWMSWVRQAPGQGLQ...   \n",
       "1342        4nzu  AVSLVESGGGTVEPGSTLRLSCAASGFTFGSYAFHWVRQAPGDGLE...   \n",
       "1728        5i8c  QEVLVQSGAEVKKPGASVKVSCRAFGYTFTGNALHWVRQAPGQGLE...   \n",
       "1729        5i8e  QEVLVQSGAEVKKPGASVKVSCRAFGYTFTGNALHWVRQAPGQGLE...   \n",
       "2114        6bb4  QVQLQQSDAELVKPGASVKISCKASGYTFTDRTIHWVKQRPEQGLE...   \n",
       "...          ...                                                ...   \n",
       "1068        43c9  QVQLVESGPGLVAPSQSLSITCTVSGISLSRYNVHWVRQSPGKGLE...   \n",
       "1872        5t5f  QVQMQQPGAELVKPGASVKLSCKASGYTFISYWMHWVKQRPGRGLE...   \n",
       "544         2gsi  VQLQQSGAELVRSGASVKLSCTASGFNIKDYYMYWVKLRPEQGLEW...   \n",
       "611         2pcp  EVQLQQSGPELVKPGASVKMSCKASGYTFTDYYIHWNKQSHGKSLE...   \n",
       "2212        6e56  EVQLLESGGGLVQPGGSLRLSCAASGFTFNHYAMTWVRQAPGKGLE...   \n",
       "\n",
       "                                                  light  Y  \n",
       "2169  SYELTQPPSVSVSPGQTARITCSGEALPMQFAHWYQQRPGKAPVIV...  0  \n",
       "1342  DIEMTQSPSSLSASTGDKVTITCQASQDIAKFLDWYQQRPGKTPKL...  0  \n",
       "1728  DIQLTQSPSFLSASVGDKVTITCRASQGVRNELAWYQQKPGKAPNL...  1  \n",
       "1729  IQLTQSPSFLSASVGDKVTITCRASQGVRNELAWYQQKPGKAPNLL...  0  \n",
       "2114  DVQMIQSPSSLSASLGDIVTMTCQASQDTSINLNWFQQKPGKAPKL...  0  \n",
       "...                                                 ... ..  \n",
       "1068  DVVMTQTPSSLAMSVGQKVTMSCKSSQSLLNISNQKNYLAWYQQKP...  0  \n",
       "1872  DIVMTQAAPSVPVTPGESVSISCRSSKSLLHSNGNTYLFWFLQRPG...  0  \n",
       "544   DIVLTQSPASLAVSLGQPATISCGASKSVRTSGYSYMDWNQQKPGQ...  0  \n",
       "611   DVLMTQTPLSLPVSLGDQASISCRSSQTIVHSNGNTYLEWYLQKPG...  0  \n",
       "2212  EIVMTQSPDTLSVSPGERATLSCRASESISSNLAWYQQKPGQVPRL...  0  \n",
       "\n",
       "[120 rows x 4 columns]"
      ]
     },
     "execution_count": 44,
     "metadata": {},
     "output_type": "execute_result"
    }
   ],
   "source": [
    "chen_valid = chen_data.iloc[valid_set]\n",
    "chen_valid"
   ]
  },
  {
   "cell_type": "code",
   "execution_count": 45,
   "id": "a30bc3b5-5ae4-4939-b4c1-8ca5ed807ddc",
   "metadata": {},
   "outputs": [],
   "source": [
    "chen_valid.to_csv(path.join(DATA_DIR, \"chen/deduplicated/chen_valid_data.csv\"))"
   ]
  },
  {
   "cell_type": "code",
   "execution_count": 21,
   "id": "13a01b20-1080-480b-a8b1-6d999844baff",
   "metadata": {},
   "outputs": [],
   "source": [
    "chen_valid = pd.read_csv(path.join(DATA_DIR, \"chen/deduplicated/chen_valid_data.csv\"), index_col=0)"
   ]
  },
  {
   "cell_type": "code",
   "execution_count": 46,
   "id": "d15dd142-8b55-49b6-8a48-ceaf66af9613",
   "metadata": {},
   "outputs": [
    {
     "data": {
      "text/html": [
       "<div>\n",
       "<style scoped>\n",
       "    .dataframe tbody tr th:only-of-type {\n",
       "        vertical-align: middle;\n",
       "    }\n",
       "\n",
       "    .dataframe tbody tr th {\n",
       "        vertical-align: top;\n",
       "    }\n",
       "\n",
       "    .dataframe thead th {\n",
       "        text-align: right;\n",
       "    }\n",
       "</style>\n",
       "<table border=\"1\" class=\"dataframe\">\n",
       "  <thead>\n",
       "    <tr style=\"text-align: right;\">\n",
       "      <th></th>\n",
       "      <th>Antibody_ID</th>\n",
       "      <th>heavy</th>\n",
       "      <th>light</th>\n",
       "      <th>Y</th>\n",
       "    </tr>\n",
       "  </thead>\n",
       "  <tbody>\n",
       "    <tr>\n",
       "      <th>2372</th>\n",
       "      <td>6obd</td>\n",
       "      <td>EVQLVESGGGLVQPGGSLRLSCAASGFPFSNYWMNWVRQAPGKGLE...</td>\n",
       "      <td>DIVMTQTPLSLSVTPGQPASISCKSSQSLLYSNGKTYLNWVLQKPG...</td>\n",
       "      <td>0</td>\n",
       "    </tr>\n",
       "    <tr>\n",
       "      <th>359</th>\n",
       "      <td>1sm3</td>\n",
       "      <td>QVQLQESGGGLVQPGGSMKLSCVASGFTFSNYWMNWVRQSPEKGLE...</td>\n",
       "      <td>DIVVTQESALTTSPGETVTLTCRSSTGAVTTSNYANWVQEKPDHLF...</td>\n",
       "      <td>0</td>\n",
       "    </tr>\n",
       "    <tr>\n",
       "      <th>1539</th>\n",
       "      <td>5a2i</td>\n",
       "      <td>QVQLQESGGGLVQPGGSMKLSCVASGFTFSNYWMNWVRQSPEKGLE...</td>\n",
       "      <td>DIVVTQESALTTSPGETVTLTCRSSTGAVTTSNYANWVQEKPDHLF...</td>\n",
       "      <td>0</td>\n",
       "    </tr>\n",
       "    <tr>\n",
       "      <th>1112</th>\n",
       "      <td>4f33</td>\n",
       "      <td>EVQLQQSGPELEKPGASVKISCKASGYSFTGYTMNWVKQSHGKSLE...</td>\n",
       "      <td>DIELTQSPAIMSASPGEKVTMTCSASSSVSYMHWYQQKSGTSPKRW...</td>\n",
       "      <td>1</td>\n",
       "    </tr>\n",
       "    <tr>\n",
       "      <th>314</th>\n",
       "      <td>1q1j</td>\n",
       "      <td>EVQLVESGGGLVKPGGSLRLTCVASGFTFSDVWLNWVRQAPGKGLE...</td>\n",
       "      <td>QSVLTQPPSVSAAPGQKVTISCSGSSSNIGNNYVLWYQQFPGTAPK...</td>\n",
       "      <td>0</td>\n",
       "    </tr>\n",
       "    <tr>\n",
       "      <th>...</th>\n",
       "      <td>...</td>\n",
       "      <td>...</td>\n",
       "      <td>...</td>\n",
       "      <td>...</td>\n",
       "    </tr>\n",
       "    <tr>\n",
       "      <th>545</th>\n",
       "      <td>2h1p</td>\n",
       "      <td>DVKLVESGGGLVKLGGSLKLSCAASGFTFSSYFLSWVRQTPEKRLE...</td>\n",
       "      <td>DVVMTQTPLSLPVSLGDPASISCRSSQSLVHSNGNTYLHWYLQKPG...</td>\n",
       "      <td>0</td>\n",
       "    </tr>\n",
       "    <tr>\n",
       "      <th>1162</th>\n",
       "      <td>4hdi</td>\n",
       "      <td>DVKLVESGGGLVKLGGSLKLSCAASGFTFSNYFMSWVRQTPEKRLE...</td>\n",
       "      <td>DVVMTQTPLSLPVSLGDQASISCRSSQSLVHSNGNTYLHWYLQKPG...</td>\n",
       "      <td>0</td>\n",
       "    </tr>\n",
       "    <tr>\n",
       "      <th>2404</th>\n",
       "      <td>6s5a</td>\n",
       "      <td>EVKLLESGGGLVQPGGSLKLSCAASGFDFSRYWMNWVRQAPGKGLE...</td>\n",
       "      <td>QAVVTQESALTTSPGETVTLTCRSSTGAVTTSNYANWVQEKPDHLF...</td>\n",
       "      <td>0</td>\n",
       "    </tr>\n",
       "    <tr>\n",
       "      <th>1684</th>\n",
       "      <td>5gkr</td>\n",
       "      <td>QVQLQESGPGLVKSSETLSLTCTVSGGSISSYFWSWIRQPPGKGLE...</td>\n",
       "      <td>QSALTQPRSVSGSPGQSVTISCTGTSSDVGGYNYVSWYQQHPGKAP...</td>\n",
       "      <td>1</td>\n",
       "    </tr>\n",
       "    <tr>\n",
       "      <th>632</th>\n",
       "      <td>2r56</td>\n",
       "      <td>QVSLRESGGGLVQPGRSLRLSCTASGFTFRHHGMTWVRQAPGKGLE...</td>\n",
       "      <td>DIVMTQSPSSLSASVGDRVTITCRASQGISSRLAWYQQKPGKAPKL...</td>\n",
       "      <td>1</td>\n",
       "    </tr>\n",
       "  </tbody>\n",
       "</table>\n",
       "<p>119 rows × 4 columns</p>\n",
       "</div>"
      ],
      "text/plain": [
       "     Antibody_ID                                              heavy  \\\n",
       "2372        6obd  EVQLVESGGGLVQPGGSLRLSCAASGFPFSNYWMNWVRQAPGKGLE...   \n",
       "359         1sm3  QVQLQESGGGLVQPGGSMKLSCVASGFTFSNYWMNWVRQSPEKGLE...   \n",
       "1539        5a2i  QVQLQESGGGLVQPGGSMKLSCVASGFTFSNYWMNWVRQSPEKGLE...   \n",
       "1112        4f33  EVQLQQSGPELEKPGASVKISCKASGYSFTGYTMNWVKQSHGKSLE...   \n",
       "314         1q1j  EVQLVESGGGLVKPGGSLRLTCVASGFTFSDVWLNWVRQAPGKGLE...   \n",
       "...          ...                                                ...   \n",
       "545         2h1p  DVKLVESGGGLVKLGGSLKLSCAASGFTFSSYFLSWVRQTPEKRLE...   \n",
       "1162        4hdi  DVKLVESGGGLVKLGGSLKLSCAASGFTFSNYFMSWVRQTPEKRLE...   \n",
       "2404        6s5a  EVKLLESGGGLVQPGGSLKLSCAASGFDFSRYWMNWVRQAPGKGLE...   \n",
       "1684        5gkr  QVQLQESGPGLVKSSETLSLTCTVSGGSISSYFWSWIRQPPGKGLE...   \n",
       "632         2r56  QVSLRESGGGLVQPGRSLRLSCTASGFTFRHHGMTWVRQAPGKGLE...   \n",
       "\n",
       "                                                  light  Y  \n",
       "2372  DIVMTQTPLSLSVTPGQPASISCKSSQSLLYSNGKTYLNWVLQKPG...  0  \n",
       "359   DIVVTQESALTTSPGETVTLTCRSSTGAVTTSNYANWVQEKPDHLF...  0  \n",
       "1539  DIVVTQESALTTSPGETVTLTCRSSTGAVTTSNYANWVQEKPDHLF...  0  \n",
       "1112  DIELTQSPAIMSASPGEKVTMTCSASSSVSYMHWYQQKSGTSPKRW...  1  \n",
       "314   QSVLTQPPSVSAAPGQKVTISCSGSSSNIGNNYVLWYQQFPGTAPK...  0  \n",
       "...                                                 ... ..  \n",
       "545   DVVMTQTPLSLPVSLGDPASISCRSSQSLVHSNGNTYLHWYLQKPG...  0  \n",
       "1162  DVVMTQTPLSLPVSLGDQASISCRSSQSLVHSNGNTYLHWYLQKPG...  0  \n",
       "2404  QAVVTQESALTTSPGETVTLTCRSSTGAVTTSNYANWVQEKPDHLF...  0  \n",
       "1684  QSALTQPRSVSGSPGQSVTISCTGTSSDVGGYNYVSWYQQHPGKAP...  1  \n",
       "632   DIVMTQSPSSLSASVGDRVTITCRASQGISSRLAWYQQKPGKAPKL...  1  \n",
       "\n",
       "[119 rows x 4 columns]"
      ]
     },
     "execution_count": 46,
     "metadata": {},
     "output_type": "execute_result"
    }
   ],
   "source": [
    "chen_test = chen_data.iloc[test_set]\n",
    "chen_test"
   ]
  },
  {
   "cell_type": "code",
   "execution_count": 47,
   "id": "f8f755aa-42c8-454e-96c6-847b49dbb418",
   "metadata": {},
   "outputs": [],
   "source": [
    "chen_test.to_csv(path.join(DATA_DIR, \"chen/deduplicated/chen_test_data.csv\"))"
   ]
  },
  {
   "cell_type": "code",
   "execution_count": 22,
   "id": "ad8cc3d9-c633-41d2-86c1-939b2e327789",
   "metadata": {},
   "outputs": [],
   "source": [
    "chen_test = pd.read_csv(path.join(DATA_DIR, \"chen/deduplicated/chen_test_data.csv\"), index_col=0)"
   ]
  },
  {
   "cell_type": "markdown",
   "id": "b1e935be-3de2-497d-b440-f84cb74a1609",
   "metadata": {},
   "source": [
    "# 5x2 cv"
   ]
  },
  {
   "cell_type": "code",
   "execution_count": 56,
   "id": "204a6bbc-98f0-4aad-b0d6-c17ad4b28bb2",
   "metadata": {},
   "outputs": [],
   "source": [
    "seeds = [13, 19, 27, 38, 42]"
   ]
  },
  {
   "cell_type": "code",
   "execution_count": 63,
   "id": "02e9b0c1-656d-44b2-8d16-1e9dda4c5787",
   "metadata": {},
   "outputs": [],
   "source": [
    "chen_data = chen_data.merge(clusters.rename(\"cluster\"), left_index=True, right_index=True)"
   ]
  },
  {
   "cell_type": "code",
   "execution_count": 64,
   "id": "4179847a-5019-4305-820c-8ec5dc2033b3",
   "metadata": {},
   "outputs": [],
   "source": [
    "for seed in seeds:\n",
    "    train_indices, test_indices = train_test_split(range(clusters.max()), test_size=0.5, random_state=seed)\n",
    "    train_set = []\n",
    "    for idx in train_indices:\n",
    "        train_set += cluster_assignment[idx + 1]\n",
    "    test_set = []\n",
    "    for idx in test_indices:\n",
    "        test_set += cluster_assignment[idx + 1]\n",
    "    chen_train = chen_data.iloc[train_set]\n",
    "    chen_train.to_csv(path.join(DATA_DIR, f\"chen/deduplicated/crossval/chen_train_{seed}.csv\"))\n",
    "    chen_test = chen_data.iloc[test_set]\n",
    "    chen_test.to_csv(path.join(DATA_DIR, f\"chen/deduplicated/crossval/chen_test_{seed}.csv\"))"
   ]
  },
  {
   "cell_type": "code",
   "execution_count": 54,
   "id": "902d9820-868b-4cb1-b69c-04d25e434c29",
   "metadata": {},
   "outputs": [
    {
     "data": {
      "text/plain": [
       "781"
      ]
     },
     "execution_count": 54,
     "metadata": {},
     "output_type": "execute_result"
    }
   ],
   "source": [
    "train_set = []\n",
    "for idx in train_indices:\n",
    "    train_set += cluster_assignment[idx + 1]\n",
    "len(train_set)"
   ]
  },
  {
   "cell_type": "code",
   "execution_count": 55,
   "id": "92cc56fd-29d9-4bc5-a4f3-ccc6d7c41164",
   "metadata": {},
   "outputs": [
    {
     "data": {
      "text/plain": [
       "770"
      ]
     },
     "execution_count": 55,
     "metadata": {},
     "output_type": "execute_result"
    }
   ],
   "source": [
    "test_set = []\n",
    "for idx in test_indices:\n",
    "    test_set += cluster_assignment[idx + 1]\n",
    "len(test_set)"
   ]
  },
  {
   "cell_type": "code",
   "execution_count": null,
   "id": "4355e72c-f47f-486f-bec4-6f6946108836",
   "metadata": {},
   "outputs": [],
   "source": [
    "chen_train = chen_data.iloc[train_set]\n",
    "chen_train.to_csv(path.join(DATA_DIR, \"chen/deduplicated/chen_train_data.csv\"))"
   ]
  },
  {
   "cell_type": "code",
   "execution_count": null,
   "id": "2a455be2-0ddb-4f3d-b766-ebbdd6cd9da8",
   "metadata": {},
   "outputs": [],
   "source": [
    "chen_test = chen_data.iloc[test_set]\n",
    "chen_test.to_csv(path.join(DATA_DIR, \"chen/deduplicated/chen_test_data.csv\"))"
   ]
  },
  {
   "cell_type": "markdown",
   "id": "a962067c-52f1-4152-8929-0a32b6906041",
   "metadata": {},
   "source": [
    "## Check that the intersection of sets is empty"
   ]
  },
  {
   "cell_type": "code",
   "execution_count": 23,
   "id": "adadb5c1-ac33-4c7b-a06e-7449c010b862",
   "metadata": {},
   "outputs": [
    {
     "data": {
      "text/html": [
       "<div>\n",
       "<style scoped>\n",
       "    .dataframe tbody tr th:only-of-type {\n",
       "        vertical-align: middle;\n",
       "    }\n",
       "\n",
       "    .dataframe tbody tr th {\n",
       "        vertical-align: top;\n",
       "    }\n",
       "\n",
       "    .dataframe thead th {\n",
       "        text-align: right;\n",
       "    }\n",
       "</style>\n",
       "<table border=\"1\" class=\"dataframe\">\n",
       "  <thead>\n",
       "    <tr style=\"text-align: right;\">\n",
       "      <th></th>\n",
       "      <th>Antibody_ID</th>\n",
       "      <th>heavy</th>\n",
       "      <th>light</th>\n",
       "      <th>Y</th>\n",
       "    </tr>\n",
       "  </thead>\n",
       "  <tbody>\n",
       "  </tbody>\n",
       "</table>\n",
       "</div>"
      ],
      "text/plain": [
       "Empty DataFrame\n",
       "Columns: [Antibody_ID, heavy, light, Y]\n",
       "Index: []"
      ]
     },
     "execution_count": 23,
     "metadata": {},
     "output_type": "execute_result"
    }
   ],
   "source": [
    "pd.merge(chen_train, chen_test, how='inner')"
   ]
  },
  {
   "cell_type": "code",
   "execution_count": 24,
   "id": "186ac780-c075-4451-8071-2802f8180d6d",
   "metadata": {},
   "outputs": [
    {
     "data": {
      "text/html": [
       "<div>\n",
       "<style scoped>\n",
       "    .dataframe tbody tr th:only-of-type {\n",
       "        vertical-align: middle;\n",
       "    }\n",
       "\n",
       "    .dataframe tbody tr th {\n",
       "        vertical-align: top;\n",
       "    }\n",
       "\n",
       "    .dataframe thead th {\n",
       "        text-align: right;\n",
       "    }\n",
       "</style>\n",
       "<table border=\"1\" class=\"dataframe\">\n",
       "  <thead>\n",
       "    <tr style=\"text-align: right;\">\n",
       "      <th></th>\n",
       "      <th>Antibody_ID</th>\n",
       "      <th>heavy</th>\n",
       "      <th>light</th>\n",
       "      <th>Y</th>\n",
       "    </tr>\n",
       "  </thead>\n",
       "  <tbody>\n",
       "  </tbody>\n",
       "</table>\n",
       "</div>"
      ],
      "text/plain": [
       "Empty DataFrame\n",
       "Columns: [Antibody_ID, heavy, light, Y]\n",
       "Index: []"
      ]
     },
     "execution_count": 24,
     "metadata": {},
     "output_type": "execute_result"
    }
   ],
   "source": [
    "pd.merge(chen_train, chen_valid, how='inner')"
   ]
  },
  {
   "cell_type": "code",
   "execution_count": 25,
   "id": "002ca572-d118-441a-befa-9b9dc39e8f52",
   "metadata": {},
   "outputs": [
    {
     "data": {
      "text/html": [
       "<div>\n",
       "<style scoped>\n",
       "    .dataframe tbody tr th:only-of-type {\n",
       "        vertical-align: middle;\n",
       "    }\n",
       "\n",
       "    .dataframe tbody tr th {\n",
       "        vertical-align: top;\n",
       "    }\n",
       "\n",
       "    .dataframe thead th {\n",
       "        text-align: right;\n",
       "    }\n",
       "</style>\n",
       "<table border=\"1\" class=\"dataframe\">\n",
       "  <thead>\n",
       "    <tr style=\"text-align: right;\">\n",
       "      <th></th>\n",
       "      <th>Antibody_ID</th>\n",
       "      <th>heavy</th>\n",
       "      <th>light</th>\n",
       "      <th>Y</th>\n",
       "    </tr>\n",
       "  </thead>\n",
       "  <tbody>\n",
       "  </tbody>\n",
       "</table>\n",
       "</div>"
      ],
      "text/plain": [
       "Empty DataFrame\n",
       "Columns: [Antibody_ID, heavy, light, Y]\n",
       "Index: []"
      ]
     },
     "execution_count": 25,
     "metadata": {},
     "output_type": "execute_result"
    }
   ],
   "source": [
    "pd.merge(chen_valid, chen_test, how='inner')"
   ]
  },
  {
   "cell_type": "markdown",
   "id": "af6979ea-f8c8-4907-8c25-12198fafdf11",
   "metadata": {},
   "source": [
    "## Measure between-group similarity"
   ]
  },
  {
   "cell_type": "code",
   "execution_count": 58,
   "id": "4674489d-59b2-4743-af1a-847b785c8c39",
   "metadata": {},
   "outputs": [],
   "source": [
    "train_valid = pd.concat([chen_valid, chen_train])"
   ]
  },
  {
   "cell_type": "code",
   "execution_count": 56,
   "id": "a2679269-d9ad-4c81-a2dd-2d13c4fb10d2",
   "metadata": {},
   "outputs": [],
   "source": [
    "del(test_valid)"
   ]
  },
  {
   "cell_type": "code",
   "execution_count": 63,
   "id": "a4051d07-651a-4954-b4b0-b64693fe8b34",
   "metadata": {},
   "outputs": [],
   "source": [
    "between_group_similarities = similarity.loc[train_valid.index][[str(num) for num in chen_test.index]]"
   ]
  },
  {
   "cell_type": "code",
   "execution_count": 65,
   "id": "474d952b-e8b6-48a8-a9cf-023232a2b4a1",
   "metadata": {},
   "outputs": [
    {
     "data": {
      "text/plain": [
       "0.8999999999999999"
      ]
     },
     "execution_count": 65,
     "metadata": {},
     "output_type": "execute_result"
    }
   ],
   "source": [
    "between_group_similarities.max().max()"
   ]
  },
  {
   "cell_type": "code",
   "execution_count": 66,
   "id": "fccddbad-8258-4373-951d-a2569fff64c9",
   "metadata": {},
   "outputs": [
    {
     "data": {
      "text/plain": [
       "0.134"
      ]
     },
     "execution_count": 66,
     "metadata": {},
     "output_type": "execute_result"
    }
   ],
   "source": [
    "between_group_similarities.min().min()"
   ]
  },
  {
   "cell_type": "markdown",
   "id": "3aef9198-5a52-4df6-b574-41b7c797808e",
   "metadata": {},
   "source": [
    "The maximum similarity of sequences in the train and test set is 0.89, as expected thanks to the distance cutoff of 0.1."
   ]
  },
  {
   "cell_type": "markdown",
   "id": "0fbd06ae-295a-4292-b51f-53da8863f3bb",
   "metadata": {},
   "source": [
    "# Labels"
   ]
  },
  {
   "cell_type": "code",
   "execution_count": 35,
   "id": "b59bd442-596b-47ff-9317-6ffc1ff6583a",
   "metadata": {},
   "outputs": [],
   "source": [
    "chen_train = pd.read_csv(path.join(DATA_DIR, \"chen/deduplicated/chen_train_data.csv\"), index_col=0)\n",
    "chen_valid = pd.read_csv(path.join(DATA_DIR, \"chen/deduplicated/chen_valid_data.csv\"), index_col=0)\n",
    "chen_test = pd.read_csv(path.join(DATA_DIR, \"chen/deduplicated/chen_test_data.csv\"), index_col=0)"
   ]
  },
  {
   "cell_type": "code",
   "execution_count": 15,
   "id": "ae48c63c-5578-40ab-85fa-24e95835c3a5",
   "metadata": {},
   "outputs": [],
   "source": [
    "tap_data = pd.read_csv(path.join(DATA_DIR, \"tap/TAP_data.csv\"))"
   ]
  },
  {
   "cell_type": "code",
   "execution_count": 6,
   "id": "4dd32b4c-da57-4d08-ae37-56e47a29df0e",
   "metadata": {},
   "outputs": [
    {
     "data": {
      "text/plain": [
       "0    1057\n",
       "1     281\n",
       "Name: Y, dtype: int64"
      ]
     },
     "execution_count": 6,
     "metadata": {},
     "output_type": "execute_result"
    }
   ],
   "source": [
    "chen_train[\"Y\"].value_counts()"
   ]
  },
  {
   "cell_type": "code",
   "execution_count": 16,
   "id": "ba8b2b1f-74df-4aae-901d-dd0570da35a8",
   "metadata": {},
   "outputs": [
    {
     "data": {
      "text/plain": [
       "1    231\n",
       "0     10\n",
       "Name: Y, dtype: int64"
      ]
     },
     "execution_count": 16,
     "metadata": {},
     "output_type": "execute_result"
    }
   ],
   "source": [
    "tap_data[\"Y\"].value_counts()"
   ]
  },
  {
   "cell_type": "code",
   "execution_count": null,
   "id": "1ebbc75c-3d18-4f50-87a1-9e956b440191",
   "metadata": {},
   "outputs": [],
   "source": [
    "fig, ax = plt.subplots()\n",
    "ax.barh(y_pos, performance, xerr=error, align='center')"
   ]
  },
  {
   "cell_type": "code",
   "execution_count": 20,
   "id": "726c5d89-6f2d-4470-bc82-582958287052",
   "metadata": {},
   "outputs": [
    {
     "data": {
      "image/png": "[encoded data removed]",
      "text/plain": [
       "<Figure size 432x288 with 1 Axes>"
      ]
     },
     "metadata": {
      "needs_background": "light"
     },
     "output_type": "display_data"
    }
   ],
   "source": [
    "sets = [\"train\", \"valid\", \"test\"]\n",
    "zeros = [chen_train[\"Y\"].value_counts()[0], chen_valid[\"Y\"].value_counts()[0], chen_test[\"Y\"].value_counts()[0]]\n",
    "ones = [chen_train[\"Y\"].value_counts()[1], chen_valid[\"Y\"].value_counts()[1], chen_test[\"Y\"].value_counts()[1]]\n",
    "\n",
    "b1 = plt.barh(sets, zeros, color=\"lightgray\")\n",
    "b2 = plt.barh(sets, ones, left=zeros, color='#1f77b4')\n",
    "\n",
    "plt.legend([b1, b2], [\"0\", \"1\"], title=\"Labels\", loc=\"upper right\")\n",
    "plt.savefig(path.join(DATA_DIR, \"images/label_numbers_chen_split.png\"))\n",
    "\n",
    "plt.show()"
   ]
  },
  {
   "cell_type": "code",
   "execution_count": 21,
   "id": "8e5e28bc-fe9a-40f0-bd8e-7c1d13389e6c",
   "metadata": {},
   "outputs": [
    {
     "data": {
      "image/png": "[encoded data removed]",
      "text/plain": [
       "<Figure size 432x288 with 1 Axes>"
      ]
     },
     "metadata": {
      "needs_background": "light"
     },
     "output_type": "display_data"
    }
   ],
   "source": [
    "sets = [\"train\", \"test\"]\n",
    "zeros = [chen_train[\"Y\"].value_counts()[0], chen_valid[\"Y\"].value_counts()[0] + chen_test[\"Y\"].value_counts()[0]]\n",
    "ones = [chen_train[\"Y\"].value_counts()[1], chen_valid[\"Y\"].value_counts()[1] + chen_test[\"Y\"].value_counts()[1]]\n",
    "\n",
    "b1 = plt.barh(sets, zeros, color=\"lightgray\")\n",
    "b2 = plt.barh(sets, ones, left=zeros, color='#1f77b4')\n",
    "\n",
    "plt.legend([b1, b2], [\"0\", \"1\"], title=\"Labels\", loc=\"upper right\")\n",
    "\n",
    "plt.show()"
   ]
  },
  {
   "cell_type": "code",
   "execution_count": 19,
   "id": "56e0aeaa-74e7-4c56-bbb0-db84d8dbea92",
   "metadata": {},
   "outputs": [
    {
     "data": {
      "image/png": "[encoded data removed]",
      "text/plain": [
       "<Figure size 432x288 with 1 Axes>"
      ]
     },
     "metadata": {
      "needs_background": "light"
     },
     "output_type": "display_data"
    }
   ],
   "source": [
    "sets = [\"SAbDab\", \"TAP\"]\n",
    "zeros = [chen_train[\"Y\"].value_counts()[0] + chen_valid[\"Y\"].value_counts()[0] + chen_test[\"Y\"].value_counts()[0], tap_data[\"Y\"].value_counts()[0]]\n",
    "ones = [chen_train[\"Y\"].value_counts()[1] + chen_valid[\"Y\"].value_counts()[1] + chen_test[\"Y\"].value_counts()[1], tap_data[\"Y\"].value_counts()[1]]\n",
    "\n",
    "b1 = plt.barh(sets, zeros, color=\"lightgray\")\n",
    "b2 = plt.barh(sets, ones, left=zeros, color='#1f77b4')\n",
    "\n",
    "plt.legend([b1, b2], [\"0\", \"1\"], title=\"Labels\", loc=\"upper right\")\n",
    "\n",
    "plt.savefig(path.join(DATA_DIR, \"images/label_numbers_total.png\"))\n",
    "plt.show()"
   ]
  },
  {
   "cell_type": "code",
   "execution_count": 30,
   "id": "41410fa0-15f2-434c-a2ce-828162ed2a27",
   "metadata": {},
   "outputs": [
    {
     "data": {
      "text/plain": [
       "0.2100149476831091"
      ]
     },
     "execution_count": 30,
     "metadata": {},
     "output_type": "execute_result"
    }
   ],
   "source": [
    "281 / (1057+281)"
   ]
  },
  {
   "cell_type": "code",
   "execution_count": 28,
   "id": "71681291-0135-4f09-8035-c3297189f13c",
   "metadata": {},
   "outputs": [
    {
     "data": {
      "text/plain": [
       "0    94\n",
       "1    26\n",
       "Name: Y, dtype: int64"
      ]
     },
     "execution_count": 28,
     "metadata": {},
     "output_type": "execute_result"
    }
   ],
   "source": [
    "chen_valid[\"Y\"].value_counts()"
   ]
  },
  {
   "cell_type": "code",
   "execution_count": 31,
   "id": "3268077d-776c-4053-a772-4fcc97ff4583",
   "metadata": {},
   "outputs": [
    {
     "data": {
      "text/plain": [
       "0.21666666666666667"
      ]
     },
     "execution_count": 31,
     "metadata": {},
     "output_type": "execute_result"
    }
   ],
   "source": [
    "26 / (94+26)"
   ]
  },
  {
   "cell_type": "code",
   "execution_count": 29,
   "id": "2d78b061-c68e-4cb9-bcb3-a4a86f1ded89",
   "metadata": {},
   "outputs": [
    {
     "data": {
      "text/plain": [
       "0    96\n",
       "1    23\n",
       "Name: Y, dtype: int64"
      ]
     },
     "execution_count": 29,
     "metadata": {},
     "output_type": "execute_result"
    }
   ],
   "source": [
    "chen_test[\"Y\"].value_counts()"
   ]
  },
  {
   "cell_type": "code",
   "execution_count": 32,
   "id": "e01b8174-86eb-4866-bf4d-2ccddd27c984",
   "metadata": {},
   "outputs": [
    {
     "data": {
      "text/plain": [
       "0.19327731092436976"
      ]
     },
     "execution_count": 32,
     "metadata": {},
     "output_type": "execute_result"
    }
   ],
   "source": [
    "23 / (23+96)"
   ]
  },
  {
   "cell_type": "code",
   "execution_count": 37,
   "id": "40603f41-57a1-40b2-88ce-acd88935b1fb",
   "metadata": {},
   "outputs": [],
   "source": [
    "chen_all = pd.concat([chen_train, chen_valid, chen_test])\n",
    "chen_all[\"heavy_length\"] = chen_all[\"heavy\"].str.len()\n",
    "chen_all[\"light_length\"] = chen_all[\"light\"].str.len()"
   ]
  },
  {
   "cell_type": "code",
   "execution_count": 38,
   "id": "c4ac9ad3-abd0-45ad-9a06-97bf7fd0a147",
   "metadata": {},
   "outputs": [
    {
     "data": {
      "text/html": [
       "<div>\n",
       "<style scoped>\n",
       "    .dataframe tbody tr th:only-of-type {\n",
       "        vertical-align: middle;\n",
       "    }\n",
       "\n",
       "    .dataframe tbody tr th {\n",
       "        vertical-align: top;\n",
       "    }\n",
       "\n",
       "    .dataframe thead th {\n",
       "        text-align: right;\n",
       "    }\n",
       "</style>\n",
       "<table border=\"1\" class=\"dataframe\">\n",
       "  <thead>\n",
       "    <tr style=\"text-align: right;\">\n",
       "      <th></th>\n",
       "      <th>Antibody_ID</th>\n",
       "      <th>heavy</th>\n",
       "      <th>light</th>\n",
       "      <th>Y</th>\n",
       "      <th>heavy_length</th>\n",
       "      <th>light_length</th>\n",
       "    </tr>\n",
       "  </thead>\n",
       "  <tbody>\n",
       "    <tr>\n",
       "      <th>2073</th>\n",
       "      <td>6aod</td>\n",
       "      <td>EVQLVQSGAEVKKPGASVKVSCKASGYTFTGYYMHWVRQAPGQGLE...</td>\n",
       "      <td>DIVMTKSPSSLSASVGDRVTITCRASQGIRNDLGWYQQKPGKAPKR...</td>\n",
       "      <td>0</td>\n",
       "      <td>117</td>\n",
       "      <td>107</td>\n",
       "    </tr>\n",
       "    <tr>\n",
       "      <th>1517</th>\n",
       "      <td>4yny</td>\n",
       "      <td>EVQLVESGGGLVQPGRSLKLSCAASGFTFSNYGMAWVRQTPTKGLE...</td>\n",
       "      <td>EFVLTQPNSVSTNLGSTVKLSCKRSTGNIGSNYVNWYQQHEGRSPT...</td>\n",
       "      <td>1</td>\n",
       "      <td>117</td>\n",
       "      <td>109</td>\n",
       "    </tr>\n",
       "    <tr>\n",
       "      <th>2025</th>\n",
       "      <td>5xcv</td>\n",
       "      <td>EVQLVESGGGLVQPGRSLKLSCAASGFTFSNYGMAWVRQTPTKGLE...</td>\n",
       "      <td>QFVLTQPNSVSTNLGSTVKLSCKRSTGNIGSNYVNWYQQHEGRSPT...</td>\n",
       "      <td>1</td>\n",
       "      <td>117</td>\n",
       "      <td>109</td>\n",
       "    </tr>\n",
       "    <tr>\n",
       "      <th>2070</th>\n",
       "      <td>6and</td>\n",
       "      <td>EVQLVESGGGLVQPGGSLRLSCAASGYEFSRSWMNWVRQAPGKGLE...</td>\n",
       "      <td>DIQMTQSPSSLSASVGDRVTITCRSSQSIVHSVGNTFLEWYQQKPG...</td>\n",
       "      <td>1</td>\n",
       "      <td>120</td>\n",
       "      <td>112</td>\n",
       "    </tr>\n",
       "    <tr>\n",
       "      <th>666</th>\n",
       "      <td>2xqy</td>\n",
       "      <td>QVQLQQPGAELVKPGASVKMSCKASGYSFTSYWMNWVKQRPGRGLE...</td>\n",
       "      <td>DIVLTQSPASLALSLGQRATISCRASKSVSTSGYSYMYWYQQKPGQ...</td>\n",
       "      <td>0</td>\n",
       "      <td>118</td>\n",
       "      <td>111</td>\n",
       "    </tr>\n",
       "    <tr>\n",
       "      <th>...</th>\n",
       "      <td>...</td>\n",
       "      <td>...</td>\n",
       "      <td>...</td>\n",
       "      <td>...</td>\n",
       "      <td>...</td>\n",
       "      <td>...</td>\n",
       "    </tr>\n",
       "    <tr>\n",
       "      <th>545</th>\n",
       "      <td>2h1p</td>\n",
       "      <td>DVKLVESGGGLVKLGGSLKLSCAASGFTFSSYFLSWVRQTPEKRLE...</td>\n",
       "      <td>DVVMTQTPLSLPVSLGDPASISCRSSQSLVHSNGNTYLHWYLQKPG...</td>\n",
       "      <td>0</td>\n",
       "      <td>120</td>\n",
       "      <td>112</td>\n",
       "    </tr>\n",
       "    <tr>\n",
       "      <th>1162</th>\n",
       "      <td>4hdi</td>\n",
       "      <td>DVKLVESGGGLVKLGGSLKLSCAASGFTFSNYFMSWVRQTPEKRLE...</td>\n",
       "      <td>DVVMTQTPLSLPVSLGDQASISCRSSQSLVHSNGNTYLHWYLQKPG...</td>\n",
       "      <td>0</td>\n",
       "      <td>120</td>\n",
       "      <td>112</td>\n",
       "    </tr>\n",
       "    <tr>\n",
       "      <th>2404</th>\n",
       "      <td>6s5a</td>\n",
       "      <td>EVKLLESGGGLVQPGGSLKLSCAASGFDFSRYWMNWVRQAPGKGLE...</td>\n",
       "      <td>QAVVTQESALTTSPGETVTLTCRSSTGAVTTSNYANWVQEKPDHLF...</td>\n",
       "      <td>0</td>\n",
       "      <td>119</td>\n",
       "      <td>109</td>\n",
       "    </tr>\n",
       "    <tr>\n",
       "      <th>1684</th>\n",
       "      <td>5gkr</td>\n",
       "      <td>QVQLQESGPGLVKSSETLSLTCTVSGGSISSYFWSWIRQPPGKGLE...</td>\n",
       "      <td>QSALTQPRSVSGSPGQSVTISCTGTSSDVGGYNYVSWYQQHPGKAP...</td>\n",
       "      <td>1</td>\n",
       "      <td>116</td>\n",
       "      <td>110</td>\n",
       "    </tr>\n",
       "    <tr>\n",
       "      <th>632</th>\n",
       "      <td>2r56</td>\n",
       "      <td>QVSLRESGGGLVQPGRSLRLSCTASGFTFRHHGMTWVRQAPGKGLE...</td>\n",
       "      <td>DIVMTQSPSSLSASVGDRVTITCRASQGISSRLAWYQQKPGKAPKL...</td>\n",
       "      <td>1</td>\n",
       "      <td>121</td>\n",
       "      <td>107</td>\n",
       "    </tr>\n",
       "  </tbody>\n",
       "</table>\n",
       "<p>1577 rows × 6 columns</p>\n",
       "</div>"
      ],
      "text/plain": [
       "     Antibody_ID                                              heavy  \\\n",
       "2073        6aod  EVQLVQSGAEVKKPGASVKVSCKASGYTFTGYYMHWVRQAPGQGLE...   \n",
       "1517        4yny  EVQLVESGGGLVQPGRSLKLSCAASGFTFSNYGMAWVRQTPTKGLE...   \n",
       "2025        5xcv  EVQLVESGGGLVQPGRSLKLSCAASGFTFSNYGMAWVRQTPTKGLE...   \n",
       "2070        6and  EVQLVESGGGLVQPGGSLRLSCAASGYEFSRSWMNWVRQAPGKGLE...   \n",
       "666         2xqy  QVQLQQPGAELVKPGASVKMSCKASGYSFTSYWMNWVKQRPGRGLE...   \n",
       "...          ...                                                ...   \n",
       "545         2h1p  DVKLVESGGGLVKLGGSLKLSCAASGFTFSSYFLSWVRQTPEKRLE...   \n",
       "1162        4hdi  DVKLVESGGGLVKLGGSLKLSCAASGFTFSNYFMSWVRQTPEKRLE...   \n",
       "2404        6s5a  EVKLLESGGGLVQPGGSLKLSCAASGFDFSRYWMNWVRQAPGKGLE...   \n",
       "1684        5gkr  QVQLQESGPGLVKSSETLSLTCTVSGGSISSYFWSWIRQPPGKGLE...   \n",
       "632         2r56  QVSLRESGGGLVQPGRSLRLSCTASGFTFRHHGMTWVRQAPGKGLE...   \n",
       "\n",
       "                                                  light  Y  heavy_length  \\\n",
       "2073  DIVMTKSPSSLSASVGDRVTITCRASQGIRNDLGWYQQKPGKAPKR...  0           117   \n",
       "1517  EFVLTQPNSVSTNLGSTVKLSCKRSTGNIGSNYVNWYQQHEGRSPT...  1           117   \n",
       "2025  QFVLTQPNSVSTNLGSTVKLSCKRSTGNIGSNYVNWYQQHEGRSPT...  1           117   \n",
       "2070  DIQMTQSPSSLSASVGDRVTITCRSSQSIVHSVGNTFLEWYQQKPG...  1           120   \n",
       "666   DIVLTQSPASLALSLGQRATISCRASKSVSTSGYSYMYWYQQKPGQ...  0           118   \n",
       "...                                                 ... ..           ...   \n",
       "545   DVVMTQTPLSLPVSLGDPASISCRSSQSLVHSNGNTYLHWYLQKPG...  0           120   \n",
       "1162  DVVMTQTPLSLPVSLGDQASISCRSSQSLVHSNGNTYLHWYLQKPG...  0           120   \n",
       "2404  QAVVTQESALTTSPGETVTLTCRSSTGAVTTSNYANWVQEKPDHLF...  0           119   \n",
       "1684  QSALTQPRSVSGSPGQSVTISCTGTSSDVGGYNYVSWYQQHPGKAP...  1           116   \n",
       "632   DIVMTQSPSSLSASVGDRVTITCRASQGISSRLAWYQQKPGKAPKL...  1           121   \n",
       "\n",
       "      light_length  \n",
       "2073           107  \n",
       "1517           109  \n",
       "2025           109  \n",
       "2070           112  \n",
       "666            111  \n",
       "...            ...  \n",
       "545            112  \n",
       "1162           112  \n",
       "2404           109  \n",
       "1684           110  \n",
       "632            107  \n",
       "\n",
       "[1577 rows x 6 columns]"
      ]
     },
     "execution_count": 38,
     "metadata": {},
     "output_type": "execute_result"
    }
   ],
   "source": [
    "chen_all"
   ]
  },
  {
   "cell_type": "code",
   "execution_count": 89,
   "id": "e7b9913f-13b7-4ee5-a7fc-412bec968996",
   "metadata": {},
   "outputs": [
    {
     "data": {
      "image/png": "[encoded data removed]",
      "text/plain": [
       "<Figure size 576x288 with 1 Axes>"
      ]
     },
     "metadata": {
      "needs_background": "light"
     },
     "output_type": "display_data"
    }
   ],
   "source": [
    "plt.figure(figsize=(8, 4))\n",
    "ax = sns.histplot(data=chen_all, x=\"heavy_length\", kde=True)\n",
    "ax.set(xlabel='Heavy sequence length', ylabel='')\n",
    "plt.savefig(path.join(DATA_DIR, \"images/sequence_lengths_heavy.png\"))\n",
    "plt.show()"
   ]
  },
  {
   "cell_type": "code",
   "execution_count": 90,
   "id": "44ec638f-3963-4ad8-b464-741956ebbdcf",
   "metadata": {},
   "outputs": [
    {
     "data": {
      "image/png": "[encoded data removed]",
      "text/plain": [
       "<Figure size 576x288 with 1 Axes>"
      ]
     },
     "metadata": {
      "needs_background": "light"
     },
     "output_type": "display_data"
    }
   ],
   "source": [
    "plt.figure(figsize=(8, 4))\n",
    "ax = sns.histplot(data=chen_all, x=\"light_length\", kde=True)\n",
    "ax.set(xlabel='Light sequence length', ylabel='')\n",
    "plt.savefig(path.join(DATA_DIR, \"images/sequence_lengths_light.png\"))\n",
    "plt.show()"
   ]
  },
  {
   "cell_type": "code",
   "execution_count": 91,
   "id": "8ffc7088-de54-4f44-9001-4c58a03f9971",
   "metadata": {},
   "outputs": [
    {
     "data": {
      "image/png": "[encoded data removed]",
      "text/plain": [
       "<Figure size 576x288 with 1 Axes>"
      ]
     },
     "metadata": {
      "needs_background": "light"
     },
     "output_type": "display_data"
    }
   ],
   "source": [
    "tap_data[\"heavy_length\"] = tap_data[\"heavy\"].str.len().astype(int)\n",
    "tap_data[\"light_length\"] = tap_data[\"light\"].str.len()\n",
    "\n",
    "plt.figure(figsize=(8, 4))\n",
    "ax = sns.histplot(data=tap_data, x=\"heavy_length\", kde=True)\n",
    "ax.set(xlabel='Heavy sequence length', ylabel='')\n",
    "ax.set_xlim(105, 135)\n",
    "plt.savefig(path.join(DATA_DIR, \"images/tap_sequence_lengths_heavy.png\"))\n",
    "plt.show()"
   ]
  },
  {
   "cell_type": "code",
   "execution_count": 92,
   "id": "48b7015e-6b0d-484b-807c-c2d5a79f4428",
   "metadata": {},
   "outputs": [
    {
     "data": {
      "image/png": "[encoded data removed]",
      "text/plain": [
       "<Figure size 576x288 with 1 Axes>"
      ]
     },
     "metadata": {
      "needs_background": "light"
     },
     "output_type": "display_data"
    }
   ],
   "source": [
    "plt.figure(figsize=(8, 4))\n",
    "ax = sns.histplot(data=tap_data, x=\"light_length\", kde=True)\n",
    "ax.set(xlabel='Light sequence length', ylabel='')\n",
    "ax.set_xlim(100, 115)\n",
    "plt.savefig(path.join(DATA_DIR, \"images/tap_sequence_lengths_light.png\"))\n",
    "plt.show()"
   ]
  },
  {
   "cell_type": "code",
   "execution_count": 69,
   "id": "3b42342f-c46b-4187-aaac-1face32528af",
   "metadata": {},
   "outputs": [
    {
     "data": {
      "text/html": [
       "<div>\n",
       "<style scoped>\n",
       "    .dataframe tbody tr th:only-of-type {\n",
       "        vertical-align: middle;\n",
       "    }\n",
       "\n",
       "    .dataframe tbody tr th {\n",
       "        vertical-align: top;\n",
       "    }\n",
       "\n",
       "    .dataframe thead th {\n",
       "        text-align: right;\n",
       "    }\n",
       "</style>\n",
       "<table border=\"1\" class=\"dataframe\">\n",
       "  <thead>\n",
       "    <tr style=\"text-align: right;\">\n",
       "      <th></th>\n",
       "      <th>Antibody_ID</th>\n",
       "      <th>heavy</th>\n",
       "      <th>light</th>\n",
       "      <th>Y</th>\n",
       "      <th>heavy_length</th>\n",
       "      <th>light_length</th>\n",
       "    </tr>\n",
       "  </thead>\n",
       "  <tbody>\n",
       "    <tr>\n",
       "      <th>1752</th>\n",
       "      <td>5ilt</td>\n",
       "      <td>QVQLRESGPSLVKPSQTLSLTCTASGFSLSDKAVGWVRQAPEKALE...</td>\n",
       "      <td>QAVLNQPSSVSGSLGQRVSITCSGSSSNVGNGYVSWYQLIPGSAPR...</td>\n",
       "      <td>1</td>\n",
       "      <td>169</td>\n",
       "      <td>110</td>\n",
       "    </tr>\n",
       "    <tr>\n",
       "      <th>1749</th>\n",
       "      <td>5ijv</td>\n",
       "      <td>QVQLRESGPSLVKPSQTLSLTCTASGFSLSDKAVGWVRQAPGKALE...</td>\n",
       "      <td>QAVLNQPSSVSGSLGQRVSITCSGSSSNVGNGYVSWYQLIPGSAPR...</td>\n",
       "      <td>1</td>\n",
       "      <td>152</td>\n",
       "      <td>110</td>\n",
       "    </tr>\n",
       "    <tr>\n",
       "      <th>1237</th>\n",
       "      <td>4k3e</td>\n",
       "      <td>EVQLRESGPSLVQPSQTLSLTCTASGFSLSDKAVGWVRQAPGKALE...</td>\n",
       "      <td>EAVLNQPSSVSGSLGQRVSITCSGSSSNVGNGYVSWYQLIPGSAPR...</td>\n",
       "      <td>1</td>\n",
       "      <td>164</td>\n",
       "      <td>110</td>\n",
       "    </tr>\n",
       "    <tr>\n",
       "      <th>2217</th>\n",
       "      <td>6e9h</td>\n",
       "      <td>QVQLRESGPSLVKPSQTLSLTCTASGFSLSDKAVGWVRQAPGKALE...</td>\n",
       "      <td>EAVLNQPSSVSGSLGQRVSITCSGSSSNVGNGYVSWYQLIPGSAPR...</td>\n",
       "      <td>1</td>\n",
       "      <td>171</td>\n",
       "      <td>110</td>\n",
       "    </tr>\n",
       "    <tr>\n",
       "      <th>2218</th>\n",
       "      <td>6e9i</td>\n",
       "      <td>QVQLRESGPSLVKPSQTLSLTCTASGLSLSDKAVGWVRQAPGKALE...</td>\n",
       "      <td>EAVLNQPSSVSGSLGQRVSITCSGSSSNVGNGYVSWYQLIPGSAPR...</td>\n",
       "      <td>0</td>\n",
       "      <td>168</td>\n",
       "      <td>110</td>\n",
       "    </tr>\n",
       "    <tr>\n",
       "      <th>2219</th>\n",
       "      <td>6e9k</td>\n",
       "      <td>QVQLRESGPSLVKPSQTLSLTCTASGFSLSDKAVGWVRQAPGKALE...</td>\n",
       "      <td>EAVLNQPSSVSGSLGQRVSITCSGSSSNVGNGYVSWYQLIPGSAPR...</td>\n",
       "      <td>1</td>\n",
       "      <td>162</td>\n",
       "      <td>110</td>\n",
       "    </tr>\n",
       "    <tr>\n",
       "      <th>2220</th>\n",
       "      <td>6e9u</td>\n",
       "      <td>QVQLRESGPSLVKPSQTLSLTCTASGFSLSDKAVGWVRQAPGKALE...</td>\n",
       "      <td>EAVLNQPSSVSGSLGQRVSITCSGSSSNVGNGYVSWYQLIPGSAPR...</td>\n",
       "      <td>0</td>\n",
       "      <td>171</td>\n",
       "      <td>110</td>\n",
       "    </tr>\n",
       "    <tr>\n",
       "      <th>1631</th>\n",
       "      <td>5e99</td>\n",
       "      <td>QVQLRESGPSLVKPSQTLSLTCTASGFSLSDKAVGWVRQAPGKALE...</td>\n",
       "      <td>QAVLNQPSSVSGSLGQRVSITCSGSSSNVGNGYVSWYQLIPGSAPR...</td>\n",
       "      <td>1</td>\n",
       "      <td>171</td>\n",
       "      <td>110</td>\n",
       "    </tr>\n",
       "    <tr>\n",
       "      <th>1236</th>\n",
       "      <td>4k3d</td>\n",
       "      <td>EVQLRESGPSLVKPSQTLSLTCTASGFSLSDKAVGWVRQAPGKALE...</td>\n",
       "      <td>EAVLNQPSSVSGSLGQRVSITCSGSSSNVGNGYVSWYQLIPGSAPR...</td>\n",
       "      <td>0</td>\n",
       "      <td>169</td>\n",
       "      <td>110</td>\n",
       "    </tr>\n",
       "    <tr>\n",
       "      <th>2216</th>\n",
       "      <td>6e9g</td>\n",
       "      <td>QVQLRESGPSLVKPSQTLSLTCTASGFSLSDKAVGWVRQAPGKALE...</td>\n",
       "      <td>EAVLNQPSSVSGSLGQRVSITCSGSSSNVGNGYVSWYQLIPGSAPR...</td>\n",
       "      <td>1</td>\n",
       "      <td>167</td>\n",
       "      <td>110</td>\n",
       "    </tr>\n",
       "  </tbody>\n",
       "</table>\n",
       "</div>"
      ],
      "text/plain": [
       "     Antibody_ID                                              heavy  \\\n",
       "1752        5ilt  QVQLRESGPSLVKPSQTLSLTCTASGFSLSDKAVGWVRQAPEKALE...   \n",
       "1749        5ijv  QVQLRESGPSLVKPSQTLSLTCTASGFSLSDKAVGWVRQAPGKALE...   \n",
       "1237        4k3e  EVQLRESGPSLVQPSQTLSLTCTASGFSLSDKAVGWVRQAPGKALE...   \n",
       "2217        6e9h  QVQLRESGPSLVKPSQTLSLTCTASGFSLSDKAVGWVRQAPGKALE...   \n",
       "2218        6e9i  QVQLRESGPSLVKPSQTLSLTCTASGLSLSDKAVGWVRQAPGKALE...   \n",
       "2219        6e9k  QVQLRESGPSLVKPSQTLSLTCTASGFSLSDKAVGWVRQAPGKALE...   \n",
       "2220        6e9u  QVQLRESGPSLVKPSQTLSLTCTASGFSLSDKAVGWVRQAPGKALE...   \n",
       "1631        5e99  QVQLRESGPSLVKPSQTLSLTCTASGFSLSDKAVGWVRQAPGKALE...   \n",
       "1236        4k3d  EVQLRESGPSLVKPSQTLSLTCTASGFSLSDKAVGWVRQAPGKALE...   \n",
       "2216        6e9g  QVQLRESGPSLVKPSQTLSLTCTASGFSLSDKAVGWVRQAPGKALE...   \n",
       "\n",
       "                                                  light  Y  heavy_length  \\\n",
       "1752  QAVLNQPSSVSGSLGQRVSITCSGSSSNVGNGYVSWYQLIPGSAPR...  1           169   \n",
       "1749  QAVLNQPSSVSGSLGQRVSITCSGSSSNVGNGYVSWYQLIPGSAPR...  1           152   \n",
       "1237  EAVLNQPSSVSGSLGQRVSITCSGSSSNVGNGYVSWYQLIPGSAPR...  1           164   \n",
       "2217  EAVLNQPSSVSGSLGQRVSITCSGSSSNVGNGYVSWYQLIPGSAPR...  1           171   \n",
       "2218  EAVLNQPSSVSGSLGQRVSITCSGSSSNVGNGYVSWYQLIPGSAPR...  0           168   \n",
       "2219  EAVLNQPSSVSGSLGQRVSITCSGSSSNVGNGYVSWYQLIPGSAPR...  1           162   \n",
       "2220  EAVLNQPSSVSGSLGQRVSITCSGSSSNVGNGYVSWYQLIPGSAPR...  0           171   \n",
       "1631  QAVLNQPSSVSGSLGQRVSITCSGSSSNVGNGYVSWYQLIPGSAPR...  1           171   \n",
       "1236  EAVLNQPSSVSGSLGQRVSITCSGSSSNVGNGYVSWYQLIPGSAPR...  0           169   \n",
       "2216  EAVLNQPSSVSGSLGQRVSITCSGSSSNVGNGYVSWYQLIPGSAPR...  1           167   \n",
       "\n",
       "      light_length  \n",
       "1752           110  \n",
       "1749           110  \n",
       "1237           110  \n",
       "2217           110  \n",
       "2218           110  \n",
       "2219           110  \n",
       "2220           110  \n",
       "1631           110  \n",
       "1236           110  \n",
       "2216           110  "
      ]
     },
     "execution_count": 69,
     "metadata": {},
     "output_type": "execute_result"
    }
   ],
   "source": [
    "chen_all[chen_all[\"heavy_length\"] > 150]"
   ]
  },
  {
   "cell_type": "code",
   "execution_count": 73,
   "id": "430287c2-0223-4f00-a77b-35aae7546211",
   "metadata": {},
   "outputs": [
    {
     "data": {
      "text/plain": [
       "'QVQLRESGPSLVKPSQTLSLTCTASGFSLSDKAVGWVRQAPGKALEWLGSIDTGGTAGYNPGLKTRLSITKDNSKSQVSLTVSSVATEDSATYYCVTVYQKTTQKKNCPDDYTECYGGACDGTGCCSGSCGGASACRDWWPYRSICSSDNTYTYEFHVDAWGQGLLVTVSS'"
      ]
     },
     "execution_count": 73,
     "metadata": {},
     "output_type": "execute_result"
    }
   ],
   "source": [
    "chen_all.loc[1631][\"heavy\"]"
   ]
  },
  {
   "cell_type": "code",
   "execution_count": 74,
   "id": "2e3b10cb-0a03-4779-9969-ac2986e4fe12",
   "metadata": {},
   "outputs": [
    {
     "data": {
      "text/plain": [
       "'QAVLNQPSSVSGSLGQRVSITCSGSSSNVGNGYVSWYQLIPGSAPRTLIYGDTSRASGVPDRFSGSRSGNTATLTISSLQAEDEADYFCASAEDSSSNAVFGSGTTLTVL'"
      ]
     },
     "execution_count": 74,
     "metadata": {},
     "output_type": "execute_result"
    }
   ],
   "source": [
    "chen_all.loc[1631][\"light\"]"
   ]
  },
  {
   "cell_type": "code",
   "execution_count": 72,
   "id": "ce94068e-55a3-44ad-8d26-8430486cad8b",
   "metadata": {},
   "outputs": [
    {
     "data": {
      "text/plain": [
       "171"
      ]
     },
     "execution_count": 72,
     "metadata": {},
     "output_type": "execute_result"
    }
   ],
   "source": [
    "len(\"QVQLRESGPSLVKPSQTLSLTCTASGFSLSDKAVGWVRQAPGKALEWLGSIDTGGNAGYNPGLKSRLSITQDNSKSQVSLSVSTVTTEDSATYYCTTVHQRTKTTKSCPDGYSDGYRCGWRRSYCGDRNCCRVDGYTSYGGTGNCASYSYTYTYEWYVDAWGQGLLVTVSS\")"
   ]
  },
  {
   "cell_type": "code",
   "execution_count": 87,
   "id": "16d40bd8-91da-4af5-94b5-61ed097b5be3",
   "metadata": {},
   "outputs": [
    {
     "data": {
      "image/png": "[encoded data removed]",
      "text/plain": [
       "<Figure size 576x216 with 1 Axes>"
      ]
     },
     "metadata": {
      "needs_background": "light"
     },
     "output_type": "display_data"
    }
   ],
   "source": [
    "plt.figure(figsize=(8,3))\n",
    "ax = sns.scatterplot(\n",
    "        x=\"heavy_length\", y=\"Y\",\n",
    "        hue=\"Y\",\n",
    "        data=chen_all,\n",
    "        alpha=0.6,\n",
    "        legend=None\n",
    "    )\n",
    "ax.set(xlabel='Heavy sequence length', ylabel='')\n",
    "ax.set_yticks([0,1])\n",
    "ax.set_ylabel(\"DI\")\n",
    "plt.savefig(path.join(DATA_DIR, \"images/heavy_length_vs_di.png\"), bbox_inches='tight')\n",
    "plt.show()"
   ]
  },
  {
   "cell_type": "markdown",
   "id": "329a4c21-57b3-4a61-b0ad-502bf3dbdd31",
   "metadata": {},
   "source": [
    "# Filter by CDRH3 length"
   ]
  },
  {
   "cell_type": "code",
   "execution_count": 14,
   "id": "6ffdcf4b-2849-4b76-9b87-1290599722bd",
   "metadata": {},
   "outputs": [
    {
     "data": {
      "text/plain": [
       "1577"
      ]
     },
     "execution_count": 14,
     "metadata": {},
     "output_type": "execute_result"
    }
   ],
   "source": [
    "cdrh3 = heavy_df.merge(chen_data[\"Antibody_ID\"], left_on=\"Ab_ID\", right_on=\"Antibody_ID\").iloc[:,131:196]\n",
    "len(cdrh3)"
   ]
  },
  {
   "cell_type": "code",
   "execution_count": 13,
   "id": "b92ecf8e-7da3-4471-ba49-5e7ff4b8b4c6",
   "metadata": {},
   "outputs": [],
   "source": [
    "def is_aa(letter):\n",
    "    if letter == \"-\":\n",
    "        return 0\n",
    "    else:\n",
    "        return 1\n",
    "\n",
    "def cdr_length(row):\n",
    "    length = sum(is_aa(letter) for letter in row)\n",
    "    return length"
   ]
  },
  {
   "cell_type": "code",
   "execution_count": 15,
   "id": "3e1c0917-8475-425e-9521-132961313a73",
   "metadata": {},
   "outputs": [],
   "source": [
    "cdrh3_length = cdrh3.apply(cdr_length, axis=1)"
   ]
  },
  {
   "cell_type": "code",
   "execution_count": 33,
   "id": "81306f32-6d69-4e22-9a86-c0e2698b167d",
   "metadata": {},
   "outputs": [],
   "source": [
    "chen_data[\"cdrh3_length\"] = list(cdrh3_length)"
   ]
  },
  {
   "cell_type": "code",
   "execution_count": 34,
   "id": "9f2e2b18-d641-41d2-9e25-07fce3f2b6d5",
   "metadata": {},
   "outputs": [],
   "source": [
    "chen_data_filtered = chen_data[chen_data[\"cdrh3_length\"] < 27]"
   ]
  },
  {
   "cell_type": "code",
   "execution_count": 35,
   "id": "ef6ab596-058f-4650-845c-7845efe1a51a",
   "metadata": {},
   "outputs": [
    {
     "data": {
      "text/html": [
       "<div>\n",
       "<style scoped>\n",
       "    .dataframe tbody tr th:only-of-type {\n",
       "        vertical-align: middle;\n",
       "    }\n",
       "\n",
       "    .dataframe tbody tr th {\n",
       "        vertical-align: top;\n",
       "    }\n",
       "\n",
       "    .dataframe thead th {\n",
       "        text-align: right;\n",
       "    }\n",
       "</style>\n",
       "<table border=\"1\" class=\"dataframe\">\n",
       "  <thead>\n",
       "    <tr style=\"text-align: right;\">\n",
       "      <th></th>\n",
       "      <th>Antibody_ID</th>\n",
       "      <th>heavy</th>\n",
       "      <th>light</th>\n",
       "      <th>Y</th>\n",
       "      <th>cdrh3_length</th>\n",
       "    </tr>\n",
       "  </thead>\n",
       "  <tbody>\n",
       "    <tr>\n",
       "      <th>0</th>\n",
       "      <td>12e8</td>\n",
       "      <td>EVQLQQSGAEVVRSGASVKLSCTASGFNIKDYYIHWVKQRPEKGLE...</td>\n",
       "      <td>DIVMTQSQKFMSTSVGDRVSITCKASQNVGTAVAWYQQKPGQSPKL...</td>\n",
       "      <td>0</td>\n",
       "      <td>13</td>\n",
       "    </tr>\n",
       "    <tr>\n",
       "      <th>1</th>\n",
       "      <td>15c8</td>\n",
       "      <td>EVQLQQSGAELVKPGASVKLSCTASGFNIKDTYMHWVKQKPEQGLE...</td>\n",
       "      <td>DIVLTQSPAIMSASLGERVTMTCTASSSVSSSNLHWYQQKPGSSPK...</td>\n",
       "      <td>0</td>\n",
       "      <td>12</td>\n",
       "    </tr>\n",
       "    <tr>\n",
       "      <th>2</th>\n",
       "      <td>1a0q</td>\n",
       "      <td>EVQLQESDAELVKPGASVKISCKASGYTFTDHVIHWVKQKPEQGLE...</td>\n",
       "      <td>DIELTQSPSSLSASLGGKVTITCKASQDIKKYIGWYQHKPGKQPRL...</td>\n",
       "      <td>1</td>\n",
       "      <td>12</td>\n",
       "    </tr>\n",
       "    <tr>\n",
       "      <th>3</th>\n",
       "      <td>1a14</td>\n",
       "      <td>QVQLQQSGAELVKPGASVRMSCKASGYTFTNYNMYWVKQSPGQGLE...</td>\n",
       "      <td>DIELTQTTSSLSASLGDRVTISCRASQDISNYLNWYQQNPDGTVKL...</td>\n",
       "      <td>0</td>\n",
       "      <td>15</td>\n",
       "    </tr>\n",
       "    <tr>\n",
       "      <th>4</th>\n",
       "      <td>1a2y</td>\n",
       "      <td>QVQLQESGPGLVAPSQSLSITCTVSGFSLTGYGVNWVRQPPGKGLE...</td>\n",
       "      <td>DIVLTQSPASLSASVGETVTITCRASGNIHNYLAWYQQKQGKSPQL...</td>\n",
       "      <td>0</td>\n",
       "      <td>10</td>\n",
       "    </tr>\n",
       "    <tr>\n",
       "      <th>...</th>\n",
       "      <td>...</td>\n",
       "      <td>...</td>\n",
       "      <td>...</td>\n",
       "      <td>...</td>\n",
       "      <td>...</td>\n",
       "    </tr>\n",
       "    <tr>\n",
       "      <th>2404</th>\n",
       "      <td>6s5a</td>\n",
       "      <td>EVKLLESGGGLVQPGGSLKLSCAASGFDFSRYWMNWVRQAPGKGLE...</td>\n",
       "      <td>QAVVTQESALTTSPGETVTLTCRSSTGAVTTSNYANWVQEKPDHLF...</td>\n",
       "      <td>0</td>\n",
       "      <td>12</td>\n",
       "    </tr>\n",
       "    <tr>\n",
       "      <th>2405</th>\n",
       "      <td>6tyb</td>\n",
       "      <td>EVQLVQSGTEVKRPGESLTISCKTSGYSFSGTWISWVRQMPGKGLE...</td>\n",
       "      <td>DIQMTQSPSSLSASVGDRVTITCRASQGISTYLAWYQQKPGKAPKL...</td>\n",
       "      <td>0</td>\n",
       "      <td>19</td>\n",
       "    </tr>\n",
       "    <tr>\n",
       "      <th>2406</th>\n",
       "      <td>6u1t</td>\n",
       "      <td>EVQLVESGGGLVKPGGSLKLSCAASGFTFSSYDMSWVRQTPEKRLE...</td>\n",
       "      <td>DIQMTQSPASQSASLGESVTITCLASQTIGTWLAWYQQKPGKSPQL...</td>\n",
       "      <td>0</td>\n",
       "      <td>11</td>\n",
       "    </tr>\n",
       "    <tr>\n",
       "      <th>2407</th>\n",
       "      <td>7fab</td>\n",
       "      <td>AVQLEQSGPGLVRPSQTLSLTCTVSGTSFDDYYWTWVRQPPGRGLE...</td>\n",
       "      <td>ASVLTQPPSVSGAPGQRVTISCTGSSSNIGAGHNVKWYQQLPGTAP...</td>\n",
       "      <td>0</td>\n",
       "      <td>11</td>\n",
       "    </tr>\n",
       "    <tr>\n",
       "      <th>2408</th>\n",
       "      <td>8fab</td>\n",
       "      <td>AVKLVQAGGGVVQPGRSLRLSCIASGFTFSNYGMHWVRQAPGKGLE...</td>\n",
       "      <td>SYELTQPPSVSVSPGQTARITCSANALPNQYAYWYQQKPGRAPVMV...</td>\n",
       "      <td>0</td>\n",
       "      <td>14</td>\n",
       "    </tr>\n",
       "  </tbody>\n",
       "</table>\n",
       "<p>1546 rows × 5 columns</p>\n",
       "</div>"
      ],
      "text/plain": [
       "     Antibody_ID                                              heavy  \\\n",
       "0           12e8  EVQLQQSGAEVVRSGASVKLSCTASGFNIKDYYIHWVKQRPEKGLE...   \n",
       "1           15c8  EVQLQQSGAELVKPGASVKLSCTASGFNIKDTYMHWVKQKPEQGLE...   \n",
       "2           1a0q  EVQLQESDAELVKPGASVKISCKASGYTFTDHVIHWVKQKPEQGLE...   \n",
       "3           1a14  QVQLQQSGAELVKPGASVRMSCKASGYTFTNYNMYWVKQSPGQGLE...   \n",
       "4           1a2y  QVQLQESGPGLVAPSQSLSITCTVSGFSLTGYGVNWVRQPPGKGLE...   \n",
       "...          ...                                                ...   \n",
       "2404        6s5a  EVKLLESGGGLVQPGGSLKLSCAASGFDFSRYWMNWVRQAPGKGLE...   \n",
       "2405        6tyb  EVQLVQSGTEVKRPGESLTISCKTSGYSFSGTWISWVRQMPGKGLE...   \n",
       "2406        6u1t  EVQLVESGGGLVKPGGSLKLSCAASGFTFSSYDMSWVRQTPEKRLE...   \n",
       "2407        7fab  AVQLEQSGPGLVRPSQTLSLTCTVSGTSFDDYYWTWVRQPPGRGLE...   \n",
       "2408        8fab  AVKLVQAGGGVVQPGRSLRLSCIASGFTFSNYGMHWVRQAPGKGLE...   \n",
       "\n",
       "                                                  light  Y  cdrh3_length  \n",
       "0     DIVMTQSQKFMSTSVGDRVSITCKASQNVGTAVAWYQQKPGQSPKL...  0            13  \n",
       "1     DIVLTQSPAIMSASLGERVTMTCTASSSVSSSNLHWYQQKPGSSPK...  0            12  \n",
       "2     DIELTQSPSSLSASLGGKVTITCKASQDIKKYIGWYQHKPGKQPRL...  1            12  \n",
       "3     DIELTQTTSSLSASLGDRVTISCRASQDISNYLNWYQQNPDGTVKL...  0            15  \n",
       "4     DIVLTQSPASLSASVGETVTITCRASGNIHNYLAWYQQKQGKSPQL...  0            10  \n",
       "...                                                 ... ..           ...  \n",
       "2404  QAVVTQESALTTSPGETVTLTCRSSTGAVTTSNYANWVQEKPDHLF...  0            12  \n",
       "2405  DIQMTQSPSSLSASVGDRVTITCRASQGISTYLAWYQQKPGKAPKL...  0            19  \n",
       "2406  DIQMTQSPASQSASLGESVTITCLASQTIGTWLAWYQQKPGKSPQL...  0            11  \n",
       "2407  ASVLTQPPSVSGAPGQRVTISCTGSSSNIGAGHNVKWYQQLPGTAP...  0            11  \n",
       "2408  SYELTQPPSVSVSPGQTARITCSANALPNQYAYWYQQKPGRAPVMV...  0            14  \n",
       "\n",
       "[1546 rows x 5 columns]"
      ]
     },
     "execution_count": 35,
     "metadata": {},
     "output_type": "execute_result"
    }
   ],
   "source": [
    "chen_data_filtered"
   ]
  },
  {
   "cell_type": "code",
   "execution_count": 37,
   "id": "278d3e67-911b-46e6-b639-7e0510347f39",
   "metadata": {},
   "outputs": [],
   "source": [
    "chen_data_filtered.to_csv(path.join(DATA_DIR, \"chen/deduplicated/filtered_chen_data.csv\"))"
   ]
  },
  {
   "cell_type": "code",
   "execution_count": null,
   "id": "d6df3375-a406-45c9-89c0-80ba15cf99b4",
   "metadata": {},
   "outputs": [],
   "source": []
  }
 ],
 "metadata": {
  "kernelspec": {
   "display_name": "Python 3 (ipykernel)",
   "language": "python",
   "name": "python3"
  },
  "language_info": {
   "codemirror_mode": {
    "name": "ipython",
    "version": 3
   },
   "file_extension": ".py",
   "mimetype": "text/x-python",
   "name": "python",
   "nbconvert_exporter": "python",
   "pygments_lexer": "ipython3",
   "version": "3.7.12"
  }
 },
 "nbformat": 4,
 "nbformat_minor": 5
}
