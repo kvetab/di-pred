{
 "cells": [
  {
   "cell_type": "code",
   "execution_count": 1,
   "id": "542aefcf-7a99-4b2b-b05e-6785d8bd994b",
   "metadata": {},
   "outputs": [],
   "source": [
    "import pandas as pd\n",
    "import numpy as np\n",
    "from os import path\n",
    "from sklearn.decomposition import PCA\n",
    "import matplotlib.pyplot as plt"
   ]
  },
  {
   "cell_type": "code",
   "execution_count": 2,
   "id": "fc3ae5d7-bb0e-47e9-990f-d350fafcfa9b",
   "metadata": {},
   "outputs": [],
   "source": [
    "DATA_DIR = \"../../data/chen\""
   ]
  },
  {
   "cell_type": "code",
   "execution_count": 3,
   "id": "a8fbcce9-a684-40ca-8c1c-cbc3caec6697",
   "metadata": {},
   "outputs": [
    {
     "data": {
      "text/html": [
       "<div>\n",
       "<style scoped>\n",
       "    .dataframe tbody tr th:only-of-type {\n",
       "        vertical-align: middle;\n",
       "    }\n",
       "\n",
       "    .dataframe tbody tr th {\n",
       "        vertical-align: top;\n",
       "    }\n",
       "\n",
       "    .dataframe thead th {\n",
       "        text-align: right;\n",
       "    }\n",
       "</style>\n",
       "<table border=\"1\" class=\"dataframe\">\n",
       "  <thead>\n",
       "    <tr style=\"text-align: right;\">\n",
       "      <th></th>\n",
       "      <th>Antibody_ID</th>\n",
       "      <th>heavy</th>\n",
       "      <th>light</th>\n",
       "      <th>Y</th>\n",
       "    </tr>\n",
       "  </thead>\n",
       "  <tbody>\n",
       "    <tr>\n",
       "      <th>0</th>\n",
       "      <td>12e8</td>\n",
       "      <td>EVQLQQSGAEVVRSGASVKLSCTASGFNIKDYYIHWVKQRPEKGLE...</td>\n",
       "      <td>DIVMTQSQKFMSTSVGDRVSITCKASQNVGTAVAWYQQKPGQSPKL...</td>\n",
       "      <td>0</td>\n",
       "    </tr>\n",
       "    <tr>\n",
       "      <th>1</th>\n",
       "      <td>15c8</td>\n",
       "      <td>EVQLQQSGAELVKPGASVKLSCTASGFNIKDTYMHWVKQKPEQGLE...</td>\n",
       "      <td>DIVLTQSPAIMSASLGERVTMTCTASSSVSSSNLHWYQQKPGSSPK...</td>\n",
       "      <td>0</td>\n",
       "    </tr>\n",
       "    <tr>\n",
       "      <th>2</th>\n",
       "      <td>1a0q</td>\n",
       "      <td>EVQLQESDAELVKPGASVKISCKASGYTFTDHVIHWVKQKPEQGLE...</td>\n",
       "      <td>DIELTQSPSSLSASLGGKVTITCKASQDIKKYIGWYQHKPGKQPRL...</td>\n",
       "      <td>1</td>\n",
       "    </tr>\n",
       "    <tr>\n",
       "      <th>3</th>\n",
       "      <td>1a14</td>\n",
       "      <td>QVQLQQSGAELVKPGASVRMSCKASGYTFTNYNMYWVKQSPGQGLE...</td>\n",
       "      <td>DIELTQTTSSLSASLGDRVTISCRASQDISNYLNWYQQNPDGTVKL...</td>\n",
       "      <td>0</td>\n",
       "    </tr>\n",
       "    <tr>\n",
       "      <th>4</th>\n",
       "      <td>1a2y</td>\n",
       "      <td>QVQLQESGPGLVAPSQSLSITCTVSGFSLTGYGVNWVRQPPGKGLE...</td>\n",
       "      <td>DIVLTQSPASLSASVGETVTITCRASGNIHNYLAWYQQKQGKSPQL...</td>\n",
       "      <td>0</td>\n",
       "    </tr>\n",
       "    <tr>\n",
       "      <th>...</th>\n",
       "      <td>...</td>\n",
       "      <td>...</td>\n",
       "      <td>...</td>\n",
       "      <td>...</td>\n",
       "    </tr>\n",
       "    <tr>\n",
       "      <th>2404</th>\n",
       "      <td>6s5a</td>\n",
       "      <td>EVKLLESGGGLVQPGGSLKLSCAASGFDFSRYWMNWVRQAPGKGLE...</td>\n",
       "      <td>QAVVTQESALTTSPGETVTLTCRSSTGAVTTSNYANWVQEKPDHLF...</td>\n",
       "      <td>0</td>\n",
       "    </tr>\n",
       "    <tr>\n",
       "      <th>2405</th>\n",
       "      <td>6tyb</td>\n",
       "      <td>EVQLVQSGTEVKRPGESLTISCKTSGYSFSGTWISWVRQMPGKGLE...</td>\n",
       "      <td>DIQMTQSPSSLSASVGDRVTITCRASQGISTYLAWYQQKPGKAPKL...</td>\n",
       "      <td>0</td>\n",
       "    </tr>\n",
       "    <tr>\n",
       "      <th>2406</th>\n",
       "      <td>6u1t</td>\n",
       "      <td>EVQLVESGGGLVKPGGSLKLSCAASGFTFSSYDMSWVRQTPEKRLE...</td>\n",
       "      <td>DIQMTQSPASQSASLGESVTITCLASQTIGTWLAWYQQKPGKSPQL...</td>\n",
       "      <td>0</td>\n",
       "    </tr>\n",
       "    <tr>\n",
       "      <th>2407</th>\n",
       "      <td>7fab</td>\n",
       "      <td>AVQLEQSGPGLVRPSQTLSLTCTVSGTSFDDYYWTWVRQPPGRGLE...</td>\n",
       "      <td>ASVLTQPPSVSGAPGQRVTISCTGSSSNIGAGHNVKWYQQLPGTAP...</td>\n",
       "      <td>0</td>\n",
       "    </tr>\n",
       "    <tr>\n",
       "      <th>2408</th>\n",
       "      <td>8fab</td>\n",
       "      <td>AVKLVQAGGGVVQPGRSLRLSCIASGFTFSNYGMHWVRQAPGKGLE...</td>\n",
       "      <td>SYELTQPPSVSVSPGQTARITCSANALPNQYAYWYQQKPGRAPVMV...</td>\n",
       "      <td>0</td>\n",
       "    </tr>\n",
       "  </tbody>\n",
       "</table>\n",
       "<p>2409 rows × 4 columns</p>\n",
       "</div>"
      ],
      "text/plain": [
       "     Antibody_ID                                              heavy  \\\n",
       "0           12e8  EVQLQQSGAEVVRSGASVKLSCTASGFNIKDYYIHWVKQRPEKGLE...   \n",
       "1           15c8  EVQLQQSGAELVKPGASVKLSCTASGFNIKDTYMHWVKQKPEQGLE...   \n",
       "2           1a0q  EVQLQESDAELVKPGASVKISCKASGYTFTDHVIHWVKQKPEQGLE...   \n",
       "3           1a14  QVQLQQSGAELVKPGASVRMSCKASGYTFTNYNMYWVKQSPGQGLE...   \n",
       "4           1a2y  QVQLQESGPGLVAPSQSLSITCTVSGFSLTGYGVNWVRQPPGKGLE...   \n",
       "...          ...                                                ...   \n",
       "2404        6s5a  EVKLLESGGGLVQPGGSLKLSCAASGFDFSRYWMNWVRQAPGKGLE...   \n",
       "2405        6tyb  EVQLVQSGTEVKRPGESLTISCKTSGYSFSGTWISWVRQMPGKGLE...   \n",
       "2406        6u1t  EVQLVESGGGLVKPGGSLKLSCAASGFTFSSYDMSWVRQTPEKRLE...   \n",
       "2407        7fab  AVQLEQSGPGLVRPSQTLSLTCTVSGTSFDDYYWTWVRQPPGRGLE...   \n",
       "2408        8fab  AVKLVQAGGGVVQPGRSLRLSCIASGFTFSNYGMHWVRQAPGKGLE...   \n",
       "\n",
       "                                                  light  Y  \n",
       "0     DIVMTQSQKFMSTSVGDRVSITCKASQNVGTAVAWYQQKPGQSPKL...  0  \n",
       "1     DIVLTQSPAIMSASLGERVTMTCTASSSVSSSNLHWYQQKPGSSPK...  0  \n",
       "2     DIELTQSPSSLSASLGGKVTITCKASQDIKKYIGWYQHKPGKQPRL...  1  \n",
       "3     DIELTQTTSSLSASLGDRVTISCRASQDISNYLNWYQQNPDGTVKL...  0  \n",
       "4     DIVLTQSPASLSASVGETVTITCRASGNIHNYLAWYQQKQGKSPQL...  0  \n",
       "...                                                 ... ..  \n",
       "2404  QAVVTQESALTTSPGETVTLTCRSSTGAVTTSNYANWVQEKPDHLF...  0  \n",
       "2405  DIQMTQSPSSLSASVGDRVTITCRASQGISTYLAWYQQKPGKAPKL...  0  \n",
       "2406  DIQMTQSPASQSASLGESVTITCLASQTIGTWLAWYQQKPGKSPQL...  0  \n",
       "2407  ASVLTQPPSVSGAPGQRVTISCTGSSSNIGAGHNVKWYQQLPGTAP...  0  \n",
       "2408  SYELTQPPSVSVSPGQTARITCSANALPNQYAYWYQQKPGRAPVMV...  0  \n",
       "\n",
       "[2409 rows x 4 columns]"
      ]
     },
     "execution_count": 3,
     "metadata": {},
     "output_type": "execute_result"
    }
   ],
   "source": [
    "chen_data = pd.read_csv(path.join(DATA_DIR, \"chen_data.csv\"))\n",
    "chen_data"
   ]
  },
  {
   "cell_type": "code",
   "execution_count": 4,
   "id": "213e0d08-20e2-4a36-9b4e-1ba655c4136c",
   "metadata": {},
   "outputs": [
    {
     "data": {
      "text/html": [
       "<div>\n",
       "<style scoped>\n",
       "    .dataframe tbody tr th:only-of-type {\n",
       "        vertical-align: middle;\n",
       "    }\n",
       "\n",
       "    .dataframe tbody tr th {\n",
       "        vertical-align: top;\n",
       "    }\n",
       "\n",
       "    .dataframe thead th {\n",
       "        text-align: right;\n",
       "    }\n",
       "</style>\n",
       "<table border=\"1\" class=\"dataframe\">\n",
       "  <thead>\n",
       "    <tr style=\"text-align: right;\">\n",
       "      <th></th>\n",
       "      <th>Ab_ID</th>\n",
       "      <th>0</th>\n",
       "      <th>1</th>\n",
       "      <th>2</th>\n",
       "      <th>3</th>\n",
       "      <th>4</th>\n",
       "      <th>5</th>\n",
       "      <th>6</th>\n",
       "      <th>7</th>\n",
       "      <th>8</th>\n",
       "      <th>...</th>\n",
       "      <th>19750</th>\n",
       "      <th>19751</th>\n",
       "      <th>19752</th>\n",
       "      <th>19753</th>\n",
       "      <th>19754</th>\n",
       "      <th>19755</th>\n",
       "      <th>19756</th>\n",
       "      <th>19757</th>\n",
       "      <th>19758</th>\n",
       "      <th>19759</th>\n",
       "    </tr>\n",
       "  </thead>\n",
       "  <tbody>\n",
       "    <tr>\n",
       "      <th>0</th>\n",
       "      <td>12e8</td>\n",
       "      <td>7.500</td>\n",
       "      <td>3.333</td>\n",
       "      <td>2.500</td>\n",
       "      <td>5.833</td>\n",
       "      <td>1.667</td>\n",
       "      <td>5.833</td>\n",
       "      <td>5.833</td>\n",
       "      <td>9.167</td>\n",
       "      <td>1.667</td>\n",
       "      <td>...</td>\n",
       "      <td>0.0</td>\n",
       "      <td>0.0</td>\n",
       "      <td>0.0</td>\n",
       "      <td>0.0</td>\n",
       "      <td>0.0</td>\n",
       "      <td>0.0</td>\n",
       "      <td>0.0</td>\n",
       "      <td>0.0</td>\n",
       "      <td>0.0</td>\n",
       "      <td>0.0</td>\n",
       "    </tr>\n",
       "    <tr>\n",
       "      <th>1</th>\n",
       "      <td>15c8</td>\n",
       "      <td>9.244</td>\n",
       "      <td>0.000</td>\n",
       "      <td>3.361</td>\n",
       "      <td>5.882</td>\n",
       "      <td>1.681</td>\n",
       "      <td>4.202</td>\n",
       "      <td>6.723</td>\n",
       "      <td>8.403</td>\n",
       "      <td>2.521</td>\n",
       "      <td>...</td>\n",
       "      <td>0.0</td>\n",
       "      <td>0.0</td>\n",
       "      <td>0.0</td>\n",
       "      <td>0.0</td>\n",
       "      <td>0.0</td>\n",
       "      <td>0.0</td>\n",
       "      <td>0.0</td>\n",
       "      <td>0.0</td>\n",
       "      <td>0.0</td>\n",
       "      <td>0.0</td>\n",
       "    </tr>\n",
       "    <tr>\n",
       "      <th>2</th>\n",
       "      <td>1a0q</td>\n",
       "      <td>5.882</td>\n",
       "      <td>1.681</td>\n",
       "      <td>3.361</td>\n",
       "      <td>5.042</td>\n",
       "      <td>1.681</td>\n",
       "      <td>5.882</td>\n",
       "      <td>5.042</td>\n",
       "      <td>9.244</td>\n",
       "      <td>1.681</td>\n",
       "      <td>...</td>\n",
       "      <td>0.0</td>\n",
       "      <td>0.0</td>\n",
       "      <td>0.0</td>\n",
       "      <td>0.0</td>\n",
       "      <td>0.0</td>\n",
       "      <td>0.0</td>\n",
       "      <td>0.0</td>\n",
       "      <td>0.0</td>\n",
       "      <td>0.0</td>\n",
       "      <td>0.0</td>\n",
       "    </tr>\n",
       "    <tr>\n",
       "      <th>3</th>\n",
       "      <td>1a14</td>\n",
       "      <td>6.667</td>\n",
       "      <td>2.500</td>\n",
       "      <td>4.167</td>\n",
       "      <td>5.000</td>\n",
       "      <td>1.667</td>\n",
       "      <td>2.500</td>\n",
       "      <td>7.500</td>\n",
       "      <td>11.667</td>\n",
       "      <td>0.000</td>\n",
       "      <td>...</td>\n",
       "      <td>0.0</td>\n",
       "      <td>0.0</td>\n",
       "      <td>0.0</td>\n",
       "      <td>0.0</td>\n",
       "      <td>0.0</td>\n",
       "      <td>0.0</td>\n",
       "      <td>0.0</td>\n",
       "      <td>0.0</td>\n",
       "      <td>0.0</td>\n",
       "      <td>0.0</td>\n",
       "    </tr>\n",
       "    <tr>\n",
       "      <th>4</th>\n",
       "      <td>1a2y</td>\n",
       "      <td>3.448</td>\n",
       "      <td>5.172</td>\n",
       "      <td>4.310</td>\n",
       "      <td>6.034</td>\n",
       "      <td>1.724</td>\n",
       "      <td>2.586</td>\n",
       "      <td>6.034</td>\n",
       "      <td>10.345</td>\n",
       "      <td>0.862</td>\n",
       "      <td>...</td>\n",
       "      <td>0.0</td>\n",
       "      <td>0.0</td>\n",
       "      <td>0.0</td>\n",
       "      <td>0.0</td>\n",
       "      <td>0.0</td>\n",
       "      <td>0.0</td>\n",
       "      <td>0.0</td>\n",
       "      <td>0.0</td>\n",
       "      <td>0.0</td>\n",
       "      <td>0.0</td>\n",
       "    </tr>\n",
       "  </tbody>\n",
       "</table>\n",
       "<p>5 rows × 19761 columns</p>\n",
       "</div>"
      ],
      "text/plain": [
       "  Ab_ID      0      1      2      3      4      5      6       7      8  ...  \\\n",
       "0  12e8  7.500  3.333  2.500  5.833  1.667  5.833  5.833   9.167  1.667  ...   \n",
       "1  15c8  9.244  0.000  3.361  5.882  1.681  4.202  6.723   8.403  2.521  ...   \n",
       "2  1a0q  5.882  1.681  3.361  5.042  1.681  5.882  5.042   9.244  1.681  ...   \n",
       "3  1a14  6.667  2.500  4.167  5.000  1.667  2.500  7.500  11.667  0.000  ...   \n",
       "4  1a2y  3.448  5.172  4.310  6.034  1.724  2.586  6.034  10.345  0.862  ...   \n",
       "\n",
       "   19750  19751  19752  19753  19754  19755  19756  19757  19758  19759  \n",
       "0    0.0    0.0    0.0    0.0    0.0    0.0    0.0    0.0    0.0    0.0  \n",
       "1    0.0    0.0    0.0    0.0    0.0    0.0    0.0    0.0    0.0    0.0  \n",
       "2    0.0    0.0    0.0    0.0    0.0    0.0    0.0    0.0    0.0    0.0  \n",
       "3    0.0    0.0    0.0    0.0    0.0    0.0    0.0    0.0    0.0    0.0  \n",
       "4    0.0    0.0    0.0    0.0    0.0    0.0    0.0    0.0    0.0    0.0  \n",
       "\n",
       "[5 rows x 19761 columns]"
      ]
     },
     "execution_count": 4,
     "metadata": {},
     "output_type": "execute_result"
    }
   ],
   "source": [
    "chen_feat = pd.read_feather(path.join(DATA_DIR, \"pybiomed/X_data.ftr\"))\n",
    "chen_feat.head()"
   ]
  },
  {
   "cell_type": "markdown",
   "id": "0f34d303-001a-4e6e-af7e-a89e051b9363",
   "metadata": {},
   "source": [
    "# Filter columns by number of missing values"
   ]
  },
  {
   "cell_type": "markdown",
   "id": "2781a8ed-6d45-4efa-a683-3dbee374d6d9",
   "metadata": {},
   "source": [
    "Check for missing values:"
   ]
  },
  {
   "cell_type": "code",
   "execution_count": 6,
   "id": "1f24f583-d526-4bea-863b-6dbce77b2c5e",
   "metadata": {},
   "outputs": [
    {
     "data": {
      "text/plain": [
       "0"
      ]
     },
     "execution_count": 6,
     "metadata": {},
     "output_type": "execute_result"
    }
   ],
   "source": [
    "chen_feat.isna().sum().sum()"
   ]
  },
  {
   "cell_type": "code",
   "execution_count": 8,
   "id": "5c579502-53be-43a6-80ed-72966a8f190c",
   "metadata": {},
   "outputs": [],
   "source": [
    "nonzero = chen_feat.astype(bool).sum(axis=0)"
   ]
  },
  {
   "cell_type": "code",
   "execution_count": 19,
   "id": "8876d20d-6c83-40a4-90b3-cb027ea36058",
   "metadata": {},
   "outputs": [
    {
     "data": {
      "text/plain": [
       "19761"
      ]
     },
     "execution_count": 19,
     "metadata": {},
     "output_type": "execute_result"
    }
   ],
   "source": [
    "len(nonzero)"
   ]
  },
  {
   "cell_type": "code",
   "execution_count": 20,
   "id": "8612d444-8fa6-4fff-bbf4-c92560171085",
   "metadata": {},
   "outputs": [
    {
     "data": {
      "text/plain": [
       "Ab_ID    2409\n",
       "0        2409\n",
       "1        2400\n",
       "2        2375\n",
       "dtype: int64"
      ]
     },
     "execution_count": 20,
     "metadata": {},
     "output_type": "execute_result"
    }
   ],
   "source": [
    "nonzero[:4]"
   ]
  },
  {
   "cell_type": "markdown",
   "id": "a8935509-4563-48a4-8346-f2251d28470e",
   "metadata": {},
   "source": [
    "Number of columns, which have fewer than *Threshold* non-zero values\n"
   ]
  },
  {
   "cell_type": "code",
   "execution_count": 21,
   "id": "deb5dbc3-88ad-4d5a-9068-e51b802bf50b",
   "metadata": {},
   "outputs": [
    {
     "name": "stdout",
     "output_type": "stream",
     "text": [
      "Threshold: 0%;\tCount: 0\n",
      "Threshold: 5%;\tCount: 15626\n",
      "Threshold: 10%;\tCount: 16208\n",
      "Threshold: 15%;\tCount: 16503\n",
      "Threshold: 20%;\tCount: 16692\n"
     ]
    }
   ],
   "source": [
    "for perc in np.arange(0,0.21,0.05):\n",
    "    threshold = len(chen_feat) * perc\n",
    "    num = nonzero[nonzero < threshold].count()\n",
    "    print(f\"Threshold: {round(perc*100)}%;\\tCount: {num}\")"
   ]
  },
  {
   "cell_type": "markdown",
   "id": "032fb756-30cd-4a5f-80d9-3cadc48a8110",
   "metadata": {},
   "source": [
    "Number of columns, which have at least *Threshold* non-zero values"
   ]
  },
  {
   "cell_type": "code",
   "execution_count": 22,
   "id": "04bfdb2f-850d-4482-97b3-9e61ee69bd15",
   "metadata": {},
   "outputs": [
    {
     "name": "stdout",
     "output_type": "stream",
     "text": [
      "Threshold: 0%;\tCount: 19761\n",
      "Threshold: 10%;\tCount: 3553\n",
      "Threshold: 20%;\tCount: 3069\n",
      "Threshold: 30%;\tCount: 2826\n",
      "Threshold: 40%;\tCount: 2670\n",
      "Threshold: 50%;\tCount: 2577\n",
      "Threshold: 60%;\tCount: 2499\n",
      "Threshold: 70%;\tCount: 2423\n",
      "Threshold: 80%;\tCount: 2363\n",
      "Threshold: 90%;\tCount: 2296\n",
      "Threshold: 100%;\tCount: 1359\n"
     ]
    }
   ],
   "source": [
    "for perc in np.arange(0,1.01,0.1):\n",
    "    threshold = len(chen_feat) * perc\n",
    "    num = nonzero[nonzero >= threshold].count()\n",
    "    print(f\"Threshold: {round(perc*100)}%;\\tCount: {num}\")"
   ]
  },
  {
   "cell_type": "markdown",
   "id": "268aca60-b62c-46ea-913f-ea163c60a063",
   "metadata": {},
   "source": [
    "Total number of columns:"
   ]
  },
  {
   "cell_type": "code",
   "execution_count": 10,
   "id": "9757469d-7ee6-4fad-8efa-0a20e6c0a20e",
   "metadata": {},
   "outputs": [
    {
     "data": {
      "text/plain": [
       "19761"
      ]
     },
     "execution_count": 10,
     "metadata": {},
     "output_type": "execute_result"
    }
   ],
   "source": [
    "len(chen_feat.columns)"
   ]
  },
  {
   "cell_type": "markdown",
   "id": "4ebba5c1-9e43-4a92-9878-88317ea9011b",
   "metadata": {},
   "source": [
    "Filter out columns with less than 10% non-zero values:"
   ]
  },
  {
   "cell_type": "code",
   "execution_count": 24,
   "id": "e7f359e3-be5d-4ffa-8f88-ac9f9989f746",
   "metadata": {},
   "outputs": [
    {
     "name": "stdout",
     "output_type": "stream",
     "text": [
      "240.9\n"
     ]
    },
    {
     "data": {
      "text/html": [
       "<div>\n",
       "<style scoped>\n",
       "    .dataframe tbody tr th:only-of-type {\n",
       "        vertical-align: middle;\n",
       "    }\n",
       "\n",
       "    .dataframe tbody tr th {\n",
       "        vertical-align: top;\n",
       "    }\n",
       "\n",
       "    .dataframe thead th {\n",
       "        text-align: right;\n",
       "    }\n",
       "</style>\n",
       "<table border=\"1\" class=\"dataframe\">\n",
       "  <thead>\n",
       "    <tr style=\"text-align: right;\">\n",
       "      <th></th>\n",
       "      <th>Ab_ID</th>\n",
       "      <th>0</th>\n",
       "      <th>1</th>\n",
       "      <th>2</th>\n",
       "      <th>3</th>\n",
       "      <th>4</th>\n",
       "      <th>5</th>\n",
       "      <th>6</th>\n",
       "      <th>7</th>\n",
       "      <th>8</th>\n",
       "      <th>...</th>\n",
       "      <th>19690</th>\n",
       "      <th>19691</th>\n",
       "      <th>19697</th>\n",
       "      <th>19698</th>\n",
       "      <th>19702</th>\n",
       "      <th>19721</th>\n",
       "      <th>19725</th>\n",
       "      <th>19735</th>\n",
       "      <th>19739</th>\n",
       "      <th>19741</th>\n",
       "    </tr>\n",
       "  </thead>\n",
       "  <tbody>\n",
       "    <tr>\n",
       "      <th>0</th>\n",
       "      <td>12e8</td>\n",
       "      <td>7.500</td>\n",
       "      <td>3.333</td>\n",
       "      <td>2.500</td>\n",
       "      <td>5.833</td>\n",
       "      <td>1.667</td>\n",
       "      <td>5.833</td>\n",
       "      <td>5.833</td>\n",
       "      <td>9.167</td>\n",
       "      <td>1.667</td>\n",
       "      <td>...</td>\n",
       "      <td>1.0</td>\n",
       "      <td>1.0</td>\n",
       "      <td>0.0</td>\n",
       "      <td>1.0</td>\n",
       "      <td>0.0</td>\n",
       "      <td>0.0</td>\n",
       "      <td>0.0</td>\n",
       "      <td>1.0</td>\n",
       "      <td>1.0</td>\n",
       "      <td>0.0</td>\n",
       "    </tr>\n",
       "    <tr>\n",
       "      <th>1</th>\n",
       "      <td>15c8</td>\n",
       "      <td>9.244</td>\n",
       "      <td>0.000</td>\n",
       "      <td>3.361</td>\n",
       "      <td>5.882</td>\n",
       "      <td>1.681</td>\n",
       "      <td>4.202</td>\n",
       "      <td>6.723</td>\n",
       "      <td>8.403</td>\n",
       "      <td>2.521</td>\n",
       "      <td>...</td>\n",
       "      <td>1.0</td>\n",
       "      <td>0.0</td>\n",
       "      <td>1.0</td>\n",
       "      <td>0.0</td>\n",
       "      <td>0.0</td>\n",
       "      <td>0.0</td>\n",
       "      <td>1.0</td>\n",
       "      <td>1.0</td>\n",
       "      <td>0.0</td>\n",
       "      <td>0.0</td>\n",
       "    </tr>\n",
       "    <tr>\n",
       "      <th>2</th>\n",
       "      <td>1a0q</td>\n",
       "      <td>5.882</td>\n",
       "      <td>1.681</td>\n",
       "      <td>3.361</td>\n",
       "      <td>5.042</td>\n",
       "      <td>1.681</td>\n",
       "      <td>5.882</td>\n",
       "      <td>5.042</td>\n",
       "      <td>9.244</td>\n",
       "      <td>1.681</td>\n",
       "      <td>...</td>\n",
       "      <td>0.0</td>\n",
       "      <td>0.0</td>\n",
       "      <td>0.0</td>\n",
       "      <td>1.0</td>\n",
       "      <td>0.0</td>\n",
       "      <td>1.0</td>\n",
       "      <td>0.0</td>\n",
       "      <td>0.0</td>\n",
       "      <td>1.0</td>\n",
       "      <td>0.0</td>\n",
       "    </tr>\n",
       "    <tr>\n",
       "      <th>3</th>\n",
       "      <td>1a14</td>\n",
       "      <td>6.667</td>\n",
       "      <td>2.500</td>\n",
       "      <td>4.167</td>\n",
       "      <td>5.000</td>\n",
       "      <td>1.667</td>\n",
       "      <td>2.500</td>\n",
       "      <td>7.500</td>\n",
       "      <td>11.667</td>\n",
       "      <td>0.000</td>\n",
       "      <td>...</td>\n",
       "      <td>1.0</td>\n",
       "      <td>0.0</td>\n",
       "      <td>0.0</td>\n",
       "      <td>1.0</td>\n",
       "      <td>0.0</td>\n",
       "      <td>0.0</td>\n",
       "      <td>0.0</td>\n",
       "      <td>1.0</td>\n",
       "      <td>1.0</td>\n",
       "      <td>0.0</td>\n",
       "    </tr>\n",
       "    <tr>\n",
       "      <th>4</th>\n",
       "      <td>1a2y</td>\n",
       "      <td>3.448</td>\n",
       "      <td>5.172</td>\n",
       "      <td>4.310</td>\n",
       "      <td>6.034</td>\n",
       "      <td>1.724</td>\n",
       "      <td>2.586</td>\n",
       "      <td>6.034</td>\n",
       "      <td>10.345</td>\n",
       "      <td>0.862</td>\n",
       "      <td>...</td>\n",
       "      <td>0.0</td>\n",
       "      <td>0.0</td>\n",
       "      <td>0.0</td>\n",
       "      <td>1.0</td>\n",
       "      <td>0.0</td>\n",
       "      <td>0.0</td>\n",
       "      <td>0.0</td>\n",
       "      <td>1.0</td>\n",
       "      <td>1.0</td>\n",
       "      <td>0.0</td>\n",
       "    </tr>\n",
       "  </tbody>\n",
       "</table>\n",
       "<p>5 rows × 3553 columns</p>\n",
       "</div>"
      ],
      "text/plain": [
       "  Ab_ID      0      1      2      3      4      5      6       7      8  ...  \\\n",
       "0  12e8  7.500  3.333  2.500  5.833  1.667  5.833  5.833   9.167  1.667  ...   \n",
       "1  15c8  9.244  0.000  3.361  5.882  1.681  4.202  6.723   8.403  2.521  ...   \n",
       "2  1a0q  5.882  1.681  3.361  5.042  1.681  5.882  5.042   9.244  1.681  ...   \n",
       "3  1a14  6.667  2.500  4.167  5.000  1.667  2.500  7.500  11.667  0.000  ...   \n",
       "4  1a2y  3.448  5.172  4.310  6.034  1.724  2.586  6.034  10.345  0.862  ...   \n",
       "\n",
       "   19690  19691  19697  19698  19702  19721  19725  19735  19739  19741  \n",
       "0    1.0    1.0    0.0    1.0    0.0    0.0    0.0    1.0    1.0    0.0  \n",
       "1    1.0    0.0    1.0    0.0    0.0    0.0    1.0    1.0    0.0    0.0  \n",
       "2    0.0    0.0    0.0    1.0    0.0    1.0    0.0    0.0    1.0    0.0  \n",
       "3    1.0    0.0    0.0    1.0    0.0    0.0    0.0    1.0    1.0    0.0  \n",
       "4    0.0    0.0    0.0    1.0    0.0    0.0    0.0    1.0    1.0    0.0  \n",
       "\n",
       "[5 rows x 3553 columns]"
      ]
     },
     "execution_count": 24,
     "metadata": {},
     "output_type": "execute_result"
    }
   ],
   "source": [
    "# 10% of 2409 rows:\n",
    "threshold = 0.1 * 2409\n",
    "print(threshold)\n",
    "filtered = chen_feat.loc[:, nonzero >= threshold]\n",
    "filtered.head()"
   ]
  },
  {
   "cell_type": "code",
   "execution_count": 26,
   "id": "cdad11c4-ee96-40a4-b04c-e5af6dcc9dae",
   "metadata": {},
   "outputs": [],
   "source": [
    "filtered.to_feather(path.join(DATA_DIR, \"pybiomed_filtered/chen_data_10_perc_nonzero.ftr\"))"
   ]
  },
  {
   "cell_type": "markdown",
   "id": "3b1b4f61-edd7-4416-8f80-4e25161637e0",
   "metadata": {},
   "source": [
    "# Reduce dimensions by PCA"
   ]
  },
  {
   "cell_type": "code",
   "execution_count": 5,
   "id": "fae08776-9116-423e-a465-95d6b5ad809a",
   "metadata": {},
   "outputs": [
    {
     "data": {
      "image/png": "[encoded data removed]",
      "text/plain": [
       "<Figure size 432x288 with 1 Axes>"
      ]
     },
     "metadata": {
      "needs_background": "light"
     },
     "output_type": "display_data"
    }
   ],
   "source": [
    "pca = PCA(n_components=10)\n",
    "X_pca = pca.fit_transform(chen_feat.drop(\"Ab_ID\", axis=1))\n",
    "\n",
    "exp_var_pca = pca.explained_variance_ratio_\n",
    "cum_sum = np.cumsum(exp_var_pca)\n",
    "\n",
    "plt.bar(range(0,len(exp_var_pca)), exp_var_pca, alpha=0.5, align='center', label='Individual explained variance')\n",
    "plt.step(range(0,len(cum_sum)), cum_sum, where='mid',label='Cumulative explained variance')\n",
    "plt.ylabel('Explained variance ratio')\n",
    "plt.xlabel('Principal component index')\n",
    "plt.legend(loc='best')\n",
    "plt.tight_layout()\n",
    "plt.show()"
   ]
  },
  {
   "cell_type": "code",
   "execution_count": 6,
   "id": "d553bb4b-fbc4-4f67-8670-c54a97d2dcb6",
   "metadata": {},
   "outputs": [
    {
     "data": {
      "text/plain": [
       "array([[  6.2037782 , -11.58641193, -23.35567703, ...,  -0.39074406,\n",
       "         -6.59316661,   2.00442177],\n",
       "       [-32.84981906,  -0.55541051, -28.03101121, ...,  14.23575111,\n",
       "        -10.21924544,  11.80582251],\n",
       "       [ -1.93322566,   3.28861357, -30.91744879, ...,  14.14996917,\n",
       "         -6.95643712, -11.92685339],\n",
       "       ...,\n",
       "       [ -3.81336383, -23.49084995,   9.57136022, ...,  -8.8361705 ,\n",
       "         -4.08739309,  13.96164527],\n",
       "       [-29.53276595,  29.55247746,  86.30631437, ...,  13.35046313,\n",
       "         30.21082476,   9.71346065],\n",
       "       [ 30.59407927, -10.71439013,  12.51837682, ..., -16.97071337,\n",
       "          0.10189495,  17.48252828]])"
      ]
     },
     "execution_count": 6,
     "metadata": {},
     "output_type": "execute_result"
    }
   ],
   "source": [
    "X_pca"
   ]
  },
  {
   "cell_type": "code",
   "execution_count": 9,
   "id": "e866c5ef-9c84-4cbc-a29b-36beb1345b9e",
   "metadata": {},
   "outputs": [],
   "source": [
    "pca = PCA()\n",
    "X_pca = pca.fit_transform(chen_feat.drop(\"Ab_ID\", axis=1))\n",
    "\n",
    "exp_var_pca = pca.explained_variance_ratio_\n",
    "cum_sum = np.cumsum(exp_var_pca)"
   ]
  },
  {
   "cell_type": "code",
   "execution_count": 10,
   "id": "cad97916-248a-470b-be59-314cc054528c",
   "metadata": {},
   "outputs": [
    {
     "data": {
      "text/plain": [
       "array([0.11740352, 0.20736553, 0.28263343, ..., 1.        , 1.        ,\n",
       "       1.        ])"
      ]
     },
     "execution_count": 10,
     "metadata": {},
     "output_type": "execute_result"
    }
   ],
   "source": [
    "cum_sum"
   ]
  },
  {
   "cell_type": "code",
   "execution_count": 14,
   "id": "9ad29da4-8f0b-4a8d-acd5-52401c6d8461",
   "metadata": {},
   "outputs": [
    {
     "data": {
      "text/plain": [
       "41"
      ]
     },
     "execution_count": 14,
     "metadata": {},
     "output_type": "execute_result"
    }
   ],
   "source": [
    "np.where(cum_sum >= 0.8)[0][0]"
   ]
  },
  {
   "cell_type": "code",
   "execution_count": 15,
   "id": "e832e0ea-7a91-4db1-9eec-3c6b2886fb97",
   "metadata": {},
   "outputs": [
    {
     "data": {
      "text/plain": [
       "86"
      ]
     },
     "execution_count": 15,
     "metadata": {},
     "output_type": "execute_result"
    }
   ],
   "source": [
    "np.where(cum_sum >= 0.9)[0][0]"
   ]
  },
  {
   "cell_type": "markdown",
   "id": "29eb65bd-087d-4b13-bc69-47ed1a27ebe3",
   "metadata": {},
   "source": [
    "Cut-off at 90% explained variance"
   ]
  },
  {
   "cell_type": "code",
   "execution_count": 24,
   "id": "5bd91227-0b04-4f4e-832a-4c7b06542c79",
   "metadata": {},
   "outputs": [
    {
     "data": {
      "text/html": [
       "<div>\n",
       "<style scoped>\n",
       "    .dataframe tbody tr th:only-of-type {\n",
       "        vertical-align: middle;\n",
       "    }\n",
       "\n",
       "    .dataframe tbody tr th {\n",
       "        vertical-align: top;\n",
       "    }\n",
       "\n",
       "    .dataframe thead th {\n",
       "        text-align: right;\n",
       "    }\n",
       "</style>\n",
       "<table border=\"1\" class=\"dataframe\">\n",
       "  <thead>\n",
       "    <tr style=\"text-align: right;\">\n",
       "      <th></th>\n",
       "      <th>Ab_ID</th>\n",
       "      <th>0</th>\n",
       "      <th>1</th>\n",
       "      <th>2</th>\n",
       "      <th>3</th>\n",
       "      <th>4</th>\n",
       "      <th>5</th>\n",
       "      <th>6</th>\n",
       "      <th>7</th>\n",
       "      <th>8</th>\n",
       "      <th>...</th>\n",
       "      <th>77</th>\n",
       "      <th>78</th>\n",
       "      <th>79</th>\n",
       "      <th>80</th>\n",
       "      <th>81</th>\n",
       "      <th>82</th>\n",
       "      <th>83</th>\n",
       "      <th>84</th>\n",
       "      <th>85</th>\n",
       "      <th>86</th>\n",
       "    </tr>\n",
       "  </thead>\n",
       "  <tbody>\n",
       "    <tr>\n",
       "      <th>0</th>\n",
       "      <td>12e8</td>\n",
       "      <td>6.203778</td>\n",
       "      <td>-11.586412</td>\n",
       "      <td>-23.355678</td>\n",
       "      <td>25.305691</td>\n",
       "      <td>-22.606243</td>\n",
       "      <td>-9.194142</td>\n",
       "      <td>-1.772352</td>\n",
       "      <td>-0.390856</td>\n",
       "      <td>-6.586966</td>\n",
       "      <td>...</td>\n",
       "      <td>-0.019205</td>\n",
       "      <td>-3.990987</td>\n",
       "      <td>2.127482</td>\n",
       "      <td>-6.027751</td>\n",
       "      <td>2.545503</td>\n",
       "      <td>-1.227846</td>\n",
       "      <td>-0.396607</td>\n",
       "      <td>0.997742</td>\n",
       "      <td>0.841067</td>\n",
       "      <td>0.419024</td>\n",
       "    </tr>\n",
       "    <tr>\n",
       "      <th>1</th>\n",
       "      <td>15c8</td>\n",
       "      <td>-32.849819</td>\n",
       "      <td>-0.555410</td>\n",
       "      <td>-28.031012</td>\n",
       "      <td>21.804202</td>\n",
       "      <td>41.297370</td>\n",
       "      <td>13.561593</td>\n",
       "      <td>-17.313879</td>\n",
       "      <td>14.234665</td>\n",
       "      <td>-10.216319</td>\n",
       "      <td>...</td>\n",
       "      <td>-2.688147</td>\n",
       "      <td>-10.326772</td>\n",
       "      <td>3.697856</td>\n",
       "      <td>-5.032671</td>\n",
       "      <td>7.632122</td>\n",
       "      <td>-1.667724</td>\n",
       "      <td>-2.359591</td>\n",
       "      <td>4.982235</td>\n",
       "      <td>-0.792426</td>\n",
       "      <td>1.395539</td>\n",
       "    </tr>\n",
       "    <tr>\n",
       "      <th>2</th>\n",
       "      <td>1a0q</td>\n",
       "      <td>-1.933226</td>\n",
       "      <td>3.288613</td>\n",
       "      <td>-30.917447</td>\n",
       "      <td>-16.036783</td>\n",
       "      <td>-11.761531</td>\n",
       "      <td>-9.616267</td>\n",
       "      <td>-11.904319</td>\n",
       "      <td>14.150297</td>\n",
       "      <td>-6.956475</td>\n",
       "      <td>...</td>\n",
       "      <td>-6.554534</td>\n",
       "      <td>7.609523</td>\n",
       "      <td>2.582209</td>\n",
       "      <td>0.766134</td>\n",
       "      <td>0.939223</td>\n",
       "      <td>-3.294344</td>\n",
       "      <td>1.389478</td>\n",
       "      <td>-3.515518</td>\n",
       "      <td>-3.637572</td>\n",
       "      <td>0.209021</td>\n",
       "    </tr>\n",
       "    <tr>\n",
       "      <th>3</th>\n",
       "      <td>1a14</td>\n",
       "      <td>-17.473389</td>\n",
       "      <td>-27.456810</td>\n",
       "      <td>-11.750233</td>\n",
       "      <td>42.275745</td>\n",
       "      <td>-12.391351</td>\n",
       "      <td>1.259343</td>\n",
       "      <td>33.163444</td>\n",
       "      <td>18.158039</td>\n",
       "      <td>-0.091022</td>\n",
       "      <td>...</td>\n",
       "      <td>-0.470343</td>\n",
       "      <td>12.880582</td>\n",
       "      <td>-0.052809</td>\n",
       "      <td>1.833907</td>\n",
       "      <td>1.954641</td>\n",
       "      <td>1.596194</td>\n",
       "      <td>6.388072</td>\n",
       "      <td>5.018694</td>\n",
       "      <td>11.108835</td>\n",
       "      <td>1.345592</td>\n",
       "    </tr>\n",
       "    <tr>\n",
       "      <th>4</th>\n",
       "      <td>1a2y</td>\n",
       "      <td>2.406609</td>\n",
       "      <td>-45.422375</td>\n",
       "      <td>34.694564</td>\n",
       "      <td>-34.529390</td>\n",
       "      <td>42.759314</td>\n",
       "      <td>39.312483</td>\n",
       "      <td>23.661636</td>\n",
       "      <td>21.036321</td>\n",
       "      <td>-13.455115</td>\n",
       "      <td>...</td>\n",
       "      <td>4.352918</td>\n",
       "      <td>0.079762</td>\n",
       "      <td>0.791069</td>\n",
       "      <td>1.620226</td>\n",
       "      <td>-5.435064</td>\n",
       "      <td>1.751779</td>\n",
       "      <td>-0.167899</td>\n",
       "      <td>-0.346709</td>\n",
       "      <td>-5.155217</td>\n",
       "      <td>0.395462</td>\n",
       "    </tr>\n",
       "  </tbody>\n",
       "</table>\n",
       "<p>5 rows × 88 columns</p>\n",
       "</div>"
      ],
      "text/plain": [
       "  Ab_ID          0          1          2          3          4          5  \\\n",
       "0  12e8   6.203778 -11.586412 -23.355678  25.305691 -22.606243  -9.194142   \n",
       "1  15c8 -32.849819  -0.555410 -28.031012  21.804202  41.297370  13.561593   \n",
       "2  1a0q  -1.933226   3.288613 -30.917447 -16.036783 -11.761531  -9.616267   \n",
       "3  1a14 -17.473389 -27.456810 -11.750233  42.275745 -12.391351   1.259343   \n",
       "4  1a2y   2.406609 -45.422375  34.694564 -34.529390  42.759314  39.312483   \n",
       "\n",
       "           6          7          8  ...        77         78        79  \\\n",
       "0  -1.772352  -0.390856  -6.586966  ... -0.019205  -3.990987  2.127482   \n",
       "1 -17.313879  14.234665 -10.216319  ... -2.688147 -10.326772  3.697856   \n",
       "2 -11.904319  14.150297  -6.956475  ... -6.554534   7.609523  2.582209   \n",
       "3  33.163444  18.158039  -0.091022  ... -0.470343  12.880582 -0.052809   \n",
       "4  23.661636  21.036321 -13.455115  ...  4.352918   0.079762  0.791069   \n",
       "\n",
       "         80        81        82        83        84         85        86  \n",
       "0 -6.027751  2.545503 -1.227846 -0.396607  0.997742   0.841067  0.419024  \n",
       "1 -5.032671  7.632122 -1.667724 -2.359591  4.982235  -0.792426  1.395539  \n",
       "2  0.766134  0.939223 -3.294344  1.389478 -3.515518  -3.637572  0.209021  \n",
       "3  1.833907  1.954641  1.596194  6.388072  5.018694  11.108835  1.345592  \n",
       "4  1.620226 -5.435064  1.751779 -0.167899 -0.346709  -5.155217  0.395462  \n",
       "\n",
       "[5 rows x 88 columns]"
      ]
     },
     "execution_count": 24,
     "metadata": {},
     "output_type": "execute_result"
    }
   ],
   "source": [
    "top_pc_vals = X_pca[:,:87]\n",
    "top_pc = pd.DataFrame(top_pc_vals)\n",
    "top_pc.insert(0, \"Ab_ID\", chen_feat[\"Ab_ID\"])\n",
    "top_pc.head()"
   ]
  },
  {
   "cell_type": "code",
   "execution_count": 26,
   "id": "0ba8f07b-6894-4a9f-bb1c-bd5abd5d64a0",
   "metadata": {},
   "outputs": [],
   "source": [
    "top_pc.columns = top_pc.columns.astype(str)\n",
    "top_pc.to_feather(path.join(DATA_DIR, \"pybiomed_filtered/chen_data_90_perc_variance.ftr\"))"
   ]
  },
  {
   "cell_type": "code",
   "execution_count": null,
   "id": "89ff8cc5-98b9-48a1-987c-8dc376a49675",
   "metadata": {},
   "outputs": [],
   "source": []
  }
 ],
 "metadata": {
  "kernelspec": {
   "display_name": "Python 3 (ipykernel)",
   "language": "python",
   "name": "python3"
  },
  "language_info": {
   "codemirror_mode": {
    "name": "ipython",
    "version": 3
   },
   "file_extension": ".py",
   "mimetype": "text/x-python",
   "name": "python",
   "nbconvert_exporter": "python",
   "pygments_lexer": "ipython3",
   "version": "3.7.10"
  }
 },
 "nbformat": 4,
 "nbformat_minor": 5
}
