{
 "cells": [
  {
   "cell_type": "code",
   "execution_count": 1,
   "id": "542aefcf-7a99-4b2b-b05e-6785d8bd994b",
   "metadata": {},
   "outputs": [],
   "source": [
    "import pandas as pd\n",
    "import numpy as np\n",
    "from os import path\n",
    "from sklearn.decomposition import PCA\n",
    "import matplotlib.pyplot as plt"
   ]
  },
  {
   "cell_type": "code",
   "execution_count": 2,
   "id": "fc3ae5d7-bb0e-47e9-990f-d350fafcfa9b",
   "metadata": {},
   "outputs": [],
   "source": [
    "DATA_DIR = \"../../data/chen\""
   ]
  },
  {
   "cell_type": "code",
   "execution_count": 3,
   "id": "a8fbcce9-a684-40ca-8c1c-cbc3caec6697",
   "metadata": {},
   "outputs": [
    {
     "data": {
      "text/html": [
       "<div>\n",
       "<style scoped>\n",
       "    .dataframe tbody tr th:only-of-type {\n",
       "        vertical-align: middle;\n",
       "    }\n",
       "\n",
       "    .dataframe tbody tr th {\n",
       "        vertical-align: top;\n",
       "    }\n",
       "\n",
       "    .dataframe thead th {\n",
       "        text-align: right;\n",
       "    }\n",
       "</style>\n",
       "<table border=\"1\" class=\"dataframe\">\n",
       "  <thead>\n",
       "    <tr style=\"text-align: right;\">\n",
       "      <th></th>\n",
       "      <th>Antibody_ID</th>\n",
       "      <th>heavy</th>\n",
       "      <th>light</th>\n",
       "      <th>Y</th>\n",
       "    </tr>\n",
       "  </thead>\n",
       "  <tbody>\n",
       "    <tr>\n",
       "      <th>0</th>\n",
       "      <td>12e8</td>\n",
       "      <td>EVQLQQSGAEVVRSGASVKLSCTASGFNIKDYYIHWVKQRPEKGLE...</td>\n",
       "      <td>DIVMTQSQKFMSTSVGDRVSITCKASQNVGTAVAWYQQKPGQSPKL...</td>\n",
       "      <td>0</td>\n",
       "    </tr>\n",
       "    <tr>\n",
       "      <th>1</th>\n",
       "      <td>15c8</td>\n",
       "      <td>EVQLQQSGAELVKPGASVKLSCTASGFNIKDTYMHWVKQKPEQGLE...</td>\n",
       "      <td>DIVLTQSPAIMSASLGERVTMTCTASSSVSSSNLHWYQQKPGSSPK...</td>\n",
       "      <td>0</td>\n",
       "    </tr>\n",
       "    <tr>\n",
       "      <th>2</th>\n",
       "      <td>1a0q</td>\n",
       "      <td>EVQLQESDAELVKPGASVKISCKASGYTFTDHVIHWVKQKPEQGLE...</td>\n",
       "      <td>DIELTQSPSSLSASLGGKVTITCKASQDIKKYIGWYQHKPGKQPRL...</td>\n",
       "      <td>1</td>\n",
       "    </tr>\n",
       "    <tr>\n",
       "      <th>3</th>\n",
       "      <td>1a14</td>\n",
       "      <td>QVQLQQSGAELVKPGASVRMSCKASGYTFTNYNMYWVKQSPGQGLE...</td>\n",
       "      <td>DIELTQTTSSLSASLGDRVTISCRASQDISNYLNWYQQNPDGTVKL...</td>\n",
       "      <td>0</td>\n",
       "    </tr>\n",
       "    <tr>\n",
       "      <th>4</th>\n",
       "      <td>1a2y</td>\n",
       "      <td>QVQLQESGPGLVAPSQSLSITCTVSGFSLTGYGVNWVRQPPGKGLE...</td>\n",
       "      <td>DIVLTQSPASLSASVGETVTITCRASGNIHNYLAWYQQKQGKSPQL...</td>\n",
       "      <td>0</td>\n",
       "    </tr>\n",
       "    <tr>\n",
       "      <th>...</th>\n",
       "      <td>...</td>\n",
       "      <td>...</td>\n",
       "      <td>...</td>\n",
       "      <td>...</td>\n",
       "    </tr>\n",
       "    <tr>\n",
       "      <th>2404</th>\n",
       "      <td>6s5a</td>\n",
       "      <td>EVKLLESGGGLVQPGGSLKLSCAASGFDFSRYWMNWVRQAPGKGLE...</td>\n",
       "      <td>QAVVTQESALTTSPGETVTLTCRSSTGAVTTSNYANWVQEKPDHLF...</td>\n",
       "      <td>0</td>\n",
       "    </tr>\n",
       "    <tr>\n",
       "      <th>2405</th>\n",
       "      <td>6tyb</td>\n",
       "      <td>EVQLVQSGTEVKRPGESLTISCKTSGYSFSGTWISWVRQMPGKGLE...</td>\n",
       "      <td>DIQMTQSPSSLSASVGDRVTITCRASQGISTYLAWYQQKPGKAPKL...</td>\n",
       "      <td>0</td>\n",
       "    </tr>\n",
       "    <tr>\n",
       "      <th>2406</th>\n",
       "      <td>6u1t</td>\n",
       "      <td>EVQLVESGGGLVKPGGSLKLSCAASGFTFSSYDMSWVRQTPEKRLE...</td>\n",
       "      <td>DIQMTQSPASQSASLGESVTITCLASQTIGTWLAWYQQKPGKSPQL...</td>\n",
       "      <td>0</td>\n",
       "    </tr>\n",
       "    <tr>\n",
       "      <th>2407</th>\n",
       "      <td>7fab</td>\n",
       "      <td>AVQLEQSGPGLVRPSQTLSLTCTVSGTSFDDYYWTWVRQPPGRGLE...</td>\n",
       "      <td>ASVLTQPPSVSGAPGQRVTISCTGSSSNIGAGHNVKWYQQLPGTAP...</td>\n",
       "      <td>0</td>\n",
       "    </tr>\n",
       "    <tr>\n",
       "      <th>2408</th>\n",
       "      <td>8fab</td>\n",
       "      <td>AVKLVQAGGGVVQPGRSLRLSCIASGFTFSNYGMHWVRQAPGKGLE...</td>\n",
       "      <td>SYELTQPPSVSVSPGQTARITCSANALPNQYAYWYQQKPGRAPVMV...</td>\n",
       "      <td>0</td>\n",
       "    </tr>\n",
       "  </tbody>\n",
       "</table>\n",
       "<p>2409 rows × 4 columns</p>\n",
       "</div>"
      ],
      "text/plain": [
       "     Antibody_ID                                              heavy  \\\n",
       "0           12e8  EVQLQQSGAEVVRSGASVKLSCTASGFNIKDYYIHWVKQRPEKGLE...   \n",
       "1           15c8  EVQLQQSGAELVKPGASVKLSCTASGFNIKDTYMHWVKQKPEQGLE...   \n",
       "2           1a0q  EVQLQESDAELVKPGASVKISCKASGYTFTDHVIHWVKQKPEQGLE...   \n",
       "3           1a14  QVQLQQSGAELVKPGASVRMSCKASGYTFTNYNMYWVKQSPGQGLE...   \n",
       "4           1a2y  QVQLQESGPGLVAPSQSLSITCTVSGFSLTGYGVNWVRQPPGKGLE...   \n",
       "...          ...                                                ...   \n",
       "2404        6s5a  EVKLLESGGGLVQPGGSLKLSCAASGFDFSRYWMNWVRQAPGKGLE...   \n",
       "2405        6tyb  EVQLVQSGTEVKRPGESLTISCKTSGYSFSGTWISWVRQMPGKGLE...   \n",
       "2406        6u1t  EVQLVESGGGLVKPGGSLKLSCAASGFTFSSYDMSWVRQTPEKRLE...   \n",
       "2407        7fab  AVQLEQSGPGLVRPSQTLSLTCTVSGTSFDDYYWTWVRQPPGRGLE...   \n",
       "2408        8fab  AVKLVQAGGGVVQPGRSLRLSCIASGFTFSNYGMHWVRQAPGKGLE...   \n",
       "\n",
       "                                                  light  Y  \n",
       "0     DIVMTQSQKFMSTSVGDRVSITCKASQNVGTAVAWYQQKPGQSPKL...  0  \n",
       "1     DIVLTQSPAIMSASLGERVTMTCTASSSVSSSNLHWYQQKPGSSPK...  0  \n",
       "2     DIELTQSPSSLSASLGGKVTITCKASQDIKKYIGWYQHKPGKQPRL...  1  \n",
       "3     DIELTQTTSSLSASLGDRVTISCRASQDISNYLNWYQQNPDGTVKL...  0  \n",
       "4     DIVLTQSPASLSASVGETVTITCRASGNIHNYLAWYQQKQGKSPQL...  0  \n",
       "...                                                 ... ..  \n",
       "2404  QAVVTQESALTTSPGETVTLTCRSSTGAVTTSNYANWVQEKPDHLF...  0  \n",
       "2405  DIQMTQSPSSLSASVGDRVTITCRASQGISTYLAWYQQKPGKAPKL...  0  \n",
       "2406  DIQMTQSPASQSASLGESVTITCLASQTIGTWLAWYQQKPGKSPQL...  0  \n",
       "2407  ASVLTQPPSVSGAPGQRVTISCTGSSSNIGAGHNVKWYQQLPGTAP...  0  \n",
       "2408  SYELTQPPSVSVSPGQTARITCSANALPNQYAYWYQQKPGRAPVMV...  0  \n",
       "\n",
       "[2409 rows x 4 columns]"
      ]
     },
     "execution_count": 3,
     "metadata": {},
     "output_type": "execute_result"
    }
   ],
   "source": [
    "chen_data = pd.read_csv(path.join(DATA_DIR, \"chen_data.csv\"))\n",
    "chen_data"
   ]
  },
  {
   "cell_type": "code",
   "execution_count": 4,
   "id": "213e0d08-20e2-4a36-9b4e-1ba655c4136c",
   "metadata": {},
   "outputs": [
    {
     "data": {
      "text/html": [
       "<div>\n",
       "<style scoped>\n",
       "    .dataframe tbody tr th:only-of-type {\n",
       "        vertical-align: middle;\n",
       "    }\n",
       "\n",
       "    .dataframe tbody tr th {\n",
       "        vertical-align: top;\n",
       "    }\n",
       "\n",
       "    .dataframe thead th {\n",
       "        text-align: right;\n",
       "    }\n",
       "</style>\n",
       "<table border=\"1\" class=\"dataframe\">\n",
       "  <thead>\n",
       "    <tr style=\"text-align: right;\">\n",
       "      <th></th>\n",
       "      <th>Ab_ID</th>\n",
       "      <th>0</th>\n",
       "      <th>1</th>\n",
       "      <th>2</th>\n",
       "      <th>3</th>\n",
       "      <th>4</th>\n",
       "      <th>5</th>\n",
       "      <th>6</th>\n",
       "      <th>7</th>\n",
       "      <th>8</th>\n",
       "      <th>...</th>\n",
       "      <th>19750</th>\n",
       "      <th>19751</th>\n",
       "      <th>19752</th>\n",
       "      <th>19753</th>\n",
       "      <th>19754</th>\n",
       "      <th>19755</th>\n",
       "      <th>19756</th>\n",
       "      <th>19757</th>\n",
       "      <th>19758</th>\n",
       "      <th>19759</th>\n",
       "    </tr>\n",
       "  </thead>\n",
       "  <tbody>\n",
       "    <tr>\n",
       "      <th>0</th>\n",
       "      <td>12e8</td>\n",
       "      <td>7.500</td>\n",
       "      <td>3.333</td>\n",
       "      <td>2.500</td>\n",
       "      <td>5.833</td>\n",
       "      <td>1.667</td>\n",
       "      <td>5.833</td>\n",
       "      <td>5.833</td>\n",
       "      <td>9.167</td>\n",
       "      <td>1.667</td>\n",
       "      <td>...</td>\n",
       "      <td>0.0</td>\n",
       "      <td>0.0</td>\n",
       "      <td>0.0</td>\n",
       "      <td>0.0</td>\n",
       "      <td>0.0</td>\n",
       "      <td>0.0</td>\n",
       "      <td>0.0</td>\n",
       "      <td>0.0</td>\n",
       "      <td>0.0</td>\n",
       "      <td>0.0</td>\n",
       "    </tr>\n",
       "    <tr>\n",
       "      <th>1</th>\n",
       "      <td>15c8</td>\n",
       "      <td>9.244</td>\n",
       "      <td>0.000</td>\n",
       "      <td>3.361</td>\n",
       "      <td>5.882</td>\n",
       "      <td>1.681</td>\n",
       "      <td>4.202</td>\n",
       "      <td>6.723</td>\n",
       "      <td>8.403</td>\n",
       "      <td>2.521</td>\n",
       "      <td>...</td>\n",
       "      <td>0.0</td>\n",
       "      <td>0.0</td>\n",
       "      <td>0.0</td>\n",
       "      <td>0.0</td>\n",
       "      <td>0.0</td>\n",
       "      <td>0.0</td>\n",
       "      <td>0.0</td>\n",
       "      <td>0.0</td>\n",
       "      <td>0.0</td>\n",
       "      <td>0.0</td>\n",
       "    </tr>\n",
       "    <tr>\n",
       "      <th>2</th>\n",
       "      <td>1a0q</td>\n",
       "      <td>5.882</td>\n",
       "      <td>1.681</td>\n",
       "      <td>3.361</td>\n",
       "      <td>5.042</td>\n",
       "      <td>1.681</td>\n",
       "      <td>5.882</td>\n",
       "      <td>5.042</td>\n",
       "      <td>9.244</td>\n",
       "      <td>1.681</td>\n",
       "      <td>...</td>\n",
       "      <td>0.0</td>\n",
       "      <td>0.0</td>\n",
       "      <td>0.0</td>\n",
       "      <td>0.0</td>\n",
       "      <td>0.0</td>\n",
       "      <td>0.0</td>\n",
       "      <td>0.0</td>\n",
       "      <td>0.0</td>\n",
       "      <td>0.0</td>\n",
       "      <td>0.0</td>\n",
       "    </tr>\n",
       "    <tr>\n",
       "      <th>3</th>\n",
       "      <td>1a14</td>\n",
       "      <td>6.667</td>\n",
       "      <td>2.500</td>\n",
       "      <td>4.167</td>\n",
       "      <td>5.000</td>\n",
       "      <td>1.667</td>\n",
       "      <td>2.500</td>\n",
       "      <td>7.500</td>\n",
       "      <td>11.667</td>\n",
       "      <td>0.000</td>\n",
       "      <td>...</td>\n",
       "      <td>0.0</td>\n",
       "      <td>0.0</td>\n",
       "      <td>0.0</td>\n",
       "      <td>0.0</td>\n",
       "      <td>0.0</td>\n",
       "      <td>0.0</td>\n",
       "      <td>0.0</td>\n",
       "      <td>0.0</td>\n",
       "      <td>0.0</td>\n",
       "      <td>0.0</td>\n",
       "    </tr>\n",
       "    <tr>\n",
       "      <th>4</th>\n",
       "      <td>1a2y</td>\n",
       "      <td>3.448</td>\n",
       "      <td>5.172</td>\n",
       "      <td>4.310</td>\n",
       "      <td>6.034</td>\n",
       "      <td>1.724</td>\n",
       "      <td>2.586</td>\n",
       "      <td>6.034</td>\n",
       "      <td>10.345</td>\n",
       "      <td>0.862</td>\n",
       "      <td>...</td>\n",
       "      <td>0.0</td>\n",
       "      <td>0.0</td>\n",
       "      <td>0.0</td>\n",
       "      <td>0.0</td>\n",
       "      <td>0.0</td>\n",
       "      <td>0.0</td>\n",
       "      <td>0.0</td>\n",
       "      <td>0.0</td>\n",
       "      <td>0.0</td>\n",
       "      <td>0.0</td>\n",
       "    </tr>\n",
       "  </tbody>\n",
       "</table>\n",
       "<p>5 rows × 19761 columns</p>\n",
       "</div>"
      ],
      "text/plain": [
       "  Ab_ID      0      1      2      3      4      5      6       7      8  ...  \\\n",
       "0  12e8  7.500  3.333  2.500  5.833  1.667  5.833  5.833   9.167  1.667  ...   \n",
       "1  15c8  9.244  0.000  3.361  5.882  1.681  4.202  6.723   8.403  2.521  ...   \n",
       "2  1a0q  5.882  1.681  3.361  5.042  1.681  5.882  5.042   9.244  1.681  ...   \n",
       "3  1a14  6.667  2.500  4.167  5.000  1.667  2.500  7.500  11.667  0.000  ...   \n",
       "4  1a2y  3.448  5.172  4.310  6.034  1.724  2.586  6.034  10.345  0.862  ...   \n",
       "\n",
       "   19750  19751  19752  19753  19754  19755  19756  19757  19758  19759  \n",
       "0    0.0    0.0    0.0    0.0    0.0    0.0    0.0    0.0    0.0    0.0  \n",
       "1    0.0    0.0    0.0    0.0    0.0    0.0    0.0    0.0    0.0    0.0  \n",
       "2    0.0    0.0    0.0    0.0    0.0    0.0    0.0    0.0    0.0    0.0  \n",
       "3    0.0    0.0    0.0    0.0    0.0    0.0    0.0    0.0    0.0    0.0  \n",
       "4    0.0    0.0    0.0    0.0    0.0    0.0    0.0    0.0    0.0    0.0  \n",
       "\n",
       "[5 rows x 19761 columns]"
      ]
     },
     "execution_count": 4,
     "metadata": {},
     "output_type": "execute_result"
    }
   ],
   "source": [
    "chen_feat = pd.read_feather(path.join(DATA_DIR, \"pybiomed/X_data.ftr\"))\n",
    "chen_feat.head()"
   ]
  },
  {
   "cell_type": "markdown",
   "id": "0f34d303-001a-4e6e-af7e-a89e051b9363",
   "metadata": {},
   "source": [
    "# Filter columns by number of missing values"
   ]
  },
  {
   "cell_type": "markdown",
   "id": "2781a8ed-6d45-4efa-a683-3dbee374d6d9",
   "metadata": {},
   "source": [
    "Check for missing values:"
   ]
  },
  {
   "cell_type": "code",
   "execution_count": 6,
   "id": "1f24f583-d526-4bea-863b-6dbce77b2c5e",
   "metadata": {},
   "outputs": [
    {
     "data": {
      "text/plain": [
       "0"
      ]
     },
     "execution_count": 6,
     "metadata": {},
     "output_type": "execute_result"
    }
   ],
   "source": [
    "chen_feat.isna().sum().sum()"
   ]
  },
  {
   "cell_type": "code",
   "execution_count": 8,
   "id": "5c579502-53be-43a6-80ed-72966a8f190c",
   "metadata": {},
   "outputs": [],
   "source": [
    "nonzero = chen_feat.astype(bool).sum(axis=0)"
   ]
  },
  {
   "cell_type": "code",
   "execution_count": 19,
   "id": "8876d20d-6c83-40a4-90b3-cb027ea36058",
   "metadata": {},
   "outputs": [
    {
     "data": {
      "text/plain": [
       "19761"
      ]
     },
     "execution_count": 19,
     "metadata": {},
     "output_type": "execute_result"
    }
   ],
   "source": [
    "len(nonzero)"
   ]
  },
  {
   "cell_type": "code",
   "execution_count": 20,
   "id": "8612d444-8fa6-4fff-bbf4-c92560171085",
   "metadata": {},
   "outputs": [
    {
     "data": {
      "text/plain": [
       "Ab_ID    2409\n",
       "0        2409\n",
       "1        2400\n",
       "2        2375\n",
       "dtype: int64"
      ]
     },
     "execution_count": 20,
     "metadata": {},
     "output_type": "execute_result"
    }
   ],
   "source": [
    "nonzero[:4]"
   ]
  },
  {
   "cell_type": "markdown",
   "id": "a8935509-4563-48a4-8346-f2251d28470e",
   "metadata": {},
   "source": [
    "Number of columns, which have fewer than *Threshold* non-zero values\n"
   ]
  },
  {
   "cell_type": "code",
   "execution_count": 21,
   "id": "deb5dbc3-88ad-4d5a-9068-e51b802bf50b",
   "metadata": {},
   "outputs": [
    {
     "name": "stdout",
     "output_type": "stream",
     "text": [
      "Threshold: 0%;\tCount: 0\n",
      "Threshold: 5%;\tCount: 15626\n",
      "Threshold: 10%;\tCount: 16208\n",
      "Threshold: 15%;\tCount: 16503\n",
      "Threshold: 20%;\tCount: 16692\n"
     ]
    }
   ],
   "source": [
    "for perc in np.arange(0,0.21,0.05):\n",
    "    threshold = len(chen_feat) * perc\n",
    "    num = nonzero[nonzero < threshold].count()\n",
    "    print(f\"Threshold: {round(perc*100)}%;\\tCount: {num}\")"
   ]
  },
  {
   "cell_type": "markdown",
   "id": "032fb756-30cd-4a5f-80d9-3cadc48a8110",
   "metadata": {},
   "source": [
    "Number of columns, which have at least *Threshold* non-zero values"
   ]
  },
  {
   "cell_type": "code",
   "execution_count": 22,
   "id": "04bfdb2f-850d-4482-97b3-9e61ee69bd15",
   "metadata": {},
   "outputs": [
    {
     "name": "stdout",
     "output_type": "stream",
     "text": [
      "Threshold: 0%;\tCount: 19761\n",
      "Threshold: 10%;\tCount: 3553\n",
      "Threshold: 20%;\tCount: 3069\n",
      "Threshold: 30%;\tCount: 2826\n",
      "Threshold: 40%;\tCount: 2670\n",
      "Threshold: 50%;\tCount: 2577\n",
      "Threshold: 60%;\tCount: 2499\n",
      "Threshold: 70%;\tCount: 2423\n",
      "Threshold: 80%;\tCount: 2363\n",
      "Threshold: 90%;\tCount: 2296\n",
      "Threshold: 100%;\tCount: 1359\n"
     ]
    }
   ],
   "source": [
    "for perc in np.arange(0,1.01,0.1):\n",
    "    threshold = len(chen_feat) * perc\n",
    "    num = nonzero[nonzero >= threshold].count()\n",
    "    print(f\"Threshold: {round(perc*100)}%;\\tCount: {num}\")"
   ]
  },
  {
   "cell_type": "markdown",
   "id": "268aca60-b62c-46ea-913f-ea163c60a063",
   "metadata": {},
   "source": [
    "Total number of columns:"
   ]
  },
  {
   "cell_type": "code",
   "execution_count": 10,
   "id": "9757469d-7ee6-4fad-8efa-0a20e6c0a20e",
   "metadata": {},
   "outputs": [
    {
     "data": {
      "text/plain": [
       "19761"
      ]
     },
     "execution_count": 10,
     "metadata": {},
     "output_type": "execute_result"
    }
   ],
   "source": [
    "len(chen_feat.columns)"
   ]
  },
  {
   "cell_type": "markdown",
   "id": "4ebba5c1-9e43-4a92-9878-88317ea9011b",
   "metadata": {},
   "source": [
    "Filter out columns with less than 10% non-zero values:"
   ]
  },
  {
   "cell_type": "code",
   "execution_count": 24,
   "id": "e7f359e3-be5d-4ffa-8f88-ac9f9989f746",
   "metadata": {},
   "outputs": [
    {
     "name": "stdout",
     "output_type": "stream",
     "text": [
      "240.9\n"
     ]
    },
    {
     "data": {
      "text/html": [
       "<div>\n",
       "<style scoped>\n",
       "    .dataframe tbody tr th:only-of-type {\n",
       "        vertical-align: middle;\n",
       "    }\n",
       "\n",
       "    .dataframe tbody tr th {\n",
       "        vertical-align: top;\n",
       "    }\n",
       "\n",
       "    .dataframe thead th {\n",
       "        text-align: right;\n",
       "    }\n",
       "</style>\n",
       "<table border=\"1\" class=\"dataframe\">\n",
       "  <thead>\n",
       "    <tr style=\"text-align: right;\">\n",
       "      <th></th>\n",
       "      <th>Ab_ID</th>\n",
       "      <th>0</th>\n",
       "      <th>1</th>\n",
       "      <th>2</th>\n",
       "      <th>3</th>\n",
       "      <th>4</th>\n",
       "      <th>5</th>\n",
       "      <th>6</th>\n",
       "      <th>7</th>\n",
       "      <th>8</th>\n",
       "      <th>...</th>\n",
       "      <th>19690</th>\n",
       "      <th>19691</th>\n",
       "      <th>19697</th>\n",
       "      <th>19698</th>\n",
       "      <th>19702</th>\n",
       "      <th>19721</th>\n",
       "      <th>19725</th>\n",
       "      <th>19735</th>\n",
       "      <th>19739</th>\n",
       "      <th>19741</th>\n",
       "    </tr>\n",
       "  </thead>\n",
       "  <tbody>\n",
       "    <tr>\n",
       "      <th>0</th>\n",
       "      <td>12e8</td>\n",
       "      <td>7.500</td>\n",
       "      <td>3.333</td>\n",
       "      <td>2.500</td>\n",
       "      <td>5.833</td>\n",
       "      <td>1.667</td>\n",
       "      <td>5.833</td>\n",
       "      <td>5.833</td>\n",
       "      <td>9.167</td>\n",
       "      <td>1.667</td>\n",
       "      <td>...</td>\n",
       "      <td>1.0</td>\n",
       "      <td>1.0</td>\n",
       "      <td>0.0</td>\n",
       "      <td>1.0</td>\n",
       "      <td>0.0</td>\n",
       "      <td>0.0</td>\n",
       "      <td>0.0</td>\n",
       "      <td>1.0</td>\n",
       "      <td>1.0</td>\n",
       "      <td>0.0</td>\n",
       "    </tr>\n",
       "    <tr>\n",
       "      <th>1</th>\n",
       "      <td>15c8</td>\n",
       "      <td>9.244</td>\n",
       "      <td>0.000</td>\n",
       "      <td>3.361</td>\n",
       "      <td>5.882</td>\n",
       "      <td>1.681</td>\n",
       "      <td>4.202</td>\n",
       "      <td>6.723</td>\n",
       "      <td>8.403</td>\n",
       "      <td>2.521</td>\n",
       "      <td>...</td>\n",
       "      <td>1.0</td>\n",
       "      <td>0.0</td>\n",
       "      <td>1.0</td>\n",
       "      <td>0.0</td>\n",
       "      <td>0.0</td>\n",
       "      <td>0.0</td>\n",
       "      <td>1.0</td>\n",
       "      <td>1.0</td>\n",
       "      <td>0.0</td>\n",
       "      <td>0.0</td>\n",
       "    </tr>\n",
       "    <tr>\n",
       "      <th>2</th>\n",
       "      <td>1a0q</td>\n",
       "      <td>5.882</td>\n",
       "      <td>1.681</td>\n",
       "      <td>3.361</td>\n",
       "      <td>5.042</td>\n",
       "      <td>1.681</td>\n",
       "      <td>5.882</td>\n",
       "      <td>5.042</td>\n",
       "      <td>9.244</td>\n",
       "      <td>1.681</td>\n",
       "      <td>...</td>\n",
       "      <td>0.0</td>\n",
       "      <td>0.0</td>\n",
       "      <td>0.0</td>\n",
       "      <td>1.0</td>\n",
       "      <td>0.0</td>\n",
       "      <td>1.0</td>\n",
       "      <td>0.0</td>\n",
       "      <td>0.0</td>\n",
       "      <td>1.0</td>\n",
       "      <td>0.0</td>\n",
       "    </tr>\n",
       "    <tr>\n",
       "      <th>3</th>\n",
       "      <td>1a14</td>\n",
       "      <td>6.667</td>\n",
       "      <td>2.500</td>\n",
       "      <td>4.167</td>\n",
       "      <td>5.000</td>\n",
       "      <td>1.667</td>\n",
       "      <td>2.500</td>\n",
       "      <td>7.500</td>\n",
       "      <td>11.667</td>\n",
       "      <td>0.000</td>\n",
       "      <td>...</td>\n",
       "      <td>1.0</td>\n",
       "      <td>0.0</td>\n",
       "      <td>0.0</td>\n",
       "      <td>1.0</td>\n",
       "      <td>0.0</td>\n",
       "      <td>0.0</td>\n",
       "      <td>0.0</td>\n",
       "      <td>1.0</td>\n",
       "      <td>1.0</td>\n",
       "      <td>0.0</td>\n",
       "    </tr>\n",
       "    <tr>\n",
       "      <th>4</th>\n",
       "      <td>1a2y</td>\n",
       "      <td>3.448</td>\n",
       "      <td>5.172</td>\n",
       "      <td>4.310</td>\n",
       "      <td>6.034</td>\n",
       "      <td>1.724</td>\n",
       "      <td>2.586</td>\n",
       "      <td>6.034</td>\n",
       "      <td>10.345</td>\n",
       "      <td>0.862</td>\n",
       "      <td>...</td>\n",
       "      <td>0.0</td>\n",
       "      <td>0.0</td>\n",
       "      <td>0.0</td>\n",
       "      <td>1.0</td>\n",
       "      <td>0.0</td>\n",
       "      <td>0.0</td>\n",
       "      <td>0.0</td>\n",
       "      <td>1.0</td>\n",
       "      <td>1.0</td>\n",
       "      <td>0.0</td>\n",
       "    </tr>\n",
       "  </tbody>\n",
       "</table>\n",
       "<p>5 rows × 3553 columns</p>\n",
       "</div>"
      ],
      "text/plain": [
       "  Ab_ID      0      1      2      3      4      5      6       7      8  ...  \\\n",
       "0  12e8  7.500  3.333  2.500  5.833  1.667  5.833  5.833   9.167  1.667  ...   \n",
       "1  15c8  9.244  0.000  3.361  5.882  1.681  4.202  6.723   8.403  2.521  ...   \n",
       "2  1a0q  5.882  1.681  3.361  5.042  1.681  5.882  5.042   9.244  1.681  ...   \n",
       "3  1a14  6.667  2.500  4.167  5.000  1.667  2.500  7.500  11.667  0.000  ...   \n",
       "4  1a2y  3.448  5.172  4.310  6.034  1.724  2.586  6.034  10.345  0.862  ...   \n",
       "\n",
       "   19690  19691  19697  19698  19702  19721  19725  19735  19739  19741  \n",
       "0    1.0    1.0    0.0    1.0    0.0    0.0    0.0    1.0    1.0    0.0  \n",
       "1    1.0    0.0    1.0    0.0    0.0    0.0    1.0    1.0    0.0    0.0  \n",
       "2    0.0    0.0    0.0    1.0    0.0    1.0    0.0    0.0    1.0    0.0  \n",
       "3    1.0    0.0    0.0    1.0    0.0    0.0    0.0    1.0    1.0    0.0  \n",
       "4    0.0    0.0    0.0    1.0    0.0    0.0    0.0    1.0    1.0    0.0  \n",
       "\n",
       "[5 rows x 3553 columns]"
      ]
     },
     "execution_count": 24,
     "metadata": {},
     "output_type": "execute_result"
    }
   ],
   "source": [
    "# 10% of 2409 rows:\n",
    "threshold = 0.1 * 2409\n",
    "print(threshold)\n",
    "filtered = chen_feat.loc[:, nonzero >= threshold]\n",
    "filtered.head()"
   ]
  },
  {
   "cell_type": "code",
   "execution_count": 26,
   "id": "cdad11c4-ee96-40a4-b04c-e5af6dcc9dae",
   "metadata": {},
   "outputs": [],
   "source": [
    "filtered.to_feather(path.join(DATA_DIR, \"pybiomed_filtered/chen_data_10_perc_nonzero.ftr\"))"
   ]
  },
  {
   "cell_type": "markdown",
   "id": "3b1b4f61-edd7-4416-8f80-4e25161637e0",
   "metadata": {},
   "source": [
    "# Reduce dimensions by PCA"
   ]
  },
  {
   "cell_type": "code",
   "execution_count": 5,
   "id": "fae08776-9116-423e-a465-95d6b5ad809a",
   "metadata": {},
   "outputs": [
    {
     "data": {
      "image/png": "[encoded data removed]",
      "text/plain": [
       "<Figure size 432x288 with 1 Axes>"
      ]
     },
     "metadata": {
      "needs_background": "light"
     },
     "output_type": "display_data"
    }
   ],
   "source": [
    "pca = PCA(n_components=10)\n",
    "X_pca = pca.fit_transform(chen_feat.drop(\"Ab_ID\", axis=1))\n",
    "\n",
    "exp_var_pca = pca.explained_variance_ratio_\n",
    "cum_sum = np.cumsum(exp_var_pca)\n",
    "\n",
    "plt.bar(range(0,len(exp_var_pca)), exp_var_pca, alpha=0.5, align='center', label='Individual explained variance')\n",
    "plt.step(range(0,len(cum_sum)), cum_sum, where='mid',label='Cumulative explained variance')\n",
    "plt.ylabel('Explained variance ratio')\n",
    "plt.xlabel('Principal component index')\n",
    "plt.legend(loc='best')\n",
    "plt.tight_layout()\n",
    "plt.show()"
   ]
  },
  {
   "cell_type": "code",
   "execution_count": 6,
   "id": "d553bb4b-fbc4-4f67-8670-c54a97d2dcb6",
   "metadata": {},
   "outputs": [
    {
     "data": {
      "text/plain": [
       "array([[  6.2037782 , -11.58641193, -23.35567703, ...,  -0.39074406,\n",
       "         -6.59316661,   2.00442177],\n",
       "       [-32.84981906,  -0.55541051, -28.03101121, ...,  14.23575111,\n",
       "        -10.21924544,  11.80582251],\n",
       "       [ -1.93322566,   3.28861357, -30.91744879, ...,  14.14996917,\n",
       "         -6.95643712, -11.92685339],\n",
       "       ...,\n",
       "       [ -3.81336383, -23.49084995,   9.57136022, ...,  -8.8361705 ,\n",
       "         -4.08739309,  13.96164527],\n",
       "       [-29.53276595,  29.55247746,  86.30631437, ...,  13.35046313,\n",
       "         30.21082476,   9.71346065],\n",
       "       [ 30.59407927, -10.71439013,  12.51837682, ..., -16.97071337,\n",
       "          0.10189495,  17.48252828]])"
      ]
     },
     "execution_count": 6,
     "metadata": {},
     "output_type": "execute_result"
    }
   ],
   "source": [
    "X_pca"
   ]
  },
  {
   "cell_type": "code",
   "execution_count": 9,
   "id": "e866c5ef-9c84-4cbc-a29b-36beb1345b9e",
   "metadata": {},
   "outputs": [],
   "source": [
    "pca = PCA()\n",
    "X_pca = pca.fit_transform(chen_feat.drop(\"Ab_ID\", axis=1))\n",
    "\n",
    "exp_var_pca = pca.explained_variance_ratio_\n",
    "cum_sum = np.cumsum(exp_var_pca)"
   ]
  },
  {
   "cell_type": "code",
   "execution_count": 10,
   "id": "cad97916-248a-470b-be59-314cc054528c",
   "metadata": {},
   "outputs": [
    {
     "data": {
      "text/plain": [
       "array([0.11740352, 0.20736553, 0.28263343, ..., 1.        , 1.        ,\n",
       "       1.        ])"
      ]
     },
     "execution_count": 10,
     "metadata": {},
     "output_type": "execute_result"
    }
   ],
   "source": [
    "cum_sum"
   ]
  },
  {
   "cell_type": "code",
   "execution_count": 14,
   "id": "9ad29da4-8f0b-4a8d-acd5-52401c6d8461",
   "metadata": {},
   "outputs": [
    {
     "data": {
      "text/plain": [
       "41"
      ]
     },
     "execution_count": 14,
     "metadata": {},
     "output_type": "execute_result"
    }
   ],
   "source": [
    "np.where(cum_sum >= 0.8)[0][0]"
   ]
  },
  {
   "cell_type": "code",
   "execution_count": 15,
   "id": "e832e0ea-7a91-4db1-9eec-3c6b2886fb97",
   "metadata": {},
   "outputs": [
    {
     "data": {
      "text/plain": [
       "86"
      ]
     },
     "execution_count": 15,
     "metadata": {},
     "output_type": "execute_result"
    }
   ],
   "source": [
    "np.where(cum_sum >= 0.9)[0][0]"
   ]
  },
  {
   "cell_type": "markdown",
   "id": "29eb65bd-087d-4b13-bc69-47ed1a27ebe3",
   "metadata": {},
   "source": [
    "Cut-off at 90% explained variance"
   ]
  },
  {
   "cell_type": "code",
   "execution_count": 24,
   "id": "5bd91227-0b04-4f4e-832a-4c7b06542c79",
   "metadata": {},
   "outputs": [
    {
     "data": {
      "text/html": [
       "<div>\n",
       "<style scoped>\n",
       "    .dataframe tbody tr th:only-of-type {\n",
       "        vertical-align: middle;\n",
       "    }\n",
       "\n",
       "    .dataframe tbody tr th {\n",
       "        vertical-align: top;\n",
       "    }\n",
       "\n",
       "    .dataframe thead th {\n",
       "        text-align: right;\n",
       "    }\n",
       "</style>\n",
       "<table border=\"1\" class=\"dataframe\">\n",
       "  <thead>\n",
       "    <tr style=\"text-align: right;\">\n",
       "      <th></th>\n",
       "      <th>Ab_ID</th>\n",
       "      <th>0</th>\n",
       "      <th>1</th>\n",
       "      <th>2</th>\n",
       "      <th>3</th>\n",
       "      <th>4</th>\n",
       "      <th>5</th>\n",
       "      <th>6</th>\n",
       "      <th>7</th>\n",
       "      <th>8</th>\n",
       "      <th>...</th>\n",
       "      <th>77</th>\n",
       "      <th>78</th>\n",
       "      <th>79</th>\n",
       "      <th>80</th>\n",
       "      <th>81</th>\n",
       "      <th>82</th>\n",
       "      <th>83</th>\n",
       "      <th>84</th>\n",
       "      <th>85</th>\n",
       "      <th>86</th>\n",
       "    </tr>\n",
       "  </thead>\n",
       "  <tbody>\n",
       "    <tr>\n",
       "      <th>0</th>\n",
       "      <td>12e8</td>\n",
       "      <td>6.203778</td>\n",
       "      <td>-11.586412</td>\n",
       "      <td>-23.355678</td>\n",
       "      <td>25.305691</td>\n",
       "      <td>-22.606243</td>\n",
       "      <td>-9.194142</td>\n",
       "      <td>-1.772352</td>\n",
       "      <td>-0.390856</td>\n",
       "      <td>-6.586966</td>\n",
       "      <td>...</td>\n",
       "      <td>-0.019205</td>\n",
       "      <td>-3.990987</td>\n",
       "      <td>2.127482</td>\n",
       "      <td>-6.027751</td>\n",
       "      <td>2.545503</td>\n",
       "      <td>-1.227846</td>\n",
       "      <td>-0.396607</td>\n",
       "      <td>0.997742</td>\n",
       "      <td>0.841067</td>\n",
       "      <td>0.419024</td>\n",
       "    </tr>\n",
       "    <tr>\n",
       "      <th>1</th>\n",
       "      <td>15c8</td>\n",
       "      <td>-32.849819</td>\n",
       "      <td>-0.555410</td>\n",
       "      <td>-28.031012</td>\n",
       "      <td>21.804202</td>\n",
       "      <td>41.297370</td>\n",
       "      <td>13.561593</td>\n",
       "      <td>-17.313879</td>\n",
       "      <td>14.234665</td>\n",
       "      <td>-10.216319</td>\n",
       "      <td>...</td>\n",
       "      <td>-2.688147</td>\n",
       "      <td>-10.326772</td>\n",
       "      <td>3.697856</td>\n",
       "      <td>-5.032671</td>\n",
       "      <td>7.632122</td>\n",
       "      <td>-1.667724</td>\n",
       "      <td>-2.359591</td>\n",
       "      <td>4.982235</td>\n",
       "      <td>-0.792426</td>\n",
       "      <td>1.395539</td>\n",
       "    </tr>\n",
       "    <tr>\n",
       "      <th>2</th>\n",
       "      <td>1a0q</td>\n",
       "      <td>-1.933226</td>\n",
       "      <td>3.288613</td>\n",
       "      <td>-30.917447</td>\n",
       "      <td>-16.036783</td>\n",
       "      <td>-11.761531</td>\n",
       "      <td>-9.616267</td>\n",
       "      <td>-11.904319</td>\n",
       "      <td>14.150297</td>\n",
       "      <td>-6.956475</td>\n",
       "      <td>...</td>\n",
       "      <td>-6.554534</td>\n",
       "      <td>7.609523</td>\n",
       "      <td>2.582209</td>\n",
       "      <td>0.766134</td>\n",
       "      <td>0.939223</td>\n",
       "      <td>-3.294344</td>\n",
       "      <td>1.389478</td>\n",
       "      <td>-3.515518</td>\n",
       "      <td>-3.637572</td>\n",
       "      <td>0.209021</td>\n",
       "    </tr>\n",
       "    <tr>\n",
       "      <th>3</th>\n",
       "      <td>1a14</td>\n",
       "      <td>-17.473389</td>\n",
       "      <td>-27.456810</td>\n",
       "      <td>-11.750233</td>\n",
       "      <td>42.275745</td>\n",
       "      <td>-12.391351</td>\n",
       "      <td>1.259343</td>\n",
       "      <td>33.163444</td>\n",
       "      <td>18.158039</td>\n",
       "      <td>-0.091022</td>\n",
       "      <td>...</td>\n",
       "      <td>-0.470343</td>\n",
       "      <td>12.880582</td>\n",
       "      <td>-0.052809</td>\n",
       "      <td>1.833907</td>\n",
       "      <td>1.954641</td>\n",
       "      <td>1.596194</td>\n",
       "      <td>6.388072</td>\n",
       "      <td>5.018694</td>\n",
       "      <td>11.108835</td>\n",
       "      <td>1.345592</td>\n",
       "    </tr>\n",
       "    <tr>\n",
       "      <th>4</th>\n",
       "      <td>1a2y</td>\n",
       "      <td>2.406609</td>\n",
       "      <td>-45.422375</td>\n",
       "      <td>34.694564</td>\n",
       "      <td>-34.529390</td>\n",
       "      <td>42.759314</td>\n",
       "      <td>39.312483</td>\n",
       "      <td>23.661636</td>\n",
       "      <td>21.036321</td>\n",
       "      <td>-13.455115</td>\n",
       "      <td>...</td>\n",
       "      <td>4.352918</td>\n",
       "      <td>0.079762</td>\n",
       "      <td>0.791069</td>\n",
       "      <td>1.620226</td>\n",
       "      <td>-5.435064</td>\n",
       "      <td>1.751779</td>\n",
       "      <td>-0.167899</td>\n",
       "      <td>-0.346709</td>\n",
       "      <td>-5.155217</td>\n",
       "      <td>0.395462</td>\n",
       "    </tr>\n",
       "  </tbody>\n",
       "</table>\n",
       "<p>5 rows × 88 columns</p>\n",
       "</div>"
      ],
      "text/plain": [
       "  Ab_ID          0          1          2          3          4          5  \\\n",
       "0  12e8   6.203778 -11.586412 -23.355678  25.305691 -22.606243  -9.194142   \n",
       "1  15c8 -32.849819  -0.555410 -28.031012  21.804202  41.297370  13.561593   \n",
       "2  1a0q  -1.933226   3.288613 -30.917447 -16.036783 -11.761531  -9.616267   \n",
       "3  1a14 -17.473389 -27.456810 -11.750233  42.275745 -12.391351   1.259343   \n",
       "4  1a2y   2.406609 -45.422375  34.694564 -34.529390  42.759314  39.312483   \n",
       "\n",
       "           6          7          8  ...        77         78        79  \\\n",
       "0  -1.772352  -0.390856  -6.586966  ... -0.019205  -3.990987  2.127482   \n",
       "1 -17.313879  14.234665 -10.216319  ... -2.688147 -10.326772  3.697856   \n",
       "2 -11.904319  14.150297  -6.956475  ... -6.554534   7.609523  2.582209   \n",
       "3  33.163444  18.158039  -0.091022  ... -0.470343  12.880582 -0.052809   \n",
       "4  23.661636  21.036321 -13.455115  ...  4.352918   0.079762  0.791069   \n",
       "\n",
       "         80        81        82        83        84         85        86  \n",
       "0 -6.027751  2.545503 -1.227846 -0.396607  0.997742   0.841067  0.419024  \n",
       "1 -5.032671  7.632122 -1.667724 -2.359591  4.982235  -0.792426  1.395539  \n",
       "2  0.766134  0.939223 -3.294344  1.389478 -3.515518  -3.637572  0.209021  \n",
       "3  1.833907  1.954641  1.596194  6.388072  5.018694  11.108835  1.345592  \n",
       "4  1.620226 -5.435064  1.751779 -0.167899 -0.346709  -5.155217  0.395462  \n",
       "\n",
       "[5 rows x 88 columns]"
      ]
     },
     "execution_count": 24,
     "metadata": {},
     "output_type": "execute_result"
    }
   ],
   "source": [
    "top_pc_vals = X_pca[:,:87]\n",
    "top_pc = pd.DataFrame(top_pc_vals)\n",
    "top_pc.insert(0, \"Ab_ID\", chen_feat[\"Ab_ID\"])\n",
    "top_pc.head()"
   ]
  },
  {
   "cell_type": "code",
   "execution_count": 26,
   "id": "0ba8f07b-6894-4a9f-bb1c-bd5abd5d64a0",
   "metadata": {},
   "outputs": [],
   "source": [
    "top_pc.columns = top_pc.columns.astype(str)\n",
    "top_pc.to_feather(path.join(DATA_DIR, \"pybiomed_filtered/chen_data_90_perc_variance.ftr\"))"
   ]
  },
  {
   "cell_type": "markdown",
   "id": "48dbda7d-712c-47f7-8aa8-1fa97ea0a5c2",
   "metadata": {},
   "source": [
    "# Remove outliers\n",
    "\n",
    "## First on original features"
   ]
  },
  {
   "cell_type": "code",
   "execution_count": 3,
   "id": "38dff8fc-b541-48a0-bb92-7ae265a4bc89",
   "metadata": {},
   "outputs": [],
   "source": [
    "import matplotlib.pyplot as plt\n",
    "from sklearn.ensemble import IsolationForest"
   ]
  },
  {
   "cell_type": "code",
   "execution_count": 28,
   "id": "f817be97-17b6-4b83-8246-c0bf6fc4e3ac",
   "metadata": {},
   "outputs": [],
   "source": [
    "clf = IsolationForest(random_state=42, n_estimators=300)\n",
    "clf.fit(chen_feat.drop(\"Ab_ID\", axis=1))\n",
    "preds = clf.predict(chen_feat.drop(\"Ab_ID\", axis=1))"
   ]
  },
  {
   "cell_type": "code",
   "execution_count": 29,
   "id": "148d0588-b06b-4dcd-9412-899b44c9c380",
   "metadata": {},
   "outputs": [
    {
     "data": {
      "text/plain": [
       "array([1, 1, 1, ..., 1, 1, 1])"
      ]
     },
     "execution_count": 29,
     "metadata": {},
     "output_type": "execute_result"
    }
   ],
   "source": [
    "preds"
   ]
  },
  {
   "cell_type": "markdown",
   "id": "5fa4c018-4ea1-4a4c-a34a-48b3074e52bc",
   "metadata": {},
   "source": [
    "All data points are classified as outliers..."
   ]
  },
  {
   "cell_type": "markdown",
   "id": "458ff311-8c60-4821-84ae-b84e850156ec",
   "metadata": {},
   "source": [
    "## Now on filtered data:"
   ]
  },
  {
   "cell_type": "code",
   "execution_count": 35,
   "id": "e657a1f6-58e9-47b9-bf46-33ab85666928",
   "metadata": {},
   "outputs": [],
   "source": [
    "filtered = pd.read_feather(path.join(DATA_DIR, \"pybiomed_filtered/chen_data_10_perc_nonzero.ftr\"))"
   ]
  },
  {
   "cell_type": "code",
   "execution_count": 36,
   "id": "c35c26b5-f25f-4c43-a975-10632e5fc039",
   "metadata": {},
   "outputs": [],
   "source": [
    "clf = IsolationForest(random_state=42, n_estimators=300)\n",
    "clf.fit(filtered.drop(\"Ab_ID\", axis=1))\n",
    "preds = clf.predict(filtered.drop(\"Ab_ID\", axis=1))"
   ]
  },
  {
   "cell_type": "code",
   "execution_count": 37,
   "id": "881aa9c9-5bcb-4774-a3fc-ae120708c3bb",
   "metadata": {},
   "outputs": [
    {
     "data": {
      "text/plain": [
       "array([1, 1, 1, ..., 1, 1, 1])"
      ]
     },
     "execution_count": 37,
     "metadata": {},
     "output_type": "execute_result"
    }
   ],
   "source": [
    "preds"
   ]
  },
  {
   "cell_type": "code",
   "execution_count": 39,
   "id": "70732cc3-d0d7-4380-a685-38a7eea49029",
   "metadata": {},
   "outputs": [
    {
     "data": {
      "text/plain": [
       "2389"
      ]
     },
     "execution_count": 39,
     "metadata": {},
     "output_type": "execute_result"
    }
   ],
   "source": [
    "preds.sum()"
   ]
  },
  {
   "cell_type": "code",
   "execution_count": 42,
   "id": "b884c2a8-d9f0-4ed3-9e71-82fd9b89b4d8",
   "metadata": {},
   "outputs": [
    {
     "data": {
      "text/plain": [
       "(array([ 665, 1236, 1631, 1745, 1752, 1774, 2216, 2217, 2218, 2220]),)"
      ]
     },
     "execution_count": 42,
     "metadata": {},
     "output_type": "execute_result"
    }
   ],
   "source": [
    "np.where(preds == -1)"
   ]
  },
  {
   "cell_type": "markdown",
   "id": "0d0c2b8f-84b2-482a-b44d-bf102a05be52",
   "metadata": {},
   "source": [
    "Here we have 10 outliers - this may be better."
   ]
  },
  {
   "cell_type": "code",
   "execution_count": 38,
   "id": "9015d5d5-b194-4858-9b5b-5501c8c2150d",
   "metadata": {},
   "outputs": [],
   "source": [
    "top_pc = pd.read_feather(path.join(DATA_DIR, \"pybiomed_filtered/chen_data_90_perc_variance.ftr\"))"
   ]
  },
  {
   "cell_type": "code",
   "execution_count": 43,
   "id": "02cbb857-8ee5-47ca-a112-c0ac67d62c85",
   "metadata": {},
   "outputs": [],
   "source": [
    "clf = IsolationForest(random_state=42, n_estimators=300)\n",
    "clf.fit(top_pc.drop(\"Ab_ID\", axis=1))\n",
    "preds = clf.predict(top_pc.drop(\"Ab_ID\", axis=1))"
   ]
  },
  {
   "cell_type": "code",
   "execution_count": 44,
   "id": "27c930b7-f442-47b2-8de7-2a39b01f5804",
   "metadata": {},
   "outputs": [
    {
     "data": {
      "text/plain": [
       "2361"
      ]
     },
     "execution_count": 44,
     "metadata": {},
     "output_type": "execute_result"
    }
   ],
   "source": [
    "preds.sum()"
   ]
  },
  {
   "cell_type": "code",
   "execution_count": 45,
   "id": "e2422f2d-bc57-43ba-9cc6-b8323ca49f6e",
   "metadata": {},
   "outputs": [
    {
     "data": {
      "text/plain": [
       "(array([ 113,  273,  392,  974,  987, 1150, 1190, 1223, 1224, 1617, 1752,\n",
       "        1882, 1883, 1884, 1915, 1952, 1985, 1986, 1987, 2097, 2160, 2340,\n",
       "        2358, 2361]),)"
      ]
     },
     "execution_count": 45,
     "metadata": {},
     "output_type": "execute_result"
    }
   ],
   "source": [
    "np.where(preds == -1)"
   ]
  },
  {
   "cell_type": "code",
   "execution_count": 48,
   "id": "09613c27-4594-4b21-833a-8e731d965edf",
   "metadata": {},
   "outputs": [
    {
     "data": {
      "text/plain": [
       "{1752}"
      ]
     },
     "execution_count": 48,
     "metadata": {},
     "output_type": "execute_result"
    }
   ],
   "source": [
    "set([ 665, 1236, 1631, 1745, 1752, 1774, 2216, 2217, 2218, 2220]).intersection(set([ 113,  273,  392,  974,  987, 1150, 1190, 1223, 1224, 1617, 1752,\n",
    "        1882, 1883, 1884, 1915, 1952, 1985, 1986, 1987, 2097, 2160, 2340,\n",
    "        2358, 2361]))"
   ]
  },
  {
   "cell_type": "markdown",
   "id": "f58c505d-8d97-4cb3-aa70-8f62d84af757",
   "metadata": {},
   "source": [
    "There is only one outlier common to these methods of detection :("
   ]
  },
  {
   "cell_type": "code",
   "execution_count": 51,
   "id": "ee08d7ca-4b13-4391-970e-214004266bde",
   "metadata": {},
   "outputs": [
    {
     "data": {
      "text/plain": [
       "'6b3d'"
      ]
     },
     "execution_count": 51,
     "metadata": {},
     "output_type": "execute_result"
    }
   ],
   "source": [
    "chen_data[\"Antibody_ID\"][2097]"
   ]
  },
  {
   "cell_type": "markdown",
   "id": "787859d4-672b-45d8-b23f-40d5b1ec7583",
   "metadata": {},
   "source": [
    "Crystal structure of bovine Fab A01\n",
    "\n",
    "It's possible that most other Abs are human/murine (the ones I checked were all mouse or human)"
   ]
  },
  {
   "cell_type": "markdown",
   "id": "6e6d8390-425f-4264-a066-98937dda12b8",
   "metadata": {},
   "source": [
    "### Get source organisms for all sequences.\n",
    "This is a bit tricky, since many of the PDB structures contain more than one polymer molecule"
   ]
  },
  {
   "cell_type": "code",
   "execution_count": null,
   "id": "05b5dc73-8034-4ee3-8010-20eaa39e5715",
   "metadata": {},
   "outputs": [],
   "source": [
    "import requests"
   ]
  },
  {
   "cell_type": "code",
   "execution_count": null,
   "id": "765a12a6-45ad-4922-b1a5-a622b5110f98",
   "metadata": {},
   "outputs": [],
   "source": [
    "def check_organism(pdb_id):\n",
    "    orgs = []\n",
    "    pdb_id = pdb_id.upper()\n",
    "    query = f\"https://data.rcsb.org/rest/v1/core/entry/{pdb_id}\"\n",
    "    entry = requests.get(query).json()\n",
    "    polymer_ids = entry[\"rcsb_entry_container_identifiers\"][\"polymer_entity_ids\"]\n",
    "    for polymer_id in polymer_ids:\n",
    "        query = f\"https://data.rcsb.org/rest/v1/core/polymer_entity/{pdb_id}/{polymer_id}\"\n",
    "        response = requests.get(query).json()\n",
    "        if \"rcsb_entity_source_organism\" in response:\n",
    "            organisms = response[\"rcsb_entity_source_organism\"]\n",
    "            for org in organisms:\n",
    "                if \"scientific_name\" not in org:\n",
    "                    continue\n",
    "                scientific_name = org[\"scientific_name\"]\n",
    "                orgs.append(scientific_name)\n",
    "        elif \"entity_src_gen\" in response:\n",
    "            organisms = response[\"entity_src_gen\"]\n",
    "            for org in organisms:\n",
    "                if \"pdbx_gene_src_scientific_name\" not in org:\n",
    "                    continue\n",
    "                scientific_name = org[\"pdbx_gene_src_scientific_name\"]\n",
    "                orgs.append(scientific_name)\n",
    "    return set(orgs)"
   ]
  },
  {
   "cell_type": "code",
   "execution_count": null,
   "id": "24bca5b8-b26a-403e-ae27-54265aa1ae34",
   "metadata": {},
   "outputs": [],
   "source": [
    "def wrapper_check_organism(pdb_id):\n",
    "    try:\n",
    "        return check_organism(pdb_id)\n",
    "    except KeyError as e:\n",
    "        print(pdb_id)\n",
    "        print(e)\n",
    "        return "
   ]
  },
  {
   "cell_type": "code",
   "execution_count": null,
   "id": "5db0b117-fb6c-4506-9d42-6fc74e9ec285",
   "metadata": {},
   "outputs": [],
   "source": [
    "chen_data[\"scient_organisms\"] = chen_data[\"Antibody_ID\"].apply(wrapper_check_organism)\n",
    "chen_data.head()"
   ]
  },
  {
   "cell_type": "code",
   "execution_count": null,
   "id": "5097a023-b339-4585-88bb-fe759174fdfd",
   "metadata": {},
   "outputs": [],
   "source": [
    "chen_data.to_csv(path.join(DATA_DIR, \"chen_data_with_scient_organism.csv\"), index=False)"
   ]
  },
  {
   "cell_type": "code",
   "execution_count": 5,
   "id": "74016f0d-313c-4b76-9030-ad2835e6622c",
   "metadata": {},
   "outputs": [],
   "source": [
    "def split_orgs(orgs):\n",
    "    orgs = orgs[1:-1]\n",
    "    org_list = orgs.split(',')\n",
    "    org_list = [org.replace(\"'\", \"\").strip() for org in org_list]\n",
    "    return org_list"
   ]
  },
  {
   "cell_type": "code",
   "execution_count": 6,
   "id": "0878e7ae-709a-452a-b15c-53662d38ecb7",
   "metadata": {},
   "outputs": [
    {
     "data": {
      "text/html": [
       "<div>\n",
       "<style scoped>\n",
       "    .dataframe tbody tr th:only-of-type {\n",
       "        vertical-align: middle;\n",
       "    }\n",
       "\n",
       "    .dataframe tbody tr th {\n",
       "        vertical-align: top;\n",
       "    }\n",
       "\n",
       "    .dataframe thead th {\n",
       "        text-align: right;\n",
       "    }\n",
       "</style>\n",
       "<table border=\"1\" class=\"dataframe\">\n",
       "  <thead>\n",
       "    <tr style=\"text-align: right;\">\n",
       "      <th></th>\n",
       "      <th>Antibody_ID</th>\n",
       "      <th>heavy</th>\n",
       "      <th>light</th>\n",
       "      <th>Y</th>\n",
       "      <th>scient_organisms</th>\n",
       "    </tr>\n",
       "  </thead>\n",
       "  <tbody>\n",
       "    <tr>\n",
       "      <th>0</th>\n",
       "      <td>12e8</td>\n",
       "      <td>EVQLQQSGAEVVRSGASVKLSCTASGFNIKDYYIHWVKQRPEKGLE...</td>\n",
       "      <td>DIVMTQSQKFMSTSVGDRVSITCKASQNVGTAVAWYQQKPGQSPKL...</td>\n",
       "      <td>0</td>\n",
       "      <td>[Mus musculus]</td>\n",
       "    </tr>\n",
       "    <tr>\n",
       "      <th>1</th>\n",
       "      <td>15c8</td>\n",
       "      <td>EVQLQQSGAELVKPGASVKLSCTASGFNIKDTYMHWVKQKPEQGLE...</td>\n",
       "      <td>DIVLTQSPAIMSASLGERVTMTCTASSSVSSSNLHWYQQKPGSSPK...</td>\n",
       "      <td>0</td>\n",
       "      <td>[Mus musculus]</td>\n",
       "    </tr>\n",
       "    <tr>\n",
       "      <th>2</th>\n",
       "      <td>1a0q</td>\n",
       "      <td>EVQLQESDAELVKPGASVKISCKASGYTFTDHVIHWVKQKPEQGLE...</td>\n",
       "      <td>DIELTQSPSSLSASLGGKVTITCKASQDIKKYIGWYQHKPGKQPRL...</td>\n",
       "      <td>1</td>\n",
       "      <td>[Mus musculus]</td>\n",
       "    </tr>\n",
       "    <tr>\n",
       "      <th>3</th>\n",
       "      <td>1a14</td>\n",
       "      <td>QVQLQQSGAELVKPGASVRMSCKASGYTFTNYNMYWVKQSPGQGLE...</td>\n",
       "      <td>DIELTQTTSSLSASLGDRVTISCRASQDISNYLNWYQQNPDGTVKL...</td>\n",
       "      <td>0</td>\n",
       "      <td>[Influenza A virus, Mus musculus]</td>\n",
       "    </tr>\n",
       "    <tr>\n",
       "      <th>4</th>\n",
       "      <td>1a2y</td>\n",
       "      <td>QVQLQESGPGLVAPSQSLSITCTVSGFSLTGYGVNWVRQPPGKGLE...</td>\n",
       "      <td>DIVLTQSPASLSASVGETVTITCRASGNIHNYLAWYQQKQGKSPQL...</td>\n",
       "      <td>0</td>\n",
       "      <td>[Gallus gallus, Mus musculus]</td>\n",
       "    </tr>\n",
       "  </tbody>\n",
       "</table>\n",
       "</div>"
      ],
      "text/plain": [
       "  Antibody_ID                                              heavy  \\\n",
       "0        12e8  EVQLQQSGAEVVRSGASVKLSCTASGFNIKDYYIHWVKQRPEKGLE...   \n",
       "1        15c8  EVQLQQSGAELVKPGASVKLSCTASGFNIKDTYMHWVKQKPEQGLE...   \n",
       "2        1a0q  EVQLQESDAELVKPGASVKISCKASGYTFTDHVIHWVKQKPEQGLE...   \n",
       "3        1a14  QVQLQQSGAELVKPGASVRMSCKASGYTFTNYNMYWVKQSPGQGLE...   \n",
       "4        1a2y  QVQLQESGPGLVAPSQSLSITCTVSGFSLTGYGVNWVRQPPGKGLE...   \n",
       "\n",
       "                                               light  Y  \\\n",
       "0  DIVMTQSQKFMSTSVGDRVSITCKASQNVGTAVAWYQQKPGQSPKL...  0   \n",
       "1  DIVLTQSPAIMSASLGERVTMTCTASSSVSSSNLHWYQQKPGSSPK...  0   \n",
       "2  DIELTQSPSSLSASLGGKVTITCKASQDIKKYIGWYQHKPGKQPRL...  1   \n",
       "3  DIELTQTTSSLSASLGDRVTISCRASQDISNYLNWYQQNPDGTVKL...  0   \n",
       "4  DIVLTQSPASLSASVGETVTITCRASGNIHNYLAWYQQKQGKSPQL...  0   \n",
       "\n",
       "                    scient_organisms  \n",
       "0                     [Mus musculus]  \n",
       "1                     [Mus musculus]  \n",
       "2                     [Mus musculus]  \n",
       "3  [Influenza A virus, Mus musculus]  \n",
       "4      [Gallus gallus, Mus musculus]  "
      ]
     },
     "execution_count": 6,
     "metadata": {},
     "output_type": "execute_result"
    }
   ],
   "source": [
    "chen_data = pd.read_csv(path.join(DATA_DIR, \"chen_data_with_scient_organism.csv\"))\n",
    "chen_data[\"scient_organisms\"] = chen_data[\"scient_organisms\"].dropna().apply(split_orgs)\n",
    "chen_data.head()"
   ]
  },
  {
   "cell_type": "code",
   "execution_count": 7,
   "id": "8e2e9ffb-34fa-4fd0-9869-efe51ab5e805",
   "metadata": {},
   "outputs": [
    {
     "data": {
      "text/plain": [
       "16"
      ]
     },
     "execution_count": 7,
     "metadata": {},
     "output_type": "execute_result"
    }
   ],
   "source": [
    "chen_data[\"scient_organisms\"].isna().sum()"
   ]
  },
  {
   "cell_type": "code",
   "execution_count": 23,
   "id": "c48cc7de-450d-457a-8a0e-64274ec5db95",
   "metadata": {},
   "outputs": [
    {
     "data": {
      "text/plain": [
       "1    1360\n",
       "2     964\n",
       "3      58\n",
       "4       9\n",
       "5       2\n",
       "Name: scient_organisms, dtype: int64"
      ]
     },
     "execution_count": 23,
     "metadata": {},
     "output_type": "execute_result"
    }
   ],
   "source": [
    "chen_data[\"scient_organisms\"].dropna().apply(len).value_counts()"
   ]
  },
  {
   "cell_type": "code",
   "execution_count": 66,
   "id": "97156e5d-f152-4614-ae79-4aa8d35d1c51",
   "metadata": {},
   "outputs": [],
   "source": [
    "def filter_by_organism(org_list):\n",
    "   # if not np.isnan(org_list):\n",
    "    #    return None\n",
    "    if type(org_list) == list:\n",
    "        org_list = [org.lower() for org in org_list]\n",
    "        if \"homo sapiens\" in org_list or \"mus musculus\" in org_list:\n",
    "            return True\n",
    "        return False\n",
    "    return None"
   ]
  },
  {
   "cell_type": "code",
   "execution_count": 67,
   "id": "7b6a4fab-4681-4ee2-b299-c9de5ebbe2f1",
   "metadata": {},
   "outputs": [
    {
     "data": {
      "text/plain": [
       "2300"
      ]
     },
     "execution_count": 67,
     "metadata": {},
     "output_type": "execute_result"
    }
   ],
   "source": [
    "correct_org = chen_data[\"scient_organisms\"].apply(filter_by_organism)\n",
    "correct_org.sum()"
   ]
  },
  {
   "cell_type": "code",
   "execution_count": 68,
   "id": "1f703224-480d-4f2d-adee-b5f66836acbc",
   "metadata": {},
   "outputs": [
    {
     "data": {
      "text/plain": [
       "16"
      ]
     },
     "execution_count": 68,
     "metadata": {},
     "output_type": "execute_result"
    }
   ],
   "source": [
    "correct_org.isna().sum()"
   ]
  },
  {
   "cell_type": "code",
   "execution_count": 69,
   "id": "06187897-b3b2-4195-adc9-7bf11a7b2a1e",
   "metadata": {},
   "outputs": [
    {
     "data": {
      "text/plain": [
       "-2301"
      ]
     },
     "execution_count": 69,
     "metadata": {},
     "output_type": "execute_result"
    }
   ],
   "source": []
  },
  {
   "cell_type": "markdown",
   "id": "be060e80-3c9d-48cb-ad01-45f5dbf98b5e",
   "metadata": {},
   "source": [
    "93 PDB structures don't have human or mouse among the source organisms, organisms for 16 structures were not retrieved correctly."
   ]
  },
  {
   "cell_type": "markdown",
   "id": "d23ecba0-5b20-4afe-b8b9-384550e17852",
   "metadata": {},
   "source": [
    "### First set of outliers"
   ]
  },
  {
   "cell_type": "code",
   "execution_count": 9,
   "id": "5d152a54-73bc-472b-96c9-34174eb18168",
   "metadata": {},
   "outputs": [
    {
     "name": "stdout",
     "output_type": "stream",
     "text": [
      "Antibody_ID                   2xqb\n",
      "scient_organisms    [Homo sapiens]\n",
      "Name: 665, dtype: object\n",
      "Antibody_ID                 4k3d\n",
      "scient_organisms    [Bos taurus]\n",
      "Name: 1236, dtype: object\n",
      "Antibody_ID                 5e99\n",
      "scient_organisms    [Bos taurus]\n",
      "Name: 1631, dtype: object\n",
      "Antibody_ID                 5ihu\n",
      "scient_organisms    [Bos taurus]\n",
      "Name: 1745, dtype: object\n",
      "Antibody_ID                 5ilt\n",
      "scient_organisms    [Bos taurus]\n",
      "Name: 1752, dtype: object\n",
      "Antibody_ID                   5jxa\n",
      "scient_organisms    [Homo sapiens]\n",
      "Name: 1774, dtype: object\n",
      "Antibody_ID                 6e9g\n",
      "scient_organisms    [Bos taurus]\n",
      "Name: 2216, dtype: object\n",
      "Antibody_ID                 6e9h\n",
      "scient_organisms    [Bos taurus]\n",
      "Name: 2217, dtype: object\n",
      "Antibody_ID                 6e9i\n",
      "scient_organisms    [Bos taurus]\n",
      "Name: 2218, dtype: object\n",
      "Antibody_ID                 6e9u\n",
      "scient_organisms    [Bos taurus]\n",
      "Name: 2220, dtype: object\n"
     ]
    }
   ],
   "source": [
    "outliers = [ 665, 1236, 1631, 1745, 1752, 1774, 2216, 2217, 2218, 2220]\n",
    "for outlier in outliers:\n",
    "    print(chen_data.iloc[outlier][[\"Antibody_ID\", \"scient_organisms\"]])"
   ]
  },
  {
   "cell_type": "markdown",
   "id": "ac92dfe7-1044-422c-b3e7-e1c197d735a1",
   "metadata": {},
   "source": [
    "### Second set of outliers"
   ]
  },
  {
   "cell_type": "code",
   "execution_count": 10,
   "id": "e7871dba-05e3-4f75-805c-f0666b8e0ffb",
   "metadata": {},
   "outputs": [
    {
     "name": "stdout",
     "output_type": "stream",
     "text": [
      "Antibody_ID                   1fl3\n",
      "scient_organisms    [Mus musculus]\n",
      "Name: 113, dtype: object\n",
      "Antibody_ID                   1nfd\n",
      "scient_organisms    [Mus musculus]\n",
      "Name: 273, dtype: object\n",
      "Antibody_ID                   1ub6\n",
      "scient_organisms    [Mus musculus]\n",
      "Name: 392, dtype: object\n",
      "Antibody_ID                   3rpi\n",
      "scient_organisms    [Homo sapiens]\n",
      "Name: 974, dtype: object\n",
      "Antibody_ID                                                   3se9\n",
      "scient_organisms    [Human immunodeficiency virus 1, Homo sapiens]\n",
      "Name: 987, dtype: object\n",
      "Antibody_ID                   4gw4\n",
      "scient_organisms    [Homo sapiens]\n",
      "Name: 1150, dtype: object\n",
      "Antibody_ID                                                 4i3s\n",
      "scient_organisms    [Homo sapiens, Human Immunodeficiency Virus]\n",
      "Name: 1190, dtype: object\n",
      "Antibody_ID                                                   4jpv\n",
      "scient_organisms    [Homo sapiens, HUMAN IMMUNODEFICIENCY VIRUS 1]\n",
      "Name: 1223, dtype: object\n",
      "Antibody_ID                                                   4jpw\n",
      "scient_organisms    [Homo sapiens, HUMAN IMMUNODEFICIENCY VIRUS 1]\n",
      "Name: 1224, dtype: object\n",
      "Antibody_ID                                                 5dsc\n",
      "scient_organisms    [synthetic construct, Oryctolagus cuniculus]\n",
      "Name: 1617, dtype: object\n",
      "Antibody_ID                 5ilt\n",
      "scient_organisms    [Bos taurus]\n",
      "Name: 1752, dtype: object\n",
      "Antibody_ID                                                   5te4\n",
      "scient_organisms    [Human immunodeficiency virus 1, Homo sapiens]\n",
      "Name: 1882, dtype: object\n",
      "Antibody_ID                                                   5te6\n",
      "scient_organisms    [Human immunodeficiency virus 1, Homo sapiens]\n",
      "Name: 1883, dtype: object\n",
      "Antibody_ID                                                   5te7\n",
      "scient_organisms    [Homo sapiens, Human immunodeficiency virus 1]\n",
      "Name: 1884, dtype: object\n",
      "Antibody_ID                   5u3p\n",
      "scient_organisms    [Homo sapiens]\n",
      "Name: 1915, dtype: object\n",
      "Antibody_ID                    5vf6\n",
      "scient_organisms    [Gallus gallus]\n",
      "Name: 1952, dtype: object\n",
      "Antibody_ID                                        5w3e\n",
      "scient_organisms    [Human rhinovirus 14, Mus musculus]\n",
      "Name: 1985, dtype: object\n",
      "Antibody_ID                                        5w3l\n",
      "scient_organisms    [Human rhinovirus 14, Mus musculus]\n",
      "Name: 1986, dtype: object\n",
      "Antibody_ID                                        5w3m\n",
      "scient_organisms    [Human rhinovirus 14, Mus musculus]\n",
      "Name: 1987, dtype: object\n",
      "Antibody_ID                   6b3d\n",
      "scient_organisms    [Homo sapiens]\n",
      "Name: 2097, dtype: object\n",
      "Antibody_ID                                                      6cez\n",
      "scient_organisms    [Human immunodeficiency virus 1, Oryctolagus c...\n",
      "Name: 2160, dtype: object\n",
      "Antibody_ID                                                   6muf\n",
      "scient_organisms    [Human immunodeficiency virus 1, Homo sapiens]\n",
      "Name: 2340, dtype: object\n",
      "Antibody_ID                                                   6nm6\n",
      "scient_organisms    [Human immunodeficiency virus 1, Homo sapiens]\n",
      "Name: 2358, dtype: object\n",
      "Antibody_ID                   6nmt\n",
      "scient_organisms    [Homo sapiens]\n",
      "Name: 2361, dtype: object\n"
     ]
    }
   ],
   "source": [
    "outliers = [ 113,  273,  392,  974,  987, 1150, 1190, 1223, 1224, 1617, 1752,\n",
    "        1882, 1883, 1884, 1915, 1952, 1985, 1986, 1987, 2097, 2160, 2340,\n",
    "        2358, 2361]\n",
    "for outlier in outliers:\n",
    "    print(chen_data.iloc[outlier][[\"Antibody_ID\", \"scient_organisms\"]])"
   ]
  },
  {
   "cell_type": "code",
   "execution_count": null,
   "id": "87543058-e0d8-4061-8c2c-3c4d7b39ade8",
   "metadata": {},
   "outputs": [],
   "source": []
  }
 ],
 "metadata": {
  "kernelspec": {
   "display_name": "Python 3 (ipykernel)",
   "language": "python",
   "name": "python3"
  },
  "language_info": {
   "codemirror_mode": {
    "name": "ipython",
    "version": 3
   },
   "file_extension": ".py",
   "mimetype": "text/x-python",
   "name": "python",
   "nbconvert_exporter": "python",
   "pygments_lexer": "ipython3",
   "version": "3.7.10"
  }
 },
 "nbformat": 4,
 "nbformat_minor": 5
}
