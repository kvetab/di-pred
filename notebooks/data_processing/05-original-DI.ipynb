{
 "cells": [
  {
   "cell_type": "code",
   "execution_count": 1,
   "id": "57e55a1d-5c37-4765-801f-2386da842477",
   "metadata": {},
   "outputs": [],
   "source": [
    "import pandas as pd\n",
    "import matplotlib.pyplot as plt\n",
    "import seaborn as sns\n",
    "%matplotlib inline"
   ]
  },
  {
   "cell_type": "code",
   "execution_count": 2,
   "id": "9a6d822a-f2a0-4d35-baa0-869c0f216100",
   "metadata": {},
   "outputs": [
    {
     "data": {
      "text/html": [
       "<div>\n",
       "<style scoped>\n",
       "    .dataframe tbody tr th:only-of-type {\n",
       "        vertical-align: middle;\n",
       "    }\n",
       "\n",
       "    .dataframe tbody tr th {\n",
       "        vertical-align: top;\n",
       "    }\n",
       "\n",
       "    .dataframe thead th {\n",
       "        text-align: right;\n",
       "    }\n",
       "</style>\n",
       "<table border=\"1\" class=\"dataframe\">\n",
       "  <thead>\n",
       "    <tr style=\"text-align: right;\">\n",
       "      <th></th>\n",
       "      <th>Name</th>\n",
       "      <th>Developability Index (Fv)</th>\n",
       "    </tr>\n",
       "  </thead>\n",
       "  <tbody>\n",
       "    <tr>\n",
       "      <th>0</th>\n",
       "      <td>12e8_HL_clean</td>\n",
       "      <td>37.770218</td>\n",
       "    </tr>\n",
       "    <tr>\n",
       "      <th>1</th>\n",
       "      <td>15c8_HL_clean</td>\n",
       "      <td>41.746149</td>\n",
       "    </tr>\n",
       "    <tr>\n",
       "      <th>2</th>\n",
       "      <td>1a0q_HL_clean</td>\n",
       "      <td>33.594563</td>\n",
       "    </tr>\n",
       "    <tr>\n",
       "      <th>3</th>\n",
       "      <td>1a14_HL_clean</td>\n",
       "      <td>38.346819</td>\n",
       "    </tr>\n",
       "    <tr>\n",
       "      <th>4</th>\n",
       "      <td>1a2y_BA_clean</td>\n",
       "      <td>41.994771</td>\n",
       "    </tr>\n",
       "  </tbody>\n",
       "</table>\n",
       "</div>"
      ],
      "text/plain": [
       "            Name  Developability Index (Fv)\n",
       "0  12e8_HL_clean                  37.770218\n",
       "1  15c8_HL_clean                  41.746149\n",
       "2  1a0q_HL_clean                  33.594563\n",
       "3  1a14_HL_clean                  38.346819\n",
       "4  1a2y_BA_clean                  41.994771"
      ]
     },
     "execution_count": 2,
     "metadata": {},
     "output_type": "execute_result"
    }
   ],
   "source": [
    "di = pd.read_csv(\"https://raw.githubusercontent.com/yemilyz/bioviaclinic1920/aa69b4d98c1d98f810f45145ad09a5b4cae5e9a2/training_data/DI_out.csv\")\n",
    "di.head()"
   ]
  },
  {
   "cell_type": "code",
   "execution_count": 6,
   "id": "520975fd-7faa-4b93-ab54-8090b731b396",
   "metadata": {},
   "outputs": [
    {
     "data": {
      "text/plain": [
       "<AxesSubplot:xlabel='Developability Index (Fv)', ylabel='Count'>"
      ]
     },
     "execution_count": 6,
     "metadata": {},
     "output_type": "execute_result"
    },
    {
     "data": {
      "image/png": "[encoded data removed]",
      "text/plain": [
       "<Figure size 720x360 with 1 Axes>"
      ]
     },
     "metadata": {
      "needs_background": "light"
     },
     "output_type": "display_data"
    }
   ],
   "source": [
    "plt.figure(figsize=(10,5))\n",
    "sns.histplot(data=di, x=\"Developability Index (Fv)\", kde=True)"
   ]
  },
  {
   "cell_type": "code",
   "execution_count": 8,
   "id": "4ae455cd-3753-4bbb-9522-dc931eb364b6",
   "metadata": {},
   "outputs": [
    {
     "data": {
      "text/plain": [
       "Developability Index (Fv)    36.226359\n",
       "Name: 0.2, dtype: float64"
      ]
     },
     "execution_count": 8,
     "metadata": {},
     "output_type": "execute_result"
    }
   ],
   "source": [
    "di.quantile(q=0.2, axis=0)"
   ]
  },
  {
   "cell_type": "code",
   "execution_count": 9,
   "id": "5f6de7cd-10d0-4636-b736-1dec2a378ced",
   "metadata": {},
   "outputs": [],
   "source": [
    "di.to_csv(\"../../data/chen/original_di.csv\")"
   ]
  },
  {
   "cell_type": "code",
   "execution_count": null,
   "id": "ce3a9fdb-9330-4dea-80a8-14deed879de3",
   "metadata": {},
   "outputs": [],
   "source": []
  }
 ],
 "metadata": {
  "kernelspec": {
   "display_name": "Python 3 (ipykernel)",
   "language": "python",
   "name": "python3"
  },
  "language_info": {
   "codemirror_mode": {
    "name": "ipython",
    "version": 3
   },
   "file_extension": ".py",
   "mimetype": "text/x-python",
   "name": "python",
   "nbconvert_exporter": "python",
   "pygments_lexer": "ipython3",
   "version": "3.7.10"
  }
 },
 "nbformat": 4,
 "nbformat_minor": 5
}
