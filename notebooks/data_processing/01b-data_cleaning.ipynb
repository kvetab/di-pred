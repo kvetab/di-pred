{
 "cells": [
  {
   "cell_type": "code",
   "execution_count": 1,
   "id": "42d0ded0-b6a5-4c71-a926-d5c2f33a47ae",
   "metadata": {},
   "outputs": [],
   "source": [
    "import pandas as pd\n",
    "import numpy as np\n",
    "from os import path"
   ]
  },
  {
   "cell_type": "code",
   "execution_count": 2,
   "id": "9669eae9-53cc-4b4f-95c9-161ab26f3a72",
   "metadata": {},
   "outputs": [],
   "source": [
    "DATA_DIR = \"../../data\""
   ]
  },
  {
   "cell_type": "markdown",
   "id": "443ca046-dcf6-4b25-92fd-ab91b26e2a92",
   "metadata": {},
   "source": [
    "# SAbDab (Chen)"
   ]
  },
  {
   "cell_type": "code",
   "execution_count": 4,
   "id": "0d88c07b-a12e-4a9f-8f03-263cdf47213e",
   "metadata": {},
   "outputs": [
    {
     "data": {
      "text/html": [
       "<div>\n",
       "<style scoped>\n",
       "    .dataframe tbody tr th:only-of-type {\n",
       "        vertical-align: middle;\n",
       "    }\n",
       "\n",
       "    .dataframe tbody tr th {\n",
       "        vertical-align: top;\n",
       "    }\n",
       "\n",
       "    .dataframe thead th {\n",
       "        text-align: right;\n",
       "    }\n",
       "</style>\n",
       "<table border=\"1\" class=\"dataframe\">\n",
       "  <thead>\n",
       "    <tr style=\"text-align: right;\">\n",
       "      <th></th>\n",
       "      <th>Antibody_ID</th>\n",
       "      <th>heavy</th>\n",
       "      <th>light</th>\n",
       "      <th>Y</th>\n",
       "    </tr>\n",
       "  </thead>\n",
       "  <tbody>\n",
       "    <tr>\n",
       "      <th>0</th>\n",
       "      <td>12e8</td>\n",
       "      <td>EVQLQQSGAEVVRSGASVKLSCTASGFNIKDYYIHWVKQRPEKGLE...</td>\n",
       "      <td>DIVMTQSQKFMSTSVGDRVSITCKASQNVGTAVAWYQQKPGQSPKL...</td>\n",
       "      <td>0</td>\n",
       "    </tr>\n",
       "    <tr>\n",
       "      <th>1</th>\n",
       "      <td>15c8</td>\n",
       "      <td>EVQLQQSGAELVKPGASVKLSCTASGFNIKDTYMHWVKQKPEQGLE...</td>\n",
       "      <td>DIVLTQSPAIMSASLGERVTMTCTASSSVSSSNLHWYQQKPGSSPK...</td>\n",
       "      <td>0</td>\n",
       "    </tr>\n",
       "    <tr>\n",
       "      <th>2</th>\n",
       "      <td>1a0q</td>\n",
       "      <td>EVQLQESDAELVKPGASVKISCKASGYTFTDHVIHWVKQKPEQGLE...</td>\n",
       "      <td>DIELTQSPSSLSASLGGKVTITCKASQDIKKYIGWYQHKPGKQPRL...</td>\n",
       "      <td>1</td>\n",
       "    </tr>\n",
       "    <tr>\n",
       "      <th>3</th>\n",
       "      <td>1a14</td>\n",
       "      <td>QVQLQQSGAELVKPGASVRMSCKASGYTFTNYNMYWVKQSPGQGLE...</td>\n",
       "      <td>DIELTQTTSSLSASLGDRVTISCRASQDISNYLNWYQQNPDGTVKL...</td>\n",
       "      <td>0</td>\n",
       "    </tr>\n",
       "    <tr>\n",
       "      <th>4</th>\n",
       "      <td>1a2y</td>\n",
       "      <td>QVQLQESGPGLVAPSQSLSITCTVSGFSLTGYGVNWVRQPPGKGLE...</td>\n",
       "      <td>DIVLTQSPASLSASVGETVTITCRASGNIHNYLAWYQQKQGKSPQL...</td>\n",
       "      <td>0</td>\n",
       "    </tr>\n",
       "  </tbody>\n",
       "</table>\n",
       "</div>"
      ],
      "text/plain": [
       "  Antibody_ID                                              heavy  \\\n",
       "0        12e8  EVQLQQSGAEVVRSGASVKLSCTASGFNIKDYYIHWVKQRPEKGLE...   \n",
       "1        15c8  EVQLQQSGAELVKPGASVKLSCTASGFNIKDTYMHWVKQKPEQGLE...   \n",
       "2        1a0q  EVQLQESDAELVKPGASVKISCKASGYTFTDHVIHWVKQKPEQGLE...   \n",
       "3        1a14  QVQLQQSGAELVKPGASVRMSCKASGYTFTNYNMYWVKQSPGQGLE...   \n",
       "4        1a2y  QVQLQESGPGLVAPSQSLSITCTVSGFSLTGYGVNWVRQPPGKGLE...   \n",
       "\n",
       "                                               light  Y  \n",
       "0  DIVMTQSQKFMSTSVGDRVSITCKASQNVGTAVAWYQQKPGQSPKL...  0  \n",
       "1  DIVLTQSPAIMSASLGERVTMTCTASSSVSSSNLHWYQQKPGSSPK...  0  \n",
       "2  DIELTQSPSSLSASLGGKVTITCKASQDIKKYIGWYQHKPGKQPRL...  1  \n",
       "3  DIELTQTTSSLSASLGDRVTISCRASQDISNYLNWYQQNPDGTVKL...  0  \n",
       "4  DIVLTQSPASLSASVGETVTITCRASGNIHNYLAWYQQKQGKSPQL...  0  "
      ]
     },
     "execution_count": 4,
     "metadata": {},
     "output_type": "execute_result"
    }
   ],
   "source": [
    "chen_data = pd.read_csv(path.join(DATA_DIR, \"chen/chen_data.csv\"))\n",
    "chen_data.head()"
   ]
  },
  {
   "cell_type": "markdown",
   "id": "98267816-01cc-459d-87b8-e0e28870cc00",
   "metadata": {},
   "source": [
    "## Look for duplicates"
   ]
  },
  {
   "cell_type": "code",
   "execution_count": 13,
   "id": "d15d0922-f5a3-4ed0-9e78-9e3635f441aa",
   "metadata": {},
   "outputs": [
    {
     "data": {
      "text/html": [
       "<div>\n",
       "<style scoped>\n",
       "    .dataframe tbody tr th:only-of-type {\n",
       "        vertical-align: middle;\n",
       "    }\n",
       "\n",
       "    .dataframe tbody tr th {\n",
       "        vertical-align: top;\n",
       "    }\n",
       "\n",
       "    .dataframe thead th {\n",
       "        text-align: right;\n",
       "    }\n",
       "</style>\n",
       "<table border=\"1\" class=\"dataframe\">\n",
       "  <thead>\n",
       "    <tr style=\"text-align: right;\">\n",
       "      <th></th>\n",
       "      <th>Antibody_ID</th>\n",
       "      <th>heavy</th>\n",
       "      <th>light</th>\n",
       "      <th>Y</th>\n",
       "    </tr>\n",
       "  </thead>\n",
       "  <tbody>\n",
       "    <tr>\n",
       "      <th>13</th>\n",
       "      <td>1a6w</td>\n",
       "      <td>QVQLQQPGAELVKPGASVKLSCKASGYTFTSYWMHWVKQRPGRGLE...</td>\n",
       "      <td>AVVTQESALTTSPGETVTLTCRSSTGAVTTSNYANWVQEKPDHLFT...</td>\n",
       "      <td>0</td>\n",
       "    </tr>\n",
       "    <tr>\n",
       "      <th>33</th>\n",
       "      <td>1bbd</td>\n",
       "      <td>EVQLQQSGAELVRPGASVKLSCTTSGFNIKDIYIHWVKQRPEQGLE...</td>\n",
       "      <td>DIVMTQSPSSLTVTTGEKVTMTCKSSQSLLNSRTQKNYLTWYQQKP...</td>\n",
       "      <td>1</td>\n",
       "    </tr>\n",
       "    <tr>\n",
       "      <th>36</th>\n",
       "      <td>1bgx</td>\n",
       "      <td>EVQLQESGPGLVKPYQSLSLSCTVTGYSITSDYAWNWIRQFPGNKL...</td>\n",
       "      <td>DIQMTQSPAIMSASPGEKVTMTCSASSSVSYMYWYQQKPGSSPRLL...</td>\n",
       "      <td>0</td>\n",
       "    </tr>\n",
       "    <tr>\n",
       "      <th>43</th>\n",
       "      <td>1bvl</td>\n",
       "      <td>QVQLQESGPGLVRPSQTLSLTCTVSGFSLTGYGVNWVRQPPGRGLE...</td>\n",
       "      <td>DIQMTQSPSSLSASVGDRVTITCRASGNIHNYLAWYQQKPGKAPKL...</td>\n",
       "      <td>0</td>\n",
       "    </tr>\n",
       "    <tr>\n",
       "      <th>49</th>\n",
       "      <td>1c5c</td>\n",
       "      <td>QVQLLEPGTELVKPGASVKLSCRASGYSFTSYWMHWVKQRPGQGLE...</td>\n",
       "      <td>EIQLTQSPSSLSASLGERVSLTCRTSQEISGYLSWLQQKPDGTIKR...</td>\n",
       "      <td>0</td>\n",
       "    </tr>\n",
       "    <tr>\n",
       "      <th>...</th>\n",
       "      <td>...</td>\n",
       "      <td>...</td>\n",
       "      <td>...</td>\n",
       "      <td>...</td>\n",
       "    </tr>\n",
       "    <tr>\n",
       "      <th>2383</th>\n",
       "      <td>6pa0</td>\n",
       "      <td>QVQLQQPGAELVKPGASVKLSCKASGYTFTSDWIHWVKQRPGHGLE...</td>\n",
       "      <td>DILLTQSPAILSVSPGERVSFSCRASQSIGTDIHWYQQRTNGSPRL...</td>\n",
       "      <td>0</td>\n",
       "    </tr>\n",
       "    <tr>\n",
       "      <th>2386</th>\n",
       "      <td>6pe8</td>\n",
       "      <td>EVQLVESGGGLVKPGGSLRLSCAASGFTFSDYGMNWVRQAPGKGLE...</td>\n",
       "      <td>DIVMTQSPDSLAVSLGERATINCKSSQSLLNRGNQKNYLTWFQQKP...</td>\n",
       "      <td>0</td>\n",
       "    </tr>\n",
       "    <tr>\n",
       "      <th>2390</th>\n",
       "      <td>6phh</td>\n",
       "      <td>EVQLVESGGGLVQPGGSLRLSCVASGFTFSNYNMNWVRQAPGKGLE...</td>\n",
       "      <td>DIVMTQSPLSLPVTPGEPASISCRSSQSLLHNGYNYLDWYLQKPGQ...</td>\n",
       "      <td>0</td>\n",
       "    </tr>\n",
       "    <tr>\n",
       "      <th>2392</th>\n",
       "      <td>6pxh</td>\n",
       "      <td>QVQLQQSGGELVKPGASVKLSCKTSGFTFSSSYISWLKQKPGQSLE...</td>\n",
       "      <td>QLVLTQSPASLAVSLGQRATISCRASESVDNYGISFMNWFQQKPGQ...</td>\n",
       "      <td>0</td>\n",
       "    </tr>\n",
       "    <tr>\n",
       "      <th>2399</th>\n",
       "      <td>6qnk</td>\n",
       "      <td>DVQLVESGGGLVQPGGSRKLSCSASGFAFSSFGMHWVRQAPEKGLE...</td>\n",
       "      <td>DIVMTQATSSVPVTPGESVSISCRSSKSLLHSNGNTYLYWFLQRPG...</td>\n",
       "      <td>0</td>\n",
       "    </tr>\n",
       "  </tbody>\n",
       "</table>\n",
       "<p>817 rows × 4 columns</p>\n",
       "</div>"
      ],
      "text/plain": [
       "     Antibody_ID                                              heavy  \\\n",
       "13          1a6w  QVQLQQPGAELVKPGASVKLSCKASGYTFTSYWMHWVKQRPGRGLE...   \n",
       "33          1bbd  EVQLQQSGAELVRPGASVKLSCTTSGFNIKDIYIHWVKQRPEQGLE...   \n",
       "36          1bgx  EVQLQESGPGLVKPYQSLSLSCTVTGYSITSDYAWNWIRQFPGNKL...   \n",
       "43          1bvl  QVQLQESGPGLVRPSQTLSLTCTVSGFSLTGYGVNWVRQPPGRGLE...   \n",
       "49          1c5c  QVQLLEPGTELVKPGASVKLSCRASGYSFTSYWMHWVKQRPGQGLE...   \n",
       "...          ...                                                ...   \n",
       "2383        6pa0  QVQLQQPGAELVKPGASVKLSCKASGYTFTSDWIHWVKQRPGHGLE...   \n",
       "2386        6pe8  EVQLVESGGGLVKPGGSLRLSCAASGFTFSDYGMNWVRQAPGKGLE...   \n",
       "2390        6phh  EVQLVESGGGLVQPGGSLRLSCVASGFTFSNYNMNWVRQAPGKGLE...   \n",
       "2392        6pxh  QVQLQQSGGELVKPGASVKLSCKTSGFTFSSSYISWLKQKPGQSLE...   \n",
       "2399        6qnk  DVQLVESGGGLVQPGGSRKLSCSASGFAFSSFGMHWVRQAPEKGLE...   \n",
       "\n",
       "                                                  light  Y  \n",
       "13    AVVTQESALTTSPGETVTLTCRSSTGAVTTSNYANWVQEKPDHLFT...  0  \n",
       "33    DIVMTQSPSSLTVTTGEKVTMTCKSSQSLLNSRTQKNYLTWYQQKP...  1  \n",
       "36    DIQMTQSPAIMSASPGEKVTMTCSASSSVSYMYWYQQKPGSSPRLL...  0  \n",
       "43    DIQMTQSPSSLSASVGDRVTITCRASGNIHNYLAWYQQKPGKAPKL...  0  \n",
       "49    EIQLTQSPSSLSASLGERVSLTCRTSQEISGYLSWLQQKPDGTIKR...  0  \n",
       "...                                                 ... ..  \n",
       "2383  DILLTQSPAILSVSPGERVSFSCRASQSIGTDIHWYQQRTNGSPRL...  0  \n",
       "2386  DIVMTQSPDSLAVSLGERATINCKSSQSLLNRGNQKNYLTWFQQKP...  0  \n",
       "2390  DIVMTQSPLSLPVTPGEPASISCRSSQSLLHNGYNYLDWYLQKPGQ...  0  \n",
       "2392  QLVLTQSPASLAVSLGQRATISCRASESVDNYGISFMNWFQQKPGQ...  0  \n",
       "2399  DIVMTQATSSVPVTPGESVSISCRSSKSLLHSNGNTYLYWFLQRPG...  0  \n",
       "\n",
       "[817 rows x 4 columns]"
      ]
     },
     "execution_count": 13,
     "metadata": {},
     "output_type": "execute_result"
    }
   ],
   "source": [
    "chen_data[chen_data.duplicated([\"heavy\", \"light\"])]"
   ]
  },
  {
   "cell_type": "markdown",
   "id": "7312cc39-adef-4826-89d0-29676a1e6696",
   "metadata": {},
   "source": [
    "817 duplicated rows"
   ]
  },
  {
   "cell_type": "code",
   "execution_count": 6,
   "id": "06c5d4ad-7492-4359-a972-f796b75c0f88",
   "metadata": {},
   "outputs": [
    {
     "data": {
      "text/html": [
       "<div>\n",
       "<style scoped>\n",
       "    .dataframe tbody tr th:only-of-type {\n",
       "        vertical-align: middle;\n",
       "    }\n",
       "\n",
       "    .dataframe tbody tr th {\n",
       "        vertical-align: top;\n",
       "    }\n",
       "\n",
       "    .dataframe thead th {\n",
       "        text-align: right;\n",
       "    }\n",
       "</style>\n",
       "<table border=\"1\" class=\"dataframe\">\n",
       "  <thead>\n",
       "    <tr style=\"text-align: right;\">\n",
       "      <th></th>\n",
       "      <th>Antibody_ID</th>\n",
       "      <th>heavy</th>\n",
       "      <th>light</th>\n",
       "      <th>Y</th>\n",
       "    </tr>\n",
       "  </thead>\n",
       "  <tbody>\n",
       "    <tr>\n",
       "      <th>13</th>\n",
       "      <td>1a6w</td>\n",
       "      <td>QVQLQQPGAELVKPGASVKLSCKASGYTFTSYWMHWVKQRPGRGLE...</td>\n",
       "      <td>AVVTQESALTTSPGETVTLTCRSSTGAVTTSNYANWVQEKPDHLFT...</td>\n",
       "      <td>0</td>\n",
       "    </tr>\n",
       "    <tr>\n",
       "      <th>36</th>\n",
       "      <td>1bgx</td>\n",
       "      <td>EVQLQESGPGLVKPYQSLSLSCTVTGYSITSDYAWNWIRQFPGNKL...</td>\n",
       "      <td>DIQMTQSPAIMSASPGEKVTMTCSASSSVSYMYWYQQKPGSSPRLL...</td>\n",
       "      <td>0</td>\n",
       "    </tr>\n",
       "    <tr>\n",
       "      <th>43</th>\n",
       "      <td>1bvl</td>\n",
       "      <td>QVQLQESGPGLVRPSQTLSLTCTVSGFSLTGYGVNWVRQPPGRGLE...</td>\n",
       "      <td>DIQMTQSPSSLSASVGDRVTITCRASGNIHNYLAWYQQKPGKAPKL...</td>\n",
       "      <td>0</td>\n",
       "    </tr>\n",
       "    <tr>\n",
       "      <th>54</th>\n",
       "      <td>1cfn</td>\n",
       "      <td>QDQLQQSGAELVRPGASVKLSCKALGYIFTDYEIHWVKQTPVHGLE...</td>\n",
       "      <td>DIKMTQSPSSMYTSLGERVTITCKASQDINSFLTWFLQKPGKSPKT...</td>\n",
       "      <td>0</td>\n",
       "    </tr>\n",
       "    <tr>\n",
       "      <th>55</th>\n",
       "      <td>1cfq</td>\n",
       "      <td>QDQLQQSGAELVRPGASVKLSCKALGYIFTDYEIHWVKQTPVHGLE...</td>\n",
       "      <td>DIKMTQSPSSMYTSLGERVTITCKASQDINSFLTWFLQKPGKSPKT...</td>\n",
       "      <td>0</td>\n",
       "    </tr>\n",
       "    <tr>\n",
       "      <th>...</th>\n",
       "      <td>...</td>\n",
       "      <td>...</td>\n",
       "      <td>...</td>\n",
       "      <td>...</td>\n",
       "    </tr>\n",
       "    <tr>\n",
       "      <th>2383</th>\n",
       "      <td>6pa0</td>\n",
       "      <td>QVQLQQPGAELVKPGASVKLSCKASGYTFTSDWIHWVKQRPGHGLE...</td>\n",
       "      <td>DILLTQSPAILSVSPGERVSFSCRASQSIGTDIHWYQQRTNGSPRL...</td>\n",
       "      <td>0</td>\n",
       "    </tr>\n",
       "    <tr>\n",
       "      <th>2386</th>\n",
       "      <td>6pe8</td>\n",
       "      <td>EVQLVESGGGLVKPGGSLRLSCAASGFTFSDYGMNWVRQAPGKGLE...</td>\n",
       "      <td>DIVMTQSPDSLAVSLGERATINCKSSQSLLNRGNQKNYLTWFQQKP...</td>\n",
       "      <td>0</td>\n",
       "    </tr>\n",
       "    <tr>\n",
       "      <th>2390</th>\n",
       "      <td>6phh</td>\n",
       "      <td>EVQLVESGGGLVQPGGSLRLSCVASGFTFSNYNMNWVRQAPGKGLE...</td>\n",
       "      <td>DIVMTQSPLSLPVTPGEPASISCRSSQSLLHNGYNYLDWYLQKPGQ...</td>\n",
       "      <td>0</td>\n",
       "    </tr>\n",
       "    <tr>\n",
       "      <th>2392</th>\n",
       "      <td>6pxh</td>\n",
       "      <td>QVQLQQSGGELVKPGASVKLSCKTSGFTFSSSYISWLKQKPGQSLE...</td>\n",
       "      <td>QLVLTQSPASLAVSLGQRATISCRASESVDNYGISFMNWFQQKPGQ...</td>\n",
       "      <td>0</td>\n",
       "    </tr>\n",
       "    <tr>\n",
       "      <th>2399</th>\n",
       "      <td>6qnk</td>\n",
       "      <td>DVQLVESGGGLVQPGGSRKLSCSASGFAFSSFGMHWVRQAPEKGLE...</td>\n",
       "      <td>DIVMTQATSSVPVTPGESVSISCRSSKSLLHSNGNTYLYWFLQRPG...</td>\n",
       "      <td>0</td>\n",
       "    </tr>\n",
       "  </tbody>\n",
       "</table>\n",
       "<p>776 rows × 4 columns</p>\n",
       "</div>"
      ],
      "text/plain": [
       "     Antibody_ID                                              heavy  \\\n",
       "13          1a6w  QVQLQQPGAELVKPGASVKLSCKASGYTFTSYWMHWVKQRPGRGLE...   \n",
       "36          1bgx  EVQLQESGPGLVKPYQSLSLSCTVTGYSITSDYAWNWIRQFPGNKL...   \n",
       "43          1bvl  QVQLQESGPGLVRPSQTLSLTCTVSGFSLTGYGVNWVRQPPGRGLE...   \n",
       "54          1cfn  QDQLQQSGAELVRPGASVKLSCKALGYIFTDYEIHWVKQTPVHGLE...   \n",
       "55          1cfq  QDQLQQSGAELVRPGASVKLSCKALGYIFTDYEIHWVKQTPVHGLE...   \n",
       "...          ...                                                ...   \n",
       "2383        6pa0  QVQLQQPGAELVKPGASVKLSCKASGYTFTSDWIHWVKQRPGHGLE...   \n",
       "2386        6pe8  EVQLVESGGGLVKPGGSLRLSCAASGFTFSDYGMNWVRQAPGKGLE...   \n",
       "2390        6phh  EVQLVESGGGLVQPGGSLRLSCVASGFTFSNYNMNWVRQAPGKGLE...   \n",
       "2392        6pxh  QVQLQQSGGELVKPGASVKLSCKTSGFTFSSSYISWLKQKPGQSLE...   \n",
       "2399        6qnk  DVQLVESGGGLVQPGGSRKLSCSASGFAFSSFGMHWVRQAPEKGLE...   \n",
       "\n",
       "                                                  light  Y  \n",
       "13    AVVTQESALTTSPGETVTLTCRSSTGAVTTSNYANWVQEKPDHLFT...  0  \n",
       "36    DIQMTQSPAIMSASPGEKVTMTCSASSSVSYMYWYQQKPGSSPRLL...  0  \n",
       "43    DIQMTQSPSSLSASVGDRVTITCRASGNIHNYLAWYQQKPGKAPKL...  0  \n",
       "54    DIKMTQSPSSMYTSLGERVTITCKASQDINSFLTWFLQKPGKSPKT...  0  \n",
       "55    DIKMTQSPSSMYTSLGERVTITCKASQDINSFLTWFLQKPGKSPKT...  0  \n",
       "...                                                 ... ..  \n",
       "2383  DILLTQSPAILSVSPGERVSFSCRASQSIGTDIHWYQQRTNGSPRL...  0  \n",
       "2386  DIVMTQSPDSLAVSLGERATINCKSSQSLLNRGNQKNYLTWFQQKP...  0  \n",
       "2390  DIVMTQSPLSLPVTPGEPASISCRSSQSLLHNGYNYLDWYLQKPGQ...  0  \n",
       "2392  QLVLTQSPASLAVSLGQRATISCRASESVDNYGISFMNWFQQKPGQ...  0  \n",
       "2399  DIVMTQATSSVPVTPGESVSISCRSSKSLLHSNGNTYLYWFLQRPG...  0  \n",
       "\n",
       "[776 rows x 4 columns]"
      ]
     },
     "execution_count": 6,
     "metadata": {},
     "output_type": "execute_result"
    }
   ],
   "source": [
    "chen_data[chen_data.duplicated([\"heavy\", \"light\", \"Y\"])]"
   ]
  },
  {
   "cell_type": "code",
   "execution_count": 7,
   "id": "0842a4e1-1f13-41b6-9980-d1e57b7d537a",
   "metadata": {},
   "outputs": [
    {
     "data": {
      "text/plain": [
       "41"
      ]
     },
     "execution_count": 7,
     "metadata": {},
     "output_type": "execute_result"
    }
   ],
   "source": [
    "817-776"
   ]
  },
  {
   "cell_type": "markdown",
   "id": "59a3daac-7e20-4121-bb86-ff6d478c2015",
   "metadata": {},
   "source": [
    "41 of these have different labels."
   ]
  },
  {
   "cell_type": "markdown",
   "id": "0fc466df-7df7-4fbb-8a37-0554835e778b",
   "metadata": {},
   "source": [
    "## Data cleaning\n",
    "Remove all sequences with two different labels  \n",
    "For each other duplicate, remove one of the rows"
   ]
  },
  {
   "cell_type": "code",
   "execution_count": 10,
   "id": "8ba446c4-451a-4886-b8c9-f808396e370d",
   "metadata": {},
   "outputs": [
    {
     "data": {
      "text/plain": [
       "56"
      ]
     },
     "execution_count": 10,
     "metadata": {},
     "output_type": "execute_result"
    }
   ],
   "source": [
    "# all duplicated rows (both/all duplicates)\n",
    "dup = chen_data[chen_data.duplicated([\"heavy\", \"light\"], keep=False)]\n",
    "# all duplicated rows except for different labels\n",
    "dup_lab = chen_data[chen_data.duplicated([\"heavy\", \"light\", \"Y\"], keep=False)]\n",
    "# difference of the two = rows with mismatching labels\n",
    "mism = dup[~dup.index.isin(dup_lab.index)]\n",
    "len(mism)"
   ]
  },
  {
   "cell_type": "code",
   "execution_count": 18,
   "id": "6f7b39b2-1ecf-444c-b4db-90a136109a41",
   "metadata": {},
   "outputs": [],
   "source": [
    "# indices to drop from dataframe\n",
    "to_drop = list(mism.index)"
   ]
  },
  {
   "cell_type": "code",
   "execution_count": 20,
   "id": "96489af0-8eae-475e-985e-c9e81600e73d",
   "metadata": {},
   "outputs": [
    {
     "data": {
      "text/plain": [
       "776"
      ]
     },
     "execution_count": 20,
     "metadata": {},
     "output_type": "execute_result"
    }
   ],
   "source": [
    "# duplicates with the same label\n",
    "dup_lab = chen_data[chen_data.duplicated([\"heavy\", \"light\", \"Y\"])]\n",
    "len(dup_lab)"
   ]
  },
  {
   "cell_type": "code",
   "execution_count": 22,
   "id": "f9a58954-2fab-481b-a981-d9d6e3906a8e",
   "metadata": {},
   "outputs": [
    {
     "data": {
      "text/plain": [
       "400"
      ]
     },
     "execution_count": 22,
     "metadata": {},
     "output_type": "execute_result"
    }
   ],
   "source": [
    "dup_lab.duplicated([\"heavy\", \"light\"]).sum()\n"
   ]
  },
  {
   "cell_type": "code",
   "execution_count": 23,
   "id": "32c1bec3-9e14-4186-9e33-6bc5fdd0681a",
   "metadata": {},
   "outputs": [
    {
     "data": {
      "text/plain": [
       "2353"
      ]
     },
     "execution_count": 23,
     "metadata": {},
     "output_type": "execute_result"
    }
   ],
   "source": [
    "# remove the 56 mismatched rows\n",
    "chen_data.drop(to_drop, axis=0, inplace=True)\n",
    "len(chen_data)"
   ]
  },
  {
   "cell_type": "code",
   "execution_count": 26,
   "id": "0fa23c7b-fbe5-4d2c-a783-d057ee5c487d",
   "metadata": {},
   "outputs": [
    {
     "name": "stdout",
     "output_type": "stream",
     "text": [
      "1577\n"
     ]
    },
    {
     "data": {
      "text/html": [
       "<div>\n",
       "<style scoped>\n",
       "    .dataframe tbody tr th:only-of-type {\n",
       "        vertical-align: middle;\n",
       "    }\n",
       "\n",
       "    .dataframe tbody tr th {\n",
       "        vertical-align: top;\n",
       "    }\n",
       "\n",
       "    .dataframe thead th {\n",
       "        text-align: right;\n",
       "    }\n",
       "</style>\n",
       "<table border=\"1\" class=\"dataframe\">\n",
       "  <thead>\n",
       "    <tr style=\"text-align: right;\">\n",
       "      <th></th>\n",
       "      <th>Antibody_ID</th>\n",
       "      <th>heavy</th>\n",
       "      <th>light</th>\n",
       "      <th>Y</th>\n",
       "    </tr>\n",
       "  </thead>\n",
       "  <tbody>\n",
       "    <tr>\n",
       "      <th>0</th>\n",
       "      <td>12e8</td>\n",
       "      <td>EVQLQQSGAEVVRSGASVKLSCTASGFNIKDYYIHWVKQRPEKGLE...</td>\n",
       "      <td>DIVMTQSQKFMSTSVGDRVSITCKASQNVGTAVAWYQQKPGQSPKL...</td>\n",
       "      <td>0</td>\n",
       "    </tr>\n",
       "    <tr>\n",
       "      <th>1</th>\n",
       "      <td>15c8</td>\n",
       "      <td>EVQLQQSGAELVKPGASVKLSCTASGFNIKDTYMHWVKQKPEQGLE...</td>\n",
       "      <td>DIVLTQSPAIMSASLGERVTMTCTASSSVSSSNLHWYQQKPGSSPK...</td>\n",
       "      <td>0</td>\n",
       "    </tr>\n",
       "    <tr>\n",
       "      <th>2</th>\n",
       "      <td>1a0q</td>\n",
       "      <td>EVQLQESDAELVKPGASVKISCKASGYTFTDHVIHWVKQKPEQGLE...</td>\n",
       "      <td>DIELTQSPSSLSASLGGKVTITCKASQDIKKYIGWYQHKPGKQPRL...</td>\n",
       "      <td>1</td>\n",
       "    </tr>\n",
       "    <tr>\n",
       "      <th>3</th>\n",
       "      <td>1a14</td>\n",
       "      <td>QVQLQQSGAELVKPGASVRMSCKASGYTFTNYNMYWVKQSPGQGLE...</td>\n",
       "      <td>DIELTQTTSSLSASLGDRVTISCRASQDISNYLNWYQQNPDGTVKL...</td>\n",
       "      <td>0</td>\n",
       "    </tr>\n",
       "    <tr>\n",
       "      <th>4</th>\n",
       "      <td>1a2y</td>\n",
       "      <td>QVQLQESGPGLVAPSQSLSITCTVSGFSLTGYGVNWVRQPPGKGLE...</td>\n",
       "      <td>DIVLTQSPASLSASVGETVTITCRASGNIHNYLAWYQQKQGKSPQL...</td>\n",
       "      <td>0</td>\n",
       "    </tr>\n",
       "  </tbody>\n",
       "</table>\n",
       "</div>"
      ],
      "text/plain": [
       "  Antibody_ID                                              heavy  \\\n",
       "0        12e8  EVQLQQSGAEVVRSGASVKLSCTASGFNIKDYYIHWVKQRPEKGLE...   \n",
       "1        15c8  EVQLQQSGAELVKPGASVKLSCTASGFNIKDTYMHWVKQKPEQGLE...   \n",
       "2        1a0q  EVQLQESDAELVKPGASVKISCKASGYTFTDHVIHWVKQKPEQGLE...   \n",
       "3        1a14  QVQLQQSGAELVKPGASVRMSCKASGYTFTNYNMYWVKQSPGQGLE...   \n",
       "4        1a2y  QVQLQESGPGLVAPSQSLSITCTVSGFSLTGYGVNWVRQPPGKGLE...   \n",
       "\n",
       "                                               light  Y  \n",
       "0  DIVMTQSQKFMSTSVGDRVSITCKASQNVGTAVAWYQQKPGQSPKL...  0  \n",
       "1  DIVLTQSPAIMSASLGERVTMTCTASSSVSSSNLHWYQQKPGSSPK...  0  \n",
       "2  DIELTQSPSSLSASLGGKVTITCKASQDIKKYIGWYQHKPGKQPRL...  1  \n",
       "3  DIELTQTTSSLSASLGDRVTISCRASQDISNYLNWYQQNPDGTVKL...  0  \n",
       "4  DIVLTQSPASLSASVGETVTITCRASGNIHNYLAWYQQKQGKSPQL...  0  "
      ]
     },
     "execution_count": 26,
     "metadata": {},
     "output_type": "execute_result"
    }
   ],
   "source": [
    "# remove remaining duplicates (keep one of each unique sequence)\n",
    "chen_data.drop_duplicates([\"heavy\", \"light\", \"Y\"], keep=\"first\", inplace=True)\n",
    "print(len(chen_data))\n",
    "chen_data.head()"
   ]
  },
  {
   "cell_type": "code",
   "execution_count": 27,
   "id": "a854921d-09aa-469a-be43-47f462be0d03",
   "metadata": {},
   "outputs": [],
   "source": [
    "chen_data.to_csv(path.join(DATA_DIR, \"chen/deduplicated/chen_data.csv\"))"
   ]
  },
  {
   "cell_type": "code",
   "execution_count": null,
   "id": "1995a64b-0178-4c39-b393-510845638c31",
   "metadata": {},
   "outputs": [],
   "source": []
  }
 ],
 "metadata": {
  "kernelspec": {
   "display_name": "Python 3 (ipykernel)",
   "language": "python",
   "name": "python3"
  },
  "language_info": {
   "codemirror_mode": {
    "name": "ipython",
    "version": 3
   },
   "file_extension": ".py",
   "mimetype": "text/x-python",
   "name": "python",
   "nbconvert_exporter": "python",
   "pygments_lexer": "ipython3",
   "version": "3.7.10"
  }
 },
 "nbformat": 4,
 "nbformat_minor": 5
}
