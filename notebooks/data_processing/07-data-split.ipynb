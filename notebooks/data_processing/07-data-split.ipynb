{
 "cells": [
  {
   "cell_type": "code",
   "execution_count": 9,
   "id": "91732838-398c-412a-ae2f-d559c0de6ef8",
   "metadata": {},
   "outputs": [],
   "source": [
    "import numpy as np\n",
    "import pandas as pd\n",
    "from os import path\n",
    "import matplotlib.pyplot as plt\n",
    "from tqdm import tqdm\n",
    "import umap\n",
    "from sklearn.cluster import AgglomerativeClustering\n",
    "import seaborn as sns"
   ]
  },
  {
   "cell_type": "code",
   "execution_count": 10,
   "id": "91ea6ae4-97e2-4a7c-b862-4db323187aeb",
   "metadata": {},
   "outputs": [],
   "source": [
    "DATA_DIR = \"../../data\""
   ]
  },
  {
   "cell_type": "code",
   "execution_count": 11,
   "id": "de7d10b9-a456-4a8d-b843-c806e60e8471",
   "metadata": {},
   "outputs": [
    {
     "data": {
      "text/html": [
       "<div>\n",
       "<style scoped>\n",
       "    .dataframe tbody tr th:only-of-type {\n",
       "        vertical-align: middle;\n",
       "    }\n",
       "\n",
       "    .dataframe tbody tr th {\n",
       "        vertical-align: top;\n",
       "    }\n",
       "\n",
       "    .dataframe thead th {\n",
       "        text-align: right;\n",
       "    }\n",
       "</style>\n",
       "<table border=\"1\" class=\"dataframe\">\n",
       "  <thead>\n",
       "    <tr style=\"text-align: right;\">\n",
       "      <th></th>\n",
       "      <th>Antibody_ID</th>\n",
       "      <th>heavy</th>\n",
       "      <th>light</th>\n",
       "      <th>Y</th>\n",
       "    </tr>\n",
       "  </thead>\n",
       "  <tbody>\n",
       "    <tr>\n",
       "      <th>0</th>\n",
       "      <td>12e8</td>\n",
       "      <td>EVQLQQSGAEVVRSGASVKLSCTASGFNIKDYYIHWVKQRPEKGLE...</td>\n",
       "      <td>DIVMTQSQKFMSTSVGDRVSITCKASQNVGTAVAWYQQKPGQSPKL...</td>\n",
       "      <td>0</td>\n",
       "    </tr>\n",
       "    <tr>\n",
       "      <th>1</th>\n",
       "      <td>15c8</td>\n",
       "      <td>EVQLQQSGAELVKPGASVKLSCTASGFNIKDTYMHWVKQKPEQGLE...</td>\n",
       "      <td>DIVLTQSPAIMSASLGERVTMTCTASSSVSSSNLHWYQQKPGSSPK...</td>\n",
       "      <td>0</td>\n",
       "    </tr>\n",
       "    <tr>\n",
       "      <th>2</th>\n",
       "      <td>1a0q</td>\n",
       "      <td>EVQLQESDAELVKPGASVKISCKASGYTFTDHVIHWVKQKPEQGLE...</td>\n",
       "      <td>DIELTQSPSSLSASLGGKVTITCKASQDIKKYIGWYQHKPGKQPRL...</td>\n",
       "      <td>1</td>\n",
       "    </tr>\n",
       "    <tr>\n",
       "      <th>3</th>\n",
       "      <td>1a14</td>\n",
       "      <td>QVQLQQSGAELVKPGASVRMSCKASGYTFTNYNMYWVKQSPGQGLE...</td>\n",
       "      <td>DIELTQTTSSLSASLGDRVTISCRASQDISNYLNWYQQNPDGTVKL...</td>\n",
       "      <td>0</td>\n",
       "    </tr>\n",
       "    <tr>\n",
       "      <th>4</th>\n",
       "      <td>1a2y</td>\n",
       "      <td>QVQLQESGPGLVAPSQSLSITCTVSGFSLTGYGVNWVRQPPGKGLE...</td>\n",
       "      <td>DIVLTQSPASLSASVGETVTITCRASGNIHNYLAWYQQKQGKSPQL...</td>\n",
       "      <td>0</td>\n",
       "    </tr>\n",
       "    <tr>\n",
       "      <th>...</th>\n",
       "      <td>...</td>\n",
       "      <td>...</td>\n",
       "      <td>...</td>\n",
       "      <td>...</td>\n",
       "    </tr>\n",
       "    <tr>\n",
       "      <th>2404</th>\n",
       "      <td>6s5a</td>\n",
       "      <td>EVKLLESGGGLVQPGGSLKLSCAASGFDFSRYWMNWVRQAPGKGLE...</td>\n",
       "      <td>QAVVTQESALTTSPGETVTLTCRSSTGAVTTSNYANWVQEKPDHLF...</td>\n",
       "      <td>0</td>\n",
       "    </tr>\n",
       "    <tr>\n",
       "      <th>2405</th>\n",
       "      <td>6tyb</td>\n",
       "      <td>EVQLVQSGTEVKRPGESLTISCKTSGYSFSGTWISWVRQMPGKGLE...</td>\n",
       "      <td>DIQMTQSPSSLSASVGDRVTITCRASQGISTYLAWYQQKPGKAPKL...</td>\n",
       "      <td>0</td>\n",
       "    </tr>\n",
       "    <tr>\n",
       "      <th>2406</th>\n",
       "      <td>6u1t</td>\n",
       "      <td>EVQLVESGGGLVKPGGSLKLSCAASGFTFSSYDMSWVRQTPEKRLE...</td>\n",
       "      <td>DIQMTQSPASQSASLGESVTITCLASQTIGTWLAWYQQKPGKSPQL...</td>\n",
       "      <td>0</td>\n",
       "    </tr>\n",
       "    <tr>\n",
       "      <th>2407</th>\n",
       "      <td>7fab</td>\n",
       "      <td>AVQLEQSGPGLVRPSQTLSLTCTVSGTSFDDYYWTWVRQPPGRGLE...</td>\n",
       "      <td>ASVLTQPPSVSGAPGQRVTISCTGSSSNIGAGHNVKWYQQLPGTAP...</td>\n",
       "      <td>0</td>\n",
       "    </tr>\n",
       "    <tr>\n",
       "      <th>2408</th>\n",
       "      <td>8fab</td>\n",
       "      <td>AVKLVQAGGGVVQPGRSLRLSCIASGFTFSNYGMHWVRQAPGKGLE...</td>\n",
       "      <td>SYELTQPPSVSVSPGQTARITCSANALPNQYAYWYQQKPGRAPVMV...</td>\n",
       "      <td>0</td>\n",
       "    </tr>\n",
       "  </tbody>\n",
       "</table>\n",
       "<p>2409 rows × 4 columns</p>\n",
       "</div>"
      ],
      "text/plain": [
       "     Antibody_ID                                              heavy  \\\n",
       "0           12e8  EVQLQQSGAEVVRSGASVKLSCTASGFNIKDYYIHWVKQRPEKGLE...   \n",
       "1           15c8  EVQLQQSGAELVKPGASVKLSCTASGFNIKDTYMHWVKQKPEQGLE...   \n",
       "2           1a0q  EVQLQESDAELVKPGASVKISCKASGYTFTDHVIHWVKQKPEQGLE...   \n",
       "3           1a14  QVQLQQSGAELVKPGASVRMSCKASGYTFTNYNMYWVKQSPGQGLE...   \n",
       "4           1a2y  QVQLQESGPGLVAPSQSLSITCTVSGFSLTGYGVNWVRQPPGKGLE...   \n",
       "...          ...                                                ...   \n",
       "2404        6s5a  EVKLLESGGGLVQPGGSLKLSCAASGFDFSRYWMNWVRQAPGKGLE...   \n",
       "2405        6tyb  EVQLVQSGTEVKRPGESLTISCKTSGYSFSGTWISWVRQMPGKGLE...   \n",
       "2406        6u1t  EVQLVESGGGLVKPGGSLKLSCAASGFTFSSYDMSWVRQTPEKRLE...   \n",
       "2407        7fab  AVQLEQSGPGLVRPSQTLSLTCTVSGTSFDDYYWTWVRQPPGRGLE...   \n",
       "2408        8fab  AVKLVQAGGGVVQPGRSLRLSCIASGFTFSNYGMHWVRQAPGKGLE...   \n",
       "\n",
       "                                                  light  Y  \n",
       "0     DIVMTQSQKFMSTSVGDRVSITCKASQNVGTAVAWYQQKPGQSPKL...  0  \n",
       "1     DIVLTQSPAIMSASLGERVTMTCTASSSVSSSNLHWYQQKPGSSPK...  0  \n",
       "2     DIELTQSPSSLSASLGGKVTITCKASQDIKKYIGWYQHKPGKQPRL...  1  \n",
       "3     DIELTQTTSSLSASLGDRVTISCRASQDISNYLNWYQQNPDGTVKL...  0  \n",
       "4     DIVLTQSPASLSASVGETVTITCRASGNIHNYLAWYQQKQGKSPQL...  0  \n",
       "...                                                 ... ..  \n",
       "2404  QAVVTQESALTTSPGETVTLTCRSSTGAVTTSNYANWVQEKPDHLF...  0  \n",
       "2405  DIQMTQSPSSLSASVGDRVTITCRASQGISTYLAWYQQKPGKAPKL...  0  \n",
       "2406  DIQMTQSPASQSASLGESVTITCLASQTIGTWLAWYQQKPGKSPQL...  0  \n",
       "2407  ASVLTQPPSVSGAPGQRVTISCTGSSSNIGAGHNVKWYQQLPGTAP...  0  \n",
       "2408  SYELTQPPSVSVSPGQTARITCSANALPNQYAYWYQQKPGRAPVMV...  0  \n",
       "\n",
       "[2409 rows x 4 columns]"
      ]
     },
     "execution_count": 11,
     "metadata": {},
     "output_type": "execute_result"
    }
   ],
   "source": [
    "chen_data = pd.read_csv(path.join(DATA_DIR, \"chen/chen_data.csv\"))\n",
    "chen_data"
   ]
  },
  {
   "cell_type": "markdown",
   "id": "dfef9025-731e-4530-a1ef-130e17d14033",
   "metadata": {},
   "source": [
    "# Load precomputed ANARCI matrix"
   ]
  },
  {
   "cell_type": "code",
   "execution_count": 23,
   "id": "f936fd23-d57e-4d99-9317-8cc986af1e94",
   "metadata": {},
   "outputs": [
    {
     "data": {
      "text/html": [
       "<div>\n",
       "<style scoped>\n",
       "    .dataframe tbody tr th:only-of-type {\n",
       "        vertical-align: middle;\n",
       "    }\n",
       "\n",
       "    .dataframe tbody tr th {\n",
       "        vertical-align: top;\n",
       "    }\n",
       "\n",
       "    .dataframe thead th {\n",
       "        text-align: right;\n",
       "    }\n",
       "</style>\n",
       "<table border=\"1\" class=\"dataframe\">\n",
       "  <thead>\n",
       "    <tr style=\"text-align: right;\">\n",
       "      <th></th>\n",
       "      <th>Ab_ID</th>\n",
       "      <th>chain_type</th>\n",
       "      <th>species</th>\n",
       "      <th>1</th>\n",
       "      <th>2</th>\n",
       "      <th>3</th>\n",
       "      <th>3A</th>\n",
       "      <th>4</th>\n",
       "      <th>4A</th>\n",
       "      <th>5</th>\n",
       "      <th>...</th>\n",
       "      <th>119</th>\n",
       "      <th>120</th>\n",
       "      <th>121</th>\n",
       "      <th>122</th>\n",
       "      <th>123</th>\n",
       "      <th>124</th>\n",
       "      <th>125</th>\n",
       "      <th>126</th>\n",
       "      <th>127</th>\n",
       "      <th>128</th>\n",
       "    </tr>\n",
       "  </thead>\n",
       "  <tbody>\n",
       "    <tr>\n",
       "      <th>0</th>\n",
       "      <td>12e8</td>\n",
       "      <td>H</td>\n",
       "      <td>mouse</td>\n",
       "      <td>E</td>\n",
       "      <td>V</td>\n",
       "      <td>Q</td>\n",
       "      <td>-</td>\n",
       "      <td>L</td>\n",
       "      <td>-</td>\n",
       "      <td>Q</td>\n",
       "      <td>...</td>\n",
       "      <td>G</td>\n",
       "      <td>Q</td>\n",
       "      <td>G</td>\n",
       "      <td>T</td>\n",
       "      <td>L</td>\n",
       "      <td>V</td>\n",
       "      <td>T</td>\n",
       "      <td>V</td>\n",
       "      <td>S</td>\n",
       "      <td>A</td>\n",
       "    </tr>\n",
       "    <tr>\n",
       "      <th>1</th>\n",
       "      <td>15c8</td>\n",
       "      <td>H</td>\n",
       "      <td>mouse</td>\n",
       "      <td>E</td>\n",
       "      <td>V</td>\n",
       "      <td>Q</td>\n",
       "      <td>-</td>\n",
       "      <td>L</td>\n",
       "      <td>-</td>\n",
       "      <td>Q</td>\n",
       "      <td>...</td>\n",
       "      <td>G</td>\n",
       "      <td>Q</td>\n",
       "      <td>G</td>\n",
       "      <td>T</td>\n",
       "      <td>T</td>\n",
       "      <td>L</td>\n",
       "      <td>T</td>\n",
       "      <td>V</td>\n",
       "      <td>S</td>\n",
       "      <td>S</td>\n",
       "    </tr>\n",
       "    <tr>\n",
       "      <th>2</th>\n",
       "      <td>1a0q</td>\n",
       "      <td>H</td>\n",
       "      <td>mouse</td>\n",
       "      <td>E</td>\n",
       "      <td>V</td>\n",
       "      <td>Q</td>\n",
       "      <td>-</td>\n",
       "      <td>L</td>\n",
       "      <td>-</td>\n",
       "      <td>Q</td>\n",
       "      <td>...</td>\n",
       "      <td>G</td>\n",
       "      <td>Q</td>\n",
       "      <td>G</td>\n",
       "      <td>T</td>\n",
       "      <td>T</td>\n",
       "      <td>L</td>\n",
       "      <td>T</td>\n",
       "      <td>V</td>\n",
       "      <td>S</td>\n",
       "      <td>S</td>\n",
       "    </tr>\n",
       "    <tr>\n",
       "      <th>3</th>\n",
       "      <td>1a14</td>\n",
       "      <td>H</td>\n",
       "      <td>mouse</td>\n",
       "      <td>Q</td>\n",
       "      <td>V</td>\n",
       "      <td>Q</td>\n",
       "      <td>-</td>\n",
       "      <td>L</td>\n",
       "      <td>-</td>\n",
       "      <td>Q</td>\n",
       "      <td>...</td>\n",
       "      <td>G</td>\n",
       "      <td>Q</td>\n",
       "      <td>G</td>\n",
       "      <td>T</td>\n",
       "      <td>T</td>\n",
       "      <td>V</td>\n",
       "      <td>T</td>\n",
       "      <td>V</td>\n",
       "      <td>-</td>\n",
       "      <td>-</td>\n",
       "    </tr>\n",
       "    <tr>\n",
       "      <th>4</th>\n",
       "      <td>1a2y</td>\n",
       "      <td>H</td>\n",
       "      <td>mouse</td>\n",
       "      <td>Q</td>\n",
       "      <td>V</td>\n",
       "      <td>Q</td>\n",
       "      <td>-</td>\n",
       "      <td>L</td>\n",
       "      <td>-</td>\n",
       "      <td>Q</td>\n",
       "      <td>...</td>\n",
       "      <td>G</td>\n",
       "      <td>Q</td>\n",
       "      <td>G</td>\n",
       "      <td>T</td>\n",
       "      <td>T</td>\n",
       "      <td>L</td>\n",
       "      <td>T</td>\n",
       "      <td>V</td>\n",
       "      <td>S</td>\n",
       "      <td>S</td>\n",
       "    </tr>\n",
       "  </tbody>\n",
       "</table>\n",
       "<p>5 rows × 207 columns</p>\n",
       "</div>"
      ],
      "text/plain": [
       "  Ab_ID chain_type species  1  2  3 3A  4 4A  5  ... 119 120 121 122 123 124  \\\n",
       "0  12e8          H   mouse  E  V  Q  -  L  -  Q  ...   G   Q   G   T   L   V   \n",
       "1  15c8          H   mouse  E  V  Q  -  L  -  Q  ...   G   Q   G   T   T   L   \n",
       "2  1a0q          H   mouse  E  V  Q  -  L  -  Q  ...   G   Q   G   T   T   L   \n",
       "3  1a14          H   mouse  Q  V  Q  -  L  -  Q  ...   G   Q   G   T   T   V   \n",
       "4  1a2y          H   mouse  Q  V  Q  -  L  -  Q  ...   G   Q   G   T   T   L   \n",
       "\n",
       "  125 126 127 128  \n",
       "0   T   V   S   A  \n",
       "1   T   V   S   S  \n",
       "2   T   V   S   S  \n",
       "3   T   V   -   -  \n",
       "4   T   V   S   S  \n",
       "\n",
       "[5 rows x 207 columns]"
      ]
     },
     "execution_count": 23,
     "metadata": {},
     "output_type": "execute_result"
    }
   ],
   "source": [
    "heavy_df = pd.read_csv(path.join(DATA_DIR, \"chen/abnumber/chen_heavy_chain_numbering.csv\"))\n",
    "light_df = pd.read_csv(path.join(DATA_DIR, \"chen/abnumber/chen_light_chain_numbering.csv\"))\n",
    "heavy_df.head()"
   ]
  },
  {
   "cell_type": "code",
   "execution_count": 24,
   "id": "79245ab7-5fd8-4dd4-bfb4-02557e7413f9",
   "metadata": {},
   "outputs": [],
   "source": [
    "def anarci_similarity_matrix(anarci_df):\n",
    "    pos_columns = [col for col in anarci_df.columns if col[0].isnumeric()]\n",
    "    positions = anarci_df[pos_columns]\n",
    "    tasks = [(row, positions) for i, row in positions.iterrows()]\n",
    "    rows = tqdm(map(identity_task, tasks), total=len(tasks), position=0, leave=True)\n",
    "    matrix = pd.DataFrame(rows)\n",
    "    matrix.index = matrix.columns\n",
    "    return matrix\n",
    "\n",
    "def identity_task(task):\n",
    "    seq, seqs = task\n",
    "    return seqs.apply(all_position_identity, seq2=seq, axis=1).astype(np.float16)\n",
    "\n",
    "def all_position_identity(seq1, seq2):\n",
    "    return (seq1 == seq2).mean()"
   ]
  },
  {
   "cell_type": "markdown",
   "id": "62e45eb0-8948-4af1-865f-86751262e18a",
   "metadata": {},
   "source": [
    "## Heavy"
   ]
  },
  {
   "cell_type": "code",
   "execution_count": 25,
   "id": "68c5ee10-f790-458d-b26b-fc69a2096e2c",
   "metadata": {},
   "outputs": [
    {
     "name": "stderr",
     "output_type": "stream",
     "text": [
      "100%|██████████| 2407/2407 [20:14<00:00,  1.98it/s]\n"
     ]
    },
    {
     "data": {
      "text/html": [
       "<div>\n",
       "<style scoped>\n",
       "    .dataframe tbody tr th:only-of-type {\n",
       "        vertical-align: middle;\n",
       "    }\n",
       "\n",
       "    .dataframe tbody tr th {\n",
       "        vertical-align: top;\n",
       "    }\n",
       "\n",
       "    .dataframe thead th {\n",
       "        text-align: right;\n",
       "    }\n",
       "</style>\n",
       "<table border=\"1\" class=\"dataframe\">\n",
       "  <thead>\n",
       "    <tr style=\"text-align: right;\">\n",
       "      <th></th>\n",
       "      <th>0</th>\n",
       "      <th>1</th>\n",
       "      <th>2</th>\n",
       "      <th>3</th>\n",
       "      <th>4</th>\n",
       "      <th>5</th>\n",
       "      <th>6</th>\n",
       "      <th>7</th>\n",
       "      <th>8</th>\n",
       "      <th>9</th>\n",
       "      <th>...</th>\n",
       "      <th>2397</th>\n",
       "      <th>2398</th>\n",
       "      <th>2399</th>\n",
       "      <th>2400</th>\n",
       "      <th>2401</th>\n",
       "      <th>2402</th>\n",
       "      <th>2403</th>\n",
       "      <th>2404</th>\n",
       "      <th>2405</th>\n",
       "      <th>2406</th>\n",
       "    </tr>\n",
       "  </thead>\n",
       "  <tbody>\n",
       "    <tr>\n",
       "      <th>0</th>\n",
       "      <td>1.000000</td>\n",
       "      <td>0.857910</td>\n",
       "      <td>0.784180</td>\n",
       "      <td>0.769531</td>\n",
       "      <td>0.656738</td>\n",
       "      <td>0.759766</td>\n",
       "      <td>0.857910</td>\n",
       "      <td>0.686035</td>\n",
       "      <td>0.686035</td>\n",
       "      <td>0.818848</td>\n",
       "      <td>...</td>\n",
       "      <td>0.686035</td>\n",
       "      <td>0.691406</td>\n",
       "      <td>0.745117</td>\n",
       "      <td>0.686035</td>\n",
       "      <td>0.691406</td>\n",
       "      <td>0.710938</td>\n",
       "      <td>0.696289</td>\n",
       "      <td>0.720703</td>\n",
       "      <td>0.691406</td>\n",
       "      <td>0.691406</td>\n",
       "    </tr>\n",
       "    <tr>\n",
       "      <th>1</th>\n",
       "      <td>0.857910</td>\n",
       "      <td>1.000000</td>\n",
       "      <td>0.818848</td>\n",
       "      <td>0.789062</td>\n",
       "      <td>0.676270</td>\n",
       "      <td>0.774414</td>\n",
       "      <td>0.887207</td>\n",
       "      <td>0.681152</td>\n",
       "      <td>0.681152</td>\n",
       "      <td>0.857910</td>\n",
       "      <td>...</td>\n",
       "      <td>0.710938</td>\n",
       "      <td>0.696289</td>\n",
       "      <td>0.750000</td>\n",
       "      <td>0.696289</td>\n",
       "      <td>0.706055</td>\n",
       "      <td>0.686035</td>\n",
       "      <td>0.671387</td>\n",
       "      <td>0.715820</td>\n",
       "      <td>0.691406</td>\n",
       "      <td>0.691406</td>\n",
       "    </tr>\n",
       "    <tr>\n",
       "      <th>2</th>\n",
       "      <td>0.784180</td>\n",
       "      <td>0.818848</td>\n",
       "      <td>1.000000</td>\n",
       "      <td>0.818848</td>\n",
       "      <td>0.676270</td>\n",
       "      <td>0.813965</td>\n",
       "      <td>0.789062</td>\n",
       "      <td>0.725586</td>\n",
       "      <td>0.725586</td>\n",
       "      <td>0.793945</td>\n",
       "      <td>...</td>\n",
       "      <td>0.715820</td>\n",
       "      <td>0.681152</td>\n",
       "      <td>0.750000</td>\n",
       "      <td>0.691406</td>\n",
       "      <td>0.706055</td>\n",
       "      <td>0.676270</td>\n",
       "      <td>0.676270</td>\n",
       "      <td>0.696289</td>\n",
       "      <td>0.637207</td>\n",
       "      <td>0.666504</td>\n",
       "    </tr>\n",
       "    <tr>\n",
       "      <th>3</th>\n",
       "      <td>0.769531</td>\n",
       "      <td>0.789062</td>\n",
       "      <td>0.818848</td>\n",
       "      <td>1.000000</td>\n",
       "      <td>0.656738</td>\n",
       "      <td>0.808594</td>\n",
       "      <td>0.754883</td>\n",
       "      <td>0.701172</td>\n",
       "      <td>0.701172</td>\n",
       "      <td>0.793945</td>\n",
       "      <td>...</td>\n",
       "      <td>0.676270</td>\n",
       "      <td>0.701172</td>\n",
       "      <td>0.759766</td>\n",
       "      <td>0.715820</td>\n",
       "      <td>0.740234</td>\n",
       "      <td>0.671387</td>\n",
       "      <td>0.686035</td>\n",
       "      <td>0.691406</td>\n",
       "      <td>0.656738</td>\n",
       "      <td>0.691406</td>\n",
       "    </tr>\n",
       "    <tr>\n",
       "      <th>4</th>\n",
       "      <td>0.656738</td>\n",
       "      <td>0.676270</td>\n",
       "      <td>0.676270</td>\n",
       "      <td>0.656738</td>\n",
       "      <td>1.000000</td>\n",
       "      <td>0.666504</td>\n",
       "      <td>0.666504</td>\n",
       "      <td>0.686035</td>\n",
       "      <td>0.686035</td>\n",
       "      <td>0.676270</td>\n",
       "      <td>...</td>\n",
       "      <td>0.696289</td>\n",
       "      <td>0.725586</td>\n",
       "      <td>0.661621</td>\n",
       "      <td>0.656738</td>\n",
       "      <td>0.656738</td>\n",
       "      <td>0.696289</td>\n",
       "      <td>0.651855</td>\n",
       "      <td>0.706055</td>\n",
       "      <td>0.720703</td>\n",
       "      <td>0.706055</td>\n",
       "    </tr>\n",
       "  </tbody>\n",
       "</table>\n",
       "<p>5 rows × 2407 columns</p>\n",
       "</div>"
      ],
      "text/plain": [
       "       0         1         2         3         4         5         6     \\\n",
       "0  1.000000  0.857910  0.784180  0.769531  0.656738  0.759766  0.857910   \n",
       "1  0.857910  1.000000  0.818848  0.789062  0.676270  0.774414  0.887207   \n",
       "2  0.784180  0.818848  1.000000  0.818848  0.676270  0.813965  0.789062   \n",
       "3  0.769531  0.789062  0.818848  1.000000  0.656738  0.808594  0.754883   \n",
       "4  0.656738  0.676270  0.676270  0.656738  1.000000  0.666504  0.666504   \n",
       "\n",
       "       7         8         9     ...      2397      2398      2399      2400  \\\n",
       "0  0.686035  0.686035  0.818848  ...  0.686035  0.691406  0.745117  0.686035   \n",
       "1  0.681152  0.681152  0.857910  ...  0.710938  0.696289  0.750000  0.696289   \n",
       "2  0.725586  0.725586  0.793945  ...  0.715820  0.681152  0.750000  0.691406   \n",
       "3  0.701172  0.701172  0.793945  ...  0.676270  0.701172  0.759766  0.715820   \n",
       "4  0.686035  0.686035  0.676270  ...  0.696289  0.725586  0.661621  0.656738   \n",
       "\n",
       "       2401      2402      2403      2404      2405      2406  \n",
       "0  0.691406  0.710938  0.696289  0.720703  0.691406  0.691406  \n",
       "1  0.706055  0.686035  0.671387  0.715820  0.691406  0.691406  \n",
       "2  0.706055  0.676270  0.676270  0.696289  0.637207  0.666504  \n",
       "3  0.740234  0.671387  0.686035  0.691406  0.656738  0.691406  \n",
       "4  0.656738  0.696289  0.651855  0.706055  0.720703  0.706055  \n",
       "\n",
       "[5 rows x 2407 columns]"
      ]
     },
     "execution_count": 25,
     "metadata": {},
     "output_type": "execute_result"
    }
   ],
   "source": [
    "heavy_similarity = anarci_similarity_matrix(heavy_df)\n",
    "heavy_similarity.head()"
   ]
  },
  {
   "cell_type": "code",
   "execution_count": 26,
   "id": "deefd9af-7d7d-4c0d-b9ab-6f4efe580bd9",
   "metadata": {},
   "outputs": [
    {
     "data": {
      "text/plain": [
       "pandas.core.frame.DataFrame"
      ]
     },
     "execution_count": 26,
     "metadata": {},
     "output_type": "execute_result"
    }
   ],
   "source": [
    "type(heavy_similarity)"
   ]
  },
  {
   "cell_type": "code",
   "execution_count": 29,
   "id": "df1191d7-c868-4009-9a08-eaff65efe26e",
   "metadata": {},
   "outputs": [],
   "source": [
    "heavy_similarity.to_csv(path.join(DATA_DIR, \"chen/distances/anarci_similarity_heavy.csv\"), sep=';', index=False)"
   ]
  },
  {
   "cell_type": "code",
   "execution_count": 16,
   "id": "b6b06532-63a9-438b-8dcb-2da2cc7f3fe2",
   "metadata": {},
   "outputs": [],
   "source": [
    "heavy_similarity = from_csv(path.join(DATA_DIR, \"chen/distances/anarci_similarity_heavy.csv\"), sep=';')"
   ]
  },
  {
   "cell_type": "code",
   "execution_count": 30,
   "id": "6cc6a0a2-55cd-4cc4-8c5e-6f1b98cdb71c",
   "metadata": {},
   "outputs": [],
   "source": [
    "def fit_umap(df, n_components=2, random_state=0, **kwargs):\n",
    "    reducer = umap.UMAP(n_components=n_components, random_state=random_state, metric='precomputed', **kwargs)\n",
    "    embedding = reducer.fit_transform(df)\n",
    "    return reducer, pd.DataFrame(embedding, columns=[f'UMAP-{i+1}' for i in range(n_components)], index=df.index)"
   ]
  },
  {
   "cell_type": "code",
   "execution_count": 31,
   "id": "ae2b0386-d6a2-4708-b8b6-4d4821739fbb",
   "metadata": {},
   "outputs": [
    {
     "name": "stderr",
     "output_type": "stream",
     "text": [
      "/home/brazdilv/.conda/envs/ml/lib/python3.7/site-packages/umap/umap_.py:1736: UserWarning: using precomputed metric; transform will be unavailable for new data and inverse_transform will be unavailable for all data\n",
      "  \"using precomputed metric; transform will be unavailable for new data and inverse_transform \"\n"
     ]
    },
    {
     "data": {
      "text/html": [
       "<div>\n",
       "<style scoped>\n",
       "    .dataframe tbody tr th:only-of-type {\n",
       "        vertical-align: middle;\n",
       "    }\n",
       "\n",
       "    .dataframe tbody tr th {\n",
       "        vertical-align: top;\n",
       "    }\n",
       "\n",
       "    .dataframe thead th {\n",
       "        text-align: right;\n",
       "    }\n",
       "</style>\n",
       "<table border=\"1\" class=\"dataframe\">\n",
       "  <thead>\n",
       "    <tr style=\"text-align: right;\">\n",
       "      <th></th>\n",
       "      <th>UMAP-1</th>\n",
       "      <th>UMAP-2</th>\n",
       "    </tr>\n",
       "  </thead>\n",
       "  <tbody>\n",
       "    <tr>\n",
       "      <th>0</th>\n",
       "      <td>-14.550362</td>\n",
       "      <td>-8.514315</td>\n",
       "    </tr>\n",
       "    <tr>\n",
       "      <th>1</th>\n",
       "      <td>-14.914042</td>\n",
       "      <td>-8.485855</td>\n",
       "    </tr>\n",
       "    <tr>\n",
       "      <th>2</th>\n",
       "      <td>-7.290069</td>\n",
       "      <td>-0.618478</td>\n",
       "    </tr>\n",
       "    <tr>\n",
       "      <th>3</th>\n",
       "      <td>-8.143168</td>\n",
       "      <td>-1.079178</td>\n",
       "    </tr>\n",
       "    <tr>\n",
       "      <th>4</th>\n",
       "      <td>13.284020</td>\n",
       "      <td>9.731669</td>\n",
       "    </tr>\n",
       "  </tbody>\n",
       "</table>\n",
       "</div>"
      ],
      "text/plain": [
       "      UMAP-1    UMAP-2\n",
       "0 -14.550362 -8.514315\n",
       "1 -14.914042 -8.485855\n",
       "2  -7.290069 -0.618478\n",
       "3  -8.143168 -1.079178\n",
       "4  13.284020  9.731669"
      ]
     },
     "execution_count": 31,
     "metadata": {},
     "output_type": "execute_result"
    }
   ],
   "source": [
    "vh_reducer, vh_umap = fit_umap(1-heavy_similarity, n_neighbors=10)\n",
    "vh_umap.head()"
   ]
  },
  {
   "cell_type": "code",
   "execution_count": 32,
   "id": "58fbcb66-fe1c-43cb-9eb5-e9280fe2046d",
   "metadata": {},
   "outputs": [],
   "source": [
    "def agglomerative_clustering(distance, linkage='complete', **kwargs):\n",
    "    clusters = AgglomerativeClustering(linkage=linkage, affinity='precomputed', **kwargs).fit(distance).labels_\n",
    "    return pd.Series(clusters+1, distance.index)"
   ]
  },
  {
   "cell_type": "code",
   "execution_count": 33,
   "id": "524337b1-0db9-4aad-bb4a-645218e8edab",
   "metadata": {},
   "outputs": [],
   "source": [
    "vh_clusters = agglomerative_clustering(\n",
    "    1-heavy_similarity, \n",
    "    n_clusters=None, \n",
    "    distance_threshold=0.1, \n",
    "    linkage='single'\n",
    ")"
   ]
  },
  {
   "cell_type": "code",
   "execution_count": 34,
   "id": "5b5f6777-748b-4e17-b468-8e43397ad2bd",
   "metadata": {},
   "outputs": [
    {
     "data": {
      "image/png": "[encoded data removed]",
      "text/plain": [
       "<Figure size 432x432 with 1 Axes>"
      ]
     },
     "metadata": {
      "needs_background": "light"
     },
     "output_type": "display_data"
    }
   ],
   "source": [
    "fig, ax = plt.subplots(figsize=(6, 6))\n",
    "ax = sns.scatterplot(\n",
    "    data=vh_umap,\n",
    "    x='UMAP-1',\n",
    "    y='UMAP-2',\n",
    "    hue=vh_clusters,\n",
    "    palette='tab20',\n",
    "    ax=ax,\n",
    "    legend=False,\n",
    ")"
   ]
  },
  {
   "cell_type": "code",
   "execution_count": 35,
   "id": "7d21a1bd-6cd9-49b7-9e3e-da9f04950757",
   "metadata": {},
   "outputs": [
    {
     "data": {
      "text/plain": [
       "637"
      ]
     },
     "execution_count": 35,
     "metadata": {},
     "output_type": "execute_result"
    }
   ],
   "source": [
    "vh_clusters.max()"
   ]
  },
  {
   "cell_type": "markdown",
   "id": "01999b86-7cb1-464f-9426-2896c4f663ef",
   "metadata": {},
   "source": [
    "## Light"
   ]
  },
  {
   "cell_type": "code",
   "execution_count": 36,
   "id": "d9df1cba-2001-4948-ae97-e91053db440b",
   "metadata": {},
   "outputs": [
    {
     "name": "stderr",
     "output_type": "stream",
     "text": [
      "100%|██████████| 2409/2409 [19:24<00:00,  2.07it/s]\n"
     ]
    },
    {
     "data": {
      "text/html": [
       "<div>\n",
       "<style scoped>\n",
       "    .dataframe tbody tr th:only-of-type {\n",
       "        vertical-align: middle;\n",
       "    }\n",
       "\n",
       "    .dataframe tbody tr th {\n",
       "        vertical-align: top;\n",
       "    }\n",
       "\n",
       "    .dataframe thead th {\n",
       "        text-align: right;\n",
       "    }\n",
       "</style>\n",
       "<table border=\"1\" class=\"dataframe\">\n",
       "  <thead>\n",
       "    <tr style=\"text-align: right;\">\n",
       "      <th></th>\n",
       "      <th>0</th>\n",
       "      <th>1</th>\n",
       "      <th>2</th>\n",
       "      <th>3</th>\n",
       "      <th>4</th>\n",
       "      <th>5</th>\n",
       "      <th>6</th>\n",
       "      <th>7</th>\n",
       "      <th>8</th>\n",
       "      <th>9</th>\n",
       "      <th>...</th>\n",
       "      <th>2399</th>\n",
       "      <th>2400</th>\n",
       "      <th>2401</th>\n",
       "      <th>2402</th>\n",
       "      <th>2403</th>\n",
       "      <th>2404</th>\n",
       "      <th>2405</th>\n",
       "      <th>2406</th>\n",
       "      <th>2407</th>\n",
       "      <th>2408</th>\n",
       "    </tr>\n",
       "  </thead>\n",
       "  <tbody>\n",
       "    <tr>\n",
       "      <th>0</th>\n",
       "      <td>1.000000</td>\n",
       "      <td>0.695801</td>\n",
       "      <td>0.623047</td>\n",
       "      <td>0.630371</td>\n",
       "      <td>0.645020</td>\n",
       "      <td>0.586914</td>\n",
       "      <td>0.703125</td>\n",
       "      <td>0.652344</td>\n",
       "      <td>0.652344</td>\n",
       "      <td>0.703125</td>\n",
       "      <td>...</td>\n",
       "      <td>0.347900</td>\n",
       "      <td>0.572266</td>\n",
       "      <td>0.558105</td>\n",
       "      <td>0.550781</td>\n",
       "      <td>0.709961</td>\n",
       "      <td>0.500000</td>\n",
       "      <td>0.384033</td>\n",
       "      <td>0.688477</td>\n",
       "      <td>0.528809</td>\n",
       "      <td>0.565430</td>\n",
       "    </tr>\n",
       "    <tr>\n",
       "      <th>1</th>\n",
       "      <td>0.695801</td>\n",
       "      <td>1.000000</td>\n",
       "      <td>0.681152</td>\n",
       "      <td>0.681152</td>\n",
       "      <td>0.709961</td>\n",
       "      <td>0.630371</td>\n",
       "      <td>0.637695</td>\n",
       "      <td>0.630371</td>\n",
       "      <td>0.630371</td>\n",
       "      <td>0.637695</td>\n",
       "      <td>...</td>\n",
       "      <td>0.333252</td>\n",
       "      <td>0.608887</td>\n",
       "      <td>0.594238</td>\n",
       "      <td>0.565430</td>\n",
       "      <td>0.681152</td>\n",
       "      <td>0.528809</td>\n",
       "      <td>0.434814</td>\n",
       "      <td>0.717285</td>\n",
       "      <td>0.586914</td>\n",
       "      <td>0.572266</td>\n",
       "    </tr>\n",
       "    <tr>\n",
       "      <th>2</th>\n",
       "      <td>0.623047</td>\n",
       "      <td>0.681152</td>\n",
       "      <td>1.000000</td>\n",
       "      <td>0.703125</td>\n",
       "      <td>0.709961</td>\n",
       "      <td>0.565430</td>\n",
       "      <td>0.623047</td>\n",
       "      <td>0.565430</td>\n",
       "      <td>0.565430</td>\n",
       "      <td>0.623047</td>\n",
       "      <td>...</td>\n",
       "      <td>0.333252</td>\n",
       "      <td>0.528809</td>\n",
       "      <td>0.550781</td>\n",
       "      <td>0.550781</td>\n",
       "      <td>0.681152</td>\n",
       "      <td>0.500000</td>\n",
       "      <td>0.434814</td>\n",
       "      <td>0.703125</td>\n",
       "      <td>0.514648</td>\n",
       "      <td>0.550781</td>\n",
       "    </tr>\n",
       "    <tr>\n",
       "      <th>3</th>\n",
       "      <td>0.630371</td>\n",
       "      <td>0.681152</td>\n",
       "      <td>0.703125</td>\n",
       "      <td>1.000000</td>\n",
       "      <td>0.666504</td>\n",
       "      <td>0.565430</td>\n",
       "      <td>0.572266</td>\n",
       "      <td>0.608887</td>\n",
       "      <td>0.608887</td>\n",
       "      <td>0.572266</td>\n",
       "      <td>...</td>\n",
       "      <td>0.311523</td>\n",
       "      <td>0.572266</td>\n",
       "      <td>0.558105</td>\n",
       "      <td>0.521973</td>\n",
       "      <td>0.673828</td>\n",
       "      <td>0.514648</td>\n",
       "      <td>0.413086</td>\n",
       "      <td>0.652344</td>\n",
       "      <td>0.507324</td>\n",
       "      <td>0.536133</td>\n",
       "    </tr>\n",
       "    <tr>\n",
       "      <th>4</th>\n",
       "      <td>0.645020</td>\n",
       "      <td>0.709961</td>\n",
       "      <td>0.709961</td>\n",
       "      <td>0.666504</td>\n",
       "      <td>1.000000</td>\n",
       "      <td>0.594238</td>\n",
       "      <td>0.623047</td>\n",
       "      <td>0.594238</td>\n",
       "      <td>0.594238</td>\n",
       "      <td>0.623047</td>\n",
       "      <td>...</td>\n",
       "      <td>0.347900</td>\n",
       "      <td>0.558105</td>\n",
       "      <td>0.543457</td>\n",
       "      <td>0.543457</td>\n",
       "      <td>0.703125</td>\n",
       "      <td>0.543457</td>\n",
       "      <td>0.434814</td>\n",
       "      <td>0.818848</td>\n",
       "      <td>0.521973</td>\n",
       "      <td>0.565430</td>\n",
       "    </tr>\n",
       "  </tbody>\n",
       "</table>\n",
       "<p>5 rows × 2409 columns</p>\n",
       "</div>"
      ],
      "text/plain": [
       "       0         1         2         3         4         5         6     \\\n",
       "0  1.000000  0.695801  0.623047  0.630371  0.645020  0.586914  0.703125   \n",
       "1  0.695801  1.000000  0.681152  0.681152  0.709961  0.630371  0.637695   \n",
       "2  0.623047  0.681152  1.000000  0.703125  0.709961  0.565430  0.623047   \n",
       "3  0.630371  0.681152  0.703125  1.000000  0.666504  0.565430  0.572266   \n",
       "4  0.645020  0.709961  0.709961  0.666504  1.000000  0.594238  0.623047   \n",
       "\n",
       "       7         8         9     ...      2399      2400      2401      2402  \\\n",
       "0  0.652344  0.652344  0.703125  ...  0.347900  0.572266  0.558105  0.550781   \n",
       "1  0.630371  0.630371  0.637695  ...  0.333252  0.608887  0.594238  0.565430   \n",
       "2  0.565430  0.565430  0.623047  ...  0.333252  0.528809  0.550781  0.550781   \n",
       "3  0.608887  0.608887  0.572266  ...  0.311523  0.572266  0.558105  0.521973   \n",
       "4  0.594238  0.594238  0.623047  ...  0.347900  0.558105  0.543457  0.543457   \n",
       "\n",
       "       2403      2404      2405      2406      2407      2408  \n",
       "0  0.709961  0.500000  0.384033  0.688477  0.528809  0.565430  \n",
       "1  0.681152  0.528809  0.434814  0.717285  0.586914  0.572266  \n",
       "2  0.681152  0.500000  0.434814  0.703125  0.514648  0.550781  \n",
       "3  0.673828  0.514648  0.413086  0.652344  0.507324  0.536133  \n",
       "4  0.703125  0.543457  0.434814  0.818848  0.521973  0.565430  \n",
       "\n",
       "[5 rows x 2409 columns]"
      ]
     },
     "execution_count": 36,
     "metadata": {},
     "output_type": "execute_result"
    }
   ],
   "source": [
    "light_similarity = anarci_similarity_matrix(light_df)\n",
    "light_similarity.head()"
   ]
  },
  {
   "cell_type": "code",
   "execution_count": 37,
   "id": "f1bafb19-967c-4355-806d-4b9d0b982ac1",
   "metadata": {},
   "outputs": [],
   "source": [
    "light_similarity.to_csv(path.join(DATA_DIR, \"chen/distances/anarci_similarity_light.csv\"), sep=';', index=False)"
   ]
  },
  {
   "cell_type": "code",
   "execution_count": 17,
   "id": "820c393f-5209-43c4-a67e-8d2d255eb2ef",
   "metadata": {},
   "outputs": [],
   "source": [
    "light_similarity = read_csv(path.join(DATA_DIR, \"chen/distances/anarci_similarity_light.csv\"), sep=';')"
   ]
  },
  {
   "cell_type": "code",
   "execution_count": 38,
   "id": "9bcb237c-b822-4afa-9c39-46e6c749b134",
   "metadata": {},
   "outputs": [
    {
     "name": "stderr",
     "output_type": "stream",
     "text": [
      "/home/brazdilv/.conda/envs/ml/lib/python3.7/site-packages/umap/umap_.py:1736: UserWarning: using precomputed metric; transform will be unavailable for new data and inverse_transform will be unavailable for all data\n",
      "  \"using precomputed metric; transform will be unavailable for new data and inverse_transform \"\n"
     ]
    },
    {
     "data": {
      "text/html": [
       "<div>\n",
       "<style scoped>\n",
       "    .dataframe tbody tr th:only-of-type {\n",
       "        vertical-align: middle;\n",
       "    }\n",
       "\n",
       "    .dataframe tbody tr th {\n",
       "        vertical-align: top;\n",
       "    }\n",
       "\n",
       "    .dataframe thead th {\n",
       "        text-align: right;\n",
       "    }\n",
       "</style>\n",
       "<table border=\"1\" class=\"dataframe\">\n",
       "  <thead>\n",
       "    <tr style=\"text-align: right;\">\n",
       "      <th></th>\n",
       "      <th>UMAP-1</th>\n",
       "      <th>UMAP-2</th>\n",
       "    </tr>\n",
       "  </thead>\n",
       "  <tbody>\n",
       "    <tr>\n",
       "      <th>0</th>\n",
       "      <td>7.382912</td>\n",
       "      <td>5.269547</td>\n",
       "    </tr>\n",
       "    <tr>\n",
       "      <th>1</th>\n",
       "      <td>8.969032</td>\n",
       "      <td>-5.042638</td>\n",
       "    </tr>\n",
       "    <tr>\n",
       "      <th>2</th>\n",
       "      <td>5.398276</td>\n",
       "      <td>9.913826</td>\n",
       "    </tr>\n",
       "    <tr>\n",
       "      <th>3</th>\n",
       "      <td>0.439194</td>\n",
       "      <td>10.947928</td>\n",
       "    </tr>\n",
       "    <tr>\n",
       "      <th>4</th>\n",
       "      <td>-9.639453</td>\n",
       "      <td>-5.949092</td>\n",
       "    </tr>\n",
       "  </tbody>\n",
       "</table>\n",
       "</div>"
      ],
      "text/plain": [
       "     UMAP-1     UMAP-2\n",
       "0  7.382912   5.269547\n",
       "1  8.969032  -5.042638\n",
       "2  5.398276   9.913826\n",
       "3  0.439194  10.947928\n",
       "4 -9.639453  -5.949092"
      ]
     },
     "execution_count": 38,
     "metadata": {},
     "output_type": "execute_result"
    }
   ],
   "source": [
    "vl_reducer, vl_umap = fit_umap(1-light_similarity, n_neighbors=10)\n",
    "vl_umap.head()"
   ]
  },
  {
   "cell_type": "code",
   "execution_count": 39,
   "id": "114e1713-3803-407a-982b-d350c5f13dc7",
   "metadata": {},
   "outputs": [],
   "source": [
    "def plot_clustering(similarity_mat, n_clusters, dist_thresh, umap_coords, linkage=\"single\"):\n",
    "    clusters = agglomerative_clustering(\n",
    "        1-similarity_mat, \n",
    "        n_clusters=n_clusters, \n",
    "        distance_threshold=dist_thresh, \n",
    "        linkage=linkage\n",
    "    )\n",
    "    \n",
    "    fig, ax = plt.subplots(figsize=(6, 6))\n",
    "    ax = sns.scatterplot(\n",
    "        data=umap_coords,\n",
    "        x='UMAP-1',\n",
    "        y='UMAP-2',\n",
    "        hue=clusters,\n",
    "        palette='tab20',\n",
    "        ax=ax,\n",
    "        legend=False,\n",
    "    )\n",
    "    fig.show()\n",
    "    return clusters"
   ]
  },
  {
   "cell_type": "code",
   "execution_count": 40,
   "id": "af1b433b-cdec-4783-8d86-690bc15704e3",
   "metadata": {},
   "outputs": [
    {
     "data": {
      "image/png": "[encoded data removed]",
      "text/plain": [
       "<Figure size 432x432 with 1 Axes>"
      ]
     },
     "metadata": {
      "needs_background": "light"
     },
     "output_type": "display_data"
    }
   ],
   "source": [
    "vl_clusters = plot_clustering(light_similarity, None, 0.1, vl_umap)"
   ]
  },
  {
   "cell_type": "code",
   "execution_count": 47,
   "id": "a9f5110f-d7a6-4c45-a05f-52ca882959bd",
   "metadata": {},
   "outputs": [
    {
     "data": {
      "text/plain": [
       "363"
      ]
     },
     "execution_count": 47,
     "metadata": {},
     "output_type": "execute_result"
    }
   ],
   "source": [
    "vl_clusters.max()"
   ]
  },
  {
   "cell_type": "code",
   "execution_count": 48,
   "id": "e84b5e63-d08e-43be-a125-b92d4ffe4267",
   "metadata": {},
   "outputs": [
    {
     "data": {
      "image/png": "[encoded data removed]",
      "text/plain": [
       "<Figure size 432x432 with 1 Axes>"
      ]
     },
     "metadata": {
      "needs_background": "light"
     },
     "output_type": "display_data"
    }
   ],
   "source": [
    "vl_clusters = plot_clustering(light_similarity, 3, None, vl_umap)"
   ]
  },
  {
   "cell_type": "code",
   "execution_count": 39,
   "id": "3a9ff489-326c-4450-8dfa-5891d9a4ce7d",
   "metadata": {},
   "outputs": [
    {
     "data": {
      "text/plain": [
       "3    2145\n",
       "2     241\n",
       "1      23\n",
       "dtype: int64"
      ]
     },
     "execution_count": 39,
     "metadata": {},
     "output_type": "execute_result"
    }
   ],
   "source": [
    "vl_clusters.value_counts()"
   ]
  },
  {
   "cell_type": "markdown",
   "id": "6e2aff94-bbaf-430b-bb50-934efba0b917",
   "metadata": {},
   "source": [
    "How to choose clusters to include in each set?  \n",
    "3 clusters -> too few sequences in one of the clusters  \n",
    "Clusters based on similarity:\n",
    "- 0.05 makes clusters of only 1 or 2 sequences\n",
    "- 0.1 produces ~600 clusters - how to split those among the sets?"
   ]
  },
  {
   "cell_type": "code",
   "execution_count": 5,
   "id": "a9aaf59f-4750-49cc-9624-626165f3bd3c",
   "metadata": {},
   "outputs": [
    {
     "name": "stdout",
     "output_type": "stream",
     "text": [
      "Train set size: 1447\n",
      "Validation set size: 481\n",
      "Test set size: 481\n"
     ]
    }
   ],
   "source": [
    "# \"ideal\" split:\n",
    "# Train 60%\n",
    "# Validation 20%\n",
    "# Test 20%\n",
    "# ??????\n",
    "\n",
    "total = len(chen_data)\n",
    "valid_size = int(0.2 * total)\n",
    "test_size = valid_size\n",
    "train_size = total - valid_size - test_size\n",
    "print(f\"Train set size: {train_size}\")\n",
    "print(f\"Validation set size: {valid_size}\")\n",
    "print(f\"Test set size: {test_size}\")"
   ]
  },
  {
   "cell_type": "code",
   "execution_count": 41,
   "id": "cbc0852e-5363-4d59-a565-b2f72b598aee",
   "metadata": {},
   "outputs": [
    {
     "data": {
      "image/png": "[encoded data removed]",
      "text/plain": [
       "<Figure size 432x432 with 1 Axes>"
      ]
     },
     "metadata": {
      "needs_background": "light"
     },
     "output_type": "display_data"
    }
   ],
   "source": [
    "vl_clusters = plot_clustering(light_similarity, None, 0.05, vl_umap)"
   ]
  },
  {
   "cell_type": "code",
   "execution_count": 42,
   "id": "2184e5cd-7885-4fe3-b88b-a02f88fd8ad2",
   "metadata": {},
   "outputs": [
    {
     "data": {
      "text/plain": [
       "896"
      ]
     },
     "execution_count": 42,
     "metadata": {},
     "output_type": "execute_result"
    }
   ],
   "source": [
    "vl_clusters.max()"
   ]
  },
  {
   "cell_type": "code",
   "execution_count": null,
   "id": "d455c3ff-36c1-463f-b76a-3fe7a96dfd3f",
   "metadata": {},
   "outputs": [],
   "source": []
  }
 ],
 "metadata": {
  "kernelspec": {
   "display_name": "Python 3 (ipykernel)",
   "language": "python",
   "name": "python3"
  },
  "language_info": {
   "codemirror_mode": {
    "name": "ipython",
    "version": 3
   },
   "file_extension": ".py",
   "mimetype": "text/x-python",
   "name": "python",
   "nbconvert_exporter": "python",
   "pygments_lexer": "ipython3",
   "version": "3.7.10"
  }
 },
 "nbformat": 4,
 "nbformat_minor": 5
}
